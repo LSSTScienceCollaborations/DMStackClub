{
 "cells": [
  {
   "cell_type": "markdown",
   "metadata": {
    "slideshow": {
     "slide_type": "slide"
    }
   },
   "source": [
    "# Import Tricks: Remote Modules, and Importing Notebooks\n",
    "<br>Author(s): **Phil Marshall** ([@drphilmarshall](https://github.com/LSSTScienceCollaborations/StackClub/issues/new?body=@drphilmarshall)) \n",
    "<br>Maintainer(s): **Alex Drlica-Wagner** ([@kadrlica](https://github.com/LSSTScienceCollaborations/StackClub/issues/new?body=@kadrlica)) \n",
    "<br>Last Verified to Run: **2021-03-31**\n",
    "<br>Verified Stack Release: **21.0.0**\n",
    "\n",
    "### Learning Objectives:\n",
    "\n",
    "After working through this tutorial you should be able to: \n",
    "1. Use the `stackclub.wimport` function to import a python module from the web;\n",
    "2. Import a notebook as a module, following an `import stackclub`\n",
    "3. Understand the current limitations of these utilities\n",
    "\n",
    "### Logistics\n",
    "This notebook is intended to be runnable on `lsst-lsp-stable.ncsa.illinois.edu` from a local git clone of https://github.com/LSSTScienceCollaborations/StackClub.\n",
    "\n",
    "## Set-up\n",
    "\n",
    "You can find the Stack version that this notebook is running by using eups list -s on the terminal command line:"
   ]
  },
  {
   "cell_type": "code",
   "execution_count": 1,
   "metadata": {
    "execution": {
     "iopub.execute_input": "2021-04-23T20:42:14.604206Z",
     "iopub.status.busy": "2021-04-23T20:42:14.600927Z",
     "iopub.status.idle": "2021-04-23T20:42:16.605734Z",
     "shell.execute_reply": "2021-04-23T20:42:16.606936Z"
    }
   },
   "outputs": [
    {
     "name": "stdout",
     "output_type": "stream",
     "text": [
      "nb-kadrlica-r21-0-0\r\n",
      "lsst_distrib          21.0.0+973e4c9e85 \tcurrent v21_0_0 setup\r\n"
     ]
    }
   ],
   "source": [
    "# What version of the Stack are we using?\n",
    "! echo $HOSTNAME\n",
    "! eups list -s | grep lsst_distrib"
   ]
  },
  {
   "cell_type": "markdown",
   "metadata": {},
   "source": [
    "We'll need the `stackclub` package to be installed. If you are not developing this package, you can install it using `pip`, like this:\n",
    "```\n",
    "pip install git+git://github.com/LSSTScienceCollaborations/StackClub.git#egg=stackclub\n",
    "```\n",
    "If you are developing the `stackclub` package (eg by adding modules to it to support the Stack Club tutorial that you are writing, you'll need to make a local, editable installation. In the top level folder of the `StackClub` repo, do:"
   ]
  },
  {
   "cell_type": "code",
   "execution_count": 2,
   "metadata": {
    "execution": {
     "iopub.execute_input": "2021-04-23T20:42:16.619138Z",
     "iopub.status.busy": "2021-04-23T20:42:16.616033Z",
     "iopub.status.idle": "2021-04-23T20:42:18.484048Z",
     "shell.execute_reply": "2021-04-23T20:42:18.485222Z"
    }
   },
   "outputs": [
    {
     "name": "stdout",
     "output_type": "stream",
     "text": [
      "/home/kadrlica/notebooks/.beavis/StackClub/GettingStarted\r\n"
     ]
    }
   ],
   "source": [
    "! cd .. && python setup.py -q develop --user && cd -"
   ]
  },
  {
   "cell_type": "markdown",
   "metadata": {},
   "source": [
    "When editing the `stackclub` package files, we want the latest version to be imported when we re-run the import command. To enable this, we need the %autoreload magic command."
   ]
  },
  {
   "cell_type": "code",
   "execution_count": 3,
   "metadata": {
    "execution": {
     "iopub.execute_input": "2021-04-23T20:42:18.496153Z",
     "iopub.status.busy": "2021-04-23T20:42:18.494839Z",
     "iopub.status.idle": "2021-04-23T20:42:18.525236Z",
     "shell.execute_reply": "2021-04-23T20:42:18.524058Z"
    }
   },
   "outputs": [],
   "source": [
    "%load_ext autoreload\n",
    "%autoreload 2"
   ]
  },
  {
   "cell_type": "markdown",
   "metadata": {
    "slideshow": {
     "slide_type": "subslide"
    }
   },
   "source": [
    "For this tutorial we'll need the following modules:"
   ]
  },
  {
   "cell_type": "code",
   "execution_count": 4,
   "metadata": {
    "execution": {
     "iopub.execute_input": "2021-04-23T20:42:18.532670Z",
     "iopub.status.busy": "2021-04-23T20:42:18.531353Z",
     "iopub.status.idle": "2021-04-23T20:42:18.722209Z",
     "shell.execute_reply": "2021-04-23T20:42:18.722969Z"
    }
   },
   "outputs": [],
   "source": [
    "import stackclub"
   ]
  },
  {
   "cell_type": "markdown",
   "metadata": {
    "slideshow": {
     "slide_type": "slide"
    }
   },
   "source": [
    "## Importing Python Modules from the Web\n",
    "\n",
    "Sometimes we may want to import a python module without installing an entire package - eg. from a GitHub gist. We can do that by first downloading it and then importing it: this is what the `stackclub.wimport` function does."
   ]
  },
  {
   "cell_type": "code",
   "execution_count": 5,
   "metadata": {
    "execution": {
     "iopub.execute_input": "2021-04-23T20:42:18.727579Z",
     "iopub.status.busy": "2021-04-23T20:42:18.726788Z",
     "iopub.status.idle": "2021-04-23T20:42:18.742479Z",
     "shell.execute_reply": "2021-04-23T20:42:18.743097Z"
    },
    "slideshow": {
     "slide_type": "-"
    }
   },
   "outputs": [],
   "source": [
    "# %load -n stackclub.wimport"
   ]
  },
  {
   "cell_type": "markdown",
   "metadata": {},
   "source": [
    "For example, suppose the ``stackclub`` library did _not_ include the `where_is` module: we could still download it and import it, like this:    "
   ]
  },
  {
   "cell_type": "code",
   "execution_count": 6,
   "metadata": {
    "execution": {
     "iopub.execute_input": "2021-04-23T20:42:18.746670Z",
     "iopub.status.busy": "2021-04-23T20:42:18.745956Z",
     "iopub.status.idle": "2021-04-23T20:42:19.056907Z",
     "shell.execute_reply": "2021-04-23T20:42:19.058047Z"
    }
   },
   "outputs": [
    {
     "name": "stdout",
     "output_type": "stream",
     "text": [
      "Imported external module 'where_is' (downloaded from https://github.com/LSSTScienceCollaborations/StackClub/raw/master/stackclub/where_is.py and stored in .downloads/where_is.py)\n"
     ]
    }
   ],
   "source": [
    "where_is_url = \"https://github.com/LSSTScienceCollaborations/StackClub/raw/master/stackclub/where_is.py\"\n",
    "so = stackclub.wimport(where_is_url, vb=True)"
   ]
  },
  {
   "cell_type": "code",
   "execution_count": 7,
   "metadata": {
    "execution": {
     "iopub.execute_input": "2021-04-23T20:42:19.064917Z",
     "iopub.status.busy": "2021-04-23T20:42:19.063657Z",
     "iopub.status.idle": "2021-04-23T20:42:19.083047Z",
     "shell.execute_reply": "2021-04-23T20:42:19.081852Z"
    }
   },
   "outputs": [
    {
     "name": "stdout",
     "output_type": "stream",
     "text": [
      "<module 'where_is' from '.downloads/where_is.py'>\n"
     ]
    }
   ],
   "source": [
    "print(so)"
   ]
  },
  {
   "cell_type": "markdown",
   "metadata": {},
   "source": [
    "In this example, `so` is an imported module - so we can invoke it's functions as normal."
   ]
  },
  {
   "cell_type": "code",
   "execution_count": 8,
   "metadata": {
    "execution": {
     "iopub.execute_input": "2021-04-23T20:42:19.089193Z",
     "iopub.status.busy": "2021-04-23T20:42:19.087990Z",
     "iopub.status.idle": "2021-04-23T20:42:19.368574Z",
     "shell.execute_reply": "2021-04-23T20:42:19.369817Z"
    }
   },
   "outputs": [
    {
     "data": {
      "text/markdown": [
       "[`lsst.daf.persistence.butler`](https://github.com/lsst/daf_persistence/blob/master/python/lsst/daf/persistence/butler.py)"
      ],
      "text/plain": [
       "<IPython.core.display.Markdown object>"
      ]
     },
     "metadata": {},
     "output_type": "display_data"
    },
    {
     "name": "stdout",
     "output_type": "stream",
     "text": [
      "[`lsst.daf.persistence.butler`](https://github.com/lsst/daf_persistence/blob/master/python/lsst/daf/persistence/butler.py)\n"
     ]
    }
   ],
   "source": [
    "from lsst.daf.persistence import Butler\n",
    "so.where_is(Butler.get, in_the='source')"
   ]
  },
  {
   "cell_type": "code",
   "execution_count": 9,
   "metadata": {
    "execution": {
     "iopub.execute_input": "2021-04-23T20:42:19.375511Z",
     "iopub.status.busy": "2021-04-23T20:42:19.374177Z",
     "iopub.status.idle": "2021-04-23T20:42:19.935010Z",
     "shell.execute_reply": "2021-04-23T20:42:19.936242Z"
    }
   },
   "outputs": [
    {
     "data": {
      "image/png": "[encoded data removed]",
      "text/plain": [
       "<Figure size 432x288 with 1 Axes>"
      ]
     },
     "metadata": {
      "needs_background": "light"
     },
     "output_type": "display_data"
    },
    {
     "name": "stdout",
     "output_type": "stream",
     "text": [
      "Imported external module 'fill_demo_features' (downloaded from https://matplotlib.org/mpl_examples/lines_bars_and_markers/fill_demo_features.py and stored in .downloads/fill_demo_features.py)\n"
     ]
    }
   ],
   "source": [
    "mpl_url = \"https://matplotlib.org/mpl_examples/lines_bars_and_markers/fill_demo_features.py\"\n",
    "mpl = stackclub.wimport(mpl_url, vb=True)"
   ]
  },
  {
   "cell_type": "markdown",
   "metadata": {},
   "source": [
    "Here's another example - a simple python gist:"
   ]
  },
  {
   "cell_type": "markdown",
   "metadata": {},
   "source": [
    "## Importing Notebooks as Modules\n",
    "\n",
    "Sometimes we will come across Jupyter notebooks that contain functions and classes that we can re-use. Rather than duplicating the code, we can import the other notebook (ie, run it), and then call the function or class as it is. "
   ]
  },
  {
   "cell_type": "markdown",
   "metadata": {},
   "source": [
    "The ability to import notebooks as modules is enabled by the `import stackclub` statement, which sets up a new \"loader\" that can handle Jupyter notebooks. Here's a demo, using the `HelloWorld` notebook that is also in this folder:"
   ]
  },
  {
   "cell_type": "code",
   "execution_count": 10,
   "metadata": {
    "execution": {
     "iopub.execute_input": "2021-04-23T20:42:19.943784Z",
     "iopub.status.busy": "2021-04-23T20:42:19.942446Z",
     "iopub.status.idle": "2021-04-23T20:42:24.949110Z",
     "shell.execute_reply": "2021-04-23T20:42:24.950194Z"
    }
   },
   "outputs": [
    {
     "name": "stdout",
     "output_type": "stream",
     "text": [
      "Importing code from Jupyter notebook HelloWorld.ipynb\n"
     ]
    }
   ],
   "source": [
    "import stackclub\n",
    "import HelloWorld as Yo"
   ]
  },
  {
   "cell_type": "code",
   "execution_count": 11,
   "metadata": {
    "execution": {
     "iopub.execute_input": "2021-04-23T20:42:24.958129Z",
     "iopub.status.busy": "2021-04-23T20:42:24.956929Z",
     "iopub.status.idle": "2021-04-23T20:42:24.991458Z",
     "shell.execute_reply": "2021-04-23T20:42:24.990196Z"
    }
   },
   "outputs": [
    {
     "name": "stdout",
     "output_type": "stream",
     "text": [
      "Hello World I'm using code imported from a notebook!\n"
     ]
    }
   ],
   "source": [
    "Yo.take_that_first_baby_step(and_follow_up=\"I'm using code imported from a notebook!\")"
   ]
  },
  {
   "cell_type": "markdown",
   "metadata": {},
   "source": [
    "## Current Limitations\n",
    "\n",
    "At present, it is not possible to `wimport` a Jupyter notebook. But this would be very useful functionality to have, indeed!"
   ]
  },
  {
   "cell_type": "markdown",
   "metadata": {},
   "source": [
    "## Summary\n",
    "\n",
    "You should now be able to import and use remote modules with the `stackclub.wimport` function, and import local notebooks (in the current working directory) as modules."
   ]
  }
 ],
 "metadata": {
  "celltoolbar": "Slideshow",
  "kernelspec": {
   "display_name": "LSST",
   "language": "python",
   "name": "lsst"
  },
  "language_info": {
   "codemirror_mode": {
    "name": "ipython",
    "version": 3
   },
   "file_extension": ".py",
   "mimetype": "text/x-python",
   "name": "python",
   "nbconvert_exporter": "python",
   "pygments_lexer": "ipython3",
   "version": "3.7.8"
  },
  "livereveal": {
   "scroll": true,
   "start_slideshow_at": "selected"
  }
 },
 "nbformat": 4,
 "nbformat_minor": 4
}
