{
 "cells": [
  {
   "cell_type": "markdown",
   "id": "5a1a51c7",
   "metadata": {},
   "source": [
    "# Refcat Loader Demo\n",
    "\n",
    "Based on ongoing development by Eli Rykoff to load a reference catalog with color terms applied."
   ]
  },
  {
   "cell_type": "markdown",
   "id": "b574e4c9",
   "metadata": {},
   "source": [
    "## Setup\n",
    "\n",
    "Currently the development is done on a branch, so some extra steps are needed right at the moment.\n",
    "\n",
    "In the terminal, go to directory where you keep code rrepositories and clone the [pipe_tasks](https://github.com/lsst/pipe_tasks) repo.\n",
    "\n",
    "```git clone https://github.com/lsst/pipe_tasks.git\n",
    "cd pipe_tasks\n",
    "git checkout tickets/DM-30054```\n",
    "\n",
    "In your `~/notebooks/.user_setups` file, add the line\n",
    "\n",
    "`setup -k -r ~/path_to_your_repos/pipe_tasks`\n",
    "\n",
    "so that the notebook can access your local version of pipe_tasks package."
   ]
  },
  {
   "cell_type": "code",
   "execution_count": null,
   "id": "942d9615",
   "metadata": {},
   "outputs": [],
   "source": [
    "# What version of the Stack am I using?\n",
    "! echo $HOSTNAME\n",
    "! eups list -s | grep lsst_distrib"
   ]
  },
  {
   "cell_type": "code",
   "execution_count": null,
   "id": "d415da81",
   "metadata": {},
   "outputs": [],
   "source": [
    "import os.path\n",
    "import numpy as np\n",
    "from astropy.time import Time\n",
    "\n",
    "import lsst.geom\n",
    "from lsst.pipe.tasks.loadReferenceCatalog import LoadReferenceCatalogConfig, LoadReferenceCatalogTask\n",
    "from lsst.meas.algorithms import ReferenceObjectLoader\n",
    "import lsst.daf.butler as dafButler\n",
    "from lsst.utils import getPackageDir\n",
    "\n",
    "import matplotlib.pyplot as plt\n",
    "%matplotlib widget"
   ]
  },
  {
   "cell_type": "code",
   "execution_count": null,
   "id": "46ee7759",
   "metadata": {},
   "outputs": [],
   "source": [
    "refDataset = 'gaia_dr2_20200414'\n",
    "# refDataset = 'ps1_pv3_3pi_20170110'\n",
    "\n",
    "repo = '/repo/main/'\n",
    "config = os.path.join(repo, 'butler.yaml')\n",
    "butler = dafButler.Butler(config=config)\n",
    "registry = butler.registry\n",
    "collection = 'refcats'\n",
    "registry.getCollectionSummary(collection)\n",
    "visit = 35892\n",
    "datasetRefs = list(registry.queryDatasets(datasetType=refDataset,\n",
    "                                          collections=collection,\n",
    "                                          instrument='HSC',\n",
    "                                          skymap='hsc_rings_v1',\n",
    "                                          where=f'visit={visit}').expanded())\n",
    "\n",
    "dataIds = [_.dataId for _ in datasetRefs]\n",
    "\n",
    "refCats = [butler.getDeferred(refDataset, _, collections=['refcats'])\n",
    "           for _ in dataIds]\n",
    "\n",
    "#cat_ref = butler.getDirect(datasetRefs[0])\n",
    "cat_ref_example = butler.getDirect(datasetRefs[0])\n",
    "\n",
    "# Get the HSC catalog for comparsion\n",
    "refs = list(registry.queryDatasets(datasetType='sourceTable_visit',\n",
    "                                   collections=['HSC/runs/RC2/w_2021_18/DM-29973'],\n",
    "                                   instrument='HSC',\n",
    "                                   skymap='hsc_rings_v1',\n",
    "                                   where=f'visit={visit}'))\n",
    "cat_hsc = butler.getDirect(refs[0])\n",
    "\n",
    "config = LoadReferenceCatalogConfig()\n",
    "config.refObjLoader.ref_dataset_name = refDataset\n",
    "\n",
    "# EXTRA\n",
    "if refDataset == 'gaia_dr2_20200414':\n",
    "    config.refObjLoader.requireProperMotion = True\n",
    "    config.refObjLoader.anyFilterMapsToThis = 'phot_g_mean'\n",
    "    config.doApplyColorTerms = False\n",
    "else:\n",
    "    config.refObjLoader.load(os.path.join(getPackageDir('obs_subaru'),\n",
    "                                          'config',\n",
    "                                          'filterMap.py'))\n",
    "    config.colorterms.load(os.path.join(getPackageDir('obs_subaru'),\n",
    "                                        'config',\n",
    "                                        'colorterms.py'))\n",
    "\n",
    "epoch = Time('2021-06-10')\n",
    "\n",
    "loaderTask = LoadReferenceCatalogTask(config=config,\n",
    "                                      dataIds=dataIds,\n",
    "                                      refCats=refCats)\n",
    "# Define center relative to HSC catalog\n",
    "center = lsst.geom.SpherePoint(np.median(cat_hsc['coord_ra']),\n",
    "                               np.median(cat_hsc['coord_dec']),\n",
    "                               lsst.geom.degrees)\n",
    "# Define center relative to reference catalog\n",
    "#center = lsst.geom.SpherePoint(cat_ref_example['coord_ra'][0],\n",
    "#                               cat_ref_example['coord_dec'][0],\n",
    "#                               lsst.geom.radians)\n",
    "print(center)\n",
    "\n",
    "cat_ref = loaderTask.getSkyCircleCatalog(center,\n",
    "                                         1.0*lsst.geom.degrees,\n",
    "                                         ['HSC-G', 'HSC-R'],\n",
    "                                         epoch=epoch)\n",
    "print(len(cat_ref))\n"
   ]
  },
  {
   "cell_type": "code",
   "execution_count": null,
   "id": "a2cffb1b",
   "metadata": {},
   "outputs": [],
   "source": [
    "cat_ref"
   ]
  },
  {
   "cell_type": "code",
   "execution_count": null,
   "id": "b9a301ed",
   "metadata": {},
   "outputs": [],
   "source": [
    "plt.figure()\n",
    "plt.scatter(cat_ref['ra'], cat_ref['dec'], marker='.', s=10, edgecolor='none')\n",
    "plt.scatter(cat_hsc['coord_ra'], cat_hsc['coord_dec'], marker='.', s=1, edgecolor='none')\n",
    "plt.xlabel('RA (deg)')\n",
    "plt.ylabel('Dec (deg)')"
   ]
  },
  {
   "cell_type": "code",
   "execution_count": null,
   "id": "08dba19b",
   "metadata": {},
   "outputs": [],
   "source": [
    "cat_hsc"
   ]
  },
  {
   "cell_type": "code",
   "execution_count": null,
   "id": "ec3ebd45",
   "metadata": {},
   "outputs": [],
   "source": []
  }
 ],
 "metadata": {
  "kernelspec": {
   "display_name": "LSST",
   "language": "python",
   "name": "lsst"
  },
  "language_info": {
   "codemirror_mode": {
    "name": "ipython",
    "version": 3
   },
   "file_extension": ".py",
   "mimetype": "text/x-python",
   "name": "python",
   "nbconvert_exporter": "python",
   "pygments_lexer": "ipython3",
   "version": "3.8.8"
  }
 },
 "nbformat": 4,
 "nbformat_minor": 5
}
