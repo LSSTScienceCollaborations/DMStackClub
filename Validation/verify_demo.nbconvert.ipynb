{
 "cells": [
  {
   "cell_type": "markdown",
   "metadata": {
    "toc-hr-collapsed": false
   },
   "source": [
    "# Quickstart LSST Verify Demo\n",
    "\n",
    "<br>Owner: **Keith Bechtol** ([@bechtol](https://github.com/LSSTScienceCollaborations/StackClub/issues/new?body=@bechtol))\n",
    "<br>Minor updates by:   Douglas Tucker ([@douglasleetucker](https://github.com/LSSTScienceCollaborations/StackClub/issues/new?body=@douglasleetucker))\n",
    "<br>Last Verified to Run: **2021-04-13**\n",
    "<br>Verified Stack Release: **v21.0.0**\n",
    "\n",
    "This notebook demonstrates basic functionality of the LSST Verify python package: https://github.com/lsst/verify . The notebook is based on the documentation at https://sqr-019.lsst.io/ . \n",
    "\n",
    "Another example from the LSST Systems Engineering team can be found [here](https://github.com/mareuter/notebooks/blob/master/LSST/Systems_Engineering/System_Verification_SQuaSH/System_Verification_Demo.ipynb), for which the metrics are defined [here](https://github.com/mareuter/notebooks/tree/master/LSST/Systems_Engineering/System_Verification_SQuaSH).\n",
    "\n",
    "### Learning Objectives\n",
    "\n",
    "After working through and studying this notebook you should be able to\n",
    "   1. Create custom metrics for your science cases and associate multiple specifications with those metrics\n",
    "   2. Evaluate metrics and store the output for subsequent analysis\n",
    "   3. Create customized summary displays for the performance on those metrics relative to your specifications\n",
    "\n",
    "### Logistics\n",
    "\n",
    "This notebook is intended to be runnable on `lsst-lsp-stable.ncsa.illinois.edu` from a local git clone of https://github.com/LSSTScienceCollaborations/StackClub."
   ]
  },
  {
   "cell_type": "markdown",
   "metadata": {},
   "source": [
    "## Setup"
   ]
  },
  {
   "cell_type": "code",
   "execution_count": 1,
   "metadata": {
    "execution": {
     "iopub.execute_input": "2021-04-23T16:41:36.011305Z",
     "iopub.status.busy": "2021-04-23T16:41:36.008021Z",
     "iopub.status.idle": "2021-04-23T16:41:37.922929Z",
     "shell.execute_reply": "2021-04-23T16:41:37.924143Z"
    }
   },
   "outputs": [
    {
     "name": "stdout",
     "output_type": "stream",
     "text": [
      "nb-kadrlica-r21-0-0\r\n",
      "   21.0.0+973e4c9e85 \tcurrent v21_0_0 setup\r\n"
     ]
    }
   ],
   "source": [
    "# What version of the Stack am I using?\n",
    "! echo $HOSTNAME\n",
    "! eups list -s lsst_distrib"
   ]
  },
  {
   "cell_type": "code",
   "execution_count": 2,
   "metadata": {
    "execution": {
     "iopub.execute_input": "2021-04-23T16:41:37.935137Z",
     "iopub.status.busy": "2021-04-23T16:41:37.933821Z",
     "iopub.status.idle": "2021-04-23T16:41:39.102259Z",
     "shell.execute_reply": "2021-04-23T16:41:39.100945Z"
    }
   },
   "outputs": [],
   "source": [
    "import json\n",
    "import numpy as np\n",
    "from matplotlib import pyplot as plt\n",
    "%matplotlib inline\n",
    "\n",
    "import astropy.units as u\n",
    "\n",
    "import lsst.verify"
   ]
  },
  {
   "cell_type": "markdown",
   "metadata": {},
   "source": [
    "## Defining metrics and specifications\n",
    "\n",
    "There are specific rules for the directory structure and naming. In particular, there are required folders for \"metrics\" and \"specs\". The metrics are defined in a set of yaml files in the metrics folder. For each yaml file of metrics, there is a corresponding directory with the same name in the specifications directory. The specifications are defined in their own yaml files. An example directory structure appears below."
   ]
  },
  {
   "cell_type": "code",
   "execution_count": 3,
   "metadata": {
    "execution": {
     "iopub.execute_input": "2021-04-23T16:41:39.114197Z",
     "iopub.status.busy": "2021-04-23T16:41:39.112878Z",
     "iopub.status.idle": "2021-04-23T16:41:39.997807Z",
     "shell.execute_reply": "2021-04-23T16:41:39.998975Z"
    }
   },
   "outputs": [
    {
     "name": "stdout",
     "output_type": "stream",
     "text": [
      "verify_demo\r\n",
      "├── metrics\r\n",
      "│   ├── demo_astrometry.yaml\r\n",
      "│   └── demo_photometry.yaml\r\n",
      "└── specs\r\n",
      "    ├── demo_astrometry\r\n",
      "    │   └── specs.yaml\r\n",
      "    └── demo_photometry\r\n",
      "        └── specs.yaml\r\n",
      "\r\n",
      "4 directories, 4 files\r\n"
     ]
    }
   ],
   "source": [
    "!tree verify_demo"
   ]
  },
  {
   "cell_type": "markdown",
   "metadata": {},
   "source": [
    "Let's take a look at both the metric and specification yaml files"
   ]
  },
  {
   "cell_type": "code",
   "execution_count": 4,
   "metadata": {
    "execution": {
     "iopub.execute_input": "2021-04-23T16:41:40.009124Z",
     "iopub.status.busy": "2021-04-23T16:41:40.007804Z",
     "iopub.status.idle": "2021-04-23T16:41:41.088023Z",
     "shell.execute_reply": "2021-04-23T16:41:41.089072Z"
    }
   },
   "outputs": [
    {
     "name": "stdout",
     "output_type": "stream",
     "text": [
      "AstrometricRMS:\r\n",
      "  unit: mas\r\n",
      "  description:\r\n",
      "    Astrometric residual RMS.\r\n",
      "  reference:\r\n",
      "    url: https://example.com/AstroRMS\r\n",
      "  tags:\r\n",
      "    - astrometry\r\n",
      "    - demo\r\n",
      "    "
     ]
    }
   ],
   "source": [
    "!cat verify_demo/metrics/demo_astrometry.yaml"
   ]
  },
  {
   "cell_type": "code",
   "execution_count": 5,
   "metadata": {
    "execution": {
     "iopub.execute_input": "2021-04-23T16:41:41.097159Z",
     "iopub.status.busy": "2021-04-23T16:41:41.096047Z",
     "iopub.status.idle": "2021-04-23T16:41:41.959950Z",
     "shell.execute_reply": "2021-04-23T16:41:41.961109Z"
    }
   },
   "outputs": [
    {
     "name": "stdout",
     "output_type": "stream",
     "text": [
      "name: \"minimum\"\r\n",
      "metric: \"AstrometricRMS\"\r\n",
      "threshold:\r\n",
      "  operator: \"<=\"\r\n",
      "  unit: \"mas\"\r\n",
      "  value: 20.0\r\n",
      "tags:\r\n",
      "  - \"minimum\"\r\n",
      "---\r\n",
      "name: \"design\"\r\n",
      "metric: \"AstrometricRMS\"\r\n",
      "threshold:\r\n",
      "  operator: \"<=\"\r\n",
      "  unit: \"mas\"\r\n",
      "  value: 10.0\r\n",
      "tags:\r\n",
      "  - \"design\"\r\n",
      "  "
     ]
    }
   ],
   "source": [
    "!cat verify_demo/specs/demo_astrometry/specs.yaml"
   ]
  },
  {
   "cell_type": "markdown",
   "metadata": {},
   "source": [
    "In the definition of specifications, note that the \"---\" line between specifications is required.\n",
    "\n",
    "Next, we create instances of the `MetricSet` and `SpecificationSet`."
   ]
  },
  {
   "cell_type": "code",
   "execution_count": 6,
   "metadata": {
    "execution": {
     "iopub.execute_input": "2021-04-23T16:41:41.971110Z",
     "iopub.status.busy": "2021-04-23T16:41:41.969763Z",
     "iopub.status.idle": "2021-04-23T16:41:41.981105Z",
     "shell.execute_reply": "2021-04-23T16:41:41.982211Z"
    }
   },
   "outputs": [],
   "source": [
    "METRIC_PACKAGE = \"verify_demo\"\n",
    "metrics = lsst.verify.MetricSet.load_metrics_package(METRIC_PACKAGE)\n",
    "specs = lsst.verify.SpecificationSet.load_metrics_package(METRIC_PACKAGE)"
   ]
  },
  {
   "cell_type": "markdown",
   "metadata": {},
   "source": [
    "View the metrics that have been defined:"
   ]
  },
  {
   "cell_type": "code",
   "execution_count": 7,
   "metadata": {
    "execution": {
     "iopub.execute_input": "2021-04-23T16:41:41.997805Z",
     "iopub.status.busy": "2021-04-23T16:41:41.996565Z",
     "iopub.status.idle": "2021-04-23T16:41:42.002694Z",
     "shell.execute_reply": "2021-04-23T16:41:42.003731Z"
    }
   },
   "outputs": [
    {
     "data": {
      "text/html": [
       "<i>Table length=2</i>\n",
       "<table id=\"table140141965023952\" class=\"table-striped table-bordered table-condensed\">\n",
       "<thead><tr><th>Name</th><th>Description</th><th>Units</th><th>Reference</th><th>Tags</th></tr></thead>\n",
       "<thead><tr><th>str30</th><th>str28</th><th>str15</th><th>str28</th><th>str16</th></tr></thead>\n",
       "<tr><td>demo_astrometry.AstrometricRMS</td><td>Astrometric residual RMS.</td><td>$\\mathrm{mas}$</td><td>https://example.com/AstroRMS</td><td>astrometry, demo</td></tr>\n",
       "<tr><td>demo_photometry.ZeropointRMS</td><td>Photometric calibration RMS.</td><td>$\\mathrm{mmag}$</td><td>https://example.com/PhotRMS</td><td>demo, photometry</td></tr>\n",
       "</table>"
      ],
      "text/plain": [
       "<lsst.verify.metricset.MetricSet at 0x7f75580a9f90>"
      ]
     },
     "execution_count": 1,
     "metadata": {},
     "output_type": "execute_result"
    }
   ],
   "source": [
    "metrics"
   ]
  },
  {
   "cell_type": "markdown",
   "metadata": {},
   "source": [
    "View the specifications that have been defined:"
   ]
  },
  {
   "cell_type": "code",
   "execution_count": 8,
   "metadata": {
    "execution": {
     "iopub.execute_input": "2021-04-23T16:41:42.011531Z",
     "iopub.status.busy": "2021-04-23T16:41:42.010438Z",
     "iopub.status.idle": "2021-04-23T16:41:42.014248Z",
     "shell.execute_reply": "2021-04-23T16:41:42.015188Z"
    }
   },
   "outputs": [
    {
     "data": {
      "text/html": [
       "<i>Table length=4</i>\n",
       "<table id=\"table140141965046736\" class=\"table-striped table-bordered table-condensed\">\n",
       "<thead><tr><th>Name</th><th>Test</th><th>Tags</th></tr></thead>\n",
       "<thead><tr><th>str38</th><th>str27</th><th>str7</th></tr></thead>\n",
       "<tr><td>demo_astrometry.AstrometricRMS.design</td><td>$x$ &lt;= 10.0 $\\mathrm{mas}$</td><td>design</td></tr>\n",
       "<tr><td>demo_astrometry.AstrometricRMS.minimum</td><td>$x$ &lt;= 20.0 $\\mathrm{mas}$</td><td>minimum</td></tr>\n",
       "<tr><td>demo_photometry.ZeropointRMS.design</td><td>$x$ &lt;= 10.0 $\\mathrm{mmag}$</td><td>design</td></tr>\n",
       "<tr><td>demo_photometry.ZeropointRMS.minimum</td><td>$x$ &lt;= 20.0 $\\mathrm{mmag}$</td><td>minimum</td></tr>\n",
       "</table>"
      ],
      "text/plain": [
       "<lsst.verify.specset.SpecificationSet at 0x7f75580a9f10>"
      ]
     },
     "execution_count": 1,
     "metadata": {},
     "output_type": "execute_result"
    }
   ],
   "source": [
    "specs"
   ]
  },
  {
   "cell_type": "markdown",
   "metadata": {},
   "source": [
    "## Computing and storing metrics\n",
    "\n",
    "For the purpose of illustration, let's make up some measurement values corresponding to our metrics. The following lines are placeholders for the analysis that we would want to do. In this example, we choose measurement values that are intermediate between the specifications defined above so that we can see what happens when some specifications are met and others are not. Notice that the measurements can have dimensions."
   ]
  },
  {
   "cell_type": "code",
   "execution_count": 9,
   "metadata": {
    "execution": {
     "iopub.execute_input": "2021-04-23T16:41:42.022666Z",
     "iopub.status.busy": "2021-04-23T16:41:42.021553Z",
     "iopub.status.idle": "2021-04-23T16:41:42.024891Z",
     "shell.execute_reply": "2021-04-23T16:41:42.023927Z"
    }
   },
   "outputs": [],
   "source": [
    "zp_rms = 15.*u.mmag\n",
    "zp_meas = lsst.verify.Measurement('demo_photometry.ZeropointRMS', zp_rms)\n",
    "\n",
    "astro_rms = 15.*u.mas\n",
    "astro_meas = lsst.verify.Measurement('demo_astrometry.AstrometricRMS', astro_rms)"
   ]
  },
  {
   "cell_type": "markdown",
   "metadata": {},
   "source": [
    "It is possible to include extra information along with the measurements. These are made up values only for the purpose of illustration."
   ]
  },
  {
   "cell_type": "code",
   "execution_count": 10,
   "metadata": {
    "execution": {
     "iopub.execute_input": "2021-04-23T16:41:42.032454Z",
     "iopub.status.busy": "2021-04-23T16:41:42.031445Z",
     "iopub.status.idle": "2021-04-23T16:41:42.034611Z",
     "shell.execute_reply": "2021-04-23T16:41:42.033735Z"
    }
   },
   "outputs": [],
   "source": [
    "zp_meas.extras['x'] = lsst.verify.Datum(np.random.random(10) * u.mag, label=\"x\", description=\"x-values\")\n",
    "zp_meas.extras['y'] = lsst.verify.Datum(np.random.random(10) * u.mag, label=\"y\", description=\"y-values\")"
   ]
  },
  {
   "cell_type": "markdown",
   "metadata": {},
   "source": [
    "Create an LSST verify job and add the measurements."
   ]
  },
  {
   "cell_type": "code",
   "execution_count": 11,
   "metadata": {
    "execution": {
     "iopub.execute_input": "2021-04-23T16:41:42.040692Z",
     "iopub.status.busy": "2021-04-23T16:41:42.039731Z",
     "iopub.status.idle": "2021-04-23T16:41:42.041869Z",
     "shell.execute_reply": "2021-04-23T16:41:42.042670Z"
    }
   },
   "outputs": [],
   "source": [
    "job = lsst.verify.Job(metrics=metrics, specs=specs)\n",
    "job.measurements.insert(zp_meas)\n",
    "job.measurements.insert(astro_meas)"
   ]
  },
  {
   "cell_type": "markdown",
   "metadata": {},
   "source": [
    "Provide metadata about the job. This could be used to capture information about the analysis configuration, software version, dataset, etc."
   ]
  },
  {
   "cell_type": "code",
   "execution_count": 12,
   "metadata": {
    "execution": {
     "iopub.execute_input": "2021-04-23T16:41:42.048128Z",
     "iopub.status.busy": "2021-04-23T16:41:42.047158Z",
     "iopub.status.idle": "2021-04-23T16:41:42.049160Z",
     "shell.execute_reply": "2021-04-23T16:41:42.049963Z"
    }
   },
   "outputs": [],
   "source": [
    "job.meta.update({'version': 'test'})"
   ]
  },
  {
   "cell_type": "markdown",
   "metadata": {},
   "source": [
    "When we are done, write the output to a file. This can be exported to metric aggregators at a later time."
   ]
  },
  {
   "cell_type": "code",
   "execution_count": 13,
   "metadata": {
    "execution": {
     "iopub.execute_input": "2021-04-23T16:41:42.054997Z",
     "iopub.status.busy": "2021-04-23T16:41:42.054028Z",
     "iopub.status.idle": "2021-04-23T16:41:42.059343Z",
     "shell.execute_reply": "2021-04-23T16:41:42.058486Z"
    }
   },
   "outputs": [],
   "source": [
    "job.write('demo.json')"
   ]
  },
  {
   "cell_type": "markdown",
   "metadata": {
    "toc-hr-collapsed": false
   },
   "source": [
    "## Creating reports\n",
    "\n",
    "Create a report to visualize the outcome of our analysis. We already have the job in memory, but for the purpose of illustration, let's read in the file that we just wrote to show how one could examine the results at a later time."
   ]
  },
  {
   "cell_type": "code",
   "execution_count": 14,
   "metadata": {
    "execution": {
     "iopub.execute_input": "2021-04-23T16:41:42.064803Z",
     "iopub.status.busy": "2021-04-23T16:41:42.063832Z",
     "iopub.status.idle": "2021-04-23T16:41:42.067289Z",
     "shell.execute_reply": "2021-04-23T16:41:42.068052Z"
    }
   },
   "outputs": [],
   "source": [
    "with open('demo.json') as f:\n",
    "    job = lsst.verify.Job.deserialize(**json.load(f))"
   ]
  },
  {
   "cell_type": "markdown",
   "metadata": {},
   "source": [
    "Display a summary report"
   ]
  },
  {
   "cell_type": "code",
   "execution_count": 15,
   "metadata": {
    "execution": {
     "iopub.execute_input": "2021-04-23T16:41:42.075984Z",
     "iopub.status.busy": "2021-04-23T16:41:42.075011Z",
     "iopub.status.idle": "2021-04-23T16:41:42.078378Z",
     "shell.execute_reply": "2021-04-23T16:41:42.079190Z"
    }
   },
   "outputs": [
    {
     "data": {
      "text/html": [
       "<i>Table length=4</i>\n",
       "<table id=\"table140146936781648-702561\" class=\"table-striped table-bordered table-condensed\">\n",
       "<thead><tr><th>Status</th><th>Specification</th><th>Measurement</th><th>Test</th><th>Metric Tags</th><th>Spec. Tags</th></tr></thead>\n",
       "<tr><td>❌</td><td>demo_astrometry.AstrometricRMS.design</td><td>15.0 $\\mathrm{mas}$</td><td>$x$ &lt;= 10.0 $\\mathrm{mas}$</td><td>astrometry, demo</td><td>design</td></tr>\n",
       "<tr><td>✅</td><td>demo_astrometry.AstrometricRMS.minimum</td><td>15.0 $\\mathrm{mas}$</td><td>$x$ &lt;= 20.0 $\\mathrm{mas}$</td><td>astrometry, demo</td><td>minimum</td></tr>\n",
       "<tr><td>❌</td><td>demo_photometry.ZeropointRMS.design</td><td>15.0 $\\mathrm{mmag}$</td><td>$x$ &lt;= 10.0 $\\mathrm{mmag}$</td><td>demo, photometry</td><td>design</td></tr>\n",
       "<tr><td>✅</td><td>demo_photometry.ZeropointRMS.minimum</td><td>15.0 $\\mathrm{mmag}$</td><td>$x$ &lt;= 20.0 $\\mathrm{mmag}$</td><td>demo, photometry</td><td>minimum</td></tr>\n",
       "</table><style>table.dataTable {clear: both; width: auto !important; margin: 0 !important;}\n",
       ".dataTables_info, .dataTables_length, .dataTables_filter, .dataTables_paginate{\n",
       "display: inline-block; margin-right: 1em; }\n",
       ".paginate_button { margin-right: 5px; }\n",
       "</style>\n",
       "<script>\n",
       "\n",
       "var astropy_sort_num = function(a, b) {\n",
       "    var a_num = parseFloat(a);\n",
       "    var b_num = parseFloat(b);\n",
       "\n",
       "    if (isNaN(a_num) && isNaN(b_num))\n",
       "        return ((a < b) ? -1 : ((a > b) ? 1 : 0));\n",
       "    else if (!isNaN(a_num) && !isNaN(b_num))\n",
       "        return ((a_num < b_num) ? -1 : ((a_num > b_num) ? 1 : 0));\n",
       "    else\n",
       "        return isNaN(a_num) ? -1 : 1;\n",
       "}\n",
       "\n",
       "require.config({paths: {\n",
       "    datatables: 'https://cdn.datatables.net/1.10.12/js/jquery.dataTables.min'\n",
       "}});\n",
       "require([\"datatables\"], function(){\n",
       "    console.log(\"$('#table140146936781648-702561').dataTable()\");\n",
       "    \n",
       "jQuery.extend( jQuery.fn.dataTableExt.oSort, {\n",
       "    \"optionalnum-asc\": astropy_sort_num,\n",
       "    \"optionalnum-desc\": function (a,b) { return -astropy_sort_num(a, b); }\n",
       "});\n",
       "\n",
       "    $('#table140146936781648-702561').dataTable({\n",
       "        order: [],\n",
       "        pageLength: 50,\n",
       "        lengthMenu: [[10, 25, 50, 100, 500, 1000, -1], [10, 25, 50, 100, 500, 1000, 'All']],\n",
       "        pagingType: \"full_numbers\",\n",
       "        columnDefs: [{targets: [], type: \"optionalnum\"}]\n",
       "    });\n",
       "});\n",
       "</script>\n"
      ],
      "text/plain": [
       "<IPython.core.display.HTML object>"
      ]
     },
     "execution_count": 1,
     "metadata": {},
     "output_type": "execute_result"
    }
   ],
   "source": [
    "job.report().show()"
   ]
  },
  {
   "cell_type": "markdown",
   "metadata": {},
   "source": [
    "Notice that because of the measurement values we used in this example, some of the specifications are met, while others are not.\n",
    "\n",
    "It is possible to select particular tags to customize the report. The example below shows a selection on specification tags."
   ]
  },
  {
   "cell_type": "code",
   "execution_count": 16,
   "metadata": {
    "execution": {
     "iopub.execute_input": "2021-04-23T16:41:42.086462Z",
     "iopub.status.busy": "2021-04-23T16:41:42.085501Z",
     "iopub.status.idle": "2021-04-23T16:41:42.088855Z",
     "shell.execute_reply": "2021-04-23T16:41:42.089649Z"
    }
   },
   "outputs": [
    {
     "data": {
      "text/html": [
       "<i>Table length=2</i>\n",
       "<table id=\"table140141965118288-556235\" class=\"table-striped table-bordered table-condensed\">\n",
       "<thead><tr><th>Status</th><th>Specification</th><th>Measurement</th><th>Test</th><th>Metric Tags</th><th>Spec. Tags</th></tr></thead>\n",
       "<tr><td>✅</td><td>demo_astrometry.AstrometricRMS.minimum</td><td>15.0 $\\mathrm{mas}$</td><td>$x$ &lt;= 20.0 $\\mathrm{mas}$</td><td>astrometry, demo</td><td>minimum</td></tr>\n",
       "<tr><td>✅</td><td>demo_photometry.ZeropointRMS.minimum</td><td>15.0 $\\mathrm{mmag}$</td><td>$x$ &lt;= 20.0 $\\mathrm{mmag}$</td><td>demo, photometry</td><td>minimum</td></tr>\n",
       "</table><style>table.dataTable {clear: both; width: auto !important; margin: 0 !important;}\n",
       ".dataTables_info, .dataTables_length, .dataTables_filter, .dataTables_paginate{\n",
       "display: inline-block; margin-right: 1em; }\n",
       ".paginate_button { margin-right: 5px; }\n",
       "</style>\n",
       "<script>\n",
       "\n",
       "var astropy_sort_num = function(a, b) {\n",
       "    var a_num = parseFloat(a);\n",
       "    var b_num = parseFloat(b);\n",
       "\n",
       "    if (isNaN(a_num) && isNaN(b_num))\n",
       "        return ((a < b) ? -1 : ((a > b) ? 1 : 0));\n",
       "    else if (!isNaN(a_num) && !isNaN(b_num))\n",
       "        return ((a_num < b_num) ? -1 : ((a_num > b_num) ? 1 : 0));\n",
       "    else\n",
       "        return isNaN(a_num) ? -1 : 1;\n",
       "}\n",
       "\n",
       "require.config({paths: {\n",
       "    datatables: 'https://cdn.datatables.net/1.10.12/js/jquery.dataTables.min'\n",
       "}});\n",
       "require([\"datatables\"], function(){\n",
       "    console.log(\"$('#table140141965118288-556235').dataTable()\");\n",
       "    \n",
       "jQuery.extend( jQuery.fn.dataTableExt.oSort, {\n",
       "    \"optionalnum-asc\": astropy_sort_num,\n",
       "    \"optionalnum-desc\": function (a,b) { return -astropy_sort_num(a, b); }\n",
       "});\n",
       "\n",
       "    $('#table140141965118288-556235').dataTable({\n",
       "        order: [],\n",
       "        pageLength: 50,\n",
       "        lengthMenu: [[10, 25, 50, 100, 500, 1000, -1], [10, 25, 50, 100, 500, 1000, 'All']],\n",
       "        pagingType: \"full_numbers\",\n",
       "        columnDefs: [{targets: [], type: \"optionalnum\"}]\n",
       "    });\n",
       "});\n",
       "</script>\n"
      ],
      "text/plain": [
       "<IPython.core.display.HTML object>"
      ]
     },
     "execution_count": 1,
     "metadata": {},
     "output_type": "execute_result"
    }
   ],
   "source": [
    "job.report(spec_tags=['minimum']).show()"
   ]
  },
  {
   "cell_type": "markdown",
   "metadata": {},
   "source": [
    "It is also possible to see what tags are available."
   ]
  },
  {
   "cell_type": "code",
   "execution_count": 17,
   "metadata": {
    "execution": {
     "iopub.execute_input": "2021-04-23T16:41:42.094776Z",
     "iopub.status.busy": "2021-04-23T16:41:42.093870Z",
     "iopub.status.idle": "2021-04-23T16:41:42.097038Z",
     "shell.execute_reply": "2021-04-23T16:41:42.097813Z"
    }
   },
   "outputs": [
    {
     "data": {
      "text/plain": [
       "{'astrometry', 'demo'}"
      ]
     },
     "execution_count": 1,
     "metadata": {},
     "output_type": "execute_result"
    }
   ],
   "source": [
    "job.metrics['demo_astrometry.AstrometricRMS'].tags"
   ]
  },
  {
   "cell_type": "markdown",
   "metadata": {},
   "source": [
    "View metadata."
   ]
  },
  {
   "cell_type": "code",
   "execution_count": 18,
   "metadata": {
    "execution": {
     "iopub.execute_input": "2021-04-23T16:41:42.102528Z",
     "iopub.status.busy": "2021-04-23T16:41:42.101643Z",
     "iopub.status.idle": "2021-04-23T16:41:42.104574Z",
     "shell.execute_reply": "2021-04-23T16:41:42.105368Z"
    }
   },
   "outputs": [
    {
     "data": {
      "text/html": [
       "{\n",
       "    \"version\": \"test\"\n",
       "}"
      ],
      "text/plain": [
       "ChainMap({'version': 'test'}, {}, {})"
      ]
     },
     "execution_count": 1,
     "metadata": {},
     "output_type": "execute_result"
    }
   ],
   "source": [
    "job.meta"
   ]
  },
  {
   "cell_type": "markdown",
   "metadata": {},
   "source": [
    "A lot of information is available for plotting if we want to dig deeper into the results. These are the extra data that we saved together with the metric values. "
   ]
  },
  {
   "cell_type": "code",
   "execution_count": 19,
   "metadata": {
    "execution": {
     "iopub.execute_input": "2021-04-23T16:41:42.137454Z",
     "iopub.status.busy": "2021-04-23T16:41:42.121494Z",
     "iopub.status.idle": "2021-04-23T16:41:42.248781Z",
     "shell.execute_reply": "2021-04-23T16:41:42.250078Z"
    }
   },
   "outputs": [
    {
     "data": {
      "text/plain": [
       "(0.0, 1.0)"
      ]
     },
     "execution_count": 1,
     "metadata": {},
     "output_type": "execute_result"
    },
    {
     "data": {
      "image/png": "[encoded data removed]",
      "text/plain": [
       "<Figure size 432x288 with 1 Axes>"
      ]
     },
     "metadata": {
      "needs_background": "light"
     },
     "output_type": "display_data"
    }
   ],
   "source": [
    "m = job.measurements['demo_photometry.ZeropointRMS']\n",
    "\n",
    "plt.figure()\n",
    "plt.scatter(m.extras['x'].quantity, m.extras['y'].quantity)\n",
    "plt.xlabel('%s (%s)'%(m.extras['x'].label, m.extras['x'].unit.name))\n",
    "plt.ylabel('%s (%s)'%(m.extras['y'].label, m.extras['y'].unit.name))\n",
    "plt.title('%s; %s'%(m.metric_name.metric, job.meta[\"version\"]))\n",
    "plt.xlim(0, 1)\n",
    "plt.ylim(0, 1)"
   ]
  },
  {
   "cell_type": "markdown",
   "metadata": {},
   "source": [
    "Again, the particular values used in this example are just for demonstration purposes."
   ]
  }
 ],
 "metadata": {
  "kernelspec": {
   "display_name": "LSST",
   "language": "python",
   "name": "lsst"
  },
  "language_info": {
   "codemirror_mode": {
    "name": "ipython",
    "version": 3
   },
   "file_extension": ".py",
   "mimetype": "text/x-python",
   "name": "python",
   "nbconvert_exporter": "python",
   "pygments_lexer": "ipython3",
   "version": "3.7.8"
  }
 },
 "nbformat": 4,
 "nbformat_minor": 4
}
