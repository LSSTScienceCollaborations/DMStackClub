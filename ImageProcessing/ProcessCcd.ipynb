{
 "cells": [
  {
   "cell_type": "markdown",
   "metadata": {},
   "source": [
    "# ProcessCcd \n",
    "\n",
    "Owner(s): **Alex Drlica-Wagner (@kadrlica)**\n",
    "\n",
    "Last Verified to Run: **2018-08-10**\n",
    "\n",
    "Verified Stack Release: **16.0**\n",
    "\n",
    "This notebook seeks to mostly replicate the first two steps of the LSST Stack [\"Getting started tutorials\"](https://pipelines.lsst.io/getting-started/index.html#getting-started-tutorials). We first setup a working directory to point to an installation of the HSC data (more details on available data sets can be found in [DataInventory.ipynb](https://github.com/LSSTScienceCollaborations/StackClub/blob/master/Basics/DataInventory.ipynb))."
   ]
  },
  {
   "cell_type": "code",
   "execution_count": null,
   "metadata": {},
   "outputs": [],
   "source": [
    "!mkdir DATA"
   ]
  },
  {
   "cell_type": "code",
   "execution_count": null,
   "metadata": {},
   "outputs": [],
   "source": [
    "!echo \"lsst.obs.hsc.HscMapper\" > DATA/_mapper"
   ]
  },
  {
   "cell_type": "code",
   "execution_count": null,
   "metadata": {},
   "outputs": [],
   "source": [
    "!ingestImages.py DATA /project/shared/data/ci_hsc/raw/*.fits --mode=link"
   ]
  },
  {
   "cell_type": "code",
   "execution_count": null,
   "metadata": {},
   "outputs": [],
   "source": [
    "!installTransmissionCurves.py DATA"
   ]
  },
  {
   "cell_type": "code",
   "execution_count": null,
   "metadata": {},
   "outputs": [],
   "source": [
    "!ln -s /project/shared/data/ci_hsc/CALIB/ DATA/CALIB"
   ]
  },
  {
   "cell_type": "code",
   "execution_count": null,
   "metadata": {},
   "outputs": [],
   "source": [
    "!mkdir -p DATA/ref_cats\n",
    "!ln -s /project/shared/data/ci_hsc/ps1_pv3_3pi_20170110 DATA/ref_cats/ps1_pv3_3pi_20170110"
   ]
  },
  {
   "cell_type": "code",
   "execution_count": null,
   "metadata": {},
   "outputs": [],
   "source": [
    "!processCcd.py DATA --rerun processCcdOutputs --id --show data"
   ]
  },
  {
   "cell_type": "code",
   "execution_count": null,
   "metadata": {},
   "outputs": [],
   "source": [
    "!processCcd.py DATA --rerun processCcdOutputs --id filter=HSC-I --show data"
   ]
  },
  {
   "cell_type": "code",
   "execution_count": null,
   "metadata": {},
   "outputs": [],
   "source": [
    "!processCcd.py DATA --rerun processCcdOutputs --id"
   ]
  }
 ],
 "metadata": {
  "kernelspec": {
   "display_name": "LSST",
   "language": "python",
   "name": "lsst"
  },
  "language_info": {
   "codemirror_mode": {
    "name": "ipython",
    "version": 3
   },
   "file_extension": ".py",
   "mimetype": "text/x-python",
   "name": "python",
   "nbconvert_exporter": "python",
   "pygments_lexer": "ipython3",
   "version": "3.6.2"
  }
 },
 "nbformat": 4,
 "nbformat_minor": 2
}
