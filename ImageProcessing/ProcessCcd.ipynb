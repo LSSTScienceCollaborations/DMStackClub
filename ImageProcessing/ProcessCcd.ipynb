{
 "cells": [
  {
   "cell_type": "markdown",
   "metadata": {},
   "source": [
    "# ProcessCcd \n",
    "\n",
    "<br>Owner: **Alex Drlica-Wagner** ([@kadrlica](https://github.com/LSSTScienceCollaborations/StackClub/issues/new?body=@kadrlica))\n",
    "<br>Last Verified to Run: **2018-08-10**\n",
    "<br>Verified Stack Release: **v16.0**\n",
    "\n",
    "## Learning Objectives:\n",
    "\n",
    "This notebook seeks to mostly replicate the first two steps of the LSST Stack [\"Getting started tutorials\"](https://pipelines.lsst.io/getting-started/index.html#getting-started-tutorials). We first setup a working directory to point to an installation of the HSC data (more details on available data sets can be found in [DataInventory.ipynb](https://github.com/LSSTScienceCollaborations/StackClub/blob/master/Basics/DataInventory.ipynb)).\n",
    "\n",
    "After working through this tutorial you should be able to:\n",
    "\n",
    "* Ingest images from a shared data set into your personal `Butler`\n",
    "* Investigate the content of a dataset using the `Butler` from the command line with `processCcd.py` \n",
    "* Run the `processCcd.py` command line task to process images\n",
    "* Interface with the `processCcd` API directly in python.\n",
    "\n",
    "## Logistics\n",
    "This notebook is intended to be runnable on `lsst-lspdev.ncsa.illinois.edu` from a local git clone of https://github.com/LSSTScienceCollaborations/StackClub."
   ]
  },
  {
   "cell_type": "code",
   "execution_count": null,
   "metadata": {},
   "outputs": [],
   "source": [
    "import os"
   ]
  },
  {
   "cell_type": "markdown",
   "metadata": {},
   "source": [
    "## Command Line Processing\n",
    "\n",
    "In this first step we perform command line processing of images following the getting started tutorials [here](https://pipelines.lsst.io/getting-started/data-setup.html#) and [here](https://pipelines.lsst.io/getting-started/processccd.html). Much more documentation can be found at those links, so we go through this pretty quickly..."
   ]
  },
  {
   "cell_type": "code",
   "execution_count": null,
   "metadata": {},
   "outputs": [],
   "source": [
    "# Define an environment variable that points to the shared data directory\n",
    "os.environ['CI_HSC_DIR'] = \"/project/shared/data/ci_hsc\""
   ]
  },
  {
   "cell_type": "code",
   "execution_count": null,
   "metadata": {},
   "outputs": [],
   "source": [
    "# Create our DATA working directory in add the HSC mapper\n",
    "# NOTE: We may want to delete an existing data directory first?\n",
    "!mkdir DATA\n",
    "!echo \"lsst.obs.hsc.HscMapper\" > DATA/_mapper"
   ]
  },
  {
   "cell_type": "markdown",
   "metadata": {},
   "source": [
    "Next we ingest the images and transmission curves from the shared data store into our own private directory."
   ]
  },
  {
   "cell_type": "code",
   "execution_count": null,
   "metadata": {},
   "outputs": [],
   "source": [
    "!ingestImages.py DATA $CI_HSC_DIR/raw/*.fits --mode=link"
   ]
  },
  {
   "cell_type": "code",
   "execution_count": null,
   "metadata": {},
   "outputs": [],
   "source": [
    "!installTransmissionCurves.py DATA"
   ]
  },
  {
   "cell_type": "markdown",
   "metadata": {},
   "source": [
    "Next we link to the calibration and reference catalogs."
   ]
  },
  {
   "cell_type": "code",
   "execution_count": null,
   "metadata": {},
   "outputs": [],
   "source": [
    "!ln -s $CI_HSC_DIR/CALIB/ DATA/CALIB"
   ]
  },
  {
   "cell_type": "code",
   "execution_count": null,
   "metadata": {},
   "outputs": [],
   "source": [
    "!mkdir -p DATA/ref_cats\n",
    "!ln -s $CI_HSC_DIR/ps1_pv3_3pi_20170110 DATA/ref_cats/ps1_pv3_3pi_20170110"
   ]
  },
  {
   "cell_type": "markdown",
   "metadata": {},
   "source": [
    "We'd like to investigate what data we have available (the `--show-data` flag)."
   ]
  },
  {
   "cell_type": "code",
   "execution_count": null,
   "metadata": {},
   "outputs": [],
   "source": [
    "!processCcd.py DATA --rerun processCcdOutputs --id --show data"
   ]
  },
  {
   "cell_type": "markdown",
   "metadata": {},
   "source": [
    "We choose one CCD `(visit=903334, ccd=16)` and pass it to the `processCcd` command line task"
   ]
  },
  {
   "cell_type": "code",
   "execution_count": null,
   "metadata": {},
   "outputs": [],
   "source": [
    "!processCcd.py DATA --rerun processCcdOutputs --id visit=903334 ccd=16"
   ]
  }
 ],
 "metadata": {
  "kernelspec": {
   "display_name": "LSST",
   "language": "python",
   "name": "lsst"
  },
  "language_info": {
   "codemirror_mode": {
    "name": "ipython",
    "version": 3
   },
   "file_extension": ".py",
   "mimetype": "text/x-python",
   "name": "python",
   "nbconvert_exporter": "python",
   "pygments_lexer": "ipython3",
   "version": "3.6.2"
  }
 },
 "nbformat": 4,
 "nbformat_minor": 2
}
