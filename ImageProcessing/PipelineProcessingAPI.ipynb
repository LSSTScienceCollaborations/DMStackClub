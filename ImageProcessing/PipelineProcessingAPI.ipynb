{
 "cells": [
  {
   "cell_type": "markdown",
   "metadata": {},
   "source": [
    "# Pipeline Tasks\n",
    "\n",
    "<br>Owner: **Alex Drlica-Wagner** ([@kadrlica](https://github.com/LSSTScienceCollaborations/StackClub/issues/new?body=@kadrlica))\n",
    "<br>Last Verified to Run: **2018-08-10**\n",
    "<br>Verified Stack Release: **v16.0**"
   ]
  },
  {
   "cell_type": "markdown",
   "metadata": {},
   "source": [
    "## Learning Objectives:\n",
    "\n",
    "This notebook seeks to teach users how to unpack a pipeline tasks. As an example, we focus on `processCcd.py`, with the goal of diving into the configuration, interface, and structure of pipeline tasks. This notebook is a digression from Justin Myles script that demonstrates how to run a series of pipeline tasks from the command line to rerun HSC data processing [link].\n",
    "\n",
    "After working through this tutorial you should be able to:\n",
    "\n",
    "* Find the source code for a pipeline task\n",
    "* Configure (and investigate the configuration) of pipeline tasks\n",
    "* Investigate and run those tasks in python\n",
    "\n",
    "## Logistics\n",
    "This notebook is intended to be runnable on `lsst-lspdev.ncsa.illinois.edu` from a local git clone of https://github.com/LSSTScienceCollaborations/StackClub."
   ]
  },
  {
   "cell_type": "code",
   "execution_count": 1,
   "metadata": {},
   "outputs": [
    {
     "name": "stdout",
     "output_type": "stream",
     "text": [
      "jld-lab-kadrlica-r160\n",
      "lsst_distrib          16.0+1     \tcurrent v16_0 setup\n"
     ]
    }
   ],
   "source": [
    "# What version of the Stack are we using?\n",
    "! echo $HOSTNAME\n",
    "! eups list -s | grep lsst_distrib"
   ]
  },
  {
   "cell_type": "code",
   "execution_count": 2,
   "metadata": {},
   "outputs": [],
   "source": [
    "# Filter some warnings printed by v16.0 of the stack\n",
    "import warnings\n",
    "warnings.simplefilter(\"ignore\", category=FutureWarning)\n",
    "warnings.simplefilter(\"ignore\", category=UserWarning)"
   ]
  },
  {
   "cell_type": "code",
   "execution_count": 3,
   "metadata": {},
   "outputs": [],
   "source": [
    "import os\n",
    "import pydoc"
   ]
  },
  {
   "cell_type": "markdown",
   "metadata": {},
   "source": [
    "## Diving into a Pipeline Task\n",
    "\n",
    "Our goal is to dive into the inner workings of `ProcessCcd.py`. We pickup from the command line processing described in the getting started tutorials [here](https://pipelines.lsst.io/getting-started/data-setup.html#) and [here](https://pipelines.lsst.io/getting-started/processccd.html), as well as Justin Myles HSC reprocessing notebook [here](). We are specifically interested in digging into the following line:\n",
    "\n",
    "```\n",
    "processCcd.py $DATADIR --rerun processCcdOutputs --id\n",
    "```"
   ]
  },
  {
   "cell_type": "markdown",
   "metadata": {},
   "source": [
    "We start by tracking down the location of the `processCcd.py` shell script"
   ]
  },
  {
   "cell_type": "code",
   "execution_count": 4,
   "metadata": {},
   "outputs": [
    {
     "name": "stdout",
     "output_type": "stream",
     "text": [
      "/opt/lsst/software/stack/stack/miniconda3-4.3.21-10a4fa6/Linux64/pipe_tasks/16.0+1/bin/processCcd.py\n"
     ]
    }
   ],
   "source": [
    "!(which processCcd.py)"
   ]
  },
  {
   "cell_type": "markdown",
   "metadata": {},
   "source": [
    "This is the proverbial \"end of the thread\". Our goal is to pull on this thread to unravel the python/C++ functions that are being called under the hood. We start by taking a peak in this script"
   ]
  },
  {
   "cell_type": "code",
   "execution_count": 5,
   "metadata": {},
   "outputs": [
    {
     "name": "stdout",
     "output_type": "stream",
     "text": [
      "#!/usr/bin/env python\n",
      "#\n",
      "# LSST Data Management System\n",
      "# Copyright 2008, 2009, 2010 LSST Corporation.\n",
      "#\n",
      "# This product includes software developed by the\n",
      "# LSST Project (http://www.lsst.org/).\n",
      "#\n",
      "# This program is free software: you can redistribute it and/or modify\n",
      "# it under the terms of the GNU General Public License as published by\n",
      "# the Free Software Foundation, either version 3 of the License, or\n",
      "# (at your option) any later version.\n",
      "#\n",
      "# This program is distributed in the hope that it will be useful,\n",
      "# but WITHOUT ANY WARRANTY; without even the implied warranty of\n",
      "# MERCHANTABILITY or FITNESS FOR A PARTICULAR PURPOSE.    See the\n",
      "# GNU General Public License for more details.\n",
      "#\n",
      "# You should have received a copy of the LSST License Statement and\n",
      "# the GNU General Public License along with this program.  If not,\n",
      "# see <http://www.lsstcorp.org/LegalNotices/>.\n",
      "#\n",
      "from lsst.pipe.tasks.processCcd import ProcessCcdTask\n",
      "\n",
      "ProcessCcdTask.parseAndRun()\n"
     ]
    }
   ],
   "source": [
    "!cat $(which processCcd.py)"
   ]
  },
  {
   "cell_type": "markdown",
   "metadata": {},
   "source": [
    "Ok, this hasn't gotten us very far, but after getting through the stock header, we now have the next link in our chain:\n",
    "```\n",
    "from lsst.pipe.tasks.processCcd import ProcessCcdTask\n",
    "```\n",
    "\n",
    "There are two ways we can proceed from here. One is to [Google](http://lmgtfy.com/?q=lsst.pipe.tasks.processCcd) `lsst.pipe.tasks.processCcd`, which will take us to this [doxygen page](http://doxygen.lsst.codes/stack/doxygen/x_masterDoxyDoc/classlsst_1_1pipe_1_1tasks_1_1process_ccd_1_1_process_ccd_task.html) and/or the soure code on [GitHub](https://github.com/lsst/pipe_tasks/blob/master/python/lsst/pipe/tasks/processCcd.py). \n",
    "\n",
    "The second approach is to do the import the class oursleves and try to investigate it interactively.\n"
   ]
  },
  {
   "cell_type": "code",
   "execution_count": 6,
   "metadata": {},
   "outputs": [],
   "source": [
    "import lsst.pipe.tasks.processCcd\n",
    "from lsst.pipe.tasks.processCcd import ProcessCcdTask, ProcessCcdConfig"
   ]
  },
  {
   "cell_type": "markdown",
   "metadata": {},
   "source": [
    "We can get to the source code for these classes directly using the [`stackclub` toolkit module](https://stackclub.readthedocs.io/), as shown in the [FindingDocs.ipynb](https://github.com/LSSTScienceCollaborations/StackClub/blob/master/GettingStarted/FindingDocs.ipynb)"
   ]
  },
  {
   "cell_type": "code",
   "execution_count": 7,
   "metadata": {},
   "outputs": [
    {
     "data": {
      "text/markdown": [
       "[lsst.pipe.tasks.processCcd](https://github.com/lsst/pipe_tasks/blob/master/python/lsst/pipe/tasks/processCcd.py)"
      ],
      "text/plain": [
       "<IPython.core.display.Markdown object>"
      ]
     },
     "metadata": {},
     "output_type": "display_data"
    },
    {
     "name": "stdout",
     "output_type": "stream",
     "text": [
      "[lsst.pipe.tasks.processCcd](https://github.com/lsst/pipe_tasks/blob/master/python/lsst/pipe/tasks/processCcd.py)\n"
     ]
    }
   ],
   "source": [
    "from stackclub import where_is\n",
    "where_is(ProcessCcdConfig)"
   ]
  },
  {
   "cell_type": "markdown",
   "metadata": {},
   "source": [
    "# Diving into a Task Config\n",
    "\n",
    "Pipeline tasks are controlled and tweaked through there associated `TaskConfig` objects. To investigate the configuration parameters of the `ProcessCcdTask`, we create an instance of the `ProcessCcdConfig` and try calling the `help` method (commented out for brevity). What we are really interested in are the \"Data descriptors\", which we can print directly after capturing the documentation output by `help`."
   ]
  },
  {
   "cell_type": "code",
   "execution_count": 8,
   "metadata": {},
   "outputs": [
    {
     "name": "stdout",
     "output_type": "stream",
     "text": [
      " |  ----------------------------------------------------------------------\n",
      " |  Data descriptors defined here:\n",
      " |  \n",
      " |  isr\n",
      " |      Task to perform instrumental signature removal or load a post-ISR image; ISR consists of:\n",
      " |      - assemble raw amplifier images into an exposure with image, variance and mask planes\n",
      " |      - perform bias subtraction, flat fielding, etc.\n",
      " |      - mask known bad pixels\n",
      " |      - provide a preliminary WCS\n",
      " |       (`ConfigurableInstance`, default ``<class 'lsst.ip.isr.isrTask.IsrTaskConfig'>``)\n",
      " |  \n",
      " |  charImage\n",
      " |      Task to characterize a science exposure:\n",
      " |      - detect sources, usually at high S/N\n",
      " |      - estimate the background, which is subtracted from the image and returned as field \"background\"\n",
      " |      - estimate a PSF model, which is added to the exposure\n",
      " |      - interpolate over defects and cosmic rays, updating the image, variance and mask planes\n",
      " |       (`ConfigurableInstance`, default ``<class 'lsst.pipe.tasks.characterizeImage.CharacterizeImageConfig'>``)\n",
      " |  \n",
      " |  doCalibrate\n",
      " |      Perform calibration? (`bool`, default ``True``)\n",
      " |  \n",
      " |  calibrate\n",
      " |      Task to perform astrometric and photometric calibration:\n",
      " |      - refine the WCS in the exposure\n",
      " |      - refine the Calib photometric calibration object in the exposure\n",
      " |      - detect sources, usually at low S/N\n",
      " |       (`ConfigurableInstance`, default ``<class 'lsst.pipe.tasks.calibrate.CalibrateConfig'>``)\n",
      " |  \n"
     ]
    }
   ],
   "source": [
    "config = ProcessCcdConfig()\n",
    "#help(config)\n",
    "helplist = pydoc.render_doc(config).split('\\n')\n",
    "print('\\n'.join(helplist[18:47]))"
   ]
  },
  {
   "cell_type": "markdown",
   "metadata": {},
   "source": [
    "The first step is to try to get at the documentation through the `help` function (commented out below for brevity). We can find "
   ]
  },
  {
   "cell_type": "markdown",
   "metadata": {},
   "source": [
    "The `ProcessCcdConfig` object contains of both raw configurables like `doCalibrate` and other configs, like `isr`. To investigate one of these in more detail, we can import it and query it's \"Data descriptors\".\n"
   ]
  },
  {
   "cell_type": "code",
   "execution_count": 9,
   "metadata": {},
   "outputs": [
    {
     "name": "stdout",
     "output_type": "stream",
     "text": [
      " |  \n",
      " |  Data descriptors defined here:\n",
      " |  \n",
      " |  doBias\n",
      " |      Apply bias frame correction? (`bool`, default ``True``)\n",
      " |  \n",
      " |  doDark\n",
      " |      Apply dark frame correction? (`bool`, default ``True``)\n",
      " |  \n",
      " |  doFlat\n",
      " |      Apply flat field correction? (`bool`, default ``True``)\n",
      " |  \n",
      " |  doFringe\n",
      " |      Apply fringe correction? (`bool`, default ``True``)\n",
      " |  \n",
      " |  doDefect\n",
      " |      Apply correction for CCD defects, e.g. hot pixels? (`bool`, default ``True``)\n",
      " |  \n",
      " |  doAddDistortionModel\n",
      " |      Apply a distortion model based on camera geometry to the WCS? (`bool`, default ``True``)\n",
      " |  \n",
      " |  doWrite\n",
      " |      Persist postISRCCD? (`bool`, default ``True``)\n",
      " |  ...\n"
     ]
    }
   ],
   "source": [
    "from lsst.ip.isr.isrTask import IsrTask, IsrTaskConfig\n",
    "print('\\n'.join(pydoc.render_doc(IsrTaskConfig).split('\\n')[16:40]) + '...')"
   ]
  },
  {
   "cell_type": "markdown",
   "metadata": {},
   "source": [
    "These configurationas are pretty self-explanitory, but say that we really want to understand what `doFringe` is doing. Inorder to get that information we need to go to the source code."
   ]
  },
  {
   "cell_type": "code",
   "execution_count": 10,
   "metadata": {},
   "outputs": [
    {
     "data": {
      "text/markdown": [
       "[lsst.ip.isr.isrTask](https://github.com/lsst/ip_isr/blob/master/python/lsst/ip/isr/isrTask.py)"
      ],
      "text/plain": [
       "<IPython.core.display.Markdown object>"
      ]
     },
     "metadata": {},
     "output_type": "display_data"
    },
    {
     "name": "stdout",
     "output_type": "stream",
     "text": [
      "[lsst.ip.isr.isrTask](https://github.com/lsst/ip_isr/blob/master/python/lsst/ip/isr/isrTask.py)\n"
     ]
    }
   ],
   "source": [
    "where_is(IsrTaskConfig)"
   ]
  },
  {
   "cell_type": "markdown",
   "metadata": {},
   "source": [
    "We can then search this file for `doFringe` and we find [several lines](https://github.com/lsst/ip_isr/blob/cc4efb7d763d3663c9e989339505df9654f23fd9/python/lsst/ip/isr/isrTask.py#L597-L598) that look like this:\n",
    "\n",
    "        if self.config.doFringe and not self.config.fringeAfterFlat:\n",
    "            self.fringe.run(ccdExposure, **fringes.getDict())\n",
    "            \n",
    "If we want to go deeper to see what `fringe.run` does, we can repeat the above process"
   ]
  },
  {
   "cell_type": "code",
   "execution_count": 11,
   "metadata": {},
   "outputs": [
    {
     "name": "stdout",
     "output_type": "stream",
     "text": [
      "<lsst.ip.isr.fringe.FringeTask object at 0x7f1e6b1808d0>\n"
     ]
    },
    {
     "data": {
      "text/markdown": [
       "[lsst.ip.isr.fringe](https://github.com/lsst/ip_isr/blob/master/python/lsst/ip/isr/fringe.py)"
      ],
      "text/plain": [
       "<IPython.core.display.Markdown object>"
      ]
     },
     "metadata": {},
     "output_type": "display_data"
    },
    {
     "name": "stdout",
     "output_type": "stream",
     "text": [
      "[lsst.ip.isr.fringe](https://github.com/lsst/ip_isr/blob/master/python/lsst/ip/isr/fringe.py)\n"
     ]
    }
   ],
   "source": [
    "isr_task = IsrTask()\n",
    "print(isr_task.fringe)\n",
    "import  lsst.ip.isr.fringe\n",
    "where_is(lsst.ip.isr.fringe.FringeTask)"
   ]
  },
  {
   "cell_type": "markdown",
   "metadata": {},
   "source": [
    "We finally make our way to the source code for [FringeTask.run](https://github.com/lsst/ip_isr/blob/cc4efb7d763d3663c9e989339505df9654f23fd9/python/lsst/ip/isr/fringe.py#L104), which gives us details on how the fringe correction is performed (i.e. by creating a fringe image and subtracting it from the data image)."
   ]
  },
  {
   "cell_type": "markdown",
   "metadata": {},
   "source": [
    "# Running a Task\n",
    "\n",
    "Now that we've figured out how to investigate the config for a task, let's try to run the task itself."
   ]
  },
  {
   "cell_type": "code",
   "execution_count": 23,
   "metadata": {},
   "outputs": [],
   "source": [
    "# First we get the raw image\n",
    "import shutil\n",
    "repodir = '/project/stack-club/validation_data_hsc'\n",
    "datadir = os.path.join(repodir,'data')\n",
    "outdir = '/home/kadrlica/tmpdir/'"
   ]
  },
  {
   "cell_type": "markdown",
   "metadata": {},
   "source": [
    "First, we run the task as we would from the command line. All that we are doing here is parsing the `cmdline` string as if it is arguments passed to `processCcdTask.py` on the command line. Unfortunately, the task does not print it's output to a notebook cell, so we just need to wait for ~1 minute for this to run. We turn off several optional subtask steps so that things run faster..."
   ]
  },
  {
   "cell_type": "code",
   "execution_count": 19,
   "metadata": {},
   "outputs": [],
   "source": [
    "%%timeit\n",
    "task = ProcessCcdTask()\n",
    "cmdline = '{0}/data --calib {0}/CALIB --output {1} --id ccd=25 visit=903982'.format(repodir,outdir)\n",
    "cmdline += ' --config doCalibrate=False isr.doBias=False isr.doDark=False isr.doFlat=False'\n",
    "struct = task.parseAndRun(cmdline.split())"
   ]
  },
  {
   "cell_type": "markdown",
   "metadata": {},
   "source": [
    "The next level in complexity is to try to call `task.run`. In order to do this we need to provide a `dataRef`. To do this, we create a butler."
   ]
  },
  {
   "cell_type": "code",
   "execution_count": 24,
   "metadata": {},
   "outputs": [],
   "source": [
    "from lsst.daf.persistence import Butler\n",
    "# output directory cannot exist (wait for Gen3 Butler...)\n",
    "if os.path.exists(outdir): shutil.rmtree(outdir)\n",
    "butler = Butler(inputs=datadir, outputs=outdir)"
   ]
  },
  {
   "cell_type": "markdown",
   "metadata": {},
   "source": [
    "Next, we create the config and task instances"
   ]
  },
  {
   "cell_type": "code",
   "execution_count": 30,
   "metadata": {},
   "outputs": [],
   "source": [
    "# Since we don't want to do calibration processing we turn off these configs\n",
    "config = ProcessCcdConfig()\n",
    "config.isr.doBias = False\n",
    "config.isr.doDark = False\n",
    "config.isr.doFlat = False\n",
    "config.doCalibrate = False"
   ]
  },
  {
   "cell_type": "code",
   "execution_count": 33,
   "metadata": {},
   "outputs": [],
   "source": [
    "task = ProcessCcdTask(butler=butler, config=config)"
   ]
  },
  {
   "cell_type": "code",
   "execution_count": 27,
   "metadata": {},
   "outputs": [
    {
     "name": "stdout",
     "output_type": "stream",
     "text": [
      "(903332, 10)\n"
     ]
    }
   ],
   "source": [
    "# Find the available data sets\n",
    "ccds = butler.queryMetadata('raw',['visit','ccd'])\n",
    "print(ccds[10])"
   ]
  },
  {
   "cell_type": "code",
   "execution_count": null,
   "metadata": {},
   "outputs": [],
   "source": [
    "#subset = butler.subset('raw', dataId={'visit':903332, 'ccd':25})"
   ]
  },
  {
   "cell_type": "code",
   "execution_count": 28,
   "metadata": {},
   "outputs": [],
   "source": [
    "dataRef = butler.dataRef('raw', dataId={'visit':903332,'ccd':25})"
   ]
  },
  {
   "cell_type": "code",
   "execution_count": 36,
   "metadata": {},
   "outputs": [],
   "source": [
    "# Setup the astrometry reference catalogs following:\n",
    "# https://github.com/lsst/validation_data_hsc\n",
    "!export SETUP_ASTROMETRY_NET_DATA=\"astrometry_net_data sdss-dr9-fink-v5b\"\n",
    "!export ASTROMETRY_NET_DATA_DIR={repodir + '/sdss-dr9-fink-v5b'}\n",
    "\n",
    "# TODO: Create the astrometry reference object to pass to the task"
   ]
  },
  {
   "cell_type": "code",
   "execution_count": 35,
   "metadata": {},
   "outputs": [
    {
     "name": "stdout",
     "output_type": "stream",
     "text": [
      "40.8 s ± 476 ms per loop (mean ± std. dev. of 7 runs, 1 loop each)\n"
     ]
    }
   ],
   "source": [
    "%%timeit\n",
    "struct = task.run(dataRef)"
   ]
  },
  {
   "cell_type": "raw",
   "metadata": {},
   "source": [
    "# This appears to work when called from the shell:\n",
    "\n",
    "cd /project/stack-club/validation_data_hsc\n",
    "export OMP_NUM_THREADS=1\n",
    "export SETUP_ASTROMETRY_NET_DATA=\"astrometry_net_data sdss-dr9-fink-v5b\"\n",
    "export ASTROMETRY_NET_DATA_DIR=sdss-dr9-fink-v5b\n",
    "input=\"data\"\n",
    "output=\"/home/kadrlica/tmpdir\"\n",
    "rm -rf $output\n",
    "processCcd.py $input --calib CALIB --output $output --id ccd=25 visit=903982"
   ]
  },
  {
   "cell_type": "raw",
   "metadata": {},
   "source": [
    "repo=/project/stack-club/validation_data_hsc\n",
    "output=/home/kadrlica/tmpdir\n",
    "processCcd.py $repo/data --calib $repo/CALIB --output $output --id ccd=25 visit=903982"
   ]
  },
  {
   "cell_type": "code",
   "execution_count": null,
   "metadata": {},
   "outputs": [],
   "source": [
    "# Running ISR Task"
   ]
  },
  {
   "cell_type": "code",
   "execution_count": 21,
   "metadata": {},
   "outputs": [],
   "source": [
    "# Try to get the task outputs into the notebook (and failing)\n",
    "import sys,logging\n",
    "logger = logging.getLogger()\n",
    "logger.setLevel(logging.DEBUG)\n",
    "\n",
    "# Create STDERR handler\n",
    "handler = logging.StreamHandler(sys.stderr)\n",
    "# ch.setLevel(logging.DEBUG)\n",
    "\n",
    "# Create formatter and add it to the handler\n",
    "formatter = logging.Formatter('%(name)s - %(levelname)s - %(message)s')\n",
    "handler.setFormatter(formatter)\n",
    "\n",
    "# Set STDERR handler as the only handler \n",
    "logger.handlers = [handler]"
   ]
  }
 ],
 "metadata": {
  "kernelspec": {
   "display_name": "LSST",
   "language": "python",
   "name": "lsst"
  },
  "language_info": {
   "codemirror_mode": {
    "name": "ipython",
    "version": 3
   },
   "file_extension": ".py",
   "mimetype": "text/x-python",
   "name": "python",
   "nbconvert_exporter": "python",
   "pygments_lexer": "ipython3",
   "version": "3.6.2"
  }
 },
 "nbformat": 4,
 "nbformat_minor": 2
}
