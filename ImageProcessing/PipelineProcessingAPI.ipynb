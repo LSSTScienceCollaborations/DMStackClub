{
 "cells": [
  {
   "cell_type": "markdown",
   "metadata": {},
   "source": [
    "# Pipeline Task API\n",
    "\n",
    "<br>Owner: **Alex Drlica-Wagner** ([@kadrlica](https://github.com/LSSTScienceCollaborations/StackClub/issues/new?body=@kadrlica))\n",
    "<br>Last Verified to Run: **2018-08-10**\n",
    "<br>Verified Stack Release: **v16.0**"
   ]
  },
  {
   "cell_type": "markdown",
   "metadata": {},
   "source": [
    "## Learning Objectives:\n",
    "\n",
    "This notebook seeks to teach users how to unpack a pipeline tasks. As an example, we focus on `processCcd.py`, with the goal of diving into the configuration, interface, and structure of pipeline tasks. This notebook is a digression from Justin Myles script that demonstrates how to run a series of pipeline tasks from the command line to rerun HSC data processing [link].\n",
    "\n",
    "After working through this tutorial you should be able to:\n",
    "\n",
    "* Find the source code for a pipeline task\n",
    "* Configure (and investigate the configuration) of pipeline tasks\n",
    "* Investigate and run those tasks in python\n",
    "\n",
    "## Logistics\n",
    "This notebook is intended to be runnable on `lsst-lspdev.ncsa.illinois.edu` from a local git clone of https://github.com/LSSTScienceCollaborations/StackClub."
   ]
  },
  {
   "cell_type": "code",
   "execution_count": null,
   "metadata": {},
   "outputs": [],
   "source": [
    "# What version of the Stack are we using?\n",
    "! echo $HOSTNAME\n",
    "! eups list -s | grep lsst_distrib"
   ]
  },
  {
   "cell_type": "code",
   "execution_count": null,
   "metadata": {},
   "outputs": [],
   "source": [
    "# Filter some warnings printed by v16.0 of the stack\n",
    "import warnings\n",
    "warnings.simplefilter(\"ignore\", category=FutureWarning)\n",
    "warnings.simplefilter(\"ignore\", category=UserWarning)"
   ]
  },
  {
   "cell_type": "code",
   "execution_count": null,
   "metadata": {},
   "outputs": [],
   "source": [
    "%matplotlib inline\n",
    "import os\n",
    "import pydoc\n",
    "import matplotlib.pyplot as plt"
   ]
  },
  {
   "cell_type": "code",
   "execution_count": null,
   "metadata": {},
   "outputs": [],
   "source": [
    "import lsst.afw.display     as afwDisplay"
   ]
  },
  {
   "cell_type": "markdown",
   "metadata": {},
   "source": [
    "## Diving into a Pipeline Task\n",
    "\n",
    "Our goal is to dive into the inner workings of `ProcessCcd.py`. We pickup from the command line processing described in the getting started tutorials [here](https://pipelines.lsst.io/getting-started/data-setup.html#) and [here](https://pipelines.lsst.io/getting-started/processccd.html), as well as Justin Myles HSC reprocessing notebook [here](). We are specifically interested in digging into the following line:\n",
    "\n",
    "```\n",
    "processCcd.py $DATADIR --rerun processCcdOutputs --id\n",
    "```"
   ]
  },
  {
   "cell_type": "markdown",
   "metadata": {},
   "source": [
    "We start by tracking down the location of the `processCcd.py` shell script"
   ]
  },
  {
   "cell_type": "code",
   "execution_count": null,
   "metadata": {},
   "outputs": [],
   "source": [
    "!(which processCcd.py)"
   ]
  },
  {
   "cell_type": "markdown",
   "metadata": {},
   "source": [
    "This is the proverbial \"end of the thread\". Our goal is to pull on this thread to unravel the python/C++ functions that are being called under the hood. We start by taking a peak in this script"
   ]
  },
  {
   "cell_type": "code",
   "execution_count": null,
   "metadata": {},
   "outputs": [],
   "source": [
    "!cat $(which processCcd.py)"
   ]
  },
  {
   "cell_type": "markdown",
   "metadata": {},
   "source": [
    "Ok, this hasn't gotten us very far, but after getting through the stock header, we now have the next link in our chain:\n",
    "```\n",
    "from lsst.pipe.tasks.processCcd import ProcessCcdTask\n",
    "```\n",
    "\n",
    "There are two ways we can proceed from here. One is to [Google](http://lmgtfy.com/?q=lsst.pipe.tasks.processCcd) `lsst.pipe.tasks.processCcd`, which will take us to this [doxygen page](http://doxygen.lsst.codes/stack/doxygen/x_masterDoxyDoc/classlsst_1_1pipe_1_1tasks_1_1process_ccd_1_1_process_ccd_task.html) and/or the soure code on [GitHub](https://github.com/lsst/pipe_tasks/blob/master/python/lsst/pipe/tasks/processCcd.py). \n",
    "\n",
    "The second approach is to do the import the class oursleves and try to investigate it interactively.\n"
   ]
  },
  {
   "cell_type": "code",
   "execution_count": null,
   "metadata": {},
   "outputs": [],
   "source": [
    "import lsst.pipe.tasks.processCcd\n",
    "from lsst.pipe.tasks.processCcd import ProcessCcdTask, ProcessCcdConfig"
   ]
  },
  {
   "cell_type": "markdown",
   "metadata": {},
   "source": [
    "We can get to the source code for these classes directly using the [`stackclub` toolkit module](https://stackclub.readthedocs.io/), as shown in the [FindingDocs.ipynb](https://github.com/LSSTScienceCollaborations/StackClub/blob/master/GettingStarted/FindingDocs.ipynb)"
   ]
  },
  {
   "cell_type": "code",
   "execution_count": null,
   "metadata": {},
   "outputs": [],
   "source": [
    "from stackclub import where_is\n",
    "where_is(ProcessCcdConfig)"
   ]
  },
  {
   "cell_type": "markdown",
   "metadata": {},
   "source": [
    "# Diving into a Task Config\n",
    "\n",
    "Pipeline tasks are controlled and tweaked through there associated `TaskConfig` objects. To investigate the configuration parameters of the `ProcessCcdTask`, we create an instance of the `ProcessCcdConfig` and try calling the `help` method (commented out for brevity). What we are really interested in are the \"Data descriptors\", which we can print directly after capturing the documentation output by `help`."
   ]
  },
  {
   "cell_type": "markdown",
   "metadata": {},
   "source": [
    "The first step is to try to get at the documentation through the `help` function (commented out below for brevity). We can find "
   ]
  },
  {
   "cell_type": "markdown",
   "metadata": {},
   "source": [
    "The `ProcessCcdConfig` object contains of both raw configurables like `doCalibrate` and other configs, like `isr`. To investigate one of these in more detail, we can import it and query it's \"Data descriptors\".\n"
   ]
  },
  {
   "cell_type": "code",
   "execution_count": null,
   "metadata": {},
   "outputs": [],
   "source": [
    "from lsst.ip.isr.isrTask import IsrTask, IsrTaskConfig\n",
    "print('\\n'.join(pydoc.render_doc(IsrTaskConfig).split('\\n')[16:40]) + '...')"
   ]
  },
  {
   "cell_type": "markdown",
   "metadata": {},
   "source": [
    "These configurationas are pretty self-explanitory, but say that we really want to understand what `doFringe` is doing. Inorder to get that information we need to go to the source code."
   ]
  },
  {
   "cell_type": "code",
   "execution_count": null,
   "metadata": {},
   "outputs": [],
   "source": [
    "where_is(IsrTaskConfig)"
   ]
  },
  {
   "cell_type": "markdown",
   "metadata": {},
   "source": [
    "We can then search this file for `doFringe` and we find [several lines](https://github.com/lsst/ip_isr/blob/cc4efb7d763d3663c9e989339505df9654f23fd9/python/lsst/ip/isr/isrTask.py#L597-L598) that look like this:\n",
    "\n",
    "        if self.config.doFringe and not self.config.fringeAfterFlat:\n",
    "            self.fringe.run(ccdExposure, **fringes.getDict())\n",
    "            \n",
    "If we want to go deeper to see what `fringe.run` does, we can repeat the above process"
   ]
  },
  {
   "cell_type": "code",
   "execution_count": null,
   "metadata": {},
   "outputs": [],
   "source": [
    "isr_task = IsrTask()\n",
    "print(isr_task.fringe)\n",
    "import  lsst.ip.isr.fringe\n",
    "where_is(lsst.ip.isr.fringe.FringeTask)"
   ]
  },
  {
   "cell_type": "markdown",
   "metadata": {},
   "source": [
    "We finally make our way to the source code for [FringeTask.run](https://github.com/lsst/ip_isr/blob/cc4efb7d763d3663c9e989339505df9654f23fd9/python/lsst/ip/isr/fringe.py#L104), which gives us details on how the fringe correction is performed (i.e. by creating a fringe image and subtracting it from the data image)."
   ]
  },
  {
   "cell_type": "markdown",
   "metadata": {},
   "source": [
    "# Running a Task\n",
    "\n",
    "Now that we've figured out how to investigate the config for a task, let's try to run the task itself."
   ]
  },
  {
   "cell_type": "code",
   "execution_count": null,
   "metadata": {},
   "outputs": [],
   "source": [
    "# First we setup the directories for the raw image and calibration.\n",
    "import shutil\n",
    "basedir = '/project/stack-club/validation_data_hsc'\n",
    "repodir = os.path.join(basedir,'data')\n",
    "# By default the calibration directory lives in ${datadir}/CALIB; \n",
    "# however, in the validation_data_hsc it lives in ${basedir}/CALIB\n",
    "calibdir = os.path.join(basedir,'CALIB')\n",
    "# The directory for our processed output\n",
    "outdir = '/home/kadrlica/tmpdir/'"
   ]
  },
  {
   "cell_type": "code",
   "execution_count": null,
   "metadata": {},
   "outputs": [],
   "source": [
    "# Next, we create a butler to manage the data repositories\n",
    "from lsst.daf.persistence import Butler\n",
    "# output directory cannot exist (wait for Gen3 Butler...)\n",
    "if os.path.exists(outdir): shutil.rmtree(outdir)\n",
    "\n",
    "# This strange structure for Butler initialization is a 'feature' of the Gen2 butler \n",
    "# and should be replaced in Gen3\n",
    "butler = Butler(inputs={'root': repodir, 'mapperArgs': {'calibRoot': calibdir}}, \n",
    "                outputs={'root': outdir})"
   ]
  },
  {
   "cell_type": "markdown",
   "metadata": {},
   "source": [
    "We can use the butler to list the available data sets, and to choose the CCD that we want to process."
   ]
  },
  {
   "cell_type": "code",
   "execution_count": null,
   "metadata": {},
   "outputs": [],
   "source": [
    "# We can list available data sets\n",
    "ccds = butler.queryMetadata('raw',['visit','ccd'])\n",
    "print(ccds[0:10],'...')"
   ]
  },
  {
   "cell_type": "code",
   "execution_count": null,
   "metadata": {},
   "outputs": [],
   "source": [
    "# We choose one of these CCDs as our dataRef\n",
    "dataRef = butler.dataRef('raw', dataId={'visit':903332,'ccd':25})"
   ]
  },
  {
   "cell_type": "markdown",
   "metadata": {},
   "source": [
    "Now we are prepared to create our `IsrTaskConfig`. At this point, we will turn off many of the processing steps to speed up the task."
   ]
  },
  {
   "cell_type": "code",
   "execution_count": null,
   "metadata": {},
   "outputs": [],
   "source": [
    "config = IsrTaskConfig()\n",
    "config.doBias = True\n",
    "config.doDark = True\n",
    "config.doFlat = True"
   ]
  },
  {
   "cell_type": "markdown",
   "metadata": {},
   "source": [
    "With the `config` created and configured, we can now create the `IsrTask`"
   ]
  },
  {
   "cell_type": "code",
   "execution_count": null,
   "metadata": {},
   "outputs": [],
   "source": [
    "isr_task = IsrTask(config)"
   ]
  },
  {
   "cell_type": "markdown",
   "metadata": {},
   "source": [
    "And run it!"
   ]
  },
  {
   "cell_type": "code",
   "execution_count": null,
   "metadata": {},
   "outputs": [],
   "source": [
    "%%time\n",
    "struct = isr_task.runDataRef(dataRef)"
   ]
  },
  {
   "cell_type": "markdown",
   "metadata": {},
   "source": [
    "The output is a `struct` containing the processed exposure:"
   ]
  },
  {
   "cell_type": "code",
   "execution_count": null,
   "metadata": {},
   "outputs": [],
   "source": [
    "print(struct)"
   ]
  },
  {
   "cell_type": "code",
   "execution_count": null,
   "metadata": {},
   "outputs": [],
   "source": [
    "afwDisplay.setDefaultBackend('matplotlib') \n",
    "# ADW: why can't we set the backend before this cell?\n",
    "\n",
    "figure = plt.figure(1,figsize=(10,10))\n",
    "afw_display = afwDisplay.Display(1)\n",
    "afw_display.scale('asinh', 'zscale')\n",
    "afw_display.mtv(dataRef.get())\n",
    "plt.title(\"Raw\")\n",
    "\n",
    "figure = plt.figure(2,figsize=(10,10))\n",
    "afw_display = afwDisplay.Display(2)\n",
    "afw_display.scale('asinh', 'zscale')\n",
    "afw_display.mtv(struct.exposure)\n",
    "plt.title(\"ISR 'Corrected'\")"
   ]
  },
  {
   "cell_type": "code",
   "execution_count": null,
   "metadata": {},
   "outputs": [],
   "source": [
    "for maskName, maskBit in struct.exposure.mask.getMaskPlaneDict().items():\n",
    "    print('{}: {}'.format(afw_display.getMaskPlaneColor(maskName),maskName))"
   ]
  },
  {
   "cell_type": "raw",
   "metadata": {},
   "source": [
    "# This appears to work when called from the shell:\n",
    "\n",
    "cd /project/stack-club/validation_data_hsc\n",
    "export OMP_NUM_THREADS=1\n",
    "export SETUP_ASTROMETRY_NET_DATA=\"astrometry_net_data sdss-dr9-fink-v5b\"\n",
    "export ASTROMETRY_NET_DATA_DIR=sdss-dr9-fink-v5b\n",
    "input=\"data\"\n",
    "output=\"/home/kadrlica/tmpdir\"\n",
    "rm -rf $output\n",
    "processCcd.py $input --calib CALIB --output $output --id ccd=25 visit=903982"
   ]
  },
  {
   "cell_type": "raw",
   "metadata": {},
   "source": [
    "repo=/project/stack-club/validation_data_hsc\n",
    "output=/home/kadrlica/tmpdir\n",
    "processCcd.py $repo/data --calib $repo/CALIB --output $output --id ccd=25 visit=903982"
   ]
  },
  {
   "cell_type": "code",
   "execution_count": null,
   "metadata": {},
   "outputs": [],
   "source": [
    "# https://github.com/ipython/ipykernel/issues/111#issuecomment-237089618\n",
    "# Try to get the task outputs into the notebook (and failing)\n",
    "import sys,logging\n",
    "logger = logging.getLogger()\n",
    "logger.setLevel(logging.DEBUG)\n",
    "\n",
    "# Create STDERR handler\n",
    "handler = logging.StreamHandler(sys.stderr)\n",
    "# ch.setLevel(logging.DEBUG)\n",
    "\n",
    "# Create formatter and add it to the handler\n",
    "formatter = logging.Formatter('%(name)s - %(levelname)s - %(message)s')\n",
    "handler.setFormatter(formatter)\n",
    "\n",
    "# Set STDERR handler as the only handler \n",
    "logger.handlers = [handler]"
   ]
  },
  {
   "cell_type": "markdown",
   "metadata": {},
   "source": [
    "## Run processCcdTask"
   ]
  },
  {
   "cell_type": "markdown",
   "metadata": {},
   "source": [
    "First, we run the task as we would from the command line. All that we are doing here is parsing the `cmdline` string as if it is arguments passed to `processCcdTask.py` on the command line. Unfortunately, the task does not print it's output to a notebook cell, so we just need to wait for ~1 minute for this to run. We turn off several optional subtask steps so that things run faster..."
   ]
  },
  {
   "cell_type": "code",
   "execution_count": null,
   "metadata": {},
   "outputs": [],
   "source": [
    "# Create the task\n",
    "task = ProcessCcdTask()"
   ]
  },
  {
   "cell_type": "code",
   "execution_count": null,
   "metadata": {},
   "outputs": [],
   "source": [
    "%%timeit\n",
    "# output directory cannot exist (wait for Gen3 Butler...)\n",
    "if os.path.exists(outdir): shutil.rmtree(outdir)\n",
    "cmdline = '{0} --calib {1} --output {2} --id ccd=25 visit=903982'.format(repodir,calibdir,outdir)\n",
    "cmdline += ' --config doCalibrate=False isr.doBias=False isr.doDark=False isr.doFlat=False'\n",
    "struct = task.parseAndRun(cmdline.split())"
   ]
  },
  {
   "cell_type": "code",
   "execution_count": null,
   "metadata": {},
   "outputs": [],
   "source": [
    "config = ProcessCcdConfig()\n",
    "#help(config)\n",
    "helplist = pydoc.render_doc(config).split('\\n')\n",
    "print('\\n'.join(helplist[18:47]))"
   ]
  },
  {
   "cell_type": "markdown",
   "metadata": {},
   "source": [
    "The next level in complexity is to try to call `task.run`. In order to do this we need to provide a `dataRef`. To do this, we create a butler."
   ]
  },
  {
   "cell_type": "code",
   "execution_count": null,
   "metadata": {},
   "outputs": [],
   "source": [
    "# Since we don't want to do calibration processing we turn off these configs\n",
    "config = ProcessCcdConfig()\n",
    "config.isr.doBias = False\n",
    "config.isr.doDark = False\n",
    "config.isr.doFlat = False\n",
    "config.doCalibrate = False"
   ]
  },
  {
   "cell_type": "code",
   "execution_count": null,
   "metadata": {},
   "outputs": [],
   "source": [
    "task = ProcessCcdTask(butler=butler, config=config)"
   ]
  },
  {
   "cell_type": "code",
   "execution_count": null,
   "metadata": {},
   "outputs": [],
   "source": [
    "# Setup the astrometry reference catalogs following:\n",
    "# https://github.com/lsst/validation_data_hsc\n",
    "#!export SETUP_ASTROMETRY_NET_DATA=\"astrometry_net_data sdss-dr9-fink-v5b\"\n",
    "#!export ASTROMETRY_NET_DATA_DIR={repodir + '/sdss-dr9-fink-v5b'}\n",
    "\n",
    "# TODO: Create the astrometry reference object to pass to the task"
   ]
  }
 ],
 "metadata": {
  "kernelspec": {
   "display_name": "LSST",
   "language": "python",
   "name": "lsst"
  },
  "language_info": {
   "codemirror_mode": {
    "name": "ipython",
    "version": 3
   },
   "file_extension": ".py",
   "mimetype": "text/x-python",
   "name": "python",
   "nbconvert_exporter": "python",
   "pygments_lexer": "ipython3",
   "version": "3.6.2"
  }
 },
 "nbformat": 4,
 "nbformat_minor": 2
}
