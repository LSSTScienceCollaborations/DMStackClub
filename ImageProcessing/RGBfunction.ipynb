{
 "cells": [
  {
   "cell_type": "code",
   "execution_count": 2,
   "metadata": {},
   "outputs": [],
   "source": [
    "# Wrap RGBcutouts into a function\n",
    "import lsst.daf.persistence as dafPersist\n",
    "import lsst.afw.display.rgb as afwRgb\n",
    "import lsst.afw.geom as afwGeom\n",
    "import lsst.afw.coord as afwCoord\n",
    "import lsst.afw.image as afwImage"
   ]
  },
  {
   "cell_type": "code",
   "execution_count": 4,
   "metadata": {},
   "outputs": [],
   "source": [
    "%matplotlib inline\n",
    "import matplotlib.pyplot as plt\n",
    "plt.rcParams['figure.figsize'] = (13, 8)"
   ]
  },
  {
   "cell_type": "code",
   "execution_count": 5,
   "metadata": {},
   "outputs": [],
   "source": [
    "datasettypes = ['calexp', 'calexpBackground', 'icSrc',\n",
    "               'src', 'srcMatch', 'srcMatchFull', 'ossImage',\n",
    "               'flattenedImage', 'wcs', 'fcr', 'photoCalib',\n",
    "               'jointcal_wcs', 'jointcal_photoCalib', 'skyCorr',\n",
    "               'calexp_camera', 'brightObjectMask', 'deepCoadd_calexp',\n",
    "               'deepCoadd_det', 'deepCoadd_meas', 'deepCoadd_measMatch',\n",
    "               'deepCoadd_mergeDet', 'deepCoadd_ref', 'deepCoadd_forced_src',\n",
    "               'forced_src' ]"
   ]
  },
  {
   "cell_type": "code",
   "execution_count": null,
   "metadata": {},
   "outputs": [],
   "source": [
    "def rgb_cutout(butler, ra, dec, filters, cutoutsize=500):\n",
    "    \"\"\" Parameters:\n",
    "            - butler: provides access to data repository\n",
    "            - ra: float, right ascension, degrees\n",
    "            - dec: float, declination, degrees\n",
    "            - filters: \n",
    "    \"\"\"\n",
    "    raDec = afwCoord.Coord(ra*afwGeom.degrees, dec*afwGeom.degrees)"
   ]
  }
 ],
 "metadata": {
  "kernelspec": {
   "display_name": "LSST",
   "language": "python",
   "name": "lsst"
  },
  "language_info": {
   "codemirror_mode": {
    "name": "ipython",
    "version": 3
   },
   "file_extension": ".py",
   "mimetype": "text/x-python",
   "name": "python",
   "nbconvert_exporter": "python",
   "pygments_lexer": "ipython3",
   "version": "3.6.6"
  }
 },
 "nbformat": 4,
 "nbformat_minor": 2
}
