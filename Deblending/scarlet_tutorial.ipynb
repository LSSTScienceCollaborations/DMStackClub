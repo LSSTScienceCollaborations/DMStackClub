{
 "cells": [
  {
   "cell_type": "markdown",
   "metadata": {},
   "source": [
    "# Deblending with *Scarlet*\n",
    "<br>Owner(s): **Fred Moolekamp** ([@fred3m](https://github.com/LSSTScienceCollaborations/StackClub/issues/new?body=@fred3m))\n",
    "<br>Last Verified to Run: **2018-08-17**\n",
    "<br>Verified Stack Release: **w_2018_32**\n",
    "\n",
    "The purpose of this tutorial is to familiarize you with the basics of using *scarlet* to model blended scenes, and how tweaking various objects and parameters affects the resulting model. A tutorial that is more specific to using scarlet in the context of the LSST DM Science Pipelines is also available.\n",
    "\n",
    "### Learning Objectives:\n",
    "\n",
    "After working through this tutorial you should be able to: \n",
    "1. Configure and run _scarlet_ on a test list of objects;\n",
    "2. Understand its various model assumptions and applied constraints.\n",
    "\n",
    "Before attempting this tutorial it will be useful to read the [introduction](http://scarlet.readthedocs.io/en/latest/user_docs.html) to the *scarlet* User Guide, and many of the exercises below may require referencing the *scarlet* [docs](http://scarlet.readthedocs.io/en/latest/index.html).\n",
    "\n",
    "### Logistics\n",
    "This notebook is intended to be runnable on `lsst-lspdev.ncsa.illinois.edu` from a local git clone of https://github.com/LSSTScienceCollaborations/StackClub.\n",
    "\n",
    "## Set-up"
   ]
  },
  {
   "cell_type": "code",
   "execution_count": null,
   "metadata": {
    "collapsed": true
   },
   "outputs": [],
   "source": [
    "# Import the necessary libraries\n",
    "import os\n",
    "\n",
    "%matplotlib inline\n",
    "import matplotlib\n",
    "import matplotlib.pyplot as plt\n",
    "# don't interpolate the pixels\n",
    "matplotlib.rc('image', interpolation='none')\n",
    "\n",
    "import numpy as np\n",
    "import scarlet\n",
    "import scarlet.display"
   ]
  },
  {
   "cell_type": "markdown",
   "metadata": {},
   "source": [
    "# Display functions\n",
    "\n",
    "Below are several usful functions used throughout this tutorial to visualize the data and models."
   ]
  },
  {
   "cell_type": "code",
   "execution_count": null,
   "metadata": {
    "collapsed": true
   },
   "outputs": [],
   "source": [
    "# Display the sources\n",
    "def display_sources(sources, image, norm=None, subset=None, combine=False, show_sed=True, filter_indices=None):\n",
    "    \"\"\"Display the data and model for all sources in a blend\n",
    "\n",
    "    This convenience function is used to display all (or a subset) of\n",
    "    the sources and (optionally) their SED's.\n",
    "    \"\"\"\n",
    "    if subset is None:\n",
    "        # Show all sources in the blend\n",
    "        subset = range(len(sources))\n",
    "    if filter_indices is None:\n",
    "        filter_indices = [3,2,1]\n",
    "    for m in subset:\n",
    "        # Load the model for the source\n",
    "        src = sources[m]\n",
    "        model = [comp.get_model() for comp in src]\n",
    "\n",
    "        # Select the image patch the overlaps with the source and convert it to an RGB image\n",
    "        img_rgb = scarlet.display.img_to_rgb(image[src[0].bb], filter_indices=filter_indices, norm=norm)\n",
    "\n",
    "        # Build a model for each component in the model\n",
    "        rgb = []\n",
    "        for _model in model:\n",
    "            # Convert the model to an RGB image\n",
    "            _rgb = scarlet.display.img_to_rgb(_model, filter_indices=filter_indices, norm=norm)\n",
    "            rgb.append(_rgb)\n",
    "\n",
    "        # Display the image and model\n",
    "        figsize = [6,3]\n",
    "        columns = 2\n",
    "        # Calculate the number of columns needed and shape of the figure\n",
    "        if show_sed:\n",
    "            figsize[0] += 3\n",
    "            columns += 1\n",
    "        if not combine:\n",
    "            figsize[0] += 3*(len(model)-1)\n",
    "            columns += len(model)-1\n",
    "        # Build the figure\n",
    "        fig = plt.figure(figsize=figsize)\n",
    "        ax = [fig.add_subplot(1,columns,n+1) for n in range(columns)]\n",
    "        ax[0].imshow(img_rgb)\n",
    "        ax[0].set_title(\"Data: Source {0}\".format(m))\n",
    "        for n, _rgb in enumerate(rgb):\n",
    "            ax[n+1].imshow(_rgb)\n",
    "            if combine:\n",
    "                ax[n+1].set_title(\"Initial Model\")\n",
    "            else:\n",
    "                ax[n+1].set_title(\"Component {0}\".format(n))\n",
    "        if show_sed:\n",
    "            for comp in src:\n",
    "                ax[-1].plot(comp.sed)\n",
    "            ax[-1].set_title(\"SED\")\n",
    "            ax[-1].set_xlabel(\"Band\")\n",
    "            ax[-1].set_ylabel(\"Intensity\")\n",
    "        # Mark the current source in the image\n",
    "        y,x = src[0].center\n",
    "        ax[0].plot(x-src[0].bb[2].start, y-src[0].bb[1].start, 'x', color=\"#5af916\", mew=2)\n",
    "        plt.tight_layout()\n",
    "        plt.show()\n",
    "\n",
    "def display_model_residual(images, blend, peaks, norm, filter_indices=None):\n",
    "    \"\"\"Display the data, model, and residual for a given result\n",
    "    \"\"\"\n",
    "    if filter_indices is None:\n",
    "        filter_indices = [3,2,1]\n",
    "    model = blend.get_model()\n",
    "    residual = images-model\n",
    "    print(\"Data range: {0:.3f} to {1:.3f}\\nresidual range: {2:.3f} to {3:.3f}\\nrms: {4:.3f}\".format(\n",
    "        np.min(images),\n",
    "        np.max(images),\n",
    "        np.min(residual),\n",
    "        np.max(residual),\n",
    "        np.sqrt(np.std(residual)**2+np.mean(residual)**2)\n",
    "    ))\n",
    "    # Create RGB images\n",
    "    img_rgb = scarlet.display.img_to_rgb(images, filter_indices=filter_indices, norm=norm)\n",
    "    model_rgb = scarlet.display.img_to_rgb(model, filter_indices=filter_indices, norm=norm)\n",
    "    residual_norm = scarlet.display.Linear(img=residual)\n",
    "    residual_rgb = scarlet.display.img_to_rgb(residual, filter_indices=filter_indices, norm=residual_norm)\n",
    "\n",
    "    # Show the data, model, and residual\n",
    "    fig = plt.figure(figsize=(15,5))\n",
    "    ax = [fig.add_subplot(1,3,n+1) for n in range(3)]\n",
    "    ax[0].imshow(img_rgb)\n",
    "    ax[0].set_title(\"Data\")\n",
    "    ax[1].imshow(model_rgb)\n",
    "    ax[1].set_title(\"Model\")\n",
    "    ax[2].imshow(residual_rgb)\n",
    "    ax[2].set_title(\"Residual\")\n",
    "    for k,component in enumerate(blend.components):\n",
    "        y,x = component.center\n",
    "        #px, py = peaks[k]\n",
    "        ax[0].plot(x, y, \"gx\")\n",
    "        #ax[0].plot(px, py, \"rx\")\n",
    "        ax[1].text(x, y, k, color=\"r\")\n",
    "    plt.show()\n",
    "\n",
    "def show_psfs(psfs, filters, norm=None):\n",
    "    rows = int(np.ceil(len(psfs)/3))\n",
    "    columns = min(len(psfs), 3)\n",
    "    figsize = (45/columns, rows*5)\n",
    "    fig = plt.figure(figsize=figsize)\n",
    "    ax = [fig.add_subplot(rows, columns, n+1) for n in range(len(psfs))]\n",
    "    for n, psf in enumerate(psfs):\n",
    "        im = ax[n].imshow(psf, norm=norm)\n",
    "        ax[n].set_title(\"{0}-band PSF\".format(filters[n]))\n",
    "        plt.colorbar(im, ax=ax[n])\n",
    "    plt.show()\n",
    "\n",
    "def display_diff_kernels(psf_blend, diff_kernels):\n",
    "    model = psf_blend.get_model()\n",
    "    for b, component in enumerate(psf_blend.components):\n",
    "        fig = plt.figure(figsize=(15,2.5))\n",
    "        ax = [fig.add_subplot(1,4,n+1) for n in range(4)]\n",
    "        # Display the psf\n",
    "        ax[0].set_title(\"psf\")\n",
    "        _img = ax[0].imshow(psfs[b])\n",
    "        fig.colorbar(_img, ax=ax[0])\n",
    "        # Display the model\n",
    "        ax[1].set_title(\"modeled psf\")\n",
    "        _model = np.ma.array(model[b], mask=model[b]==0)\n",
    "        _img = ax[1].imshow(_model)\n",
    "        fig.colorbar(_img, ax=ax[1])\n",
    "        # Display the difference kernel\n",
    "        ax[2].set_title(\"difference kernel\")\n",
    "        _img = ax[2].imshow(np.ma.array(diff_kernels[b], mask=diff_kernels[b]==0))\n",
    "        fig.colorbar(_img, ax=ax[2])\n",
    "        # Display the residual\n",
    "        ax[3].set_title(\"residual\")\n",
    "        residual = psfs[b]-model[b]\n",
    "        vabs = np.max(np.abs(residual))\n",
    "        _img = ax[3].imshow(residual, vmin=-vabs, vmax=vabs, cmap='seismic')\n",
    "        fig.colorbar(_img, ax=ax[3])\n",
    "        plt.show()"
   ]
  },
  {
   "cell_type": "markdown",
   "metadata": {},
   "source": [
    "# Load and Display the data\n",
    "\n",
    "The `file_path` points to a directory with 147 HSC blends from the COSMOS field detected by the LSST pipeline. Changing `idx` below will select a different blend."
   ]
  },
  {
   "cell_type": "code",
   "execution_count": null,
   "metadata": {},
   "outputs": [],
   "source": [
    "# Load the sample images\n",
    "idx = 53\n",
    "file_path = \"/project/shared/data/testdata_deblender/real_data/hsc_cosmos/not_matched\"\n",
    "files = os.listdir(file_path)\n",
    "data = np.load(os.path.join(file_path, files[idx]))\n",
    "image = data[\"images\"]\n",
    "wmap = data[\"weights\"]\n",
    "peaks = data[\"peaks\"]\n",
    "psfs = data[\"psfs\"]\n",
    "filters = [\"G\", \"R\", \"I\", \"Z\", \"Y\"]\n",
    "# Only a rough estimate of the background is needed\n",
    "# to initialize and resize the sources\n",
    "bg_rms = np.std(image, axis=(1,2))\n",
    "print(\"Background RMS: {0}\".format(bg_rms))\n",
    "\n",
    "# Use Asinh scaling for the images\n",
    "norm = scarlet.display.Asinh(img=image, Q=10)\n",
    "# Map i,r,g -> RGB\n",
    "filter_indices = [3,2,1]\n",
    "# Convert the image to an RGB image\n",
    "img_rgb = scarlet.display.img_to_rgb(image, filter_indices=filter_indices, norm=norm)\n",
    "plt.imshow(img_rgb)\n",
    "plt.title(\"Image: {0}\".format(idx))\n",
    "for src in peaks:\n",
    "    plt.plot(src[0], src[1], \"rx\", mew=2)\n",
    "plt.show()"
   ]
  },
  {
   "cell_type": "markdown",
   "metadata": {},
   "source": [
    "# Initializing Sources\n",
    "\n",
    "Astrophysical objects are modeled in scarlet as a collection of components, where each component has a single SED that is constant over it's morphology (band independent intensity). So a single source might have multiple components, like a bulge and disk, or a single component.\n",
    "\n",
    "The different classes that inherit from `Source` mainly differ in how they are initialized, and otherwise behave similarly during the optimization routine. This section illustrates the differences between different source initialization classes.\n",
    "\n",
    "The simplest source is a single component intialized with only a single pixel (at the center of the object) turned on.\n",
    "\n",
    "### <span style=\"color:red\"> *WARNING* </span>\n",
    "Scarlet accepts source positions using the numpy/C++ convention of (y,x), which is different than the astropy and LSST stack convention of (x,y)."
   ]
  },
  {
   "cell_type": "code",
   "execution_count": null,
   "metadata": {},
   "outputs": [],
   "source": [
    "sources = [scarlet.PointSource((peak[1], peak[0]), image) for peak in peaks]\n",
    "\n",
    "# Display the initial guess for each source\n",
    "display_sources(sources, image, norm=norm)"
   ]
  },
  {
   "cell_type": "markdown",
   "metadata": {},
   "source": [
    "## Exercise:\n",
    "\n",
    "* Experiment with the above code by using `ExtendedSource`, which initializes each object as a single component with maximum flux at the peak that falls off monotonically and has 180 degree symmetry; and using `MultiComponentSource`, which models a source as two components (a bulge and a disk) that are each symmetric and montonically decreasing from the peak.\n",
    "\n",
    "# Deblending a scene\n",
    "\n",
    "The `Blend` class contains the list of sources, the image, and any other configuration parameters necessary to fit the data, including routines to fit the center positions and resize the bounding box containing the sources (if necessary). Once a blend has been initialized with a list of sources, the image and background RMS values must be set (the background RMS is used to determine when to truncate the bounding box around a source)."
   ]
  },
  {
   "cell_type": "code",
   "execution_count": null,
   "metadata": {},
   "outputs": [],
   "source": [
    "blend = scarlet.Blend(sources)\n",
    "blend.set_data(image, bg_rms=bg_rms)"
   ]
  },
  {
   "cell_type": "markdown",
   "metadata": {},
   "source": [
    "Next we can fit a model, given a maximum number of iterations and the relative error required for convergence."
   ]
  },
  {
   "cell_type": "code",
   "execution_count": null,
   "metadata": {},
   "outputs": [],
   "source": [
    "blend.fit(100, 1e-2)\n",
    "print(\"Deblending completed in {0} iterations\".format(blend.it))\n",
    "display_model_residual(image, blend, peaks, norm)\n",
    "display_sources(sources, image, norm)"
   ]
  },
  {
   "cell_type": "markdown",
   "metadata": {},
   "source": [
    "## Exercises\n",
    "\n",
    "* Experiment by running the above code using different source models (for example `ExtendedSource`) to see how initializtion affects the belnding results.\n",
    "\n",
    "* The code above initialized the sources at their exact centers. Try offsetting the initial positions by `0.5` pixels in `x` and/or `y` and passing a `shift_center=0` argument when initializing the source. This prevents the source from updating its position, so notice how that affects the resulting model."
   ]
  },
  {
   "cell_type": "markdown",
   "metadata": {},
   "source": [
    "# Constraints\n",
    "\n",
    "The above models used the default constraints: perfect symmetry and a weighted monotonicity that decreases from the peak. So each source is defined (internally during initialization) with the constraints"
   ]
  },
  {
   "cell_type": "code",
   "execution_count": null,
   "metadata": {
    "collapsed": true
   },
   "outputs": [],
   "source": [
    "import scarlet.constraint as sc\n",
    "constraints = (sc.SimpleConstraint(),\n",
    "               sc.DirectMonotonicityConstraint(use_nearest=False),\n",
    "               sc.DirectSymmetryConstraint())"
   ]
  },
  {
   "cell_type": "markdown",
   "metadata": {},
   "source": [
    "where `SimpleConstraint` forces the SED and morphology to be non-negative, the SED to be normalized to unity, and the peak to have some (minimal) flux at the center."
   ]
  },
  {
   "cell_type": "markdown",
   "metadata": {},
   "source": [
    "## Exercises\n",
    "\n",
    "* Go back to the source initialization cell and pass a custom set of constraints. For example, pass `DirectSymmetryConstraint` a number between 0 and 1 to set the level of symmetry required, or eliminate the symmetry constraint altogether and see how that affects deblending.\n",
    "\n",
    "* Set `use_nearest=True` in the `DirectMonotonicityConstraint`.\n",
    "\n",
    "* Add `L0Constraint` or `L1Constraint` to the list of constraints and observe the results."
   ]
  },
  {
   "cell_type": "markdown",
   "metadata": {},
   "source": [
    "# Configuration\n",
    "\n",
    "There are additional configuration paramters that can be used to initialize a source, as described in http://scarlet.readthedocs.io/en/latest/config.html#Configuration-(scarlet.config).\n",
    "\n",
    "## Exercises\n",
    "\n",
    "* Initialize the sources with a custom configuration where `refine_skip=2`, which updates the positions and box sizes on every other step, and see how the results compare"
   ]
  },
  {
   "cell_type": "markdown",
   "metadata": {},
   "source": [
    "# PSF Deconvolution\n",
    "\n",
    "When analyzing real images the PSF will be different in each band unless they have been PSF matched. In general deblending should not be performed on PSF matched coadds, as matching will increase the blending in bands with better seeing. Instead scarlet can be used to build a deconvolved model which is a more sparse (and less blended) representation of the data, and convolve the model in each band to compare to the input data.\n",
    "\n",
    "To initialize a source with a PSF, pass the PSF as an input to the new source:"
   ]
  },
  {
   "cell_type": "code",
   "execution_count": null,
   "metadata": {},
   "outputs": [],
   "source": [
    "scarlet.ExtendedSource(peaks[0], image, bg_rms, psf=psfs)"
   ]
  },
  {
   "cell_type": "markdown",
   "metadata": {},
   "source": [
    "# Partial PSF Deconvolution\n",
    "\n",
    "As discussed in the tutorial http://scarlet.readthedocs.io/en/latest/psf_matching.html, the data is noisy and the fully deconvolved scene is undersampled, making the application of the constraints and and full convolution kernel unstable and prone to biases. Instead we can create a target PSF and model the sources in the partially deconvolved target PSF scene.\n",
    "\n",
    "First we need to specify the target PSF. *scarlet* includes a `fit_target_psf` function to fit the PSF in each band to either a `moffat`, `gaussian`, or `double_gaussian` function. "
   ]
  },
  {
   "cell_type": "code",
   "execution_count": null,
   "metadata": {},
   "outputs": [],
   "source": [
    "import scarlet.psf_match\n",
    "\n",
    "show_psfs(psfs, filters)\n",
    "\n",
    "# Find the target PSF\n",
    "target_psf = scarlet.psf_match.fit_target_psf(psfs, scarlet.psf_match.moffat)\n",
    "plt.imshow(target_psf)\n",
    "plt.title(\"target PSF\")\n",
    "plt.colorbar()\n",
    "plt.show()"
   ]
  },
  {
   "cell_type": "markdown",
   "metadata": {},
   "source": [
    "Once we have the target PSF we can find the difference kernel in each band using *scarlet*. The `build_diff_kernels` function basically treats the PSF image as a blend, where the PSF in each band is a monochromatic source, and fits the difference kernels using the minimum number of pixels necessary."
   ]
  },
  {
   "cell_type": "code",
   "execution_count": null,
   "metadata": {},
   "outputs": [],
   "source": [
    "diff_kernels, psf_blend = scarlet.psf_match.build_diff_kernels(psfs, target_psf)\n",
    "display_diff_kernels(psf_blend, diff_kernels)"
   ]
  },
  {
   "cell_type": "markdown",
   "metadata": {},
   "source": [
    "## Exercises\n",
    "\n",
    "* Try building the difference kernels while varying the parameters in `build_diff_kernels`, for example using larger and smaller values for `l0_thresh`.\n",
    "\n",
    "* Go back up to source initialization and use `psf=psfs` to fully deconvolve the scene and fit the blend\n",
    "\n",
    "* Try the same thing but set `psf=diff_kernels` for each source to partially deconvolve the scene."
   ]
  }
 ],
 "metadata": {
  "kernelspec": {
   "display_name": "LSST",
   "language": "python",
   "name": "lsst"
  },
  "language_info": {
   "codemirror_mode": {
    "name": "ipython",
    "version": 3
   },
   "file_extension": ".py",
   "mimetype": "text/x-python",
   "name": "python",
   "nbconvert_exporter": "python",
   "pygments_lexer": "ipython3",
   "version": "3.6.2"
  }
 },
 "nbformat": 4,
 "nbformat_minor": 2
}
