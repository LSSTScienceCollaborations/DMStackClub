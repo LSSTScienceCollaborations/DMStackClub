{
 "cells": [
  {
   "cell_type": "markdown",
   "metadata": {},
   "source": [
    "# DIA: How To Generate a Template Image"
   ]
  },
  {
   "cell_type": "markdown",
   "metadata": {},
   "source": [
    "<br>**Owner:** Phil Marshall (@drphilmarshall)\n",
    "<br>**Last Run:** 2018-07-13\n",
    "<br>**Stack Version:** v16\n",
    "<br>**Discussion:** [issue #48](https://github.com/LSSTScienceCollaborations/DMStackClub/issues/48)\n",
    "\n",
    "## Goals\n",
    "In this tutorial we will understand the possible algorithm choices for DIA template image generation, see how these are currently implemented in the science pipelines, and demonstrate them on the Twinkles images."
   ]
  },
  {
   "cell_type": "markdown",
   "metadata": {},
   "source": [
    "#### Requirements"
   ]
  },
  {
   "cell_type": "markdown",
   "metadata": {},
   "source": [
    "## Background\n",
    "\n",
    "The DRP pipelines are summarized in Figure 9 of [LDM-151](http://ls.st/ldm-151), reproduced here:"
   ]
  },
  {
   "cell_type": "markdown",
   "metadata": {},
   "source": [
    "![](https://github.com/lsst/LDM-151/blob/master/figures/drp_summary.png)"
   ]
  },
  {
   "cell_type": "markdown",
   "metadata": {},
   "source": [
    "Difference imaging is shown in block 4, and includes creation of `TemplateCoadd` images, image differencing, and `DIASource` creation. The relevant pipeline design text on template generation, for the data release processing, is in Section 5.2:\n",
    "\n",
    "> \"4. We run the WarpTemplates, CoaddTemplates, and DiffIm pipelines to generate the DI- ASource and DiffExp datasets. We may then be able to generate better CalExp Masks than we can obtain from BackgroundMatchAndReject by comparing the DiffExp masks across visits in the UpdateMasks pipeline.\n",
    ">\n",
    "> \"5. After all CalExp components have been finalized, we run the WarpRemaining and CoaddRemaining to build additional coadd data products.\"\n",
    "\n",
    "These steps assume that the final visit CalExp images have already been made. The main coadd data product that is needed for DIA is the TemplateCoadd:\n",
    "\n",
    "> \"**TemplateCoadd**: A coadd data product used for difference imaging in both DRP and AP. In order to produce templates appropriate for the level of DCR in a given science image, these coadds may require a third dimension in addition to the usual two image dimen- sions (likely either wavelength or a quantity that is a function of airmass).\""
   ]
  },
  {
   "cell_type": "markdown",
   "metadata": {},
   "source": [
    "Exactly how this TemplateCoadd is made is still under development: LDM-151 lists several possible scenarios, in which different algorithms for the TemplateCoadd generation are employed. The four choices for TemplateCoadd generation seem to be as follows:\n",
    "\n",
    "* **Standard decorrelated coadds**\n",
    "\n",
    "* **Constant-PSF partially-decorrelated coadds**\n",
    "\n",
    "* **PSF-matched coadds**\n",
    "\n",
    "* **\"The result of inference on resampled exposures with no PSF-matching\"**\n"
   ]
  }
 ],
 "metadata": {
  "kernelspec": {
   "display_name": "LSST",
   "language": "python",
   "name": "lsst"
  },
  "language_info": {
   "codemirror_mode": {
    "name": "ipython",
    "version": 3
   },
   "file_extension": ".py",
   "mimetype": "text/x-python",
   "name": "python",
   "nbconvert_exporter": "python",
   "pygments_lexer": "ipython3",
   "version": "3.6.2"
  }
 },
 "nbformat": 4,
 "nbformat_minor": 2
}
