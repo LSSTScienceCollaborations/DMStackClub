{
 "cells": [
  {
   "cell_type": "markdown",
   "metadata": {},
   "source": [
    "# Creating and Exploring Reference Catalogs\n",
    "\n",
    "<br>Owners: **Bryce Kalmbach** ([@jbkalmbach](https://github.com/LSSTScienceCollaborations/StackClub/issues/new?body=@jbkalmbach))\n",
    "<br>Last Verified to Run: **2020-10-16**\n",
    "<br>Verified Stack Release: **w_2020_41**\n",
    "\n",
    "## Core Concepts\n",
    "\n",
    "This notebook shows how to create/ingest a reference catalog for use with the Butler. It then shows what's inside the reference catalog and how to query it for a location on the sky.\n",
    "\n",
    "## Learning Objectives:\n",
    "\n",
    "1. Learn how to create a reference catalog and ingest for use with the Butler.\n",
    "2. Be able to load a reference catalog with the Butler and query for object in an area on the sky.\n",
    "\n",
    "## References:\n",
    "This notebook started from the information on this community post from Simon Krughoff: https://community.lsst.org/t/creating-and-using-new-style-reference-catalogs/1523"
   ]
  },
  {
   "cell_type": "code",
   "execution_count": 2,
   "metadata": {},
   "outputs": [
    {
     "name": "stdout",
     "output_type": "stream",
     "text": [
      "   20.0.0-2-gf805d95+64616b9f51 \tcurrent w_2020_41 setup\n"
     ]
    }
   ],
   "source": [
    "# This should match the verified version listed at the start of the notebook\n",
    "! eups list -s lsst_distrib"
   ]
  },
  {
   "cell_type": "code",
   "execution_count": 3,
   "metadata": {},
   "outputs": [],
   "source": [
    "import pandas\n",
    "import matplotlib.pyplot as plt\n",
    "%matplotlib inline"
   ]
  },
  {
   "cell_type": "code",
   "execution_count": 4,
   "metadata": {},
   "outputs": [],
   "source": [
    "# Stack imports\n",
    "import lsst.geom\n",
    "from lsst.daf.persistence import Butler\n",
    "from lsst.meas.algorithms import LoadIndexedReferenceObjectsTask"
   ]
  },
  {
   "cell_type": "markdown",
   "metadata": {},
   "source": [
    "## Creating and Ingesting a Reference Catalog"
   ]
  },
  {
   "cell_type": "code",
   "execution_count": 1,
   "metadata": {},
   "outputs": [
    {
     "name": "stdout",
     "output_type": "stream",
     "text": [
      "usage: ingestReferenceCatalog.py input [options]\n",
      "\n",
      "positional arguments:\n",
      "  input                 path to input data repository, relative to\n",
      "                        $PIPE_INPUT_ROOT\n",
      "  files                 Names of files to index\n",
      "\n",
      "optional arguments:\n",
      "  -h, --help            show this help message and exit\n",
      "  --calib RAWCALIB      path to input calibration repository, relative to\n",
      "                        $PIPE_CALIB_ROOT\n",
      "  --output RAWOUTPUT    path to output data repository (need not exist),\n",
      "                        relative to $PIPE_OUTPUT_ROOT\n",
      "  --rerun [INPUT:]OUTPUT\n",
      "                        rerun name: sets OUTPUT to ROOT/rerun/OUTPUT;\n",
      "                        optionally sets ROOT to ROOT/rerun/INPUT\n",
      "  -c [NAME=VALUE [NAME=VALUE ...]], --config [NAME=VALUE [NAME=VALUE ...]]\n",
      "                        config override(s), e.g. -c foo=newfoo bar.baz=3\n",
      "  -C [CONFIGFILE [CONFIGFILE ...]], --configfile [CONFIGFILE [CONFIGFILE ...]]\n",
      "                        config override file(s)\n",
      "  -L [LEVEL|COMPONENT=LEVEL [LEVEL|COMPONENT=LEVEL ...]], --loglevel [LEVEL|COMPONENT=LEVEL [LEVEL|COMPONENT=LEVEL ...]]\n",
      "                        logging level; supported levels are\n",
      "                        [trace|debug|info|warn|error|fatal]\n",
      "  --longlog             use a more verbose format for the logging\n",
      "  --debug               enable debugging output?\n",
      "  --doraise             raise an exception on error (else log a message and\n",
      "                        continue)?\n",
      "  --noExit              Do not exit even upon failure (i.e. return a struct to\n",
      "                        the calling script)\n",
      "  --profile PROFILE     Dump cProfile statistics to filename\n",
      "  --show SHOW [SHOW ...]\n",
      "                        display the specified information to stdout and quit\n",
      "                        (unless run is specified); information is\n",
      "                        (config[=PATTERN]|history=PATTERN|tasks|data|run)\n",
      "  -j PROCESSES, --processes PROCESSES\n",
      "                        Number of processes to use\n",
      "  -t TIMEOUT, --timeout TIMEOUT\n",
      "                        Timeout for multiprocessing; maximum wall time (sec)\n",
      "  --clobber-output      remove and re-create the output directory if it\n",
      "                        already exists (safe with -j, but not all other forms\n",
      "                        of parallel execution)\n",
      "  --clobber-config      backup and then overwrite existing config files\n",
      "                        instead of checking them (safe with -j, but not all\n",
      "                        other forms of parallel execution)\n",
      "  --no-backup-config    Don't copy config to file~N backup.\n",
      "  --clobber-versions    backup and then overwrite existing package versions\n",
      "                        instead of checkingthem (safe with -j, but not all\n",
      "                        other forms of parallel execution)\n",
      "  --no-versions         don't check package versions; useful for development\n",
      "\n",
      "Notes:\n",
      "            * --config, --configfile, --id, --loglevel and @file may appear multiple times;\n",
      "                all values are used, in order left to right\n",
      "            * @file reads command-line options from the specified file:\n",
      "                * data may be distributed among multiple lines (e.g. one option per line)\n",
      "                * data after # is treated as a comment and ignored\n",
      "                * blank lines and lines starting with # are ignored\n",
      "            * To specify multiple values for an option, do not use = after the option name:\n",
      "                * right: --configfile foo bar\n",
      "                * wrong: --configfile=foo bar\n"
     ]
    }
   ],
   "source": [
    "! ingestReferenceCatalog.py -h"
   ]
  },
  {
   "cell_type": "code",
   "execution_count": null,
   "metadata": {},
   "outputs": [],
   "source": []
  }
 ],
 "metadata": {
  "kernelspec": {
   "display_name": "LSST",
   "language": "python",
   "name": "lsst"
  },
  "language_info": {
   "codemirror_mode": {
    "name": "ipython",
    "version": 3
   },
   "file_extension": ".py",
   "mimetype": "text/x-python",
   "name": "python",
   "nbconvert_exporter": "python",
   "pygments_lexer": "ipython3",
   "version": "3.7.8"
  }
 },
 "nbformat": 4,
 "nbformat_minor": 4
}
