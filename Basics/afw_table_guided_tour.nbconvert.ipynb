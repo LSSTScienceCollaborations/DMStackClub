{
 "cells": [
  {
   "cell_type": "markdown",
   "metadata": {
    "slideshow": {
     "slide_type": "slide"
    }
   },
   "source": [
    "# afwTables: A Guided Tour\n",
    "<br>Owner(s): **Imran Hasan** ([@ih64](https://github.com/LSSTScienceCollaborations/StackClub/issues/new?body=@ih64))\n",
    "<br>Updated for DC2 by:   Douglas Tucker ([@douglasleetucker](https://github.com/LSSTScienceCollaborations/StackClub/issues/new?body=@douglasleetucker))\n",
    "<br>Last Verified to Run: **2021-03-09**\n",
    "<br>Verified Stack Release: **21.0.0**\n",
    "\n",
    "Catalogs of astronomical objects and their many  measurements will be a primary data product that LSST provides. Queries of those catalogs will be the starting point for almost all LSST science analyses. On the way to filling the LSST database with these catalogs, the science pipelines will generate and manipulate a lot of internal tables; the python class that the Stack defines and uses for these tables is called an \"afwTable\". \n",
    "\n",
    "### Learning Objectives:\n",
    "\n",
    "After working through this tutorial you should be able to: \n",
    "1. Make a bare bones afw schema and table;\n",
    "2. Set and get values in a schema and table;\n",
    "3. Navigate large schemas;\n",
    "4. Read and write a source detection catalog table;\n",
    "5. Learn to use source detection catalog methods, and to avoid common pitfalls;\n",
    "6. Learn to use source match vectors.\n",
    "\n",
    "### Logistics\n",
    "This notebook is intended to be runnable on `lsst-lsp-stable.ncsa.illinois.edu` from a local git clone of https://github.com/LSSTScienceCollaborations/StackClub.\n",
    "\n",
    "## Set-up"
   ]
  },
  {
   "cell_type": "markdown",
   "metadata": {},
   "source": [
    "The next few cells give you some options for your \"Set-up\" section - you may not need them all."
   ]
  },
  {
   "cell_type": "markdown",
   "metadata": {},
   "source": [
    "We'll need the `stackclub` package to be installed. If you are not developing this package, you can install it using `pip`, like this:\n",
    "```\n",
    "pip install git+git://github.com/LSSTScienceCollaborations/StackClub.git#egg=stackclub\n",
    "```\n",
    "If you are developing the `stackclub` package (eg by adding modules to it to support the Stack Club tutorial that you are writing, you'll need to make a local, editable installation. In the top level folder of the `StackClub` repo, do:"
   ]
  },
  {
   "cell_type": "code",
   "execution_count": 1,
   "metadata": {
    "execution": {
     "iopub.execute_input": "2021-04-23T16:26:52.221665Z",
     "iopub.status.busy": "2021-04-23T16:26:52.218065Z",
     "iopub.status.idle": "2021-04-23T16:26:54.185198Z",
     "shell.execute_reply": "2021-04-23T16:26:54.186375Z"
    }
   },
   "outputs": [
    {
     "name": "stdout",
     "output_type": "stream",
     "text": [
      "/home/kadrlica/notebooks/.beavis/StackClub/Basics\r\n"
     ]
    }
   ],
   "source": [
    "! cd .. && python setup.py -q develop --user && cd -"
   ]
  },
  {
   "cell_type": "markdown",
   "metadata": {},
   "source": [
    "When editing the `stackclub` package files, we want the latest version to be imported when we re-run the import command. To enable this, we need the %autoreload magic command."
   ]
  },
  {
   "cell_type": "code",
   "execution_count": 2,
   "metadata": {
    "execution": {
     "iopub.execute_input": "2021-04-23T16:26:54.197146Z",
     "iopub.status.busy": "2021-04-23T16:26:54.195858Z",
     "iopub.status.idle": "2021-04-23T16:26:54.226783Z",
     "shell.execute_reply": "2021-04-23T16:26:54.225450Z"
    }
   },
   "outputs": [],
   "source": [
    "%load_ext autoreload\n",
    "%autoreload 2"
   ]
  },
  {
   "cell_type": "markdown",
   "metadata": {
    "slideshow": {
     "slide_type": "slide"
    }
   },
   "source": [
    "You can find the Stack version that this notebook is running by using eups list -s on the terminal command line:"
   ]
  },
  {
   "cell_type": "code",
   "execution_count": 3,
   "metadata": {
    "execution": {
     "iopub.execute_input": "2021-04-23T16:26:54.234324Z",
     "iopub.status.busy": "2021-04-23T16:26:54.233028Z",
     "iopub.status.idle": "2021-04-23T16:26:56.348355Z",
     "shell.execute_reply": "2021-04-23T16:26:56.349504Z"
    }
   },
   "outputs": [
    {
     "name": "stdout",
     "output_type": "stream",
     "text": [
      "nb-kadrlica-r21-0-0\r\n",
      "lsst_distrib          21.0.0+973e4c9e85 \tcurrent v21_0_0 setup\r\n"
     ]
    }
   ],
   "source": [
    "# What version of the Stack am I using?\n",
    "! echo $HOSTNAME\n",
    "! eups list -s | grep lsst_distrib"
   ]
  },
  {
   "cell_type": "markdown",
   "metadata": {
    "slideshow": {
     "slide_type": "subslide"
    }
   },
   "source": [
    "For this tutorial we'll need the following modules:"
   ]
  },
  {
   "cell_type": "code",
   "execution_count": 4,
   "metadata": {
    "execution": {
     "iopub.execute_input": "2021-04-23T16:26:56.361264Z",
     "iopub.status.busy": "2021-04-23T16:26:56.359927Z",
     "iopub.status.idle": "2021-04-23T16:26:56.704281Z",
     "shell.execute_reply": "2021-04-23T16:26:56.702899Z"
    }
   },
   "outputs": [],
   "source": [
    "%matplotlib inline\n",
    "#%matplotlib ipympl\n",
    "\n",
    "import os\n",
    "import warnings\n",
    "import numpy as np\n",
    "import matplotlib as mpl\n",
    "import matplotlib.pyplot as plt\n",
    "plt.style.use('seaborn-poster')\n",
    "from IPython.display import IFrame, display, Markdown\n",
    "plt.style.use('seaborn-talk')"
   ]
  },
  {
   "cell_type": "code",
   "execution_count": 5,
   "metadata": {
    "execution": {
     "iopub.execute_input": "2021-04-23T16:26:56.710676Z",
     "iopub.status.busy": "2021-04-23T16:26:56.709233Z",
     "iopub.status.idle": "2021-04-23T16:26:57.365506Z",
     "shell.execute_reply": "2021-04-23T16:26:57.364320Z"
    }
   },
   "outputs": [],
   "source": [
    "plt.style.use('seaborn-talk')\n",
    "import lsst.daf.persistence as dafPersist\n",
    "import lsst.daf.base as dafBase\n",
    "import lsst.geom\n",
    "import lsst.afw.table as afwTable\n",
    "from astropy.io import ascii"
   ]
  },
  {
   "cell_type": "markdown",
   "metadata": {
    "slideshow": {
     "slide_type": "slide"
    }
   },
   "source": [
    "## Your first table\n",
    "\n",
    "To begin, we will make a bare-bones afw table so that we can clearly showcase some important concepts. First we will make the simplest possible table, by hand. While creating tables by hand will not likely be the standard use case, it is useful from a tutorial standpoint, as it will allow us to excercise some concepts one at a time"
   ]
  },
  {
   "cell_type": "code",
   "execution_count": 6,
   "metadata": {
    "execution": {
     "iopub.execute_input": "2021-04-23T16:26:57.373207Z",
     "iopub.status.busy": "2021-04-23T16:26:57.371898Z",
     "iopub.status.idle": "2021-04-23T16:26:57.405653Z",
     "shell.execute_reply": "2021-04-23T16:26:57.404381Z"
    },
    "slideshow": {
     "slide_type": "-"
    }
   },
   "outputs": [],
   "source": [
    "# afw tables need a schema to tell the table how its data are organized\n",
    "# Lets have a look at a simple schema:\n",
    "min_schema = afwTable.SourceTable.makeMinimalSchema()"
   ]
  },
  {
   "cell_type": "code",
   "execution_count": 7,
   "metadata": {
    "execution": {
     "iopub.execute_input": "2021-04-23T16:26:57.412320Z",
     "iopub.status.busy": "2021-04-23T16:26:57.410887Z",
     "iopub.status.idle": "2021-04-23T16:26:57.437680Z",
     "shell.execute_reply": "2021-04-23T16:26:57.436542Z"
    }
   },
   "outputs": [
    {
     "name": "stdout",
     "output_type": "stream",
     "text": [
      "Schema(\n",
      "    (Field['L'](name=\"id\", doc=\"unique ID\"), Key<L>(offset=0, nElements=1)),\n",
      "    (Field['Angle'](name=\"coord_ra\", doc=\"position in ra/dec\"), Key<Angle>(offset=8, nElements=1)),\n",
      "    (Field['Angle'](name=\"coord_dec\", doc=\"position in ra/dec\"), Key<Angle>(offset=16, nElements=1)),\n",
      "    (Field['L'](name=\"parent\", doc=\"unique ID of parent source\"), Key<L>(offset=24, nElements=1)),\n",
      ")\n",
      "\n"
     ]
    }
   ],
   "source": [
    "# But what is the schema exactly? Printing it out can be informative\n",
    "print(min_schema)"
   ]
  },
  {
   "cell_type": "markdown",
   "metadata": {},
   "source": [
    "Our schema contains 4 Fields: one for each celestial coordinate, an id that uniquely defines it, and a 'parent', which lists the id of the source this source was deblended from. We will deal with the parent column in more detail in a few cells, but for now you can ignore it.\n",
    "\n",
    "Each field has some accompanying information to go along with it. In addition to its name, we get a helpful docstring describing it. We also get the units that values for this field must have. For example, any value associated with the id key has to be a long integer, and all entries for celestial coordniates have to be instances of an Angle class. We will showcase the Angle class shortly.\n",
    "\n",
    "If printing out the schema gives you more information that you want, you can get the names. If the names are informative enough, this might be all you need."
   ]
  },
  {
   "cell_type": "code",
   "execution_count": 8,
   "metadata": {
    "execution": {
     "iopub.execute_input": "2021-04-23T16:26:57.443745Z",
     "iopub.status.busy": "2021-04-23T16:26:57.442429Z",
     "iopub.status.idle": "2021-04-23T16:26:57.468286Z",
     "shell.execute_reply": "2021-04-23T16:26:57.469303Z"
    }
   },
   "outputs": [
    {
     "data": {
      "text/plain": [
       "{'coord_dec', 'coord_ra', 'id', 'parent'}"
      ]
     },
     "execution_count": 1,
     "metadata": {},
     "output_type": "execute_result"
    }
   ],
   "source": [
    "min_schema.getNames()"
   ]
  },
  {
   "cell_type": "code",
   "execution_count": 9,
   "metadata": {
    "execution": {
     "iopub.execute_input": "2021-04-23T16:26:57.475134Z",
     "iopub.status.busy": "2021-04-23T16:26:57.473900Z",
     "iopub.status.idle": "2021-04-23T16:26:57.493523Z",
     "shell.execute_reply": "2021-04-23T16:26:57.492551Z"
    }
   },
   "outputs": [
    {
     "name": "stdout",
     "output_type": "stream",
     "text": [
      "Schema(\n",
      "    (Field['L'](name=\"id\", doc=\"unique ID\"), Key<L>(offset=0, nElements=1)),\n",
      "    (Field['Angle'](name=\"coord_ra\", doc=\"position in ra/dec\"), Key<Angle>(offset=8, nElements=1)),\n",
      "    (Field['Angle'](name=\"coord_dec\", doc=\"position in ra/dec\"), Key<Angle>(offset=16, nElements=1)),\n",
      "    (Field['L'](name=\"parent\", doc=\"unique ID of parent source\"), Key<L>(offset=24, nElements=1)),\n",
      "    (Field['F'](name=\"r_mag\", doc=\"r band flux\", units=\"mag\"), Key<F>(offset=32, nElements=1)),\n",
      ")\n",
      "\n"
     ]
    }
   ],
   "source": [
    "# We can also add another field to the schema, using a call pattern like this:\n",
    "min_schema.addField(\"r_mag\", type=np.float32, doc=\"r band flux\", units=\"mag\")\n",
    "# Lets make sure the field was added by printing out the schema once more:\n",
    "print(min_schema)"
   ]
  },
  {
   "cell_type": "markdown",
   "metadata": {},
   "source": [
    "You can also ask for a ordered list of names. In this case where our schema contains only 4 names, there is not a clear advantage. However, we will soon encounter schemas that contain many dozens of names. Sifting through a ordered list of these may be preferable. The ordering here is not alphabetical, but instead mirrors the ordering of these fields in the schema. You can check that is the case by comparing the ordering of output in the next cell to the one above"
   ]
  },
  {
   "cell_type": "code",
   "execution_count": 10,
   "metadata": {
    "execution": {
     "iopub.execute_input": "2021-04-23T16:26:57.498694Z",
     "iopub.status.busy": "2021-04-23T16:26:57.497592Z",
     "iopub.status.idle": "2021-04-23T16:26:57.519533Z",
     "shell.execute_reply": "2021-04-23T16:26:57.518498Z"
    }
   },
   "outputs": [
    {
     "data": {
      "text/plain": [
       "['id', 'coord_ra', 'coord_dec', 'parent', 'r_mag']"
      ]
     },
     "execution_count": 1,
     "metadata": {},
     "output_type": "execute_result"
    }
   ],
   "source": [
    "min_schema.getOrderedNames()"
   ]
  },
  {
   "cell_type": "markdown",
   "metadata": {},
   "source": [
    "> We pause here to point out some caveats. \n",
    "1. Schemas are append only. You can add new fields, but you cannot remove them. \n",
    "2. The units you use have to be understood by astropy. You can find a list of acceptable units at the bottom of this page http://docs.astropy.org/en/stable/units/index.html#module-astropy.units\n",
    "3. Specific types are allowed. The short and long of it is you may use floats, ints, longs, strings, Angle objects, and arrays. For more details you can go to the bottom of this page http://doxygen.lsst.codes/stack/doxygen/x_masterDoxyDoc/afw_table.html"
   ]
  },
  {
   "cell_type": "markdown",
   "metadata": {},
   "source": [
    "Now that we have a schema, we can use it to make a table.\n"
   ]
  },
  {
   "cell_type": "code",
   "execution_count": 11,
   "metadata": {
    "execution": {
     "iopub.execute_input": "2021-04-23T16:26:57.524876Z",
     "iopub.status.busy": "2021-04-23T16:26:57.523828Z",
     "iopub.status.idle": "2021-04-23T16:26:57.540515Z",
     "shell.execute_reply": "2021-04-23T16:26:57.541391Z"
    }
   },
   "outputs": [
    {
     "name": "stdout",
     "output_type": "stream",
     "text": [
      "our minimal table has 0 rows\n"
     ]
    }
   ],
   "source": [
    "min_table = afwTable.BaseCatalog(min_schema)\n",
    "# our table is empty, and we can check this by looking at its length\n",
    "print('our minimal table has {} rows'.format(len(min_table)))"
   ]
  },
  {
   "cell_type": "markdown",
   "metadata": {},
   "source": [
    "Now we will add some data to our minimal catalog. Catalogs are collections of 'records', which themselves contain data. Therefore, we must first create records, and hand those records over in turn to our Table. Records must adhere to the schema that the Table has, and so we must add data in field by field."
   ]
  },
  {
   "cell_type": "code",
   "execution_count": 12,
   "metadata": {
    "execution": {
     "iopub.execute_input": "2021-04-23T16:26:57.546063Z",
     "iopub.status.busy": "2021-04-23T16:26:57.545033Z",
     "iopub.status.idle": "2021-04-23T16:26:57.559698Z",
     "shell.execute_reply": "2021-04-23T16:26:57.558818Z"
    }
   },
   "outputs": [],
   "source": [
    "# make a new record.\n",
    "rec = min_table.addNew()"
   ]
  },
  {
   "cell_type": "code",
   "execution_count": 13,
   "metadata": {
    "execution": {
     "iopub.execute_input": "2021-04-23T16:26:57.564034Z",
     "iopub.status.busy": "2021-04-23T16:26:57.563070Z",
     "iopub.status.idle": "2021-04-23T16:26:57.578432Z",
     "shell.execute_reply": "2021-04-23T16:26:57.577493Z"
    }
   },
   "outputs": [
    {
     "data": {
      "text/plain": [
       "dict_keys(['id', 'coord_ra', 'coord_dec', 'parent', 'r_mag'])"
      ]
     },
     "execution_count": 1,
     "metadata": {},
     "output_type": "execute_result"
    }
   ],
   "source": [
    "# grab a hold of the keys for the record. We will use these to add data \n",
    "field_dict = min_schema.extract('*') #this returns a dictionary of all the fields\n",
    "field_dict.keys()"
   ]
  },
  {
   "cell_type": "code",
   "execution_count": 14,
   "metadata": {
    "execution": {
     "iopub.execute_input": "2021-04-23T16:26:57.583613Z",
     "iopub.status.busy": "2021-04-23T16:26:57.582645Z",
     "iopub.status.idle": "2021-04-23T16:26:57.596236Z",
     "shell.execute_reply": "2021-04-23T16:26:57.595344Z"
    }
   },
   "outputs": [],
   "source": [
    "# access the dictionary one field at a time, and grab each field's key. \n",
    "# note these are instances of a Key object, and not to be confused with python dictionary keys.\n",
    "id_key = field_dict['id'].key\n",
    "ra_key = field_dict['coord_ra'].key\n",
    "dec_key = field_dict['coord_dec'].key\n",
    "parent_key = field_dict['parent'].key\n",
    "r_mag_key = field_dict['r_mag'].key\n",
    "\n",
    "#use the keys to add data in our record\n",
    "rec.set(id_key, 1)\n",
    "rec.set(r_mag_key, 19.0)\n",
    "rec.set(ra_key, lsst.geom.Angle(.2, units=lsst.geom.radians))\n",
    "rec.set(dec_key, lsst.geom.Angle(-3.14, units=lsst.geom.radians))\n",
    "rec.set(parent_key, 0)"
   ]
  },
  {
   "cell_type": "markdown",
   "metadata": {},
   "source": [
    "Notice to set the ra and dec, we needed to create `geom.Angle` objects for them. The object contains both the value of the angle, and the units the angle is in. The units keyword is set to radians by default, and all the DM code works on radians internally. To keep consistency with this, it is largely considered good pratice to work in radians too, setting the keyword for clarity. \n",
    "\n",
    "If you insisted that the angle be in other units, you can set them using the the units keyword. Other typical choices are degrees, arcminutes, arcseconds. You can learn more about `lsst.geom.Angle` objects [here]( http://doxygen.lsst.codes/stack/doxygen/x_masterDoxyDoc/classlsst_1_1geom_1_1_angle.html)\n",
    "\n",
    "Additionally, we set the parent to zero. This means this record refers to the object before any deblending occoured. Lets look at our table now to see how it stands."
   ]
  },
  {
   "cell_type": "code",
   "execution_count": 15,
   "metadata": {
    "execution": {
     "iopub.execute_input": "2021-04-23T16:26:57.600319Z",
     "iopub.status.busy": "2021-04-23T16:26:57.599432Z",
     "iopub.status.idle": "2021-04-23T16:26:57.614272Z",
     "shell.execute_reply": "2021-04-23T16:26:57.613530Z"
    }
   },
   "outputs": [
    {
     "data": {
      "text/plain": [
       "<class 'lsst.afw.table.BaseCatalog'>\n",
       " id coord_ra coord_dec parent r_mag\n",
       "      rad       rad            mag \n",
       "--- -------- --------- ------ -----\n",
       "  1      0.2     -3.14      0  19.0"
      ]
     },
     "execution_count": 1,
     "metadata": {},
     "output_type": "execute_result"
    }
   ],
   "source": [
    "min_table"
   ]
  },
  {
   "cell_type": "markdown",
   "metadata": {},
   "source": [
    "We will flesh out the parent column a bit more by adding our next record. Notice we can keep using the keys we defined above. Also notice our second record's parent is listed as 1. This means the object 2 was the result of being deblended from object 1, i.e. object 2 is a child object of object 1."
   ]
  },
  {
   "cell_type": "code",
   "execution_count": 16,
   "metadata": {
    "execution": {
     "iopub.execute_input": "2021-04-23T16:26:57.618845Z",
     "iopub.status.busy": "2021-04-23T16:26:57.617990Z",
     "iopub.status.idle": "2021-04-23T16:26:57.633431Z",
     "shell.execute_reply": "2021-04-23T16:26:57.632687Z"
    }
   },
   "outputs": [
    {
     "data": {
      "text/plain": [
       "<class 'lsst.afw.table.BaseCatalog'>\n",
       " id coord_ra coord_dec parent r_mag\n",
       "      rad       rad            mag \n",
       "--- -------- --------- ------ -----\n",
       "  1      0.2     -3.14      0  19.0\n",
       "  2     3.14       2.0      1  18.5"
      ]
     },
     "execution_count": 1,
     "metadata": {},
     "output_type": "execute_result"
    }
   ],
   "source": [
    "rec = min_table.addNew()\n",
    "rec.set(id_key, 2)\n",
    "rec.set(r_mag_key, 18.5)\n",
    "rec.set(ra_key, lsst.geom.Angle(3.14, units=lsst.geom.radians))\n",
    "rec.set(dec_key, lsst.geom.Angle(2.0, units=lsst.geom.radians))\n",
    "rec.set(parent_key, 1)\n",
    "min_table"
   ]
  },
  {
   "cell_type": "markdown",
   "metadata": {},
   "source": [
    "One more caveat to note: in the output in the cell above, the table prints coordinates in radians by default"
   ]
  },
  {
   "cell_type": "code",
   "execution_count": 17,
   "metadata": {
    "execution": {
     "iopub.execute_input": "2021-04-23T16:26:57.636891Z",
     "iopub.status.busy": "2021-04-23T16:26:57.636097Z",
     "iopub.status.idle": "2021-04-23T16:26:57.647950Z",
     "shell.execute_reply": "2021-04-23T16:26:57.647272Z"
    }
   },
   "outputs": [],
   "source": [
    "# your turn. add one more record to our table\n",
    "\n"
   ]
  },
  {
   "cell_type": "code",
   "execution_count": 18,
   "metadata": {
    "execution": {
     "iopub.execute_input": "2021-04-23T16:26:57.651292Z",
     "iopub.status.busy": "2021-04-23T16:26:57.650538Z",
     "iopub.status.idle": "2021-04-23T16:26:57.663262Z",
     "shell.execute_reply": "2021-04-23T16:26:57.662596Z"
    }
   },
   "outputs": [
    {
     "data": {
      "text/plain": [
       "<class 'lsst.afw.table.BaseRecord'>\n",
       "id: 2\n",
       "coord_ra: 3.14 rad\n",
       "coord_dec: 2 rad\n",
       "parent: 1\n",
       "r_mag: 18.5"
      ]
     },
     "execution_count": 1,
     "metadata": {},
     "output_type": "execute_result"
    }
   ],
   "source": [
    "# now that we have multiple records in our table, we can select particular ones\n",
    "# tables support indexing\n",
    "min_table[1]"
   ]
  },
  {
   "cell_type": "code",
   "execution_count": 19,
   "metadata": {
    "execution": {
     "iopub.execute_input": "2021-04-23T16:26:57.666555Z",
     "iopub.status.busy": "2021-04-23T16:26:57.665857Z",
     "iopub.status.idle": "2021-04-23T16:26:57.678783Z",
     "shell.execute_reply": "2021-04-23T16:26:57.678094Z"
    }
   },
   "outputs": [
    {
     "name": "stdout",
     "output_type": "stream",
     "text": [
      "1\n",
      "2\n"
     ]
    }
   ],
   "source": [
    "# you may iterate over them too\n",
    "for rec in min_table:\n",
    "    print(rec.get(id_key))"
   ]
  },
  {
   "cell_type": "code",
   "execution_count": 20,
   "metadata": {
    "execution": {
     "iopub.execute_input": "2021-04-23T16:26:57.681856Z",
     "iopub.status.busy": "2021-04-23T16:26:57.681161Z",
     "iopub.status.idle": "2021-04-23T16:26:57.693829Z",
     "shell.execute_reply": "2021-04-23T16:26:57.693168Z"
    }
   },
   "outputs": [
    {
     "data": {
      "text/plain": [
       "2"
      ]
     },
     "execution_count": 1,
     "metadata": {},
     "output_type": "execute_result"
    }
   ],
   "source": [
    "# you can grab values from particular records by using our schema keys\n",
    "min_table[1].get(id_key)"
   ]
  },
  {
   "cell_type": "markdown",
   "metadata": {},
   "source": [
    "## Using source catalogs produced by DM\n",
    "\n",
    "A more typical use case will be to read in a catalog that is produced by a DM process.  We will show how to read in and work with a source catalog produced from the Data Management Stack in the following section. "
   ]
  },
  {
   "cell_type": "markdown",
   "metadata": {},
   "source": [
    "### Data access\n",
    "If you know the path to your source catalog, there is a quick way to read it in. However, it is often more powerful to use the 'data butler' to fetch data for you. The butler knows about camera geometry, sensor characteristics, where data are located, and so forth. Having this anciliary information on hand is often very useful. For completeness we will demonstrate both ways of reading in a source catalog, with the note that it is largely considered better practice to use the data butler. \n",
    "\n",
    "The data butler has its own tutorial(s), and so we will defer further details on it until later. For now, you may think of it as an abstraction that allows you to quickly fetch catalogs for you. The user just needs to point the butler to where to look and what to look for.\n",
    "\n",
    "Currently, we have examples from the HSC Twinkles data set (HSC) and from the DESC DC2 data set (DC2).  Uncomment the `dataset` you wish to use."
   ]
  },
  {
   "cell_type": "code",
   "execution_count": 21,
   "metadata": {
    "execution": {
     "iopub.execute_input": "2021-04-23T16:26:57.698262Z",
     "iopub.status.busy": "2021-04-23T16:26:57.697584Z",
     "iopub.status.idle": "2021-04-23T16:26:58.963034Z",
     "shell.execute_reply": "2021-04-23T16:26:58.961915Z"
    }
   },
   "outputs": [],
   "source": [
    "#dataset='HSC'\n",
    "dataset='DC2'\n",
    "\n",
    "# Temporary \"fix\" so one does not need to restart kernel \n",
    "#  when switching from DC2 to HSC...\n",
    "# See also:  https://lsstc.slack.com/archives/C3UCAEW3D/p1584386779038000\n",
    "#import lsst.afw.image as afwImage\n",
    "#print(afwImage.Filter.getNames())\n",
    "#afwImage.Filter.reset()\n",
    "import lsst.obs.base as obsBase\n",
    "obsBase.FilterDefinitionCollection.reset()\n",
    "#print(afwImage.Filter.getNames())\n",
    "\n",
    "\n",
    "if dataset == 'HSC':\n",
    "    # The HSC RC gen2 repository\n",
    "    \n",
    "    # The direct path to the file we first want to investigate\n",
    "    file_path = '/datasets/hsc/repo/rerun/RC/v20_0_0_rc1/DM-25349-sfm/01327/HSC-Z/output/SRC-0038938-032.fits'\n",
    "\n",
    "    # The data directory containing some HSC data organized as Butler expects\n",
    "    datadir = \"/datasets/hsc/repo/rerun/RC/v20_0_0_rc1/DM-25349/\"   \n",
    "\n",
    "    # Define a dictionary with the filter, ccd, and visit we wish to view\n",
    "    dataId = {'filter': 'HSC-Z', 'ccd': 32, 'visit': 38938}    \n",
    "    \n",
    "    \n",
    "elif dataset == 'DC2':\n",
    "    # The DC2 calexp gen2 repository\n",
    "\n",
    "    # The data directory containing some DC2 data organized as Butler expects\n",
    "    datadir = '/datasets/DC2/DR6/Run2.2i/patched/2021-02-10/rerun/run2.2i-calexp-v1/'\n",
    "    \n",
    "    # The direct path to the file we first want to investigate\n",
    "    file_path = datadir + 'src/00512055-i/R20/src_00512055-i-R20-S11-det076.fits'\n",
    "\n",
    "    # Define a dictionary with the filter, ccd, and visit we wish to view\n",
    "    dataId = {'filter':'i', 'visit': 512055, 'raftName': 'R20', 'detector': 76}\n",
    "    \n",
    "    \n",
    "else:\n",
    "    msg = \"Unrecognized dataset: %s\"%dataset\n",
    "    raise Exception(msg)"
   ]
  },
  {
   "cell_type": "code",
   "execution_count": 22,
   "metadata": {
    "execution": {
     "iopub.execute_input": "2021-04-23T16:26:58.970205Z",
     "iopub.status.busy": "2021-04-23T16:26:58.969006Z",
     "iopub.status.idle": "2021-04-23T16:26:59.177012Z",
     "shell.execute_reply": "2021-04-23T16:26:59.176330Z"
    }
   },
   "outputs": [],
   "source": [
    "# Accessing the afwTable source catalog by directly pointing to the appropriate file...\n",
    "source_cat = afwTable.SourceCatalog.readFits(file_path)"
   ]
  },
  {
   "cell_type": "code",
   "execution_count": 23,
   "metadata": {
    "execution": {
     "iopub.execute_input": "2021-04-23T16:26:59.181752Z",
     "iopub.status.busy": "2021-04-23T16:26:59.181049Z",
     "iopub.status.idle": "2021-04-23T16:27:04.114834Z",
     "shell.execute_reply": "2021-04-23T16:27:04.116041Z"
    }
   },
   "outputs": [],
   "source": [
    "# here's the way to get the same catalog with a butler: \n",
    "butler = dafPersist.Butler(datadir)\n",
    "\n",
    "# use the dataId and the 'src' to get the source catalog. \n",
    "source_cat = butler.get('src', **dataId)"
   ]
  },
  {
   "cell_type": "markdown",
   "metadata": {},
   "source": [
    "You can find the path to the file again with the `butler.getURI` function"
   ]
  },
  {
   "cell_type": "code",
   "execution_count": 24,
   "metadata": {
    "execution": {
     "iopub.execute_input": "2021-04-23T16:27:04.125600Z",
     "iopub.status.busy": "2021-04-23T16:27:04.124275Z",
     "iopub.status.idle": "2021-04-23T16:27:04.200477Z",
     "shell.execute_reply": "2021-04-23T16:27:04.200878Z"
    }
   },
   "outputs": [
    {
     "data": {
      "text/plain": [
       "'/datasets/DC2/DR6/Run2.2i/patched/2021-02-10/rerun/run2.2i-calexp-v1/src/00512055-i/R20/src_00512055-i-R20-S11-det076.fits'"
      ]
     },
     "execution_count": 1,
     "metadata": {},
     "output_type": "execute_result"
    }
   ],
   "source": [
    "butler.getUri('src', **dataId)"
   ]
  },
  {
   "cell_type": "markdown",
   "metadata": {},
   "source": [
    "A few comments are in order on questions you may be having about the butler, and the previous cell. First, there is no good way to know which `dataId`s exist. That means you have to know ahead of time which `dataId`s it makes sense to use. DM is working hard on fixing this. Second, the string `'src'` refers to a very specific data product in the DM philosophy, which is a catalog that contains _the results of different measurement algorithms on detected sources on an individual CCD image_. We will meet some other catalogs later in the tutorial. For now, lets get to know this `src` catalog."
   ]
  },
  {
   "cell_type": "markdown",
   "metadata": {},
   "source": [
    "### afw source catalog schemas"
   ]
  },
  {
   "cell_type": "code",
   "execution_count": 25,
   "metadata": {
    "execution": {
     "iopub.execute_input": "2021-04-23T16:27:04.205889Z",
     "iopub.status.busy": "2021-04-23T16:27:04.205436Z",
     "iopub.status.idle": "2021-04-23T16:27:04.275965Z",
     "shell.execute_reply": "2021-04-23T16:27:04.277205Z"
    }
   },
   "outputs": [
    {
     "data": {
      "text/plain": [
       "Schema(\n",
       "    (Field['L'](name=\"id\", doc=\"unique ID\"), Key<L>(offset=0, nElements=1)),\n",
       "    (Field['Angle'](name=\"coord_ra\", doc=\"position in ra/dec\"), Key<Angle>(offset=8, nElements=1)),\n",
       "    (Field['Angle'](name=\"coord_dec\", doc=\"position in ra/dec\"), Key<Angle>(offset=16, nElements=1)),\n",
       "    (Field['L'](name=\"parent\", doc=\"unique ID of parent source\"), Key<L>(offset=24, nElements=1)),\n",
       "    (Field['Flag'](name=\"calib_detected\", doc=\"Source was detected as an icSource\"), Key['Flag'](offset=32, bit=0)),\n",
       "    (Field['Flag'](name=\"calib_psf_candidate\", doc=\"Flag set if the source was a candidate for PSF determination, as determined by the star selector.\"), Key['Flag'](offset=32, bit=1)),\n",
       "    (Field['Flag'](name=\"calib_psf_used\", doc=\"Flag set if the source was actually used for PSF determination, as determined by the\"), Key['Flag'](offset=32, bit=2)),\n",
       "    (Field['Flag'](name=\"calib_psf_reserved\", doc=\"set if source was reserved from PSF determination\"), Key['Flag'](offset=32, bit=3)),\n",
       "    (Field['I'](name=\"deblend_nChild\", doc=\"Number of children this object has (defaults to 0)\"), Key<I>(offset=40, nElements=1)),\n",
       "    (Field['Flag'](name=\"deblend_deblendedAsPsf\", doc=\"Deblender thought this source looked like a PSF\"), Key['Flag'](offset=32, bit=4)),\n",
       "    (Field['D'](name=\"deblend_psfCenter_x\", doc=\"If deblended-as-psf, the PSF centroid\", units=\"pixel\"), Key<D>(offset=48, nElements=1)),\n",
       "    (Field['D'](name=\"deblend_psfCenter_y\", doc=\"If deblended-as-psf, the PSF centroid\", units=\"pixel\"), Key<D>(offset=56, nElements=1)),\n",
       "    (Field['D'](name=\"deblend_psf_instFlux\", doc=\"If deblended-as-psf, the instrumental PSF flux\", units=\"count\"), Key<D>(offset=64, nElements=1)),\n",
       "    (Field['Flag'](name=\"deblend_tooManyPeaks\", doc=\"Source had too many peaks; only the brightest were included\"), Key['Flag'](offset=32, bit=5)),\n",
       "    (Field['Flag'](name=\"deblend_parentTooBig\", doc=\"Parent footprint covered too many pixels\"), Key['Flag'](offset=32, bit=6)),\n",
       "    (Field['Flag'](name=\"deblend_masked\", doc=\"Parent footprint was predominantly masked\"), Key['Flag'](offset=32, bit=7)),\n",
       "    (Field['Flag'](name=\"deblend_skipped\", doc=\"Deblender skipped this source\"), Key['Flag'](offset=32, bit=8)),\n",
       "    (Field['Flag'](name=\"deblend_rampedTemplate\", doc=\"This source was near an image edge and the deblender used \"ramp\" edge-handling.\"), Key['Flag'](offset=32, bit=9)),\n",
       "    (Field['Flag'](name=\"deblend_patchedTemplate\", doc=\"This source was near an image edge and the deblender used \"patched\" edge-handling.\"), Key['Flag'](offset=32, bit=10)),\n",
       "    (Field['Flag'](name=\"deblend_hasStrayFlux\", doc=\"This source was assigned some stray flux\"), Key['Flag'](offset=32, bit=11)),\n",
       "    (Field['D'](name=\"base_NaiveCentroid_x\", doc=\"centroid from Naive Centroid algorithm\", units=\"pixel\"), Key<D>(offset=72, nElements=1)),\n",
       "    (Field['D'](name=\"base_NaiveCentroid_y\", doc=\"centroid from Naive Centroid algorithm\", units=\"pixel\"), Key<D>(offset=80, nElements=1)),\n",
       "    (Field['Flag'](name=\"base_NaiveCentroid_flag\", doc=\"General Failure Flag\"), Key['Flag'](offset=32, bit=12)),\n",
       "    (Field['Flag'](name=\"base_NaiveCentroid_flag_noCounts\", doc=\"Object to be centroided has no counts\"), Key['Flag'](offset=32, bit=13)),\n",
       "    (Field['Flag'](name=\"base_NaiveCentroid_flag_edge\", doc=\"Object too close to edge\"), Key['Flag'](offset=32, bit=14)),\n",
       "    (Field['Flag'](name=\"base_NaiveCentroid_flag_resetToPeak\", doc=\"set if CentroidChecker reset the centroid\"), Key['Flag'](offset=32, bit=15)),\n",
       "    (Field['D'](name=\"base_SdssCentroid_x\", doc=\"centroid from Sdss Centroid algorithm\", units=\"pixel\"), Key<D>(offset=88, nElements=1)),\n",
       "    (Field['D'](name=\"base_SdssCentroid_y\", doc=\"centroid from Sdss Centroid algorithm\", units=\"pixel\"), Key<D>(offset=96, nElements=1)),\n",
       "    (Field['F'](name=\"base_SdssCentroid_xErr\", doc=\"1-sigma uncertainty on x position\", units=\"pixel\"), Key<F>(offset=104, nElements=1)),\n",
       "    (Field['F'](name=\"base_SdssCentroid_yErr\", doc=\"1-sigma uncertainty on y position\", units=\"pixel\"), Key<F>(offset=108, nElements=1)),\n",
       "    (Field['Flag'](name=\"base_SdssCentroid_flag\", doc=\"General Failure Flag\"), Key['Flag'](offset=32, bit=16)),\n",
       "    (Field['Flag'](name=\"base_SdssCentroid_flag_edge\", doc=\"Object too close to edge\"), Key['Flag'](offset=32, bit=17)),\n",
       "    (Field['Flag'](name=\"base_SdssCentroid_flag_noSecondDerivative\", doc=\"Vanishing second derivative\"), Key['Flag'](offset=32, bit=18)),\n",
       "    (Field['Flag'](name=\"base_SdssCentroid_flag_almostNoSecondDerivative\", doc=\"Almost vanishing second derivative\"), Key['Flag'](offset=32, bit=19)),\n",
       "    (Field['Flag'](name=\"base_SdssCentroid_flag_notAtMaximum\", doc=\"Object is not at a maximum\"), Key['Flag'](offset=32, bit=20)),\n",
       "    (Field['Flag'](name=\"base_SdssCentroid_flag_resetToPeak\", doc=\"set if CentroidChecker reset the centroid\"), Key['Flag'](offset=32, bit=21)),\n",
       "    (Field['Flag'](name=\"base_SdssCentroid_flag_badError\", doc=\"Error on x and/or y position is NaN\"), Key['Flag'](offset=32, bit=22)),\n",
       "    (Field['D'](name=\"base_Blendedness_old\", doc=\"Blendedness from dot products: (child.dot(parent)/child.dot(child) - 1)\"), Key<D>(offset=112, nElements=1)),\n",
       "    (Field['D'](name=\"base_Blendedness_raw\", doc=\"Measure of how much the flux is affected by neighbors: (1 - child_instFlux/parent_instFlux).  Operates on the \"raw\" pixel values.\"), Key<D>(offset=120, nElements=1)),\n",
       "    (Field['D'](name=\"base_Blendedness_raw_child_instFlux\", doc=\"Instrumental flux of the child, measured with a Gaussian weight matched to the child.  Operates on the \"raw\" pixel values.\", units=\"count\"), Key<D>(offset=128, nElements=1)),\n",
       "    (Field['D'](name=\"base_Blendedness_raw_parent_instFlux\", doc=\"Instrumental flux of the parent, measured with a Gaussian weight matched to the child.  Operates on the \"raw\" pixel values.\", units=\"count\"), Key<D>(offset=136, nElements=1)),\n",
       "    (Field['D'](name=\"base_Blendedness_abs\", doc=\"Measure of how much the flux is affected by neighbors: (1 - child_instFlux/parent_instFlux).  Operates on the absolute value of the pixels to try to obtain a \"de-noised\" value.  See section 4.9.11 of Bosch et al. 2018, PASJ, 70, S5 for details.\"), Key<D>(offset=144, nElements=1)),\n",
       "    (Field['D'](name=\"base_Blendedness_abs_child_instFlux\", doc=\"Instrumental flux of the child, measured with a Gaussian weight matched to the child.  Operates on the absolute value of the pixels to try to obtain a \"de-noised\" value.  See section 4.9.11 of Bosch et al. 2018, PASJ, 70, S5 for details.\", units=\"count\"), Key<D>(offset=152, nElements=1)),\n",
       "    (Field['D'](name=\"base_Blendedness_abs_parent_instFlux\", doc=\"Instrumental flux of the parent, measured with a Gaussian weight matched to the child.  Operates on the absolute value of the pixels to try to obtain a \"de-noised\" value.  See section 4.9.11 of Bosch et al. 2018, PASJ, 70, S5 for details.\", units=\"count\"), Key<D>(offset=160, nElements=1)),\n",
       "    (Field['D'](name=\"base_Blendedness_raw_child_xx\", doc=\"Shape of the child, measured with a Gaussian weight matched to the child.  Operates on the \"raw\" pixel values.\", units=\"pixel^2\"), Key<D>(offset=168, nElements=1)),\n",
       "    (Field['D'](name=\"base_Blendedness_raw_child_yy\", doc=\"Shape of the child, measured with a Gaussian weight matched to the child.  Operates on the \"raw\" pixel values.\", units=\"pixel^2\"), Key<D>(offset=176, nElements=1)),\n",
       "    (Field['D'](name=\"base_Blendedness_raw_child_xy\", doc=\"Shape of the child, measured with a Gaussian weight matched to the child.  Operates on the \"raw\" pixel values.\", units=\"pixel^2\"), Key<D>(offset=184, nElements=1)),\n",
       "    (Field['D'](name=\"base_Blendedness_raw_parent_xx\", doc=\"Shape of the parent, measured with a Gaussian weight matched to the child.  Operates on the \"raw\" pixel values.\", units=\"pixel^2\"), Key<D>(offset=192, nElements=1)),\n",
       "    (Field['D'](name=\"base_Blendedness_raw_parent_yy\", doc=\"Shape of the parent, measured with a Gaussian weight matched to the child.  Operates on the \"raw\" pixel values.\", units=\"pixel^2\"), Key<D>(offset=200, nElements=1)),\n",
       "    (Field['D'](name=\"base_Blendedness_raw_parent_xy\", doc=\"Shape of the parent, measured with a Gaussian weight matched to the child.  Operates on the \"raw\" pixel values.\", units=\"pixel^2\"), Key<D>(offset=208, nElements=1)),\n",
       "    (Field['D'](name=\"base_Blendedness_abs_child_xx\", doc=\"Shape of the child, measured with a Gaussian weight matched to the child.  Operates on the absolute value of the pixels to try to obtain a \"de-noised\" value.  See section 4.9.11 of Bosch et al. 2018, PASJ, 70, S5 for details.\", units=\"pixel^2\"), Key<D>(offset=216, nElements=1)),\n",
       "    (Field['D'](name=\"base_Blendedness_abs_child_yy\", doc=\"Shape of the child, measured with a Gaussian weight matched to the child.  Operates on the absolute value of the pixels to try to obtain a \"de-noised\" value.  See section 4.9.11 of Bosch et al. 2018, PASJ, 70, S5 for details.\", units=\"pixel^2\"), Key<D>(offset=224, nElements=1)),\n",
       "    (Field['D'](name=\"base_Blendedness_abs_child_xy\", doc=\"Shape of the child, measured with a Gaussian weight matched to the child.  Operates on the absolute value of the pixels to try to obtain a \"de-noised\" value.  See section 4.9.11 of Bosch et al. 2018, PASJ, 70, S5 for details.\", units=\"pixel^2\"), Key<D>(offset=232, nElements=1)),\n",
       "    (Field['D'](name=\"base_Blendedness_abs_parent_xx\", doc=\"Shape of the parent, measured with a Gaussian weight matched to the child.  Operates on the absolute value of the pixels to try to obtain a \"de-noised\" value.  See section 4.9.11 of Bosch et al. 2018, PASJ, 70, S5 for details.\", units=\"pixel^2\"), Key<D>(offset=240, nElements=1)),\n",
       "    (Field['D'](name=\"base_Blendedness_abs_parent_yy\", doc=\"Shape of the parent, measured with a Gaussian weight matched to the child.  Operates on the absolute value of the pixels to try to obtain a \"de-noised\" value.  See section 4.9.11 of Bosch et al. 2018, PASJ, 70, S5 for details.\", units=\"pixel^2\"), Key<D>(offset=248, nElements=1)),\n",
       "    (Field['D'](name=\"base_Blendedness_abs_parent_xy\", doc=\"Shape of the parent, measured with a Gaussian weight matched to the child.  Operates on the absolute value of the pixels to try to obtain a \"de-noised\" value.  See section 4.9.11 of Bosch et al. 2018, PASJ, 70, S5 for details.\", units=\"pixel^2\"), Key<D>(offset=256, nElements=1)),\n",
       "    (Field['Flag'](name=\"base_Blendedness_flag\", doc=\"General Failure Flag\"), Key['Flag'](offset=32, bit=23)),\n",
       "    (Field['Flag'](name=\"base_Blendedness_flag_noCentroid\", doc=\"Object has no centroid\"), Key['Flag'](offset=32, bit=24)),\n",
       "    (Field['Flag'](name=\"base_Blendedness_flag_noShape\", doc=\"Object has no shape\"), Key['Flag'](offset=32, bit=25)),\n",
       "    (Field['D'](name=\"base_FPPosition_x\", doc=\"Position on the focal plane\", units=\"mm\"), Key<D>(offset=264, nElements=1)),\n",
       "    (Field['D'](name=\"base_FPPosition_y\", doc=\"Position on the focal plane\", units=\"mm\"), Key<D>(offset=272, nElements=1)),\n",
       "    (Field['Flag'](name=\"base_FPPosition_flag\", doc=\"Set to True for any fatal failure\"), Key['Flag'](offset=32, bit=26)),\n",
       "    (Field['Flag'](name=\"base_FPPosition_missingDetector_flag\", doc=\"Set to True if detector object is missing\"), Key['Flag'](offset=32, bit=27)),\n",
       "    (Field['D'](name=\"base_Jacobian_value\", doc=\"Jacobian correction\"), Key<D>(offset=280, nElements=1)),\n",
       "    (Field['Flag'](name=\"base_Jacobian_flag\", doc=\"Set to 1 for any fatal failure\"), Key['Flag'](offset=32, bit=28)),\n",
       "    (Field['D'](name=\"base_SdssShape_xx\", doc=\"elliptical Gaussian adaptive moments\", units=\"pixel^2\"), Key<D>(offset=288, nElements=1)),\n",
       "    (Field['D'](name=\"base_SdssShape_yy\", doc=\"elliptical Gaussian adaptive moments\", units=\"pixel^2\"), Key<D>(offset=296, nElements=1)),\n",
       "    (Field['D'](name=\"base_SdssShape_xy\", doc=\"elliptical Gaussian adaptive moments\", units=\"pixel^2\"), Key<D>(offset=304, nElements=1)),\n",
       "    (Field['F'](name=\"base_SdssShape_xxErr\", doc=\"Standard deviation of xx moment\", units=\"pixel^2\"), Key<F>(offset=312, nElements=1)),\n",
       "    (Field['F'](name=\"base_SdssShape_yyErr\", doc=\"Standard deviation of yy moment\", units=\"pixel^2\"), Key<F>(offset=316, nElements=1)),\n",
       "    (Field['F'](name=\"base_SdssShape_xyErr\", doc=\"Standard deviation of xy moment\", units=\"pixel^2\"), Key<F>(offset=320, nElements=1)),\n",
       "    (Field['D'](name=\"base_SdssShape_x\", doc=\"elliptical Gaussian adaptive moments\", units=\"pixel\"), Key<D>(offset=328, nElements=1)),\n",
       "    (Field['D'](name=\"base_SdssShape_y\", doc=\"elliptical Gaussian adaptive moments\", units=\"pixel\"), Key<D>(offset=336, nElements=1)),\n",
       "    (Field['D'](name=\"base_SdssShape_instFlux\", doc=\"elliptical Gaussian adaptive moments\", units=\"count\"), Key<D>(offset=344, nElements=1)),\n",
       "    (Field['D'](name=\"base_SdssShape_instFluxErr\", doc=\"1-sigma instFlux uncertainty\", units=\"count\"), Key<D>(offset=352, nElements=1)),\n",
       "    (Field['D'](name=\"base_SdssShape_psf_xx\", doc=\"adaptive moments of the PSF model at the object position\", units=\"pixel^2\"), Key<D>(offset=360, nElements=1)),\n",
       "    (Field['D'](name=\"base_SdssShape_psf_yy\", doc=\"adaptive moments of the PSF model at the object position\", units=\"pixel^2\"), Key<D>(offset=368, nElements=1)),\n",
       "    (Field['D'](name=\"base_SdssShape_psf_xy\", doc=\"adaptive moments of the PSF model at the object position\", units=\"pixel^2\"), Key<D>(offset=376, nElements=1)),\n",
       "    (Field['F'](name=\"base_SdssShape_instFlux_xx_Cov\", doc=\"uncertainty covariance between base_SdssShape_instFlux and base_SdssShape_xx\", units=\"count*pixel^2\"), Key<F>(offset=384, nElements=1)),\n",
       "    (Field['F'](name=\"base_SdssShape_instFlux_yy_Cov\", doc=\"uncertainty covariance between base_SdssShape_instFlux and base_SdssShape_yy\", units=\"count*pixel^2\"), Key<F>(offset=388, nElements=1)),\n",
       "    (Field['F'](name=\"base_SdssShape_instFlux_xy_Cov\", doc=\"uncertainty covariance between base_SdssShape_instFlux and base_SdssShape_xy\", units=\"count*pixel^2\"), Key<F>(offset=392, nElements=1)),\n",
       "    (Field['Flag'](name=\"base_SdssShape_flag\", doc=\"General Failure Flag\"), Key['Flag'](offset=32, bit=29)),\n",
       "    (Field['Flag'](name=\"base_SdssShape_flag_unweightedBad\", doc=\"Both weighted and unweighted moments were invalid\"), Key['Flag'](offset=32, bit=30)),\n",
       "    (Field['Flag'](name=\"base_SdssShape_flag_unweighted\", doc=\"Weighted moments converged to an invalid value; using unweighted moments\"), Key['Flag'](offset=32, bit=31)),\n",
       "    (Field['Flag'](name=\"base_SdssShape_flag_shift\", doc=\"centroid shifted by more than the maximum allowed amount\"), Key['Flag'](offset=32, bit=32)),\n",
       "    (Field['Flag'](name=\"base_SdssShape_flag_maxIter\", doc=\"Too many iterations in adaptive moments\"), Key['Flag'](offset=32, bit=33)),\n",
       "    (Field['Flag'](name=\"base_SdssShape_flag_psf\", doc=\"Failure in measuring PSF model shape\"), Key['Flag'](offset=32, bit=34)),\n",
       "    (Field['D'](name=\"ext_shapeHSM_HsmPsfMoments_x\", doc=\"HSM Centroid\", units=\"pixel\"), Key<D>(offset=400, nElements=1)),\n",
       "    (Field['D'](name=\"ext_shapeHSM_HsmPsfMoments_y\", doc=\"HSM Centroid\", units=\"pixel\"), Key<D>(offset=408, nElements=1)),\n",
       "    (Field['D'](name=\"ext_shapeHSM_HsmPsfMoments_xx\", doc=\"HSM moments\", units=\"pixel^2\"), Key<D>(offset=416, nElements=1)),\n",
       "    (Field['D'](name=\"ext_shapeHSM_HsmPsfMoments_yy\", doc=\"HSM moments\", units=\"pixel^2\"), Key<D>(offset=424, nElements=1)),\n",
       "    (Field['D'](name=\"ext_shapeHSM_HsmPsfMoments_xy\", doc=\"HSM moments\", units=\"pixel^2\"), Key<D>(offset=432, nElements=1)),\n",
       "    (Field['Flag'](name=\"ext_shapeHSM_HsmPsfMoments_flag\", doc=\"general failure flag, set if anything went wrong\"), Key['Flag'](offset=32, bit=35)),\n",
       "    (Field['Flag'](name=\"ext_shapeHSM_HsmPsfMoments_flag_no_pixels\", doc=\"no pixels to measure\"), Key['Flag'](offset=32, bit=36)),\n",
       "    (Field['Flag'](name=\"ext_shapeHSM_HsmPsfMoments_flag_not_contained\", doc=\"center not contained in footprint bounding box\"), Key['Flag'](offset=32, bit=37)),\n",
       "    (Field['Flag'](name=\"ext_shapeHSM_HsmPsfMoments_flag_parent_source\", doc=\"parent source, ignored\"), Key['Flag'](offset=32, bit=38)),\n",
       "    (Field['D'](name=\"ext_shapeHSM_HsmShapeRegauss_e1\", doc=\"PSF-corrected shear using Hirata & Seljak (2003) ''regaussianization\"), Key<D>(offset=440, nElements=1)),\n",
       "    (Field['D'](name=\"ext_shapeHSM_HsmShapeRegauss_e2\", doc=\"PSF-corrected shear using Hirata & Seljak (2003) ''regaussianization\"), Key<D>(offset=448, nElements=1)),\n",
       "    (Field['D'](name=\"ext_shapeHSM_HsmShapeRegauss_sigma\", doc=\"PSF-corrected shear using Hirata & Seljak (2003) ''regaussianization\"), Key<D>(offset=456, nElements=1)),\n",
       "    (Field['D'](name=\"ext_shapeHSM_HsmShapeRegauss_resolution\", doc=\"resolution factor (0=unresolved, 1=resolved)\"), Key<D>(offset=464, nElements=1)),\n",
       "    (Field['Flag'](name=\"ext_shapeHSM_HsmShapeRegauss_flag\", doc=\"general failure flag, set if anything went wrong\"), Key['Flag'](offset=32, bit=39)),\n",
       "    (Field['Flag'](name=\"ext_shapeHSM_HsmShapeRegauss_flag_no_pixels\", doc=\"no pixels to measure\"), Key['Flag'](offset=32, bit=40)),\n",
       "    (Field['Flag'](name=\"ext_shapeHSM_HsmShapeRegauss_flag_not_contained\", doc=\"center not contained in footprint bounding box\"), Key['Flag'](offset=32, bit=41)),\n",
       "    (Field['Flag'](name=\"ext_shapeHSM_HsmShapeRegauss_flag_parent_source\", doc=\"parent source, ignored\"), Key['Flag'](offset=32, bit=42)),\n",
       "    (Field['Flag'](name=\"ext_shapeHSM_HsmShapeRegauss_flag_galsim\", doc=\"GalSim failure\"), Key['Flag'](offset=32, bit=43)),\n",
       "    (Field['D'](name=\"ext_shapeHSM_HsmSourceMoments_x\", doc=\"HSM Centroid\", units=\"pixel\"), Key<D>(offset=472, nElements=1)),\n",
       "    (Field['D'](name=\"ext_shapeHSM_HsmSourceMoments_y\", doc=\"HSM Centroid\", units=\"pixel\"), Key<D>(offset=480, nElements=1)),\n",
       "    (Field['D'](name=\"ext_shapeHSM_HsmSourceMoments_xx\", doc=\"HSM moments\", units=\"pixel^2\"), Key<D>(offset=488, nElements=1)),\n",
       "    (Field['D'](name=\"ext_shapeHSM_HsmSourceMoments_yy\", doc=\"HSM moments\", units=\"pixel^2\"), Key<D>(offset=496, nElements=1)),\n",
       "    (Field['D'](name=\"ext_shapeHSM_HsmSourceMoments_xy\", doc=\"HSM moments\", units=\"pixel^2\"), Key<D>(offset=504, nElements=1)),\n",
       "    (Field['Flag'](name=\"ext_shapeHSM_HsmSourceMoments_flag\", doc=\"general failure flag, set if anything went wrong\"), Key['Flag'](offset=32, bit=44)),\n",
       "    (Field['Flag'](name=\"ext_shapeHSM_HsmSourceMoments_flag_no_pixels\", doc=\"no pixels to measure\"), Key['Flag'](offset=32, bit=45)),\n",
       "    (Field['Flag'](name=\"ext_shapeHSM_HsmSourceMoments_flag_not_contained\", doc=\"center not contained in footprint bounding box\"), Key['Flag'](offset=32, bit=46)),\n",
       "    (Field['Flag'](name=\"ext_shapeHSM_HsmSourceMoments_flag_parent_source\", doc=\"parent source, ignored\"), Key['Flag'](offset=32, bit=47)),\n",
       "    (Field['D'](name=\"ext_shapeHSM_HsmSourceMomentsRound_x\", doc=\"HSM Centroid\", units=\"pixel\"), Key<D>(offset=512, nElements=1)),\n",
       "    (Field['D'](name=\"ext_shapeHSM_HsmSourceMomentsRound_y\", doc=\"HSM Centroid\", units=\"pixel\"), Key<D>(offset=520, nElements=1)),\n",
       "    (Field['D'](name=\"ext_shapeHSM_HsmSourceMomentsRound_xx\", doc=\"HSM moments\", units=\"pixel^2\"), Key<D>(offset=528, nElements=1)),\n",
       "    (Field['D'](name=\"ext_shapeHSM_HsmSourceMomentsRound_yy\", doc=\"HSM moments\", units=\"pixel^2\"), Key<D>(offset=536, nElements=1)),\n",
       "    (Field['D'](name=\"ext_shapeHSM_HsmSourceMomentsRound_xy\", doc=\"HSM moments\", units=\"pixel^2\"), Key<D>(offset=544, nElements=1)),\n",
       "    (Field['Flag'](name=\"ext_shapeHSM_HsmSourceMomentsRound_flag\", doc=\"general failure flag, set if anything went wrong\"), Key['Flag'](offset=32, bit=48)),\n",
       "    (Field['Flag'](name=\"ext_shapeHSM_HsmSourceMomentsRound_flag_no_pixels\", doc=\"no pixels to measure\"), Key['Flag'](offset=32, bit=49)),\n",
       "    (Field['Flag'](name=\"ext_shapeHSM_HsmSourceMomentsRound_flag_not_contained\", doc=\"center not contained in footprint bounding box\"), Key['Flag'](offset=32, bit=50)),\n",
       "    (Field['Flag'](name=\"ext_shapeHSM_HsmSourceMomentsRound_flag_parent_source\", doc=\"parent source, ignored\"), Key['Flag'](offset=32, bit=51)),\n",
       "    (Field['F'](name=\"ext_shapeHSM_HsmSourceMomentsRound_Flux\", doc=\"HSM flux\"), Key<F>(offset=552, nElements=1)),\n",
       "    (Field['D'](name=\"base_CircularApertureFlux_3_0_instFlux\", doc=\"instFlux within 3.000000-pixel aperture\", units=\"count\"), Key<D>(offset=560, nElements=1)),\n",
       "    (Field['D'](name=\"base_CircularApertureFlux_3_0_instFluxErr\", doc=\"1-sigma instFlux uncertainty\", units=\"count\"), Key<D>(offset=568, nElements=1)),\n",
       "    (Field['Flag'](name=\"base_CircularApertureFlux_3_0_flag\", doc=\"General Failure Flag\"), Key['Flag'](offset=32, bit=52)),\n",
       "    (Field['Flag'](name=\"base_CircularApertureFlux_3_0_flag_apertureTruncated\", doc=\"aperture did not fit within measurement image\"), Key['Flag'](offset=32, bit=53)),\n",
       "    (Field['Flag'](name=\"base_CircularApertureFlux_3_0_flag_sincCoeffsTruncated\", doc=\"full sinc coefficient image did not fit within measurement image\"), Key['Flag'](offset=32, bit=54)),\n",
       "    (Field['D'](name=\"base_CircularApertureFlux_4_5_instFlux\", doc=\"instFlux within 4.500000-pixel aperture\", units=\"count\"), Key<D>(offset=576, nElements=1)),\n",
       "    (Field['D'](name=\"base_CircularApertureFlux_4_5_instFluxErr\", doc=\"1-sigma instFlux uncertainty\", units=\"count\"), Key<D>(offset=584, nElements=1)),\n",
       "    (Field['Flag'](name=\"base_CircularApertureFlux_4_5_flag\", doc=\"General Failure Flag\"), Key['Flag'](offset=32, bit=55)),\n",
       "    (Field['Flag'](name=\"base_CircularApertureFlux_4_5_flag_apertureTruncated\", doc=\"aperture did not fit within measurement image\"), Key['Flag'](offset=32, bit=56)),\n",
       "    (Field['Flag'](name=\"base_CircularApertureFlux_4_5_flag_sincCoeffsTruncated\", doc=\"full sinc coefficient image did not fit within measurement image\"), Key['Flag'](offset=32, bit=57)),\n",
       "    (Field['D'](name=\"base_CircularApertureFlux_6_0_instFlux\", doc=\"instFlux within 6.000000-pixel aperture\", units=\"count\"), Key<D>(offset=592, nElements=1)),\n",
       "    (Field['D'](name=\"base_CircularApertureFlux_6_0_instFluxErr\", doc=\"1-sigma instFlux uncertainty\", units=\"count\"), Key<D>(offset=600, nElements=1)),\n",
       "    (Field['Flag'](name=\"base_CircularApertureFlux_6_0_flag\", doc=\"General Failure Flag\"), Key['Flag'](offset=32, bit=58)),\n",
       "    (Field['Flag'](name=\"base_CircularApertureFlux_6_0_flag_apertureTruncated\", doc=\"aperture did not fit within measurement image\"), Key['Flag'](offset=32, bit=59)),\n",
       "    (Field['Flag'](name=\"base_CircularApertureFlux_6_0_flag_sincCoeffsTruncated\", doc=\"full sinc coefficient image did not fit within measurement image\"), Key['Flag'](offset=32, bit=60)),\n",
       "    (Field['D'](name=\"base_CircularApertureFlux_9_0_instFlux\", doc=\"instFlux within 9.000000-pixel aperture\", units=\"count\"), Key<D>(offset=608, nElements=1)),\n",
       "    (Field['D'](name=\"base_CircularApertureFlux_9_0_instFluxErr\", doc=\"1-sigma instFlux uncertainty\", units=\"count\"), Key<D>(offset=616, nElements=1)),\n",
       "    (Field['Flag'](name=\"base_CircularApertureFlux_9_0_flag\", doc=\"General Failure Flag\"), Key['Flag'](offset=32, bit=61)),\n",
       "    (Field['Flag'](name=\"base_CircularApertureFlux_9_0_flag_apertureTruncated\", doc=\"aperture did not fit within measurement image\"), Key['Flag'](offset=32, bit=62)),\n",
       "    (Field['Flag'](name=\"base_CircularApertureFlux_9_0_flag_sincCoeffsTruncated\", doc=\"full sinc coefficient image did not fit within measurement image\"), Key['Flag'](offset=32, bit=63)),\n",
       "    (Field['D'](name=\"base_CircularApertureFlux_12_0_instFlux\", doc=\"instFlux within 12.000000-pixel aperture\", units=\"count\"), Key<D>(offset=624, nElements=1)),\n",
       "    (Field['D'](name=\"base_CircularApertureFlux_12_0_instFluxErr\", doc=\"1-sigma instFlux uncertainty\", units=\"count\"), Key<D>(offset=632, nElements=1)),\n",
       "    (Field['Flag'](name=\"base_CircularApertureFlux_12_0_flag\", doc=\"General Failure Flag\"), Key['Flag'](offset=640, bit=0)),\n",
       "    (Field['Flag'](name=\"base_CircularApertureFlux_12_0_flag_apertureTruncated\", doc=\"aperture did not fit within measurement image\"), Key['Flag'](offset=640, bit=1)),\n",
       "    (Field['Flag'](name=\"base_CircularApertureFlux_12_0_flag_sincCoeffsTruncated\", doc=\"full sinc coefficient image did not fit within measurement image\"), Key['Flag'](offset=640, bit=2)),\n",
       "    (Field['D'](name=\"base_CircularApertureFlux_17_0_instFlux\", doc=\"instFlux within 17.000000-pixel aperture\", units=\"count\"), Key<D>(offset=648, nElements=1)),\n",
       "    (Field['D'](name=\"base_CircularApertureFlux_17_0_instFluxErr\", doc=\"1-sigma instFlux uncertainty\", units=\"count\"), Key<D>(offset=656, nElements=1)),\n",
       "    (Field['Flag'](name=\"base_CircularApertureFlux_17_0_flag\", doc=\"General Failure Flag\"), Key['Flag'](offset=640, bit=3)),\n",
       "    (Field['Flag'](name=\"base_CircularApertureFlux_17_0_flag_apertureTruncated\", doc=\"aperture did not fit within measurement image\"), Key['Flag'](offset=640, bit=4)),\n",
       "    (Field['D'](name=\"base_CircularApertureFlux_25_0_instFlux\", doc=\"instFlux within 25.000000-pixel aperture\", units=\"count\"), Key<D>(offset=664, nElements=1)),\n",
       "    (Field['D'](name=\"base_CircularApertureFlux_25_0_instFluxErr\", doc=\"1-sigma instFlux uncertainty\", units=\"count\"), Key<D>(offset=672, nElements=1)),\n",
       "    (Field['Flag'](name=\"base_CircularApertureFlux_25_0_flag\", doc=\"General Failure Flag\"), Key['Flag'](offset=640, bit=5)),\n",
       "    (Field['Flag'](name=\"base_CircularApertureFlux_25_0_flag_apertureTruncated\", doc=\"aperture did not fit within measurement image\"), Key['Flag'](offset=640, bit=6)),\n",
       "    (Field['D'](name=\"base_CircularApertureFlux_35_0_instFlux\", doc=\"instFlux within 35.000000-pixel aperture\", units=\"count\"), Key<D>(offset=680, nElements=1)),\n",
       "    (Field['D'](name=\"base_CircularApertureFlux_35_0_instFluxErr\", doc=\"1-sigma instFlux uncertainty\", units=\"count\"), Key<D>(offset=688, nElements=1)),\n",
       "    (Field['Flag'](name=\"base_CircularApertureFlux_35_0_flag\", doc=\"General Failure Flag\"), Key['Flag'](offset=640, bit=7)),\n",
       "    (Field['Flag'](name=\"base_CircularApertureFlux_35_0_flag_apertureTruncated\", doc=\"aperture did not fit within measurement image\"), Key['Flag'](offset=640, bit=8)),\n",
       "    (Field['D'](name=\"base_CircularApertureFlux_50_0_instFlux\", doc=\"instFlux within 50.000000-pixel aperture\", units=\"count\"), Key<D>(offset=696, nElements=1)),\n",
       "    (Field['D'](name=\"base_CircularApertureFlux_50_0_instFluxErr\", doc=\"1-sigma instFlux uncertainty\", units=\"count\"), Key<D>(offset=704, nElements=1)),\n",
       "    (Field['Flag'](name=\"base_CircularApertureFlux_50_0_flag\", doc=\"General Failure Flag\"), Key['Flag'](offset=640, bit=9)),\n",
       "    (Field['Flag'](name=\"base_CircularApertureFlux_50_0_flag_apertureTruncated\", doc=\"aperture did not fit within measurement image\"), Key['Flag'](offset=640, bit=10)),\n",
       "    (Field['D'](name=\"base_CircularApertureFlux_70_0_instFlux\", doc=\"instFlux within 70.000000-pixel aperture\", units=\"count\"), Key<D>(offset=712, nElements=1)),\n",
       "    (Field['D'](name=\"base_CircularApertureFlux_70_0_instFluxErr\", doc=\"1-sigma instFlux uncertainty\", units=\"count\"), Key<D>(offset=720, nElements=1)),\n",
       "    (Field['Flag'](name=\"base_CircularApertureFlux_70_0_flag\", doc=\"General Failure Flag\"), Key['Flag'](offset=640, bit=11)),\n",
       "    (Field['Flag'](name=\"base_CircularApertureFlux_70_0_flag_apertureTruncated\", doc=\"aperture did not fit within measurement image\"), Key['Flag'](offset=640, bit=12)),\n",
       "    (Field['D'](name=\"base_GaussianFlux_instFlux\", doc=\"instFlux from Gaussian Flux algorithm\", units=\"count\"), Key<D>(offset=728, nElements=1)),\n",
       "    (Field['D'](name=\"base_GaussianFlux_instFluxErr\", doc=\"1-sigma instFlux uncertainty\", units=\"count\"), Key<D>(offset=736, nElements=1)),\n",
       "    (Field['Flag'](name=\"base_GaussianFlux_flag\", doc=\"General Failure Flag\"), Key['Flag'](offset=640, bit=13)),\n",
       "    (Field['D'](name=\"base_LocalBackground_instFlux\", doc=\"background in annulus around source\", units=\"count\"), Key<D>(offset=744, nElements=1)),\n",
       "    (Field['D'](name=\"base_LocalBackground_instFluxErr\", doc=\"1-sigma instFlux uncertainty\", units=\"count\"), Key<D>(offset=752, nElements=1)),\n",
       "    (Field['Flag'](name=\"base_LocalBackground_flag\", doc=\"General Failure Flag\"), Key['Flag'](offset=640, bit=14)),\n",
       "    (Field['Flag'](name=\"base_LocalBackground_flag_noGoodPixels\", doc=\"no good pixels in the annulus\"), Key['Flag'](offset=640, bit=15)),\n",
       "    (Field['Flag'](name=\"base_LocalBackground_flag_noPsf\", doc=\"no PSF provided\"), Key['Flag'](offset=640, bit=16)),\n",
       "    (Field['Flag'](name=\"base_PixelFlags_flag\", doc=\"General failure flag, set if anything went wrong\"), Key['Flag'](offset=640, bit=17)),\n",
       "    (Field['Flag'](name=\"base_PixelFlags_flag_offimage\", doc=\"Source center is off image\"), Key['Flag'](offset=640, bit=18)),\n",
       "    (Field['Flag'](name=\"base_PixelFlags_flag_edge\", doc=\"Source is outside usable exposure region (masked EDGE or NO_DATA)\"), Key['Flag'](offset=640, bit=19)),\n",
       "    (Field['Flag'](name=\"base_PixelFlags_flag_interpolated\", doc=\"Interpolated pixel in the Source footprint\"), Key['Flag'](offset=640, bit=20)),\n",
       "    (Field['Flag'](name=\"base_PixelFlags_flag_saturated\", doc=\"Saturated pixel in the Source footprint\"), Key['Flag'](offset=640, bit=21)),\n",
       "    (Field['Flag'](name=\"base_PixelFlags_flag_cr\", doc=\"Cosmic ray in the Source footprint\"), Key['Flag'](offset=640, bit=22)),\n",
       "    (Field['Flag'](name=\"base_PixelFlags_flag_bad\", doc=\"Bad pixel in the Source footprint\"), Key['Flag'](offset=640, bit=23)),\n",
       "    (Field['Flag'](name=\"base_PixelFlags_flag_suspect\", doc=\"Source''s footprint includes suspect pixels\"), Key['Flag'](offset=640, bit=24)),\n",
       "    (Field['Flag'](name=\"base_PixelFlags_flag_interpolatedCenter\", doc=\"Interpolated pixel in the Source center\"), Key['Flag'](offset=640, bit=25)),\n",
       "    (Field['Flag'](name=\"base_PixelFlags_flag_saturatedCenter\", doc=\"Saturated pixel in the Source center\"), Key['Flag'](offset=640, bit=26)),\n",
       "    (Field['Flag'](name=\"base_PixelFlags_flag_crCenter\", doc=\"Cosmic ray in the Source center\"), Key['Flag'](offset=640, bit=27)),\n",
       "    (Field['Flag'](name=\"base_PixelFlags_flag_suspectCenter\", doc=\"Source''s center is close to suspect pixels\"), Key['Flag'](offset=640, bit=28)),\n",
       "    (Field['D'](name=\"base_PsfFlux_instFlux\", doc=\"instFlux derived from linear least-squares fit of PSF model\", units=\"count\"), Key<D>(offset=760, nElements=1)),\n",
       "    (Field['D'](name=\"base_PsfFlux_instFluxErr\", doc=\"1-sigma instFlux uncertainty\", units=\"count\"), Key<D>(offset=768, nElements=1)),\n",
       "    (Field['F'](name=\"base_PsfFlux_area\", doc=\"effective area of PSF\", units=\"pixel\"), Key<F>(offset=776, nElements=1)),\n",
       "    (Field['Flag'](name=\"base_PsfFlux_flag\", doc=\"General Failure Flag\"), Key['Flag'](offset=640, bit=29)),\n",
       "    (Field['Flag'](name=\"base_PsfFlux_flag_noGoodPixels\", doc=\"not enough non-rejected pixels in data to attempt the fit\"), Key['Flag'](offset=640, bit=30)),\n",
       "    (Field['Flag'](name=\"base_PsfFlux_flag_edge\", doc=\"object was too close to the edge of the image to use the full PSF model\"), Key['Flag'](offset=640, bit=31)),\n",
       "    (Field['Flag'](name=\"base_Variance_flag\", doc=\"Set for any fatal failure\"), Key['Flag'](offset=640, bit=32)),\n",
       "    (Field['D'](name=\"base_Variance_value\", doc=\"Variance at object position\"), Key<D>(offset=784, nElements=1)),\n",
       "    (Field['Flag'](name=\"base_Variance_flag_emptyFootprint\", doc=\"Set to True when the footprint has no usable pixels\"), Key['Flag'](offset=640, bit=33)),\n",
       "    (Field['D'](name=\"ext_photometryKron_KronFlux_instFlux\", doc=\"flux from Kron Flux algorithm\", units=\"count\"), Key<D>(offset=792, nElements=1)),\n",
       "    (Field['D'](name=\"ext_photometryKron_KronFlux_instFluxErr\", doc=\"1-sigma instFlux uncertainty\", units=\"count\"), Key<D>(offset=800, nElements=1)),\n",
       "    (Field['F'](name=\"ext_photometryKron_KronFlux_radius\", doc=\"Kron radius (sqrt(a*b))\"), Key<F>(offset=808, nElements=1)),\n",
       "    (Field['F'](name=\"ext_photometryKron_KronFlux_radius_for_radius\", doc=\"radius used to estimate <radius> (sqrt(a*b))\"), Key<F>(offset=812, nElements=1)),\n",
       "    (Field['F'](name=\"ext_photometryKron_KronFlux_psf_radius\", doc=\"Radius of PSF\"), Key<F>(offset=816, nElements=1)),\n",
       "    (Field['Flag'](name=\"ext_photometryKron_KronFlux_flag\", doc=\"general failure flag, set if anything went wrong\"), Key['Flag'](offset=640, bit=34)),\n",
       "    (Field['Flag'](name=\"ext_photometryKron_KronFlux_flag_edge\", doc=\"bad measurement due to image edge\"), Key['Flag'](offset=640, bit=35)),\n",
       "    (Field['Flag'](name=\"ext_photometryKron_KronFlux_flag_bad_shape_no_psf\", doc=\"bad shape and no PSF\"), Key['Flag'](offset=640, bit=36)),\n",
       "    (Field['Flag'](name=\"ext_photometryKron_KronFlux_flag_no_minimum_radius\", doc=\"minimum radius could not enforced: no minimum value or PSF\"), Key['Flag'](offset=640, bit=37)),\n",
       "    (Field['Flag'](name=\"ext_photometryKron_KronFlux_flag_no_fallback_radius\", doc=\"no minimum radius and no PSF provided\"), Key['Flag'](offset=640, bit=38)),\n",
       "    (Field['Flag'](name=\"ext_photometryKron_KronFlux_flag_bad_radius\", doc=\"bad Kron radius\"), Key['Flag'](offset=640, bit=39)),\n",
       "    (Field['Flag'](name=\"ext_photometryKron_KronFlux_flag_used_minimum_radius\", doc=\"used the minimum radius for the Kron aperture\"), Key['Flag'](offset=640, bit=40)),\n",
       "    (Field['Flag'](name=\"ext_photometryKron_KronFlux_flag_used_psf_radius\", doc=\"used the PSF Kron radius for the Kron aperture\"), Key['Flag'](offset=640, bit=41)),\n",
       "    (Field['Flag'](name=\"ext_photometryKron_KronFlux_flag_small_radius\", doc=\"measured Kron radius was smaller than that of the PSF\"), Key['Flag'](offset=640, bit=42)),\n",
       "    (Field['Flag'](name=\"ext_photometryKron_KronFlux_flag_bad_shape\", doc=\"shape for measuring Kron radius is bad; used PSF shape\"), Key['Flag'](offset=640, bit=43)),\n",
       "    (Field['D'](name=\"base_GaussianFlux_apCorr\", doc=\"aperture correction applied to base_GaussianFlux\"), Key<D>(offset=824, nElements=1)),\n",
       "    (Field['D'](name=\"base_GaussianFlux_apCorrErr\", doc=\"standard deviation of aperture correction applied to base_GaussianFlux\"), Key<D>(offset=832, nElements=1)),\n",
       "    (Field['Flag'](name=\"base_GaussianFlux_flag_apCorr\", doc=\"set if unable to aperture correct base_GaussianFlux\"), Key['Flag'](offset=640, bit=44)),\n",
       "    (Field['D'](name=\"base_PsfFlux_apCorr\", doc=\"aperture correction applied to base_PsfFlux\"), Key<D>(offset=840, nElements=1)),\n",
       "    (Field['D'](name=\"base_PsfFlux_apCorrErr\", doc=\"standard deviation of aperture correction applied to base_PsfFlux\"), Key<D>(offset=848, nElements=1)),\n",
       "    (Field['Flag'](name=\"base_PsfFlux_flag_apCorr\", doc=\"set if unable to aperture correct base_PsfFlux\"), Key['Flag'](offset=640, bit=45)),\n",
       "    (Field['D'](name=\"ext_photometryKron_KronFlux_apCorr\", doc=\"aperture correction applied to ext_photometryKron_KronFlux\"), Key<D>(offset=856, nElements=1)),\n",
       "    (Field['D'](name=\"ext_photometryKron_KronFlux_apCorrErr\", doc=\"standard deviation of aperture correction applied to ext_photometryKron_KronFlux\"), Key<D>(offset=864, nElements=1)),\n",
       "    (Field['Flag'](name=\"ext_photometryKron_KronFlux_flag_apCorr\", doc=\"set if unable to aperture correct ext_photometryKron_KronFlux\"), Key['Flag'](offset=640, bit=46)),\n",
       "    (Field['D'](name=\"base_ClassificationExtendedness_value\", doc=\"Set to 1 for extended sources, 0 for point sources.\"), Key<D>(offset=872, nElements=1)),\n",
       "    (Field['Flag'](name=\"base_ClassificationExtendedness_flag\", doc=\"Set to 1 for any fatal failure.\"), Key['Flag'](offset=640, bit=47)),\n",
       "    (Field['I'](name=\"base_FootprintArea_value\", doc=\"Number of pixels in the source''s detection footprint.\", units=\"pixel\"), Key<I>(offset=880, nElements=1)),\n",
       "    (Field['Flag'](name=\"calib_astrometry_used\", doc=\"set if source was used in astrometric calibration\"), Key['Flag'](offset=640, bit=48)),\n",
       "    (Field['Flag'](name=\"calib_photometry_used\", doc=\"set if source was used in photometric calibration\"), Key['Flag'](offset=640, bit=49)),\n",
       "    (Field['Flag'](name=\"calib_photometry_reserved\", doc=\"set if source was reserved from photometric calibration\"), Key['Flag'](offset=640, bit=50)),\n",
       "    (Field['D'](name=\"base_localPhotoCalib\", doc=\"Local approximation of the PhotoCalib calibration factor at the location of the src.\"), Key<D>(offset=888, nElements=1)),\n",
       "    (Field['D'](name=\"base_localPhotoCalibErr\", doc=\"Error on the local approximation of the PhotoCalib calibration factor at the location of the src.\"), Key<D>(offset=896, nElements=1)),\n",
       "    (Field['D'](name=\"base_CDMatrix_1_1\", doc=\"(1, 1) element of the CDMatrix for the linear approximation of the WCS at the src location.\"), Key<D>(offset=904, nElements=1)),\n",
       "    (Field['D'](name=\"base_CDMatrix_1_2\", doc=\"(1, 2) element of the CDMatrix for the linear approximation of the WCS at the src location.\"), Key<D>(offset=912, nElements=1)),\n",
       "    (Field['D'](name=\"base_CDMatrix_2_1\", doc=\"(2, 1) element of the CDMatrix for the linear approximation of the WCS at the src location.\"), Key<D>(offset=920, nElements=1)),\n",
       "    (Field['D'](name=\"base_CDMatrix_2_2\", doc=\"(2, 2) element of the CDMatrix for the linear approximation of the WCS at the src location.\"), Key<D>(offset=928, nElements=1)),\n",
       "    'base_CircularApertureFlux_flag_badCentroid'->'base_SdssCentroid_flag'\n",
       "    'base_GaussianFlux_flag_badCentroid'->'base_SdssCentroid_flag'\n",
       "    'base_GaussianFlux_flag_badShape'->'ext_shapeHSM_HsmSourceMoments_flag'\n",
       "    'base_LocalBackground_flag_badCentroid'->'base_SdssCentroid_flag'\n",
       "    'base_NaiveCentroid_flag_badInitialCentroid'->'base_SdssCentroid_flag'\n",
       "    'base_PsfFlux_flag_badCentroid'->'base_SdssCentroid_flag'\n",
       "    'base_SdssShape_flag_badCentroid'->'base_SdssCentroid_flag'\n",
       "    'base_Variance_flag_badCentroid'->'base_SdssCentroid_flag'\n",
       "    'ext_photometryKron_KronFlux_flag_badInitialCentroid'->'base_SdssCentroid_flag'\n",
       "    'ext_shapeHSM_HsmPsfMoments_flag_badCentroid'->'base_SdssCentroid_flag'\n",
       "    'ext_shapeHSM_HsmShapeRegauss_flag_badCentroid'->'base_SdssCentroid_flag'\n",
       "    'ext_shapeHSM_HsmSourceMomentsRound_flag_badCentroid'->'base_SdssCentroid_flag'\n",
       "    'ext_shapeHSM_HsmSourceMoments_flag_badCentroid'->'base_SdssCentroid_flag'\n",
       "    'slot_ApFlux'->'base_CircularApertureFlux_12_0'\n",
       "    'slot_CalibFlux'->'base_CircularApertureFlux_12_0'\n",
       "    'slot_Centroid'->'base_SdssCentroid'\n",
       "    'slot_GaussianFlux'->'base_GaussianFlux'\n",
       "    'slot_ModelFlux'->'base_GaussianFlux'\n",
       "    'slot_PsfFlux'->'base_PsfFlux'\n",
       "    'slot_PsfShape'->'ext_shapeHSM_HsmPsfMoments'\n",
       "    'slot_Shape'->'ext_shapeHSM_HsmSourceMoments'\n",
       ")"
      ]
     },
     "execution_count": 1,
     "metadata": {},
     "output_type": "execute_result"
    }
   ],
   "source": [
    "#check its schema. Heads up, the schema is pretty big\n",
    "source_cat.getSchema()"
   ]
  },
  {
   "cell_type": "markdown",
   "metadata": {},
   "source": [
    "These schemas tend to be large if many measurement algorithms used. Several algorithms are a part of the base measurement process, like aperture photometry, SDSS shape and centroid measurements. Other measurements are associated with previous calibration steps, like identifying sources to be candidates for PSF modeling. If deblending was run, several outputs from the process are stored in the table as well. Other measurement processess, like shape measurement processes, are considered extensions. All of these measurements often have many fields and analagous flag fields associated with them. To get a list of names of these high level processes only, we can provide the `topOnly=True` keyword arguement to the `getNames` method we met earlier in the tutorial."
   ]
  },
  {
   "cell_type": "code",
   "execution_count": 26,
   "metadata": {
    "execution": {
     "iopub.execute_input": "2021-04-23T16:27:04.284024Z",
     "iopub.status.busy": "2021-04-23T16:27:04.282566Z",
     "iopub.status.idle": "2021-04-23T16:27:04.331904Z",
     "shell.execute_reply": "2021-04-23T16:27:04.330440Z"
    }
   },
   "outputs": [
    {
     "data": {
      "text/plain": [
       "{'base', 'calib', 'coord', 'deblend', 'ext', 'id', 'parent'}"
      ]
     },
     "execution_count": 1,
     "metadata": {},
     "output_type": "execute_result"
    }
   ],
   "source": [
    "source_cat.getSchema().getNames(topOnly=True)"
   ]
  },
  {
   "cell_type": "markdown",
   "metadata": {},
   "source": [
    "However, this may be too vague. For example, if you ran KSB and HSM shape measurement, both will be lumped into the 'ext' catagory in the output above, but you may wish to search the schema for one in particular. We can use unix-like pattern matching with the `extract()` method to search the schema. This returns a dictionary where the keys are the schema fields whose names match the pattern you specified, and the values are the fields themselves. "
   ]
  },
  {
   "cell_type": "code",
   "execution_count": 27,
   "metadata": {
    "execution": {
     "iopub.execute_input": "2021-04-23T16:27:04.338363Z",
     "iopub.status.busy": "2021-04-23T16:27:04.336933Z",
     "iopub.status.idle": "2021-04-23T16:27:04.387559Z",
     "shell.execute_reply": "2021-04-23T16:27:04.388799Z"
    }
   },
   "outputs": [
    {
     "data": {
      "text/plain": [
       "{'ext_shapeHSM_HsmPsfMoments_flag_badCentroid': SchemaItem(key=Key['Flag'](offset=32, bit=16), field=Field['Flag'](name=\"base_SdssCentroid_flag\", doc=\"General Failure Flag\")),\n",
       " 'ext_shapeHSM_HsmPsfMoments_flag_badCentroid_edge': SchemaItem(key=Key['Flag'](offset=32, bit=17), field=Field['Flag'](name=\"base_SdssCentroid_flag_edge\", doc=\"Object too close to edge\")),\n",
       " 'ext_shapeHSM_HsmPsfMoments_flag_badCentroid_noSecondDerivative': SchemaItem(key=Key['Flag'](offset=32, bit=18), field=Field['Flag'](name=\"base_SdssCentroid_flag_noSecondDerivative\", doc=\"Vanishing second derivative\")),\n",
       " 'ext_shapeHSM_HsmPsfMoments_flag_badCentroid_almostNoSecondDerivative': SchemaItem(key=Key['Flag'](offset=32, bit=19), field=Field['Flag'](name=\"base_SdssCentroid_flag_almostNoSecondDerivative\", doc=\"Almost vanishing second derivative\")),\n",
       " 'ext_shapeHSM_HsmPsfMoments_flag_badCentroid_notAtMaximum': SchemaItem(key=Key['Flag'](offset=32, bit=20), field=Field['Flag'](name=\"base_SdssCentroid_flag_notAtMaximum\", doc=\"Object is not at a maximum\")),\n",
       " 'ext_shapeHSM_HsmPsfMoments_flag_badCentroid_resetToPeak': SchemaItem(key=Key['Flag'](offset=32, bit=21), field=Field['Flag'](name=\"base_SdssCentroid_flag_resetToPeak\", doc=\"set if CentroidChecker reset the centroid\")),\n",
       " 'ext_shapeHSM_HsmPsfMoments_flag_badCentroid_badError': SchemaItem(key=Key['Flag'](offset=32, bit=22), field=Field['Flag'](name=\"base_SdssCentroid_flag_badError\", doc=\"Error on x and/or y position is NaN\")),\n",
       " 'ext_shapeHSM_HsmPsfMoments_x': SchemaItem(key=Key<D>(offset=400, nElements=1), field=Field['D'](name=\"ext_shapeHSM_HsmPsfMoments_x\", doc=\"HSM Centroid\", units=\"pixel\")),\n",
       " 'ext_shapeHSM_HsmPsfMoments_y': SchemaItem(key=Key<D>(offset=408, nElements=1), field=Field['D'](name=\"ext_shapeHSM_HsmPsfMoments_y\", doc=\"HSM Centroid\", units=\"pixel\")),\n",
       " 'ext_shapeHSM_HsmPsfMoments_xx': SchemaItem(key=Key<D>(offset=416, nElements=1), field=Field['D'](name=\"ext_shapeHSM_HsmPsfMoments_xx\", doc=\"HSM moments\", units=\"pixel^2\")),\n",
       " 'ext_shapeHSM_HsmPsfMoments_yy': SchemaItem(key=Key<D>(offset=424, nElements=1), field=Field['D'](name=\"ext_shapeHSM_HsmPsfMoments_yy\", doc=\"HSM moments\", units=\"pixel^2\")),\n",
       " 'ext_shapeHSM_HsmPsfMoments_xy': SchemaItem(key=Key<D>(offset=432, nElements=1), field=Field['D'](name=\"ext_shapeHSM_HsmPsfMoments_xy\", doc=\"HSM moments\", units=\"pixel^2\")),\n",
       " 'ext_shapeHSM_HsmPsfMoments_flag': SchemaItem(key=Key['Flag'](offset=32, bit=35), field=Field['Flag'](name=\"ext_shapeHSM_HsmPsfMoments_flag\", doc=\"general failure flag, set if anything went wrong\")),\n",
       " 'ext_shapeHSM_HsmPsfMoments_flag_no_pixels': SchemaItem(key=Key['Flag'](offset=32, bit=36), field=Field['Flag'](name=\"ext_shapeHSM_HsmPsfMoments_flag_no_pixels\", doc=\"no pixels to measure\")),\n",
       " 'ext_shapeHSM_HsmPsfMoments_flag_not_contained': SchemaItem(key=Key['Flag'](offset=32, bit=37), field=Field['Flag'](name=\"ext_shapeHSM_HsmPsfMoments_flag_not_contained\", doc=\"center not contained in footprint bounding box\")),\n",
       " 'ext_shapeHSM_HsmPsfMoments_flag_parent_source': SchemaItem(key=Key['Flag'](offset=32, bit=38), field=Field['Flag'](name=\"ext_shapeHSM_HsmPsfMoments_flag_parent_source\", doc=\"parent source, ignored\"))}"
      ]
     },
     "execution_count": 1,
     "metadata": {},
     "output_type": "execute_result"
    }
   ],
   "source": [
    "source_cat.getSchema().extract('*HSM*Psf*')"
   ]
  },
  {
   "cell_type": "markdown",
   "metadata": {},
   "source": [
    "Schemas in source catalogs include fields for measurements, and the associated flag fields for those measurements.  To tally how many fields, flag fields, and non-flag fields are contained, we can use several count methods."
   ]
  },
  {
   "cell_type": "code",
   "execution_count": 28,
   "metadata": {
    "execution": {
     "iopub.execute_input": "2021-04-23T16:27:04.395457Z",
     "iopub.status.busy": "2021-04-23T16:27:04.394057Z",
     "iopub.status.idle": "2021-04-23T16:27:04.425913Z",
     "shell.execute_reply": "2021-04-23T16:27:04.427021Z"
    }
   },
   "outputs": [
    {
     "name": "stdout",
     "output_type": "stream",
     "text": [
      "the schema contains 234 fields, 115 flags fields and 119 non-flag fields\n"
     ]
    }
   ],
   "source": [
    "nFields = source_cat.schema.getFieldCount()\n",
    "nFlagFields = source_cat.schema.getFlagFieldCount()\n",
    "nNonFlagFields = source_cat.schema.getNonFlagFieldCount()\n",
    "print('the schema contains {} fields, \\\n",
    "{} flags fields and {} non-flag fields'.format(nFields, nFlagFields, nNonFlagFields ))"
   ]
  },
  {
   "cell_type": "markdown",
   "metadata": {},
   "source": [
    "If we are just intested in the field names, we can use the `extract()` method, which supports regex pattern matching. `extract()` returns a python dictionary of key-value pairs, where the keys are the names of the schema fields, and the values are the schema items themselves. We are going to tack on the `keys` method to this dictionary so we just get the ids back."
   ]
  },
  {
   "cell_type": "code",
   "execution_count": 29,
   "metadata": {
    "execution": {
     "iopub.execute_input": "2021-04-23T16:27:04.432700Z",
     "iopub.status.busy": "2021-04-23T16:27:04.431387Z",
     "iopub.status.idle": "2021-04-23T16:27:04.465287Z",
     "shell.execute_reply": "2021-04-23T16:27:04.466235Z"
    }
   },
   "outputs": [
    {
     "name": "stdout",
     "output_type": "stream",
     "text": [
      "ext_shapeHSM_HsmPsfMoments_flag_badCentroid\n",
      "ext_shapeHSM_HsmPsfMoments_flag_badCentroid_edge\n",
      "ext_shapeHSM_HsmPsfMoments_flag_badCentroid_noSecondDerivative\n",
      "ext_shapeHSM_HsmPsfMoments_flag_badCentroid_almostNoSecondDerivative\n",
      "ext_shapeHSM_HsmPsfMoments_flag_badCentroid_notAtMaximum\n",
      "ext_shapeHSM_HsmPsfMoments_flag_badCentroid_resetToPeak\n",
      "ext_shapeHSM_HsmPsfMoments_flag_badCentroid_badError\n",
      "ext_shapeHSM_HsmPsfMoments_x\n",
      "ext_shapeHSM_HsmPsfMoments_y\n",
      "ext_shapeHSM_HsmPsfMoments_xx\n",
      "ext_shapeHSM_HsmPsfMoments_yy\n",
      "ext_shapeHSM_HsmPsfMoments_xy\n",
      "ext_shapeHSM_HsmPsfMoments_flag\n",
      "ext_shapeHSM_HsmPsfMoments_flag_no_pixels\n",
      "ext_shapeHSM_HsmPsfMoments_flag_not_contained\n",
      "ext_shapeHSM_HsmPsfMoments_flag_parent_source\n"
     ]
    }
   ],
   "source": [
    "for k in source_cat.getSchema().extract('*HSM*Psf*').keys():\n",
    "    print(k)"
   ]
  },
  {
   "cell_type": "markdown",
   "metadata": {},
   "source": [
    "If you already know the id of the field you are interested in, schema's have a `find` method that will return the field in question. For example, it is a safe bet that a schema will contain an id field"
   ]
  },
  {
   "cell_type": "code",
   "execution_count": 30,
   "metadata": {
    "execution": {
     "iopub.execute_input": "2021-04-23T16:27:04.471250Z",
     "iopub.status.busy": "2021-04-23T16:27:04.470143Z",
     "iopub.status.idle": "2021-04-23T16:27:04.494570Z",
     "shell.execute_reply": "2021-04-23T16:27:04.495440Z"
    }
   },
   "outputs": [
    {
     "data": {
      "text/plain": [
       "SchemaItem(key=Key<L>(offset=0, nElements=1), field=Field['L'](name=\"id\", doc=\"unique ID\"))"
      ]
     },
     "execution_count": 1,
     "metadata": {},
     "output_type": "execute_result"
    }
   ],
   "source": [
    "source_cat.getSchema().find('id')"
   ]
  },
  {
   "cell_type": "markdown",
   "metadata": {},
   "source": [
    "When we dumped the entire schema, the very bottom of the schema contained fields  are named 'slot_'. These are called aliases in the schema, and can help you deal with any ambiguity in the table. For example, there are several algorithms used to measure the centroid, and many fileds with 'centroid' in their name as a result. If you want to have quick access to one algorithms measurement result, you can set up a slot alias for it. Lets do a working example on the first record in our table."
   ]
  },
  {
   "cell_type": "code",
   "execution_count": 31,
   "metadata": {
    "execution": {
     "iopub.execute_input": "2021-04-23T16:27:04.500783Z",
     "iopub.status.busy": "2021-04-23T16:27:04.499741Z",
     "iopub.status.idle": "2021-04-23T16:27:04.524694Z",
     "shell.execute_reply": "2021-04-23T16:27:04.525519Z"
    }
   },
   "outputs": [
    {
     "name": "stdout",
     "output_type": "stream",
     "text": [
      "sloan centroid is 1219.0, 7.0\n",
      "naive centroid is 1218.9358940603615, 6.956234552894472\n",
      "slot centroid is (1219, 7)\n"
     ]
    }
   ],
   "source": [
    "slot_centroid = source_cat[0].getCentroid()\n",
    "naive_cent_x, naive_cent_y = (source_cat['base_NaiveCentroid_x'][0], source_cat['base_NaiveCentroid_y'][0])\n",
    "sdss_cent_x, sdss_cent_y = (source_cat['base_SdssCentroid_x'][0], source_cat['base_SdssCentroid_y'][0])\n",
    "\n",
    "print('sloan centroid is {}, {}'.format(sdss_cent_x, sdss_cent_y))\n",
    "print('naive centroid is {}, {}'.format(naive_cent_x, naive_cent_y))\n",
    "print('slot centroid is {}'.format(slot_centroid))"
   ]
  },
  {
   "cell_type": "code",
   "execution_count": 32,
   "metadata": {
    "execution": {
     "iopub.execute_input": "2021-04-23T16:27:04.529982Z",
     "iopub.status.busy": "2021-04-23T16:27:04.529008Z",
     "iopub.status.idle": "2021-04-23T16:27:04.553415Z",
     "shell.execute_reply": "2021-04-23T16:27:04.552549Z"
    }
   },
   "outputs": [],
   "source": [
    "# aliasing works with other methods\n",
    "psf_flux_key = source_cat.getPsfFluxSlot().getMeasKey()\n",
    "id_key = source_cat.getIdKey()"
   ]
  },
  {
   "cell_type": "markdown",
   "metadata": {},
   "source": [
    "As advertised, the slot centroid and SDSS centroid are the same. We also used some syntactic sugar to access the `naive` centroids and `sdss` centroids, which will be familiar to you if you are an astropy tables user. \n",
    "\n",
    "Speaking of astropy tables, you can make an astropy table version of a source catalog:"
   ]
  },
  {
   "cell_type": "code",
   "execution_count": 33,
   "metadata": {
    "execution": {
     "iopub.execute_input": "2021-04-23T16:27:04.557811Z",
     "iopub.status.busy": "2021-04-23T16:27:04.556852Z",
     "iopub.status.idle": "2021-04-23T16:27:04.863091Z",
     "shell.execute_reply": "2021-04-23T16:27:04.864131Z"
    }
   },
   "outputs": [
    {
     "data": {
      "text/html": [
       "<i>Table length=1875</i>\n",
       "<table id=\"table140197307960144\" class=\"table-striped table-bordered table-condensed\">\n",
       "<thead><tr><th>id</th><th>coord_ra</th><th>coord_dec</th><th>parent</th><th>calib_detected</th><th>calib_psf_candidate</th><th>calib_psf_used</th><th>calib_psf_reserved</th><th>deblend_nChild</th><th>deblend_deblendedAsPsf</th><th>deblend_psfCenter_x</th><th>deblend_psfCenter_y</th><th>deblend_psf_instFlux</th><th>deblend_tooManyPeaks</th><th>deblend_parentTooBig</th><th>deblend_masked</th><th>deblend_skipped</th><th>deblend_rampedTemplate</th><th>deblend_patchedTemplate</th><th>deblend_hasStrayFlux</th><th>base_NaiveCentroid_x</th><th>base_NaiveCentroid_y</th><th>base_NaiveCentroid_flag</th><th>base_NaiveCentroid_flag_noCounts</th><th>base_NaiveCentroid_flag_edge</th><th>base_NaiveCentroid_flag_resetToPeak</th><th>base_SdssCentroid_x</th><th>slot_Centroid_x</th><th>base_SdssCentroid_y</th><th>slot_Centroid_y</th><th>base_SdssCentroid_xErr</th><th>slot_Centroid_xErr</th><th>base_SdssCentroid_yErr</th><th>slot_Centroid_yErr</th><th>base_SdssCentroid_flag</th><th>base_CircularApertureFlux_flag_badCentroid</th><th>base_GaussianFlux_flag_badCentroid</th><th>base_LocalBackground_flag_badCentroid</th><th>base_NaiveCentroid_flag_badInitialCentroid</th><th>base_PsfFlux_flag_badCentroid</th><th>base_SdssShape_flag_badCentroid</th><th>base_Variance_flag_badCentroid</th><th>ext_photometryKron_KronFlux_flag_badInitialCentroid</th><th>ext_shapeHSM_HsmPsfMoments_flag_badCentroid</th><th>ext_shapeHSM_HsmShapeRegauss_flag_badCentroid</th><th>ext_shapeHSM_HsmSourceMomentsRound_flag_badCentroid</th><th>ext_shapeHSM_HsmSourceMoments_flag_badCentroid</th><th>slot_Centroid_flag</th><th>base_SdssCentroid_flag_edge</th><th>base_CircularApertureFlux_flag_badCentroid_edge</th><th>base_GaussianFlux_flag_badCentroid_edge</th><th>base_LocalBackground_flag_badCentroid_edge</th><th>base_NaiveCentroid_flag_badInitialCentroid_edge</th><th>base_PsfFlux_flag_badCentroid_edge</th><th>base_SdssShape_flag_badCentroid_edge</th><th>base_Variance_flag_badCentroid_edge</th><th>ext_photometryKron_KronFlux_flag_badInitialCentroid_edge</th><th>ext_shapeHSM_HsmPsfMoments_flag_badCentroid_edge</th><th>ext_shapeHSM_HsmShapeRegauss_flag_badCentroid_edge</th><th>ext_shapeHSM_HsmSourceMomentsRound_flag_badCentroid_edge</th><th>ext_shapeHSM_HsmSourceMoments_flag_badCentroid_edge</th><th>slot_Centroid_flag_edge</th><th>base_SdssCentroid_flag_noSecondDerivative</th><th>base_CircularApertureFlux_flag_badCentroid_noSecondDerivative</th><th>base_GaussianFlux_flag_badCentroid_noSecondDerivative</th><th>base_LocalBackground_flag_badCentroid_noSecondDerivative</th><th>base_NaiveCentroid_flag_badInitialCentroid_noSecondDerivative</th><th>base_PsfFlux_flag_badCentroid_noSecondDerivative</th><th>base_SdssShape_flag_badCentroid_noSecondDerivative</th><th>base_Variance_flag_badCentroid_noSecondDerivative</th><th>ext_photometryKron_KronFlux_flag_badInitialCentroid_noSecondDerivative</th><th>ext_shapeHSM_HsmPsfMoments_flag_badCentroid_noSecondDerivative</th><th>ext_shapeHSM_HsmShapeRegauss_flag_badCentroid_noSecondDerivative</th><th>ext_shapeHSM_HsmSourceMomentsRound_flag_badCentroid_noSecondDerivative</th><th>ext_shapeHSM_HsmSourceMoments_flag_badCentroid_noSecondDerivative</th><th>slot_Centroid_flag_noSecondDerivative</th><th>base_SdssCentroid_flag_almostNoSecondDerivative</th><th>base_CircularApertureFlux_flag_badCentroid_almostNoSecondDerivative</th><th>base_GaussianFlux_flag_badCentroid_almostNoSecondDerivative</th><th>base_LocalBackground_flag_badCentroid_almostNoSecondDerivative</th><th>base_NaiveCentroid_flag_badInitialCentroid_almostNoSecondDerivative</th><th>base_PsfFlux_flag_badCentroid_almostNoSecondDerivative</th><th>base_SdssShape_flag_badCentroid_almostNoSecondDerivative</th><th>base_Variance_flag_badCentroid_almostNoSecondDerivative</th><th>ext_photometryKron_KronFlux_flag_badInitialCentroid_almostNoSecondDerivative</th><th>ext_shapeHSM_HsmPsfMoments_flag_badCentroid_almostNoSecondDerivative</th><th>ext_shapeHSM_HsmShapeRegauss_flag_badCentroid_almostNoSecondDerivative</th><th>ext_shapeHSM_HsmSourceMomentsRound_flag_badCentroid_almostNoSecondDerivative</th><th>ext_shapeHSM_HsmSourceMoments_flag_badCentroid_almostNoSecondDerivative</th><th>slot_Centroid_flag_almostNoSecondDerivative</th><th>base_SdssCentroid_flag_notAtMaximum</th><th>base_CircularApertureFlux_flag_badCentroid_notAtMaximum</th><th>base_GaussianFlux_flag_badCentroid_notAtMaximum</th><th>base_LocalBackground_flag_badCentroid_notAtMaximum</th><th>base_NaiveCentroid_flag_badInitialCentroid_notAtMaximum</th><th>base_PsfFlux_flag_badCentroid_notAtMaximum</th><th>base_SdssShape_flag_badCentroid_notAtMaximum</th><th>base_Variance_flag_badCentroid_notAtMaximum</th><th>ext_photometryKron_KronFlux_flag_badInitialCentroid_notAtMaximum</th><th>ext_shapeHSM_HsmPsfMoments_flag_badCentroid_notAtMaximum</th><th>ext_shapeHSM_HsmShapeRegauss_flag_badCentroid_notAtMaximum</th><th>ext_shapeHSM_HsmSourceMomentsRound_flag_badCentroid_notAtMaximum</th><th>ext_shapeHSM_HsmSourceMoments_flag_badCentroid_notAtMaximum</th><th>slot_Centroid_flag_notAtMaximum</th><th>base_SdssCentroid_flag_resetToPeak</th><th>base_CircularApertureFlux_flag_badCentroid_resetToPeak</th><th>base_GaussianFlux_flag_badCentroid_resetToPeak</th><th>base_LocalBackground_flag_badCentroid_resetToPeak</th><th>base_NaiveCentroid_flag_badInitialCentroid_resetToPeak</th><th>base_PsfFlux_flag_badCentroid_resetToPeak</th><th>base_SdssShape_flag_badCentroid_resetToPeak</th><th>base_Variance_flag_badCentroid_resetToPeak</th><th>ext_photometryKron_KronFlux_flag_badInitialCentroid_resetToPeak</th><th>ext_shapeHSM_HsmPsfMoments_flag_badCentroid_resetToPeak</th><th>ext_shapeHSM_HsmShapeRegauss_flag_badCentroid_resetToPeak</th><th>ext_shapeHSM_HsmSourceMomentsRound_flag_badCentroid_resetToPeak</th><th>ext_shapeHSM_HsmSourceMoments_flag_badCentroid_resetToPeak</th><th>slot_Centroid_flag_resetToPeak</th><th>base_SdssCentroid_flag_badError</th><th>base_CircularApertureFlux_flag_badCentroid_badError</th><th>base_GaussianFlux_flag_badCentroid_badError</th><th>base_LocalBackground_flag_badCentroid_badError</th><th>base_NaiveCentroid_flag_badInitialCentroid_badError</th><th>base_PsfFlux_flag_badCentroid_badError</th><th>base_SdssShape_flag_badCentroid_badError</th><th>base_Variance_flag_badCentroid_badError</th><th>ext_photometryKron_KronFlux_flag_badInitialCentroid_badError</th><th>ext_shapeHSM_HsmPsfMoments_flag_badCentroid_badError</th><th>ext_shapeHSM_HsmShapeRegauss_flag_badCentroid_badError</th><th>ext_shapeHSM_HsmSourceMomentsRound_flag_badCentroid_badError</th><th>ext_shapeHSM_HsmSourceMoments_flag_badCentroid_badError</th><th>slot_Centroid_flag_badError</th><th>base_Blendedness_old</th><th>base_Blendedness_raw</th><th>base_Blendedness_raw_child_instFlux</th><th>base_Blendedness_raw_parent_instFlux</th><th>base_Blendedness_abs</th><th>base_Blendedness_abs_child_instFlux</th><th>base_Blendedness_abs_parent_instFlux</th><th>base_Blendedness_raw_child_xx</th><th>base_Blendedness_raw_child_yy</th><th>base_Blendedness_raw_child_xy</th><th>base_Blendedness_raw_parent_xx</th><th>base_Blendedness_raw_parent_yy</th><th>base_Blendedness_raw_parent_xy</th><th>base_Blendedness_abs_child_xx</th><th>base_Blendedness_abs_child_yy</th><th>base_Blendedness_abs_child_xy</th><th>base_Blendedness_abs_parent_xx</th><th>base_Blendedness_abs_parent_yy</th><th>base_Blendedness_abs_parent_xy</th><th>base_Blendedness_flag</th><th>base_Blendedness_flag_noCentroid</th><th>base_Blendedness_flag_noShape</th><th>base_FPPosition_x</th><th>base_FPPosition_y</th><th>base_FPPosition_flag</th><th>base_FPPosition_missingDetector_flag</th><th>base_Jacobian_value</th><th>base_Jacobian_flag</th><th>base_SdssShape_xx</th><th>base_SdssShape_yy</th><th>base_SdssShape_xy</th><th>base_SdssShape_xxErr</th><th>base_SdssShape_yyErr</th><th>base_SdssShape_xyErr</th><th>base_SdssShape_x</th><th>base_SdssShape_y</th><th>base_SdssShape_instFlux</th><th>base_SdssShape_instFluxErr</th><th>base_SdssShape_psf_xx</th><th>base_SdssShape_psf_yy</th><th>base_SdssShape_psf_xy</th><th>base_SdssShape_instFlux_xx_Cov</th><th>base_SdssShape_instFlux_yy_Cov</th><th>base_SdssShape_instFlux_xy_Cov</th><th>base_SdssShape_flag</th><th>base_SdssShape_flag_unweightedBad</th><th>base_SdssShape_flag_unweighted</th><th>base_SdssShape_flag_shift</th><th>base_SdssShape_flag_maxIter</th><th>base_SdssShape_flag_psf</th><th>ext_shapeHSM_HsmPsfMoments_x</th><th>slot_PsfShape_x</th><th>ext_shapeHSM_HsmPsfMoments_y</th><th>slot_PsfShape_y</th><th>ext_shapeHSM_HsmPsfMoments_xx</th><th>slot_PsfShape_xx</th><th>ext_shapeHSM_HsmPsfMoments_yy</th><th>slot_PsfShape_yy</th><th>ext_shapeHSM_HsmPsfMoments_xy</th><th>slot_PsfShape_xy</th><th>ext_shapeHSM_HsmPsfMoments_flag</th><th>slot_PsfShape_flag</th><th>ext_shapeHSM_HsmPsfMoments_flag_no_pixels</th><th>slot_PsfShape_flag_no_pixels</th><th>ext_shapeHSM_HsmPsfMoments_flag_not_contained</th><th>slot_PsfShape_flag_not_contained</th><th>ext_shapeHSM_HsmPsfMoments_flag_parent_source</th><th>slot_PsfShape_flag_parent_source</th><th>ext_shapeHSM_HsmShapeRegauss_e1</th><th>ext_shapeHSM_HsmShapeRegauss_e2</th><th>ext_shapeHSM_HsmShapeRegauss_sigma</th><th>ext_shapeHSM_HsmShapeRegauss_resolution</th><th>ext_shapeHSM_HsmShapeRegauss_flag</th><th>ext_shapeHSM_HsmShapeRegauss_flag_no_pixels</th><th>ext_shapeHSM_HsmShapeRegauss_flag_not_contained</th><th>ext_shapeHSM_HsmShapeRegauss_flag_parent_source</th><th>ext_shapeHSM_HsmShapeRegauss_flag_galsim</th><th>ext_shapeHSM_HsmSourceMoments_x</th><th>slot_Shape_x</th><th>ext_shapeHSM_HsmSourceMoments_y</th><th>slot_Shape_y</th><th>ext_shapeHSM_HsmSourceMoments_xx</th><th>slot_Shape_xx</th><th>ext_shapeHSM_HsmSourceMoments_yy</th><th>slot_Shape_yy</th><th>ext_shapeHSM_HsmSourceMoments_xy</th><th>slot_Shape_xy</th><th>ext_shapeHSM_HsmSourceMoments_flag</th><th>base_GaussianFlux_flag_badShape</th><th>slot_Shape_flag</th><th>ext_shapeHSM_HsmSourceMoments_flag_no_pixels</th><th>base_GaussianFlux_flag_badShape_no_pixels</th><th>slot_Shape_flag_no_pixels</th><th>ext_shapeHSM_HsmSourceMoments_flag_not_contained</th><th>base_GaussianFlux_flag_badShape_not_contained</th><th>slot_Shape_flag_not_contained</th><th>ext_shapeHSM_HsmSourceMoments_flag_parent_source</th><th>base_GaussianFlux_flag_badShape_parent_source</th><th>slot_Shape_flag_parent_source</th><th>ext_shapeHSM_HsmSourceMomentsRound_x</th><th>slot_ShapeRound_x</th><th>ext_shapeHSM_HsmSourceMomentsRound_y</th><th>slot_ShapeRound_y</th><th>ext_shapeHSM_HsmSourceMomentsRound_xx</th><th>slot_ShapeRound_xx</th><th>ext_shapeHSM_HsmSourceMomentsRound_yy</th><th>slot_ShapeRound_yy</th><th>ext_shapeHSM_HsmSourceMomentsRound_xy</th><th>slot_ShapeRound_xy</th><th>ext_shapeHSM_HsmSourceMomentsRound_flag</th><th>slot_ShapeRound_flag</th><th>ext_shapeHSM_HsmSourceMomentsRound_flag_no_pixels</th><th>slot_ShapeRound_flag_no_pixels</th><th>ext_shapeHSM_HsmSourceMomentsRound_flag_not_contained</th><th>slot_ShapeRound_flag_not_contained</th><th>ext_shapeHSM_HsmSourceMomentsRound_flag_parent_source</th><th>slot_ShapeRound_flag_parent_source</th><th>ext_shapeHSM_HsmSourceMomentsRound_Flux</th><th>slot_ShapeRound_Flux</th><th>base_CircularApertureFlux_3_0_instFlux</th><th>base_CircularApertureFlux_3_0_instFluxErr</th><th>base_CircularApertureFlux_3_0_flag</th><th>base_CircularApertureFlux_3_0_flag_apertureTruncated</th><th>base_CircularApertureFlux_3_0_flag_sincCoeffsTruncated</th><th>base_CircularApertureFlux_4_5_instFlux</th><th>base_CircularApertureFlux_4_5_instFluxErr</th><th>base_CircularApertureFlux_4_5_flag</th><th>base_CircularApertureFlux_4_5_flag_apertureTruncated</th><th>base_CircularApertureFlux_4_5_flag_sincCoeffsTruncated</th><th>base_CircularApertureFlux_6_0_instFlux</th><th>base_CircularApertureFlux_6_0_instFluxErr</th><th>base_CircularApertureFlux_6_0_flag</th><th>base_CircularApertureFlux_6_0_flag_apertureTruncated</th><th>base_CircularApertureFlux_6_0_flag_sincCoeffsTruncated</th><th>base_CircularApertureFlux_9_0_instFlux</th><th>base_CircularApertureFlux_9_0_instFluxErr</th><th>base_CircularApertureFlux_9_0_flag</th><th>base_CircularApertureFlux_9_0_flag_apertureTruncated</th><th>base_CircularApertureFlux_9_0_flag_sincCoeffsTruncated</th><th>base_CircularApertureFlux_12_0_instFlux</th><th>slot_ApFlux_instFlux</th><th>slot_CalibFlux_instFlux</th><th>base_CircularApertureFlux_12_0_instFluxErr</th><th>slot_ApFlux_instFluxErr</th><th>slot_CalibFlux_instFluxErr</th><th>base_CircularApertureFlux_12_0_flag</th><th>slot_ApFlux_flag</th><th>slot_CalibFlux_flag</th><th>base_CircularApertureFlux_12_0_flag_apertureTruncated</th><th>slot_ApFlux_flag_apertureTruncated</th><th>slot_CalibFlux_flag_apertureTruncated</th><th>base_CircularApertureFlux_12_0_flag_sincCoeffsTruncated</th><th>slot_ApFlux_flag_sincCoeffsTruncated</th><th>slot_CalibFlux_flag_sincCoeffsTruncated</th><th>base_CircularApertureFlux_17_0_instFlux</th><th>base_CircularApertureFlux_17_0_instFluxErr</th><th>base_CircularApertureFlux_17_0_flag</th><th>base_CircularApertureFlux_17_0_flag_apertureTruncated</th><th>base_CircularApertureFlux_25_0_instFlux</th><th>base_CircularApertureFlux_25_0_instFluxErr</th><th>base_CircularApertureFlux_25_0_flag</th><th>base_CircularApertureFlux_25_0_flag_apertureTruncated</th><th>base_CircularApertureFlux_35_0_instFlux</th><th>base_CircularApertureFlux_35_0_instFluxErr</th><th>base_CircularApertureFlux_35_0_flag</th><th>base_CircularApertureFlux_35_0_flag_apertureTruncated</th><th>base_CircularApertureFlux_50_0_instFlux</th><th>base_CircularApertureFlux_50_0_instFluxErr</th><th>base_CircularApertureFlux_50_0_flag</th><th>base_CircularApertureFlux_50_0_flag_apertureTruncated</th><th>base_CircularApertureFlux_70_0_instFlux</th><th>base_CircularApertureFlux_70_0_instFluxErr</th><th>base_CircularApertureFlux_70_0_flag</th><th>base_CircularApertureFlux_70_0_flag_apertureTruncated</th><th>base_GaussianFlux_instFlux</th><th>slot_GaussianFlux_instFlux</th><th>slot_ModelFlux_instFlux</th><th>base_GaussianFlux_instFluxErr</th><th>slot_GaussianFlux_instFluxErr</th><th>slot_ModelFlux_instFluxErr</th><th>base_GaussianFlux_flag</th><th>slot_GaussianFlux_flag</th><th>slot_ModelFlux_flag</th><th>base_LocalBackground_instFlux</th><th>base_LocalBackground_instFluxErr</th><th>base_LocalBackground_flag</th><th>base_LocalBackground_flag_noGoodPixels</th><th>base_LocalBackground_flag_noPsf</th><th>base_PixelFlags_flag</th><th>base_PixelFlags_flag_offimage</th><th>base_PixelFlags_flag_edge</th><th>base_PixelFlags_flag_interpolated</th><th>base_PixelFlags_flag_saturated</th><th>base_PixelFlags_flag_cr</th><th>base_PixelFlags_flag_bad</th><th>base_PixelFlags_flag_suspect</th><th>base_PixelFlags_flag_interpolatedCenter</th><th>base_PixelFlags_flag_saturatedCenter</th><th>base_PixelFlags_flag_crCenter</th><th>base_PixelFlags_flag_suspectCenter</th><th>base_PsfFlux_instFlux</th><th>slot_PsfFlux_instFlux</th><th>base_PsfFlux_instFluxErr</th><th>slot_PsfFlux_instFluxErr</th><th>base_PsfFlux_area</th><th>slot_PsfFlux_area</th><th>base_PsfFlux_flag</th><th>slot_PsfFlux_flag</th><th>base_PsfFlux_flag_noGoodPixels</th><th>slot_PsfFlux_flag_noGoodPixels</th><th>base_PsfFlux_flag_edge</th><th>slot_PsfFlux_flag_edge</th><th>base_Variance_flag</th><th>base_Variance_value</th><th>base_Variance_flag_emptyFootprint</th><th>ext_photometryKron_KronFlux_instFlux</th><th>ext_photometryKron_KronFlux_instFluxErr</th><th>ext_photometryKron_KronFlux_radius</th><th>ext_photometryKron_KronFlux_radius_for_radius</th><th>ext_photometryKron_KronFlux_psf_radius</th><th>ext_photometryKron_KronFlux_flag</th><th>ext_photometryKron_KronFlux_flag_edge</th><th>ext_photometryKron_KronFlux_flag_bad_shape_no_psf</th><th>ext_photometryKron_KronFlux_flag_no_minimum_radius</th><th>ext_photometryKron_KronFlux_flag_no_fallback_radius</th><th>ext_photometryKron_KronFlux_flag_bad_radius</th><th>ext_photometryKron_KronFlux_flag_used_minimum_radius</th><th>ext_photometryKron_KronFlux_flag_used_psf_radius</th><th>ext_photometryKron_KronFlux_flag_small_radius</th><th>ext_photometryKron_KronFlux_flag_bad_shape</th><th>base_GaussianFlux_apCorr</th><th>slot_GaussianFlux_apCorr</th><th>slot_ModelFlux_apCorr</th><th>base_GaussianFlux_apCorrErr</th><th>slot_GaussianFlux_apCorrErr</th><th>slot_ModelFlux_apCorrErr</th><th>base_GaussianFlux_flag_apCorr</th><th>slot_GaussianFlux_flag_apCorr</th><th>slot_ModelFlux_flag_apCorr</th><th>base_PsfFlux_apCorr</th><th>slot_PsfFlux_apCorr</th><th>base_PsfFlux_apCorrErr</th><th>slot_PsfFlux_apCorrErr</th><th>base_PsfFlux_flag_apCorr</th><th>slot_PsfFlux_flag_apCorr</th><th>ext_photometryKron_KronFlux_apCorr</th><th>ext_photometryKron_KronFlux_apCorrErr</th><th>ext_photometryKron_KronFlux_flag_apCorr</th><th>base_ClassificationExtendedness_value</th><th>base_ClassificationExtendedness_flag</th><th>base_FootprintArea_value</th><th>calib_astrometry_used</th><th>calib_photometry_used</th><th>calib_photometry_reserved</th><th>base_localPhotoCalib</th><th>base_localPhotoCalibErr</th><th>base_CDMatrix_1_1</th><th>base_CDMatrix_1_2</th><th>base_CDMatrix_2_1</th><th>base_CDMatrix_2_2</th></tr></thead>\n",
       "<thead><tr><th></th><th>rad</th><th>rad</th><th></th><th></th><th></th><th></th><th></th><th></th><th></th><th>pix</th><th>pix</th><th>ct</th><th></th><th></th><th></th><th></th><th></th><th></th><th></th><th>pix</th><th>pix</th><th></th><th></th><th></th><th></th><th>pix</th><th>pix</th><th>pix</th><th>pix</th><th>pix</th><th>pix</th><th>pix</th><th>pix</th><th></th><th></th><th></th><th></th><th></th><th></th><th></th><th></th><th></th><th></th><th></th><th></th><th></th><th></th><th></th><th></th><th></th><th></th><th></th><th></th><th></th><th></th><th></th><th></th><th></th><th></th><th></th><th></th><th></th><th></th><th></th><th></th><th></th><th></th><th></th><th></th><th></th><th></th><th></th><th></th><th></th><th></th><th></th><th></th><th></th><th></th><th></th><th></th><th></th><th></th><th></th><th></th><th></th><th></th><th></th><th></th><th></th><th></th><th></th><th></th><th></th><th></th><th></th><th></th><th></th><th></th><th></th><th></th><th></th><th></th><th></th><th></th><th></th><th></th><th></th><th></th><th></th><th></th><th></th><th></th><th></th><th></th><th></th><th></th><th></th><th></th><th></th><th></th><th></th><th></th><th></th><th></th><th></th><th></th><th></th><th></th><th></th><th></th><th></th><th></th><th>ct</th><th>ct</th><th></th><th>ct</th><th>ct</th><th>pix2</th><th>pix2</th><th>pix2</th><th>pix2</th><th>pix2</th><th>pix2</th><th>pix2</th><th>pix2</th><th>pix2</th><th>pix2</th><th>pix2</th><th>pix2</th><th></th><th></th><th></th><th>mm</th><th>mm</th><th></th><th></th><th></th><th></th><th>pix2</th><th>pix2</th><th>pix2</th><th>pix2</th><th>pix2</th><th>pix2</th><th>pix</th><th>pix</th><th>ct</th><th>ct</th><th>pix2</th><th>pix2</th><th>pix2</th><th>ct pix2</th><th>ct pix2</th><th>ct pix2</th><th></th><th></th><th></th><th></th><th></th><th></th><th>pix</th><th>pix</th><th>pix</th><th>pix</th><th>pix2</th><th>pix2</th><th>pix2</th><th>pix2</th><th>pix2</th><th>pix2</th><th></th><th></th><th></th><th></th><th></th><th></th><th></th><th></th><th></th><th></th><th></th><th></th><th></th><th></th><th></th><th></th><th></th><th>pix</th><th>pix</th><th>pix</th><th>pix</th><th>pix2</th><th>pix2</th><th>pix2</th><th>pix2</th><th>pix2</th><th>pix2</th><th></th><th></th><th></th><th></th><th></th><th></th><th></th><th></th><th></th><th></th><th></th><th></th><th>pix</th><th>pix</th><th>pix</th><th>pix</th><th>pix2</th><th>pix2</th><th>pix2</th><th>pix2</th><th>pix2</th><th>pix2</th><th></th><th></th><th></th><th></th><th></th><th></th><th></th><th></th><th></th><th></th><th>ct</th><th>ct</th><th></th><th></th><th></th><th>ct</th><th>ct</th><th></th><th></th><th></th><th>ct</th><th>ct</th><th></th><th></th><th></th><th>ct</th><th>ct</th><th></th><th></th><th></th><th>ct</th><th>ct</th><th>ct</th><th>ct</th><th>ct</th><th>ct</th><th></th><th></th><th></th><th></th><th></th><th></th><th></th><th></th><th></th><th>ct</th><th>ct</th><th></th><th></th><th>ct</th><th>ct</th><th></th><th></th><th>ct</th><th>ct</th><th></th><th></th><th>ct</th><th>ct</th><th></th><th></th><th>ct</th><th>ct</th><th></th><th></th><th>ct</th><th>ct</th><th>ct</th><th>ct</th><th>ct</th><th>ct</th><th></th><th></th><th></th><th>ct</th><th>ct</th><th></th><th></th><th></th><th></th><th></th><th></th><th></th><th></th><th></th><th></th><th></th><th></th><th></th><th></th><th></th><th>ct</th><th>ct</th><th>ct</th><th>ct</th><th>pix</th><th>pix</th><th></th><th></th><th></th><th></th><th></th><th></th><th></th><th></th><th></th><th>ct</th><th>ct</th><th></th><th></th><th></th><th></th><th></th><th></th><th></th><th></th><th></th><th></th><th></th><th></th><th></th><th></th><th></th><th></th><th></th><th></th><th></th><th></th><th></th><th></th><th></th><th></th><th></th><th></th><th></th><th></th><th></th><th></th><th></th><th></th><th></th><th>pix</th><th></th><th></th><th></th><th></th><th></th><th></th><th></th><th></th><th></th></tr></thead>\n",
       "<thead><tr><th>int64</th><th>float64</th><th>float64</th><th>int64</th><th>bool</th><th>bool</th><th>bool</th><th>bool</th><th>int32</th><th>bool</th><th>float64</th><th>float64</th><th>float64</th><th>bool</th><th>bool</th><th>bool</th><th>bool</th><th>bool</th><th>bool</th><th>bool</th><th>float64</th><th>float64</th><th>bool</th><th>bool</th><th>bool</th><th>bool</th><th>float64</th><th>float64</th><th>float64</th><th>float64</th><th>float32</th><th>float32</th><th>float32</th><th>float32</th><th>bool</th><th>bool</th><th>bool</th><th>bool</th><th>bool</th><th>bool</th><th>bool</th><th>bool</th><th>bool</th><th>bool</th><th>bool</th><th>bool</th><th>bool</th><th>bool</th><th>bool</th><th>bool</th><th>bool</th><th>bool</th><th>bool</th><th>bool</th><th>bool</th><th>bool</th><th>bool</th><th>bool</th><th>bool</th><th>bool</th><th>bool</th><th>bool</th><th>bool</th><th>bool</th><th>bool</th><th>bool</th><th>bool</th><th>bool</th><th>bool</th><th>bool</th><th>bool</th><th>bool</th><th>bool</th><th>bool</th><th>bool</th><th>bool</th><th>bool</th><th>bool</th><th>bool</th><th>bool</th><th>bool</th><th>bool</th><th>bool</th><th>bool</th><th>bool</th><th>bool</th><th>bool</th><th>bool</th><th>bool</th><th>bool</th><th>bool</th><th>bool</th><th>bool</th><th>bool</th><th>bool</th><th>bool</th><th>bool</th><th>bool</th><th>bool</th><th>bool</th><th>bool</th><th>bool</th><th>bool</th><th>bool</th><th>bool</th><th>bool</th><th>bool</th><th>bool</th><th>bool</th><th>bool</th><th>bool</th><th>bool</th><th>bool</th><th>bool</th><th>bool</th><th>bool</th><th>bool</th><th>bool</th><th>bool</th><th>bool</th><th>bool</th><th>bool</th><th>bool</th><th>bool</th><th>bool</th><th>bool</th><th>bool</th><th>bool</th><th>bool</th><th>bool</th><th>bool</th><th>bool</th><th>float64</th><th>float64</th><th>float64</th><th>float64</th><th>float64</th><th>float64</th><th>float64</th><th>float64</th><th>float64</th><th>float64</th><th>float64</th><th>float64</th><th>float64</th><th>float64</th><th>float64</th><th>float64</th><th>float64</th><th>float64</th><th>float64</th><th>bool</th><th>bool</th><th>bool</th><th>float64</th><th>float64</th><th>bool</th><th>bool</th><th>float64</th><th>bool</th><th>float64</th><th>float64</th><th>float64</th><th>float32</th><th>float32</th><th>float32</th><th>float64</th><th>float64</th><th>float64</th><th>float64</th><th>float64</th><th>float64</th><th>float64</th><th>float32</th><th>float32</th><th>float32</th><th>bool</th><th>bool</th><th>bool</th><th>bool</th><th>bool</th><th>bool</th><th>float64</th><th>float64</th><th>float64</th><th>float64</th><th>float64</th><th>float64</th><th>float64</th><th>float64</th><th>float64</th><th>float64</th><th>bool</th><th>bool</th><th>bool</th><th>bool</th><th>bool</th><th>bool</th><th>bool</th><th>bool</th><th>float64</th><th>float64</th><th>float64</th><th>float64</th><th>bool</th><th>bool</th><th>bool</th><th>bool</th><th>bool</th><th>float64</th><th>float64</th><th>float64</th><th>float64</th><th>float64</th><th>float64</th><th>float64</th><th>float64</th><th>float64</th><th>float64</th><th>bool</th><th>bool</th><th>bool</th><th>bool</th><th>bool</th><th>bool</th><th>bool</th><th>bool</th><th>bool</th><th>bool</th><th>bool</th><th>bool</th><th>float64</th><th>float64</th><th>float64</th><th>float64</th><th>float64</th><th>float64</th><th>float64</th><th>float64</th><th>float64</th><th>float64</th><th>bool</th><th>bool</th><th>bool</th><th>bool</th><th>bool</th><th>bool</th><th>bool</th><th>bool</th><th>float32</th><th>float32</th><th>float64</th><th>float64</th><th>bool</th><th>bool</th><th>bool</th><th>float64</th><th>float64</th><th>bool</th><th>bool</th><th>bool</th><th>float64</th><th>float64</th><th>bool</th><th>bool</th><th>bool</th><th>float64</th><th>float64</th><th>bool</th><th>bool</th><th>bool</th><th>float64</th><th>float64</th><th>float64</th><th>float64</th><th>float64</th><th>float64</th><th>bool</th><th>bool</th><th>bool</th><th>bool</th><th>bool</th><th>bool</th><th>bool</th><th>bool</th><th>bool</th><th>float64</th><th>float64</th><th>bool</th><th>bool</th><th>float64</th><th>float64</th><th>bool</th><th>bool</th><th>float64</th><th>float64</th><th>bool</th><th>bool</th><th>float64</th><th>float64</th><th>bool</th><th>bool</th><th>float64</th><th>float64</th><th>bool</th><th>bool</th><th>float64</th><th>float64</th><th>float64</th><th>float64</th><th>float64</th><th>float64</th><th>bool</th><th>bool</th><th>bool</th><th>float64</th><th>float64</th><th>bool</th><th>bool</th><th>bool</th><th>bool</th><th>bool</th><th>bool</th><th>bool</th><th>bool</th><th>bool</th><th>bool</th><th>bool</th><th>bool</th><th>bool</th><th>bool</th><th>bool</th><th>float64</th><th>float64</th><th>float64</th><th>float64</th><th>float32</th><th>float32</th><th>bool</th><th>bool</th><th>bool</th><th>bool</th><th>bool</th><th>bool</th><th>bool</th><th>float64</th><th>bool</th><th>float64</th><th>float64</th><th>float32</th><th>float32</th><th>float32</th><th>bool</th><th>bool</th><th>bool</th><th>bool</th><th>bool</th><th>bool</th><th>bool</th><th>bool</th><th>bool</th><th>bool</th><th>float64</th><th>float64</th><th>float64</th><th>float64</th><th>float64</th><th>float64</th><th>bool</th><th>bool</th><th>bool</th><th>float64</th><th>float64</th><th>float64</th><th>float64</th><th>bool</th><th>bool</th><th>float64</th><th>float64</th><th>bool</th><th>float64</th><th>bool</th><th>int32</th><th>bool</th><th>bool</th><th>bool</th><th>float64</th><th>float64</th><th>float64</th><th>float64</th><th>float64</th><th>float64</th></tr></thead>\n",
       "<tr><td>34363434455793665</td><td>1.2451332744442976</td><td>-0.5304556590306023</td><td>0</td><td>True</td><td>False</td><td>False</td><td>False</td><td>0</td><td>False</td><td>nan</td><td>nan</td><td>nan</td><td>False</td><td>False</td><td>False</td><td>False</td><td>False</td><td>False</td><td>False</td><td>1218.9358940603615</td><td>6.956234552894472</td><td>False</td><td>False</td><td>False</td><td>False</td><td>1219.0</td><td>1219.0</td><td>7.0</td><td>7.0</td><td>nan</td><td>nan</td><td>nan</td><td>nan</td><td>True</td><td>True</td><td>True</td><td>True</td><td>True</td><td>True</td><td>True</td><td>True</td><td>True</td><td>True</td><td>True</td><td>True</td><td>True</td><td>True</td><td>True</td><td>True</td><td>True</td><td>True</td><td>True</td><td>True</td><td>True</td><td>True</td><td>True</td><td>True</td><td>True</td><td>True</td><td>True</td><td>True</td><td>False</td><td>False</td><td>False</td><td>False</td><td>False</td><td>False</td><td>False</td><td>False</td><td>False</td><td>False</td><td>False</td><td>False</td><td>False</td><td>False</td><td>False</td><td>False</td><td>False</td><td>False</td><td>False</td><td>False</td><td>False</td><td>False</td><td>False</td><td>False</td><td>False</td><td>False</td><td>False</td><td>False</td><td>False</td><td>False</td><td>False</td><td>False</td><td>False</td><td>False</td><td>False</td><td>False</td><td>False</td><td>False</td><td>False</td><td>False</td><td>False</td><td>False</td><td>False</td><td>False</td><td>False</td><td>False</td><td>False</td><td>False</td><td>False</td><td>False</td><td>False</td><td>False</td><td>False</td><td>False</td><td>False</td><td>False</td><td>False</td><td>False</td><td>False</td><td>False</td><td>False</td><td>False</td><td>False</td><td>False</td><td>False</td><td>False</td><td>False</td><td>False</td><td>False</td><td>False</td><td>0.0</td><td>0.0</td><td>86105.0499584654</td><td>86105.0499584654</td><td>0.0</td><td>86103.10525146249</td><td>86103.10525146249</td><td>4.27144993194279</td><td>4.254207562566574</td><td>0.031590348745585944</td><td>4.27144993194279</td><td>4.254207562566574</td><td>0.031590348745585944</td><td>4.270825492800502</td><td>4.253913950800135</td><td>0.03391629156361592</td><td>4.270825492800502</td><td>4.253913950800135</td><td>0.03391629156361592</td><td>True</td><td>True</td><td>True</td><td>-262.275</td><td>-19.334999999999997</td><td>False</td><td>False</td><td>0.9990278119943633</td><td>False</td><td>4.34587923101021</td><td>4.331228079296036</td><td>0.07788233106707648</td><td>0.104733065</td><td>0.073944435</td><td>0.10437998</td><td>1218.8469033339827</td><td>6.872787680042149</td><td>88187.66401368938</td><td>1062.6346861080883</td><td>4.209780395963982</td><td>4.250445065742829</td><td>0.005477041708410557</td><td>-55.64649</td><td>-0.9972387</td><td>-55.4589</td><td>False</td><td>False</td><td>False</td><td>False</td><td>False</td><td>False</td><td>-0.0007678702068951279</td><td>-0.0007678702068951279</td><td>-0.002654656675990664</td><td>-0.002654656675990664</td><td>4.211531724009447</td><td>4.211531724009447</td><td>4.2522099348784765</td><td>4.2522099348784765</td><td>0.005347680010377551</td><td>0.005347680010377551</td><td>True</td><td>True</td><td>False</td><td>False</td><td>False</td><td>False</td><td>False</td><td>False</td><td>3.1356282234191895</td><td>-1.8852421045303345</td><td>10.106735229492188</td><td>0.0011888424633070827</td><td>False</td><td>False</td><td>False</td><td>False</td><td>False</td><td>1218.6992736630893</td><td>1218.6992736630893</td><td>6.753340064062633</td><td>6.753340064062633</td><td>4.23859353486747</td><td>4.23859353486747</td><td>4.217233447294036</td><td>4.217233447294036</td><td>-0.010091036319342276</td><td>-0.010091036319342276</td><td>True</td><td>True</td><td>True</td><td>False</td><td>False</td><td>False</td><td>False</td><td>False</td><td>False</td><td>False</td><td>False</td><td>False</td><td>1218.699289489626</td><td>1218.699289489626</td><td>6.753363317962942</td><td>6.753363317962942</td><td>4.232745926149244</td><td>4.232745926149244</td><td>4.2225630461929695</td><td>4.2225630461929695</td><td>-0.004770052122799666</td><td>-0.004770052122799666</td><td>True</td><td>True</td><td>False</td><td>False</td><td>False</td><td>False</td><td>False</td><td>False</td><td>87817.19</td><td>87817.19</td><td>56743.421875</td><td>475.9626770019531</td><td>True</td><td>False</td><td>False</td><td>79009.4453125</td><td>670.5922241210938</td><td>True</td><td>False</td><td>True</td><td>87979.8125</td><td>855.5762939453125</td><td>True</td><td>False</td><td>True</td><td>nan</td><td>nan</td><td>True</td><td>True</td><td>True</td><td>nan</td><td>nan</td><td>nan</td><td>nan</td><td>nan</td><td>nan</td><td>True</td><td>True</td><td>True</td><td>True</td><td>True</td><td>True</td><td>True</td><td>True</td><td>True</td><td>nan</td><td>nan</td><td>True</td><td>True</td><td>nan</td><td>nan</td><td>True</td><td>True</td><td>nan</td><td>nan</td><td>True</td><td>True</td><td>nan</td><td>nan</td><td>True</td><td>True</td><td>nan</td><td>nan</td><td>True</td><td>True</td><td>93977.30661654753</td><td>93977.30661654753</td><td>93977.30661654753</td><td>800.8305163527903</td><td>800.8305163527903</td><td>800.8305163527903</td><td>False</td><td>False</td><td>False</td><td>4.6452528878846</td><td>74.69037668348096</td><td>True</td><td>False</td><td>False</td><td>False</td><td>False</td><td>True</td><td>False</td><td>False</td><td>False</td><td>False</td><td>False</td><td>False</td><td>False</td><td>False</td><td>False</td><td>93955.70823618962</td><td>93955.70823618962</td><td>732.3818139737758</td><td>732.3818139737758</td><td>62.429714</td><td>62.429714</td><td>True</td><td>True</td><td>False</td><td>False</td><td>True</td><td>True</td><td>False</td><td>5582.49267578125</td><td>False</td><td>nan</td><td>nan</td><td>nan</td><td>nan</td><td>nan</td><td>True</td><td>True</td><td>False</td><td>False</td><td>False</td><td>False</td><td>False</td><td>False</td><td>False</td><td>True</td><td>1.079560708841459</td><td>1.079560708841459</td><td>1.079560708841459</td><td>0.0</td><td>0.0</td><td>0.0</td><td>False</td><td>False</td><td>False</td><td>0.9890613611420338</td><td>0.9890613611420338</td><td>0.0</td><td>0.0</td><td>False</td><td>False</td><td>1.0325532130082347</td><td>0.0</td><td>False</td><td>nan</td><td>True</td><td>407</td><td>False</td><td>False</td><td>False</td><td>0.6606849207752934</td><td>0.00017543450833363202</td><td>5.425073526000387e-05</td><td>1.142678709084647e-05</td><td>1.1416404680850723e-05</td><td>-5.433135137285505e-05</td></tr>\n",
       "<tr><td>34363434455793666</td><td>1.2452265917705203</td><td>-0.530438773321301</td><td>0</td><td>False</td><td>False</td><td>False</td><td>False</td><td>2</td><td>False</td><td>nan</td><td>nan</td><td>nan</td><td>True</td><td>False</td><td>False</td><td>False</td><td>False</td><td>False</td><td>False</td><td>1304.294771187906</td><td>6.711072559162486</td><td>False</td><td>False</td><td>False</td><td>False</td><td>1304.0</td><td>1304.0</td><td>7.0</td><td>7.0</td><td>nan</td><td>nan</td><td>nan</td><td>nan</td><td>True</td><td>True</td><td>True</td><td>True</td><td>True</td><td>True</td><td>True</td><td>True</td><td>True</td><td>True</td><td>True</td><td>True</td><td>True</td><td>True</td><td>True</td><td>True</td><td>True</td><td>True</td><td>True</td><td>True</td><td>True</td><td>True</td><td>True</td><td>True</td><td>True</td><td>True</td><td>True</td><td>True</td><td>False</td><td>False</td><td>False</td><td>False</td><td>False</td><td>False</td><td>False</td><td>False</td><td>False</td><td>False</td><td>False</td><td>False</td><td>False</td><td>False</td><td>False</td><td>False</td><td>False</td><td>False</td><td>False</td><td>False</td><td>False</td><td>False</td><td>False</td><td>False</td><td>False</td><td>False</td><td>False</td><td>False</td><td>False</td><td>False</td><td>False</td><td>False</td><td>False</td><td>False</td><td>False</td><td>False</td><td>False</td><td>False</td><td>False</td><td>False</td><td>False</td><td>False</td><td>False</td><td>False</td><td>False</td><td>False</td><td>False</td><td>False</td><td>False</td><td>False</td><td>False</td><td>False</td><td>False</td><td>False</td><td>False</td><td>False</td><td>False</td><td>False</td><td>False</td><td>False</td><td>False</td><td>False</td><td>False</td><td>False</td><td>False</td><td>False</td><td>False</td><td>False</td><td>False</td><td>False</td><td>0.0</td><td>0.0</td><td>14486.547048333186</td><td>14486.547048333186</td><td>0.0</td><td>21087.828628325497</td><td>21087.828628325497</td><td>103.89469856144055</td><td>21.41701777485027</td><td>25.642431573094907</td><td>103.89469856144055</td><td>21.41701777485027</td><td>25.642431573094907</td><td>144.63149318564066</td><td>26.469986820112055</td><td>37.32362577803516</td><td>144.63149318564066</td><td>26.469986820112055</td><td>37.32362577803516</td><td>True</td><td>True</td><td>True</td><td>-261.42499999999995</td><td>-19.334999999999997</td><td>False</td><td>False</td><td>0.9990340720357708</td><td>False</td><td>12.125936291671472</td><td>21.64539700024164</td><td>-3.283594285055479</td><td>3.3627472</td><td>3.241501</td><td>6.0026703</td><td>1304.0829710426494</td><td>6.084496389586773</td><td>10879.198740622403</td><td>1508.501851145864</td><td>4.208562634844349</td><td>4.249434497195502</td><td>0.006536349832445914</td><td>-2536.3552</td><td>686.82227</td><td>-4527.5195</td><td>False</td><td>False</td><td>False</td><td>False</td><td>False</td><td>False</td><td>-0.0007807061048532802</td><td>-0.0007807061048532802</td><td>-0.0026169248615103714</td><td>-0.0026169248615103714</td><td>4.210392266241995</td><td>4.210392266241995</td><td>4.251155605757703</td><td>4.251155605757703</td><td>0.006390936580490331</td><td>0.006390936580490331</td><td>True</td><td>True</td><td>False</td><td>False</td><td>False</td><td>False</td><td>False</td><td>False</td><td>nan</td><td>nan</td><td>nan</td><td>nan</td><td>True</td><td>False</td><td>False</td><td>True</td><td>False</td><td>1310.022859901189</td><td>1310.022859901189</td><td>8.16514410936984</td><td>8.16514410936984</td><td>89.03049202168364</td><td>89.03049202168364</td><td>17.806249961928835</td><td>17.806249961928835</td><td>24.607737593890164</td><td>24.607737593890164</td><td>True</td><td>True</td><td>True</td><td>False</td><td>False</td><td>False</td><td>False</td><td>False</td><td>False</td><td>False</td><td>False</td><td>False</td><td>1304.085729841586</td><td>1304.085729841586</td><td>5.739070753477685</td><td>5.739070753477685</td><td>9.830536797324573</td><td>9.830536797324573</td><td>10.393659481484567</td><td>10.393659481484567</td><td>-0.6784910800190128</td><td>-0.6784910800190128</td><td>True</td><td>True</td><td>False</td><td>False</td><td>False</td><td>False</td><td>False</td><td>False</td><td>8245.234</td><td>8245.234</td><td>2402.0224609375</td><td>387.380615234375</td><td>True</td><td>False</td><td>False</td><td>5208.06201171875</td><td>586.4589233398438</td><td>True</td><td>False</td><td>True</td><td>6920.2783203125</td><td>784.4983520507812</td><td>True</td><td>False</td><td>True</td><td>nan</td><td>nan</td><td>True</td><td>True</td><td>True</td><td>nan</td><td>nan</td><td>nan</td><td>nan</td><td>nan</td><td>nan</td><td>True</td><td>True</td><td>True</td><td>True</td><td>True</td><td>True</td><td>True</td><td>True</td><td>True</td><td>nan</td><td>nan</td><td>True</td><td>True</td><td>nan</td><td>nan</td><td>True</td><td>True</td><td>nan</td><td>nan</td><td>True</td><td>True</td><td>nan</td><td>nan</td><td>True</td><td>True</td><td>nan</td><td>nan</td><td>True</td><td>True</td><td>16250.274917255198</td><td>16250.274917255198</td><td>16250.274917255198</td><td>1617.4058755478613</td><td>1617.4058755478613</td><td>1617.4058755478613</td><td>False</td><td>False</td><td>False</td><td>3.827154403061647</td><td>75.85764532111628</td><td>True</td><td>False</td><td>False</td><td>False</td><td>False</td><td>True</td><td>False</td><td>False</td><td>False</td><td>False</td><td>False</td><td>False</td><td>False</td><td>False</td><td>False</td><td>4817.49497177798</td><td>4817.49497177798</td><td>590.7903741778207</td><td>590.7903741778207</td><td>62.440235</td><td>62.440235</td><td>True</td><td>True</td><td>False</td><td>False</td><td>True</td><td>True</td><td>False</td><td>5521.81640625</td><td>False</td><td>nan</td><td>nan</td><td>nan</td><td>nan</td><td>nan</td><td>True</td><td>True</td><td>False</td><td>False</td><td>False</td><td>False</td><td>False</td><td>False</td><td>False</td><td>True</td><td>1.0795042492319356</td><td>1.0795042492319356</td><td>1.0795042492319356</td><td>0.0</td><td>0.0</td><td>0.0</td><td>False</td><td>False</td><td>False</td><td>0.9888587745239013</td><td>0.9888587745239013</td><td>0.0</td><td>0.0</td><td>False</td><td>False</td><td>1.0326283908216305</td><td>0.0</td><td>False</td><td>nan</td><td>True</td><td>388</td><td>False</td><td>False</td><td>False</td><td>0.6606849207752934</td><td>0.00017543450833363202</td><td>5.425161897287193e-05</td><td>1.1426873652866909e-05</td><td>1.141640438854007e-05</td><td>-5.433168196149553e-05</td></tr>\n",
       "<tr><td>34363434455793667</td><td>1.2455904388452663</td><td>-0.5303748789081031</td><td>0</td><td>False</td><td>False</td><td>False</td><td>False</td><td>0</td><td>False</td><td>nan</td><td>nan</td><td>nan</td><td>False</td><td>False</td><td>False</td><td>False</td><td>False</td><td>False</td><td>False</td><td>1634.931448035996</td><td>9.032211249497715</td><td>False</td><td>False</td><td>False</td><td>False</td><td>1635.0</td><td>1635.0</td><td>9.0</td><td>9.0</td><td>nan</td><td>nan</td><td>nan</td><td>nan</td><td>True</td><td>True</td><td>True</td><td>True</td><td>True</td><td>True</td><td>True</td><td>True</td><td>True</td><td>True</td><td>True</td><td>True</td><td>True</td><td>True</td><td>True</td><td>True</td><td>True</td><td>True</td><td>True</td><td>True</td><td>True</td><td>True</td><td>True</td><td>True</td><td>True</td><td>True</td><td>True</td><td>True</td><td>False</td><td>False</td><td>False</td><td>False</td><td>False</td><td>False</td><td>False</td><td>False</td><td>False</td><td>False</td><td>False</td><td>False</td><td>False</td><td>False</td><td>False</td><td>False</td><td>False</td><td>False</td><td>False</td><td>False</td><td>False</td><td>False</td><td>False</td><td>False</td><td>False</td><td>False</td><td>False</td><td>False</td><td>False</td><td>False</td><td>False</td><td>False</td><td>False</td><td>False</td><td>False</td><td>False</td><td>False</td><td>False</td><td>False</td><td>False</td><td>False</td><td>False</td><td>False</td><td>False</td><td>False</td><td>False</td><td>False</td><td>False</td><td>False</td><td>False</td><td>False</td><td>False</td><td>False</td><td>False</td><td>False</td><td>False</td><td>False</td><td>False</td><td>False</td><td>False</td><td>False</td><td>False</td><td>False</td><td>False</td><td>False</td><td>False</td><td>False</td><td>False</td><td>False</td><td>False</td><td>0.0</td><td>0.0</td><td>16083.698866903937</td><td>16083.698866903937</td><td>0.0</td><td>16645.147573667215</td><td>16645.147573667215</td><td>10.965509520022573</td><td>9.790548095583441</td><td>-2.419925351256709</td><td>10.965509520022573</td><td>9.790548095583441</td><td>-2.419925351256709</td><td>12.332369976265348</td><td>11.078546052536282</td><td>-2.422105325054855</td><td>12.332369976265348</td><td>11.078546052536282</td><td>-2.422105325054855</td><td>True</td><td>True</td><td>True</td><td>-258.11499999999995</td><td>-19.314999999999998</td><td>False</td><td>False</td><td>0.9990582661131738</td><td>False</td><td>11.555230035960568</td><td>11.071789535601953</td><td>-2.9175284777542</td><td>1.715883</td><td>1.2265333</td><td>1.644095</td><td>1634.7421556681943</td><td>8.990263099444501</td><td>17046.85878078686</td><td>1265.6785480112674</td><td>4.205647204669408</td><td>4.245349355255767</td><td>0.010481401892374979</td><td>-1085.8782</td><td>274.16852</td><td>-1040.4479</td><td>False</td><td>False</td><td>False</td><td>False</td><td>False</td><td>False</td><td>-0.0008536316566153355</td><td>-0.0008536316566153355</td><td>-0.002469306195039765</td><td>-0.002469306195039765</td><td>4.20739941419607</td><td>4.20739941419607</td><td>4.247109025023588</td><td>4.247109025023588</td><td>0.010399645223658627</td><td>0.010399645223658627</td><td>True</td><td>True</td><td>False</td><td>False</td><td>False</td><td>False</td><td>False</td><td>False</td><td>0.1578720211982727</td><td>-0.4668707251548767</td><td>0.16019606590270996</td><td>0.5587869882583618</td><td>False</td><td>False</td><td>False</td><td>False</td><td>False</td><td>1634.472686063043</td><td>1634.472686063043</td><td>9.058898500536307</td><td>9.058898500536307</td><td>11.077726293947212</td><td>11.077726293947212</td><td>9.53483591992692</td><td>9.53483591992692</td><td>-2.334023793744793</td><td>-2.334023793744793</td><td>True</td><td>True</td><td>True</td><td>False</td><td>False</td><td>False</td><td>False</td><td>False</td><td>False</td><td>False</td><td>False</td><td>False</td><td>1634.496233458917</td><td>1634.496233458917</td><td>9.014711770497318</td><td>9.014711770497318</td><td>10.015863571458622</td><td>10.015863571458622</td><td>9.674400021219975</td><td>9.674400021219975</td><td>-1.0185033866986255</td><td>-1.0185033866986255</td><td>True</td><td>True</td><td>False</td><td>False</td><td>False</td><td>False</td><td>False</td><td>False</td><td>16056.076</td><td>16056.076</td><td>6124.9775390625</td><td>394.07769775390625</td><td>True</td><td>False</td><td>False</td><td>10093.265625</td><td>592.4029541015625</td><td>True</td><td>False</td><td>True</td><td>13221.6318359375</td><td>789.9754638671875</td><td>True</td><td>False</td><td>True</td><td>17352.193359375</td><td>1183.4234619140625</td><td>True</td><td>False</td><td>True</td><td>nan</td><td>nan</td><td>nan</td><td>nan</td><td>nan</td><td>nan</td><td>True</td><td>True</td><td>True</td><td>True</td><td>True</td><td>True</td><td>True</td><td>True</td><td>True</td><td>nan</td><td>nan</td><td>True</td><td>True</td><td>nan</td><td>nan</td><td>True</td><td>True</td><td>nan</td><td>nan</td><td>True</td><td>True</td><td>nan</td><td>nan</td><td>True</td><td>True</td><td>nan</td><td>nan</td><td>True</td><td>True</td><td>17593.434355793066</td><td>17593.434355793066</td><td>17593.434355793066</td><td>924.4192830634271</td><td>924.4192830634271</td><td>924.4192830634271</td><td>False</td><td>False</td><td>False</td><td>2.2638004081259693</td><td>72.98704007942449</td><td>True</td><td>False</td><td>False</td><td>False</td><td>False</td><td>True</td><td>False</td><td>False</td><td>False</td><td>False</td><td>False</td><td>False</td><td>False</td><td>False</td><td>False</td><td>10697.0322328059</td><td>10697.0322328059</td><td>600.3334780966854</td><td>600.3334780966854</td><td>62.8033</td><td>62.8033</td><td>True</td><td>True</td><td>False</td><td>False</td><td>True</td><td>True</td><td>False</td><td>5540.1015625</td><td>False</td><td>nan</td><td>nan</td><td>nan</td><td>nan</td><td>nan</td><td>True</td><td>True</td><td>False</td><td>False</td><td>False</td><td>False</td><td>False</td><td>False</td><td>False</td><td>True</td><td>1.0793017026296374</td><td>1.0793017026296374</td><td>1.0793017026296374</td><td>0.0</td><td>0.0</td><td>0.0</td><td>False</td><td>False</td><td>False</td><td>0.9883634344400722</td><td>0.9883634344400722</td><td>0.0</td><td>0.0</td><td>False</td><td>False</td><td>1.0329762672271374</td><td>0.0</td><td>False</td><td>nan</td><td>True</td><td>340</td><td>False</td><td>False</td><td>False</td><td>0.6606849207752934</td><td>0.00017543450833363202</td><td>5.4255062318849715e-05</td><td>1.1427210266113282e-05</td><td>1.1416395471676701e-05</td><td>-5.4332969390699597e-05</td></tr>\n",
       "<tr><td>34363434455793668</td><td>1.2458918800916443</td><td>-0.5303182780198765</td><td>0</td><td>False</td><td>False</td><td>False</td><td>False</td><td>0</td><td>False</td><td>nan</td><td>nan</td><td>nan</td><td>False</td><td>False</td><td>False</td><td>False</td><td>False</td><td>False</td><td>False</td><td>1909.8542364306495</td><td>7.036537247519804</td><td>False</td><td>False</td><td>False</td><td>False</td><td>1910.0</td><td>1910.0</td><td>7.0</td><td>7.0</td><td>nan</td><td>nan</td><td>nan</td><td>nan</td><td>True</td><td>True</td><td>True</td><td>True</td><td>True</td><td>True</td><td>True</td><td>True</td><td>True</td><td>True</td><td>True</td><td>True</td><td>True</td><td>True</td><td>True</td><td>True</td><td>True</td><td>True</td><td>True</td><td>True</td><td>True</td><td>True</td><td>True</td><td>True</td><td>True</td><td>True</td><td>True</td><td>True</td><td>False</td><td>False</td><td>False</td><td>False</td><td>False</td><td>False</td><td>False</td><td>False</td><td>False</td><td>False</td><td>False</td><td>False</td><td>False</td><td>False</td><td>False</td><td>False</td><td>False</td><td>False</td><td>False</td><td>False</td><td>False</td><td>False</td><td>False</td><td>False</td><td>False</td><td>False</td><td>False</td><td>False</td><td>False</td><td>False</td><td>False</td><td>False</td><td>False</td><td>False</td><td>False</td><td>False</td><td>False</td><td>False</td><td>False</td><td>False</td><td>False</td><td>False</td><td>False</td><td>False</td><td>False</td><td>False</td><td>False</td><td>False</td><td>False</td><td>False</td><td>False</td><td>False</td><td>False</td><td>False</td><td>False</td><td>False</td><td>False</td><td>False</td><td>False</td><td>False</td><td>False</td><td>False</td><td>False</td><td>False</td><td>False</td><td>False</td><td>False</td><td>False</td><td>False</td><td>False</td><td>0.0</td><td>0.0</td><td>4667.677055186728</td><td>4667.677055186728</td><td>0.0</td><td>6507.274150674464</td><td>6507.274150674464</td><td>8.768011443219995</td><td>9.290044301620155</td><td>1.9786654892638798</td><td>8.768011443219995</td><td>9.290044301620155</td><td>1.9786654892638798</td><td>14.925589500586563</td><td>14.340179722250554</td><td>3.814031096062386</td><td>14.925589500586563</td><td>14.340179722250554</td><td>3.814031096062386</td><td>True</td><td>True</td><td>True</td><td>-255.36499999999998</td><td>-19.334999999999997</td><td>False</td><td>False</td><td>0.9990781128457439</td><td>False</td><td>5.145062486004842</td><td>5.7579859083466625</td><td>2.8187260621212697</td><td>nan</td><td>nan</td><td>nan</td><td>1909.9025343307496</td><td>7.122012026647483</td><td>nan</td><td>nan</td><td>4.204346829236889</td><td>4.242374690406225</td><td>0.013897464571754843</td><td>nan</td><td>nan</td><td>nan</td><td>True</td><td>False</td><td>True</td><td>False</td><td>False</td><td>False</td><td>-0.0009475395655310479</td><td>-0.0009475395655310479</td><td>-0.002362332078411705</td><td>-0.002362332078411705</td><td>4.206098405544302</td><td>4.206098405544302</td><td>4.244142395469417</td><td>4.244142395469417</td><td>0.013846408336939144</td><td>0.013846408336939144</td><td>True</td><td>True</td><td>False</td><td>False</td><td>False</td><td>False</td><td>False</td><td>False</td><td>0.06754078716039658</td><td>0.3789132535457611</td><td>0.6748042702674866</td><td>0.5368011593818665</td><td>False</td><td>False</td><td>False</td><td>False</td><td>False</td><td>1909.4205218486388</td><td>1909.4205218486388</td><td>6.458027839835342</td><td>6.458027839835342</td><td>9.817447339656159</td><td>9.817447339656159</td><td>8.972790970379844</td><td>8.972790970379844</td><td>2.2491085009637004</td><td>2.2491085009637004</td><td>True</td><td>True</td><td>True</td><td>False</td><td>False</td><td>False</td><td>False</td><td>False</td><td>False</td><td>False</td><td>False</td><td>False</td><td>1909.4603317935694</td><td>1909.4603317935694</td><td>6.526396484174429</td><td>6.526396484174429</td><td>8.808308541428767</td><td>8.808308541428767</td><td>8.650116591470265</td><td>8.650116591470265</td><td>1.164968451791869</td><td>1.164968451791869</td><td>True</td><td>True</td><td>False</td><td>False</td><td>False</td><td>False</td><td>False</td><td>False</td><td>4691.7017</td><td>4691.7017</td><td>1899.677978515625</td><td>386.30364990234375</td><td>True</td><td>False</td><td>False</td><td>3102.4384765625</td><td>583.724853515625</td><td>True</td><td>False</td><td>True</td><td>4035.127685546875</td><td>781.5891723632812</td><td>True</td><td>False</td><td>True</td><td>nan</td><td>nan</td><td>True</td><td>True</td><td>True</td><td>nan</td><td>nan</td><td>nan</td><td>nan</td><td>nan</td><td>nan</td><td>True</td><td>True</td><td>True</td><td>True</td><td>True</td><td>True</td><td>True</td><td>True</td><td>True</td><td>nan</td><td>nan</td><td>True</td><td>True</td><td>nan</td><td>nan</td><td>True</td><td>True</td><td>nan</td><td>nan</td><td>True</td><td>True</td><td>nan</td><td>nan</td><td>True</td><td>True</td><td>nan</td><td>nan</td><td>True</td><td>True</td><td>5115.987426431859</td><td>5115.987426431859</td><td>5115.987426431859</td><td>855.0388462920753</td><td>855.0388462920753</td><td>855.0388462920753</td><td>False</td><td>False</td><td>False</td><td>4.683975128653346</td><td>75.37526783516714</td><td>True</td><td>False</td><td>False</td><td>False</td><td>False</td><td>True</td><td>False</td><td>False</td><td>False</td><td>False</td><td>False</td><td>False</td><td>False</td><td>False</td><td>False</td><td>3252.27050026401</td><td>3252.27050026401</td><td>588.118464070215</td><td>588.118464070215</td><td>62.47735</td><td>62.47735</td><td>True</td><td>True</td><td>False</td><td>False</td><td>True</td><td>True</td><td>False</td><td>5515.744140625</td><td>False</td><td>nan</td><td>nan</td><td>nan</td><td>nan</td><td>nan</td><td>True</td><td>True</td><td>False</td><td>False</td><td>False</td><td>False</td><td>False</td><td>False</td><td>False</td><td>True</td><td>1.0791256902918527</td><td>1.0791256902918527</td><td>1.0791256902918527</td><td>0.0</td><td>0.0</td><td>0.0</td><td>False</td><td>False</td><td>False</td><td>0.9882805892959882</td><td>0.9882805892959882</td><td>0.0</td><td>0.0</td><td>False</td><td>False</td><td>1.0333044204676392</td><td>0.0</td><td>False</td><td>nan</td><td>True</td><td>112</td><td>False</td><td>False</td><td>False</td><td>0.6606849207752934</td><td>0.00017543450833363202</td><td>5.425791937090968e-05</td><td>1.1427490786743164e-05</td><td>1.1416402304585242e-05</td><td>-5.433403886500767e-05</td></tr>\n",
       "<tr><td>34363434455793669</td><td>1.2474402257837838</td><td>-0.5300390671190951</td><td>0</td><td>False</td><td>False</td><td>False</td><td>False</td><td>0</td><td>False</td><td>nan</td><td>nan</td><td>nan</td><td>False</td><td>False</td><td>False</td><td>False</td><td>False</td><td>False</td><td>False</td><td>3319.9517107092734</td><td>8.926864689455615</td><td>False</td><td>False</td><td>False</td><td>False</td><td>3320.0</td><td>3320.0</td><td>9.0</td><td>9.0</td><td>nan</td><td>nan</td><td>nan</td><td>nan</td><td>True</td><td>True</td><td>True</td><td>True</td><td>True</td><td>True</td><td>True</td><td>True</td><td>True</td><td>True</td><td>True</td><td>True</td><td>True</td><td>True</td><td>True</td><td>True</td><td>True</td><td>True</td><td>True</td><td>True</td><td>True</td><td>True</td><td>True</td><td>True</td><td>True</td><td>True</td><td>True</td><td>True</td><td>False</td><td>False</td><td>False</td><td>False</td><td>False</td><td>False</td><td>False</td><td>False</td><td>False</td><td>False</td><td>False</td><td>False</td><td>False</td><td>False</td><td>False</td><td>False</td><td>False</td><td>False</td><td>False</td><td>False</td><td>False</td><td>False</td><td>False</td><td>False</td><td>False</td><td>False</td><td>False</td><td>False</td><td>False</td><td>False</td><td>False</td><td>False</td><td>False</td><td>False</td><td>False</td><td>False</td><td>False</td><td>False</td><td>False</td><td>False</td><td>False</td><td>False</td><td>False</td><td>False</td><td>False</td><td>False</td><td>False</td><td>False</td><td>False</td><td>False</td><td>False</td><td>False</td><td>False</td><td>False</td><td>False</td><td>False</td><td>False</td><td>False</td><td>False</td><td>False</td><td>False</td><td>False</td><td>False</td><td>False</td><td>False</td><td>False</td><td>False</td><td>False</td><td>False</td><td>False</td><td>0.0</td><td>0.0</td><td>10700.9879390957</td><td>10700.9879390957</td><td>0.0</td><td>11022.605191379298</td><td>11022.605191379298</td><td>7.4536152899997425</td><td>7.366136229691883</td><td>-0.586916079559778</td><td>7.4536152899997425</td><td>7.366136229691883</td><td>-0.586916079559778</td><td>8.114483539865178</td><td>8.913365054799748</td><td>-0.690810702636593</td><td>8.114483539865178</td><td>8.913365054799748</td><td>-0.690810702636593</td><td>True</td><td>True</td><td>True</td><td>-241.265</td><td>-19.314999999999998</td><td>False</td><td>False</td><td>0.9991766061199018</td><td>False</td><td>8.126343540751904</td><td>7.386380660277821</td><td>-0.4590889487682502</td><td>1.5629814</td><td>1.0555241</td><td>1.4206605</td><td>3319.755552191863</td><td>9.124399215381853</td><td>11191.234167648483</td><td>1076.2337010013214</td><td>4.22033511389815</td><td>4.229294132754925</td><td>0.03136264560364299</td><td>-841.06665</td><td>47.51514</td><td>-764.4813</td><td>False</td><td>False</td><td>False</td><td>False</td><td>False</td><td>False</td><td>-0.0017996797641518843</td><td>-0.0017996797641518843</td><td>-0.0018688916368219805</td><td>-0.0018688916368219805</td><td>4.222170550230313</td><td>4.222170550230313</td><td>4.231130684767807</td><td>4.231130684767807</td><td>0.031467231279462084</td><td>0.031467231279462084</td><td>True</td><td>True</td><td>False</td><td>False</td><td>False</td><td>False</td><td>False</td><td>False</td><td>-0.14952439069747925</td><td>-0.3724217712879181</td><td>0.2967754006385803</td><td>0.3761681914329529</td><td>False</td><td>False</td><td>False</td><td>False</td><td>False</td><td>3319.4991022867407</td><td>3319.4991022867407</td><td>9.267783996905747</td><td>9.267783996905747</td><td>7.133766481535938</td><td>7.133766481535938</td><td>7.408898295489619</td><td>7.408898295489619</td><td>-0.549175889246665</td><td>-0.549175889246665</td><td>True</td><td>True</td><td>True</td><td>False</td><td>False</td><td>False</td><td>False</td><td>False</td><td>False</td><td>False</td><td>False</td><td>False</td><td>3319.50414781645</td><td>3319.50414781645</td><td>9.23861262348923</td><td>9.23861262348923</td><td>7.302487502219447</td><td>7.302487502219447</td><td>7.395632790327182</td><td>7.395632790327182</td><td>-0.2159996355910371</td><td>-0.2159996355910371</td><td>True</td><td>True</td><td>False</td><td>False</td><td>False</td><td>False</td><td>False</td><td>False</td><td>10999.212</td><td>10999.212</td><td>5031.6591796875</td><td>391.9811096191406</td><td>True</td><td>False</td><td>False</td><td>7615.2939453125</td><td>589.0430297851562</td><td>True</td><td>False</td><td>True</td><td>10204.095703125</td><td>786.8228759765625</td><td>True</td><td>False</td><td>True</td><td>11554.3310546875</td><td>1179.3702392578125</td><td>True</td><td>False</td><td>True</td><td>nan</td><td>nan</td><td>nan</td><td>nan</td><td>nan</td><td>nan</td><td>True</td><td>True</td><td>True</td><td>True</td><td>True</td><td>True</td><td>True</td><td>True</td><td>True</td><td>nan</td><td>nan</td><td>True</td><td>True</td><td>nan</td><td>nan</td><td>True</td><td>True</td><td>nan</td><td>nan</td><td>True</td><td>True</td><td>nan</td><td>nan</td><td>True</td><td>True</td><td>nan</td><td>nan</td><td>True</td><td>True</td><td>11674.548750382266</td><td>11674.548750382266</td><td>11674.548750382266</td><td>794.5582766434172</td><td>794.5582766434172</td><td>794.5582766434172</td><td>False</td><td>False</td><td>False</td><td>2.5348609412994447</td><td>74.992414021587</td><td>True</td><td>False</td><td>False</td><td>False</td><td>False</td><td>True</td><td>False</td><td>False</td><td>False</td><td>False</td><td>False</td><td>False</td><td>False</td><td>False</td><td>False</td><td>8707.842790384559</td><td>8707.842790384559</td><td>598.6683910062317</td><td>598.6683910062317</td><td>62.6101</td><td>62.6101</td><td>True</td><td>True</td><td>False</td><td>False</td><td>True</td><td>True</td><td>False</td><td>5522.828125</td><td>False</td><td>nan</td><td>nan</td><td>nan</td><td>nan</td><td>nan</td><td>True</td><td>True</td><td>False</td><td>False</td><td>False</td><td>False</td><td>False</td><td>False</td><td>False</td><td>True</td><td>1.078418085640801</td><td>1.078418085640801</td><td>1.078418085640801</td><td>0.0</td><td>0.0</td><td>0.0</td><td>False</td><td>False</td><td>False</td><td>0.9928200866291798</td><td>0.9928200866291798</td><td>0.0</td><td>0.0</td><td>False</td><td>False</td><td>1.0358359150119627</td><td>0.0</td><td>False</td><td>nan</td><td>True</td><td>297</td><td>False</td><td>False</td><td>False</td><td>0.6606849207752934</td><td>0.00017543450833363202</td><td>5.4272580743385515e-05</td><td>1.1428926225450304e-05</td><td>1.1416389677028427e-05</td><td>-5.433952282663981e-05</td></tr>\n",
       "<tr><td>34363434455793670</td><td>1.2453627799299263</td><td>-0.5304190738741331</td><td>0</td><td>False</td><td>False</td><td>False</td><td>False</td><td>0</td><td>False</td><td>nan</td><td>nan</td><td>nan</td><td>False</td><td>False</td><td>False</td><td>False</td><td>False</td><td>False</td><td>False</td><td>1427.0933369897584</td><td>11.941475694386597</td><td>False</td><td>False</td><td>False</td><td>False</td><td>1427.0</td><td>1427.0</td><td>12.0</td><td>12.0</td><td>nan</td><td>nan</td><td>nan</td><td>nan</td><td>True</td><td>True</td><td>True</td><td>True</td><td>True</td><td>True</td><td>True</td><td>True</td><td>True</td><td>True</td><td>True</td><td>True</td><td>True</td><td>True</td><td>True</td><td>True</td><td>True</td><td>True</td><td>True</td><td>True</td><td>True</td><td>True</td><td>True</td><td>True</td><td>True</td><td>True</td><td>True</td><td>True</td><td>False</td><td>False</td><td>False</td><td>False</td><td>False</td><td>False</td><td>False</td><td>False</td><td>False</td><td>False</td><td>False</td><td>False</td><td>False</td><td>False</td><td>False</td><td>False</td><td>False</td><td>False</td><td>False</td><td>False</td><td>False</td><td>False</td><td>False</td><td>False</td><td>False</td><td>False</td><td>False</td><td>False</td><td>False</td><td>False</td><td>False</td><td>False</td><td>False</td><td>False</td><td>False</td><td>False</td><td>False</td><td>False</td><td>False</td><td>False</td><td>False</td><td>False</td><td>False</td><td>False</td><td>False</td><td>False</td><td>False</td><td>False</td><td>False</td><td>False</td><td>False</td><td>False</td><td>False</td><td>False</td><td>False</td><td>False</td><td>False</td><td>False</td><td>False</td><td>False</td><td>False</td><td>False</td><td>False</td><td>False</td><td>False</td><td>False</td><td>False</td><td>False</td><td>False</td><td>False</td><td>0.0</td><td>0.0</td><td>7791.420220659604</td><td>7791.420220659604</td><td>0.0</td><td>9402.09425480686</td><td>9402.09425480686</td><td>14.967687879974019</td><td>10.83931086173871</td><td>-0.2648619932339261</td><td>14.967687879974019</td><td>10.83931086173871</td><td>-0.2648619932339261</td><td>21.524855792704926</td><td>14.202008179428212</td><td>-0.23798132969126606</td><td>21.524855792704926</td><td>14.202008179428212</td><td>-0.23798132969126606</td><td>True</td><td>True</td><td>True</td><td>-260.195</td><td>-19.284999999999997</td><td>False</td><td>False</td><td>0.9990431217073515</td><td>False</td><td>15.712923095693828</td><td>10.718753414176007</td><td>-0.6501727000860597</td><td>5.356368</td><td>3.1321561</td><td>3.6539087</td><td>1426.7078126378287</td><td>11.9920173512865</td><td>8089.319942435485</td><td>1378.7814187113302</td><td>4.207697410070726</td><td>4.247626756946251</td><td>0.007863236150793887</td><td>-3692.6304</td><td>152.79446</td><td>-2518.9707</td><td>False</td><td>False</td><td>False</td><td>False</td><td>False</td><td>False</td><td>-0.0007990488160669236</td><td>-0.0007990488160669236</td><td>-0.0025496109016282676</td><td>-0.0025496109016282676</td><td>4.209442286291871</td><td>4.209442286291871</td><td>4.249389732900296</td><td>4.249389732900296</td><td>0.007760576123937494</td><td>0.007760576123937494</td><td>True</td><td>True</td><td>False</td><td>False</td><td>False</td><td>False</td><td>False</td><td>False</td><td>0.2595382332801819</td><td>-0.01355814840644598</td><td>0.33807265758514404</td><td>0.6384589076042175</td><td>False</td><td>False</td><td>False</td><td>False</td><td>False</td><td>1426.475862352734</td><td>1426.475862352734</td><td>11.917808774726028</td><td>11.917808774726028</td><td>14.204191978242733</td><td>14.204191978242733</td><td>10.618167342835692</td><td>10.618167342835692</td><td>-0.01754433298028828</td><td>-0.01754433298028828</td><td>True</td><td>True</td><td>True</td><td>False</td><td>False</td><td>False</td><td>False</td><td>False</td><td>False</td><td>False</td><td>False</td><td>False</td><td>1426.4310303718964</td><td>1426.4310303718964</td><td>11.902467988814784</td><td>11.902467988814784</td><td>13.630652099751366</td><td>13.630652099751366</td><td>11.267093172782824</td><td>11.267093172782824</td><td>0.11552816841433575</td><td>0.11552816841433575</td><td>True</td><td>True</td><td>False</td><td>False</td><td>False</td><td>False</td><td>False</td><td>False</td><td>7868.95</td><td>7868.95</td><td>2694.201416015625</td><td>388.0850524902344</td><td>True</td><td>False</td><td>False</td><td>3800.82470703125</td><td>584.8306884765625</td><td>True</td><td>False</td><td>True</td><td>5881.00048828125</td><td>783.2809448242188</td><td>True</td><td>False</td><td>True</td><td>8135.265625</td><td>1177.7481689453125</td><td>True</td><td>False</td><td>True</td><td>7844.14599609375</td><td>7844.14599609375</td><td>7844.14599609375</td><td>1571.4573974609375</td><td>1571.4573974609375</td><td>1571.4573974609375</td><td>True</td><td>True</td><td>True</td><td>False</td><td>False</td><td>False</td><td>True</td><td>True</td><td>True</td><td>nan</td><td>nan</td><td>True</td><td>True</td><td>nan</td><td>nan</td><td>True</td><td>True</td><td>nan</td><td>nan</td><td>True</td><td>True</td><td>nan</td><td>nan</td><td>True</td><td>True</td><td>nan</td><td>nan</td><td>True</td><td>True</td><td>8492.800916350778</td><td>8492.800916350778</td><td>8492.800916350778</td><td>1024.402639274845</td><td>1024.402639274845</td><td>1024.402639274845</td><td>False</td><td>False</td><td>False</td><td>0.6588798209335215</td><td>75.97048089257815</td><td>True</td><td>False</td><td>False</td><td>False</td><td>False</td><td>True</td><td>False</td><td>False</td><td>False</td><td>False</td><td>False</td><td>False</td><td>False</td><td>False</td><td>False</td><td>4616.795293695934</td><td>4616.795293695934</td><td>591.2191761324359</td><td>591.2191761324359</td><td>63.011322</td><td>63.011322</td><td>True</td><td>True</td><td>False</td><td>False</td><td>True</td><td>True</td><td>False</td><td>5523.9892578125</td><td>False</td><td>7521.722814957628</td><td>1465.4660767712726</td><td>4.308143</td><td>12.368471</td><td>2.5769567</td><td>True</td><td>False</td><td>False</td><td>False</td><td>False</td><td>False</td><td>False</td><td>False</td><td>False</td><td>True</td><td>1.07944724701467</td><td>1.07944724701467</td><td>1.07944724701467</td><td>0.0</td><td>0.0</td><td>0.0</td><td>False</td><td>False</td><td>False</td><td>0.9886414808187242</td><td>0.9886414808187242</td><td>0.0</td><td>0.0</td><td>False</td><td>False</td><td>1.0327687828668053</td><td>0.0</td><td>False</td><td>nan</td><td>True</td><td>216</td><td>False</td><td>False</td><td>False</td><td>0.6606849207752934</td><td>0.00017543450833363202</td><td>5.425290286050771e-05</td><td>1.1426997742970785e-05</td><td>1.1416384519123379e-05</td><td>-5.433216053759257e-05</td></tr>\n",
       "<tr><td>34363434455793671</td><td>1.2471131524236843</td><td>-0.5301035067062136</td><td>0</td><td>False</td><td>False</td><td>False</td><td>False</td><td>0</td><td>False</td><td>nan</td><td>nan</td><td>nan</td><td>False</td><td>False</td><td>False</td><td>False</td><td>False</td><td>False</td><td>False</td><td>3020.9849727106252</td><td>14.022454341576745</td><td>False</td><td>False</td><td>False</td><td>False</td><td>3021.0</td><td>3021.0</td><td>14.0</td><td>14.0</td><td>nan</td><td>nan</td><td>nan</td><td>nan</td><td>True</td><td>True</td><td>True</td><td>True</td><td>True</td><td>True</td><td>True</td><td>True</td><td>True</td><td>True</td><td>True</td><td>True</td><td>True</td><td>True</td><td>True</td><td>True</td><td>True</td><td>True</td><td>True</td><td>True</td><td>True</td><td>True</td><td>True</td><td>True</td><td>True</td><td>True</td><td>True</td><td>True</td><td>False</td><td>False</td><td>False</td><td>False</td><td>False</td><td>False</td><td>False</td><td>False</td><td>False</td><td>False</td><td>False</td><td>False</td><td>False</td><td>False</td><td>False</td><td>False</td><td>False</td><td>False</td><td>False</td><td>False</td><td>False</td><td>False</td><td>False</td><td>False</td><td>False</td><td>False</td><td>False</td><td>False</td><td>False</td><td>False</td><td>False</td><td>False</td><td>False</td><td>False</td><td>False</td><td>False</td><td>False</td><td>False</td><td>False</td><td>False</td><td>False</td><td>False</td><td>False</td><td>False</td><td>False</td><td>False</td><td>False</td><td>False</td><td>False</td><td>False</td><td>False</td><td>False</td><td>False</td><td>False</td><td>False</td><td>False</td><td>False</td><td>False</td><td>False</td><td>False</td><td>False</td><td>False</td><td>False</td><td>False</td><td>False</td><td>False</td><td>False</td><td>False</td><td>False</td><td>False</td><td>0.0</td><td>0.0</td><td>17768.933945306304</td><td>17768.933945306304</td><td>0.0</td><td>17862.905330213653</td><td>17862.905330213653</td><td>4.3425241058602575</td><td>4.436278842760658</td><td>0.17626323337755911</td><td>4.3425241058602575</td><td>4.436278842760658</td><td>0.17626323337755911</td><td>4.435554053131467</td><td>4.592722698018378</td><td>0.23341789432954144</td><td>4.435554053131467</td><td>4.592722698018378</td><td>0.23341789432954144</td><td>True</td><td>True</td><td>True</td><td>-244.25499999999997</td><td>-19.264999999999997</td><td>False</td><td>False</td><td>0.999156215474889</td><td>False</td><td>4.349006896634105</td><td>4.462941184936033</td><td>0.16707449915613773</td><td>0.40658948</td><td>0.29145315</td><td>0.41724122</td><td>3020.925002451335</td><td>14.002571569221345</td><td>17950.51099367719</td><td>839.0983637305103</td><td>4.214356601554268</td><td>4.231429484490761</td><td>0.02740421520203051</td><td>-170.58429</td><td>-6.5532856</td><td>-175.0532</td><td>False</td><td>False</td><td>False</td><td>False</td><td>False</td><td>False</td><td>-0.001562900059916875</td><td>-0.001562900059916875</td><td>-0.0019502121949725698</td><td>-0.0019502121949725698</td><td>4.216178567778572</td><td>4.216178567778572</td><td>4.233235136629946</td><td>4.233235136629946</td><td>0.027468961958085132</td><td>0.027468961958085132</td><td>True</td><td>True</td><td>False</td><td>False</td><td>False</td><td>False</td><td>False</td><td>False</td><td>0.41839516162872314</td><td>-1.1335456371307373</td><td>1.6018599271774292</td><td>0.03573920577764511</td><td>False</td><td>False</td><td>False</td><td>False</td><td>False</td><td>3020.8497228986325</td><td>3020.8497228986325</td><td>14.005470688891338</td><td>14.005470688891338</td><td>4.3555052237083345</td><td>4.3555052237083345</td><td>4.465937364486131</td><td>4.465937364486131</td><td>0.15586320769080908</td><td>0.15586320769080908</td><td>True</td><td>True</td><td>True</td><td>False</td><td>False</td><td>False</td><td>False</td><td>False</td><td>False</td><td>False</td><td>False</td><td>False</td><td>3020.8480411653295</td><td>3020.8480411653295</td><td>14.006141794789166</td><td>14.006141794789166</td><td>4.397402046819277</td><td>4.397402046819277</td><td>4.443594334179743</td><td>4.443594334179743</td><td>0.06885426173784558</td><td>0.06885426173784558</td><td>True</td><td>True</td><td>False</td><td>False</td><td>False</td><td>False</td><td>False</td><td>False</td><td>18007.113</td><td>18007.113</td><td>11247.443359375</td><td>402.7943420410156</td><td>True</td><td>False</td><td>False</td><td>16086.80859375</td><td>599.0492553710938</td><td>True</td><td>False</td><td>True</td><td>17886.7421875</td><td>793.66455078125</td><td>True</td><td>False</td><td>True</td><td>19523.90234375</td><td>1183.928466796875</td><td>True</td><td>False</td><td>True</td><td>21232.318359375</td><td>21232.318359375</td><td>21232.318359375</td><td>1576.396484375</td><td>1576.396484375</td><td>1576.396484375</td><td>True</td><td>True</td><td>True</td><td>False</td><td>False</td><td>False</td><td>True</td><td>True</td><td>True</td><td>nan</td><td>nan</td><td>True</td><td>True</td><td>nan</td><td>nan</td><td>True</td><td>True</td><td>nan</td><td>nan</td><td>True</td><td>True</td><td>nan</td><td>nan</td><td>True</td><td>True</td><td>nan</td><td>nan</td><td>True</td><td>True</td><td>19372.386323162646</td><td>19372.386323162646</td><td>19372.386323162646</td><td>640.3310562570989</td><td>640.3310562570989</td><td>640.3310562570989</td><td>False</td><td>False</td><td>False</td><td>1.2715604708153998</td><td>74.30862124793678</td><td>True</td><td>False</td><td>False</td><td>False</td><td>False</td><td>True</td><td>False</td><td>False</td><td>False</td><td>False</td><td>False</td><td>False</td><td>False</td><td>False</td><td>False</td><td>19010.625902669595</td><td>19010.625902669595</td><td>616.518646293868</td><td>616.518646293868</td><td>62.891575</td><td>62.891575</td><td>True</td><td>True</td><td>False</td><td>False</td><td>True</td><td>True</td><td>False</td><td>5593.37841796875</td><td>False</td><td>20223.48917077879</td><td>1246.6344988918715</td><td>3.662564</td><td>12.368471</td><td>2.5754905</td><td>True</td><td>False</td><td>False</td><td>False</td><td>False</td><td>False</td><td>False</td><td>False</td><td>False</td><td>True</td><td>1.0785769521083919</td><td>1.0785769521083919</td><td>1.0785769521083919</td><td>0.0</td><td>0.0</td><td>0.0</td><td>False</td><td>False</td><td>False</td><td>0.9911866342741877</td><td>0.9911866342741877</td><td>0.0</td><td>0.0</td><td>False</td><td>False</td><td>1.035209930351531</td><td>0.0</td><td>False</td><td>nan</td><td>True</td><td>362</td><td>False</td><td>False</td><td>False</td><td>0.6606849207752934</td><td>0.00017543450833363202</td><td>5.4269477221717044e-05</td><td>1.1428620562308176e-05</td><td>1.1416371258967178e-05</td><td>-5.4338360126495364e-05</td></tr>\n",
       "<tr><td>34363434455793672</td><td>1.2460871751393503</td><td>-0.5302917816570742</td><td>0</td><td>False</td><td>False</td><td>False</td><td>False</td><td>0</td><td>False</td><td>nan</td><td>nan</td><td>nan</td><td>False</td><td>False</td><td>False</td><td>False</td><td>False</td><td>False</td><td>False</td><td>2085.901704578844</td><td>16.413830346552306</td><td>False</td><td>False</td><td>False</td><td>False</td><td>2086.0</td><td>2086.0</td><td>16.0</td><td>16.0</td><td>nan</td><td>nan</td><td>nan</td><td>nan</td><td>True</td><td>True</td><td>True</td><td>True</td><td>True</td><td>True</td><td>True</td><td>True</td><td>True</td><td>True</td><td>True</td><td>True</td><td>True</td><td>True</td><td>True</td><td>True</td><td>True</td><td>True</td><td>True</td><td>True</td><td>True</td><td>True</td><td>True</td><td>True</td><td>True</td><td>True</td><td>True</td><td>True</td><td>False</td><td>False</td><td>False</td><td>False</td><td>False</td><td>False</td><td>False</td><td>False</td><td>False</td><td>False</td><td>False</td><td>False</td><td>False</td><td>False</td><td>False</td><td>False</td><td>False</td><td>False</td><td>False</td><td>False</td><td>False</td><td>False</td><td>False</td><td>False</td><td>False</td><td>False</td><td>False</td><td>False</td><td>False</td><td>False</td><td>False</td><td>False</td><td>False</td><td>False</td><td>False</td><td>False</td><td>False</td><td>False</td><td>False</td><td>False</td><td>False</td><td>False</td><td>False</td><td>False</td><td>False</td><td>False</td><td>False</td><td>False</td><td>False</td><td>False</td><td>False</td><td>False</td><td>False</td><td>False</td><td>False</td><td>False</td><td>False</td><td>False</td><td>False</td><td>False</td><td>False</td><td>False</td><td>False</td><td>False</td><td>False</td><td>False</td><td>False</td><td>False</td><td>False</td><td>False</td><td>0.0</td><td>0.0</td><td>3228.7372901497956</td><td>3228.7372901497956</td><td>0.0</td><td>3771.5087006760887</td><td>3771.5087006760887</td><td>4.568265227753787</td><td>4.448319436293253</td><td>-2.3967150487822333</td><td>4.568265227753787</td><td>4.448319436293253</td><td>-2.3967150487822333</td><td>6.081360514883549</td><td>6.797393709496359</td><td>-3.6063474213079285</td><td>6.081360514883549</td><td>6.797393709496359</td><td>-3.6063474213079285</td><td>True</td><td>True</td><td>True</td><td>-253.60499999999996</td><td>-19.244999999999997</td><td>False</td><td>False</td><td>0.9990907602237689</td><td>False</td><td>281.4937011643079</td><td>135.27295246230764</td><td>24.14323371056064</td><td>nan</td><td>nan</td><td>nan</td><td>2086.0054972903868</td><td>15.991011494430682</td><td>nan</td><td>nan</td><td>4.205131356768342</td><td>4.240046390837356</td><td>0.01577510256475004</td><td>nan</td><td>nan</td><td>nan</td><td>True</td><td>False</td><td>True</td><td>False</td><td>False</td><td>False</td><td>-0.001010243494183128</td><td>-0.001010243494183128</td><td>-0.0022709471250035983</td><td>-0.0022709471250035983</td><td>4.206902558871479</td><td>4.206902558871479</td><td>4.241809021786723</td><td>4.241809021786723</td><td>0.01573757030187591</td><td>0.01573757030187591</td><td>True</td><td>True</td><td>False</td><td>False</td><td>False</td><td>False</td><td>False</td><td>False</td><td>0.10336752235889435</td><td>-3.809664011001587</td><td>4.943058013916016</td><td>0.0644185021519661</td><td>False</td><td>False</td><td>False</td><td>False</td><td>False</td><td>2086.366392428038</td><td>2086.366392428038</td><td>15.271631601320033</td><td>15.271631601320033</td><td>4.557260438878797</td><td>4.557260438878797</td><td>4.463909277154412</td><td>4.463909277154412</td><td>-2.538426720657995</td><td>-2.538426720657995</td><td>True</td><td>True</td><td>True</td><td>False</td><td>False</td><td>False</td><td>False</td><td>False</td><td>False</td><td>False</td><td>False</td><td>False</td><td>2086.4230329092943</td><td>2086.4230329092943</td><td>15.502459437015643</td><td>15.502459437015643</td><td>4.580877943371857</td><td>4.580877943371857</td><td>4.184798629499239</td><td>4.184798629499239</td><td>-0.9199285921841611</td><td>-0.9199285921841611</td><td>True</td><td>True</td><td>False</td><td>False</td><td>False</td><td>False</td><td>False</td><td>False</td><td>3484.4902</td><td>3484.4902</td><td>2248.839111328125</td><td>387.0270690917969</td><td>True</td><td>False</td><td>False</td><td>3148.235595703125</td><td>583.7758178710938</td><td>True</td><td>False</td><td>False</td><td>3040.421875</td><td>780.4203491210938</td><td>True</td><td>False</td><td>False</td><td>4239.994140625</td><td>1175.1754150390625</td><td>True</td><td>False</td><td>True</td><td>3690.373046875</td><td>3690.373046875</td><td>3690.373046875</td><td>1569.0499267578125</td><td>1569.0499267578125</td><td>1569.0499267578125</td><td>True</td><td>True</td><td>True</td><td>False</td><td>False</td><td>False</td><td>True</td><td>True</td><td>True</td><td>nan</td><td>nan</td><td>True</td><td>True</td><td>nan</td><td>nan</td><td>True</td><td>True</td><td>nan</td><td>nan</td><td>True</td><td>True</td><td>nan</td><td>nan</td><td>True</td><td>True</td><td>nan</td><td>nan</td><td>True</td><td>True</td><td>3527.236162159833</td><td>3527.236162159833</td><td>3527.236162159833</td><td>556.1248796708273</td><td>556.1248796708273</td><td>556.1248796708273</td><td>False</td><td>False</td><td>False</td><td>3.5901676722127713</td><td>75.99774312310922</td><td>True</td><td>False</td><td>False</td><td>False</td><td>False</td><td>False</td><td>False</td><td>False</td><td>False</td><td>False</td><td>False</td><td>False</td><td>False</td><td>False</td><td>False</td><td>3662.216648706281</td><td>3662.216648706281</td><td>589.2818708246247</td><td>589.2818708246247</td><td>63.101463</td><td>63.101463</td><td>True</td><td>True</td><td>False</td><td>False</td><td>True</td><td>True</td><td>False</td><td>5519.30029296875</td><td>False</td><td>3420.7137971939633</td><td>865.8947127129726</td><td>2.5754075</td><td>12.368471</td><td>2.5754075</td><td>True</td><td>False</td><td>False</td><td>False</td><td>False</td><td>False</td><td>False</td><td>True</td><td>True</td><td>True</td><td>1.0790673241054298</td><td>1.0790673241054298</td><td>1.0790673241054298</td><td>0.0</td><td>0.0</td><td>0.0</td><td>False</td><td>False</td><td>False</td><td>0.9884323823910774</td><td>0.9884323823910774</td><td>0.0</td><td>0.0</td><td>False</td><td>False</td><td>1.0335860351025468</td><td>0.0</td><td>False</td><td>nan</td><td>True</td><td>148</td><td>False</td><td>False</td><td>False</td><td>0.6606849207752934</td><td>0.00017543450833363202</td><td>5.4259758353972965e-05</td><td>1.1427667915344239e-05</td><td>1.1416366695754435e-05</td><td>-5.433472372808457e-05</td></tr>\n",
       "<tr><td>34363434455793673</td><td>1.2460685342396929</td><td>-0.5303038465951663</td><td>0</td><td>False</td><td>False</td><td>False</td><td>False</td><td>2</td><td>False</td><td>nan</td><td>nan</td><td>nan</td><td>True</td><td>False</td><td>False</td><td>False</td><td>False</td><td>False</td><td>False</td><td>2067.1490474691846</td><td>24.22278756687488</td><td>False</td><td>False</td><td>False</td><td>False</td><td>2067.174671529887</td><td>2067.174671529887</td><td>24.77006671435168</td><td>24.77006671435168</td><td>0.5974243</td><td>0.5974243</td><td>0.6227982</td><td>0.6227982</td><td>False</td><td>False</td><td>False</td><td>False</td><td>False</td><td>False</td><td>False</td><td>False</td><td>False</td><td>False</td><td>False</td><td>False</td><td>False</td><td>False</td><td>False</td><td>False</td><td>False</td><td>False</td><td>False</td><td>False</td><td>False</td><td>False</td><td>False</td><td>False</td><td>False</td><td>False</td><td>False</td><td>False</td><td>False</td><td>False</td><td>False</td><td>False</td><td>False</td><td>False</td><td>False</td><td>False</td><td>False</td><td>False</td><td>False</td><td>False</td><td>False</td><td>False</td><td>False</td><td>False</td><td>False</td><td>False</td><td>False</td><td>False</td><td>False</td><td>False</td><td>False</td><td>False</td><td>False</td><td>False</td><td>False</td><td>False</td><td>False</td><td>False</td><td>False</td><td>False</td><td>False</td><td>False</td><td>False</td><td>False</td><td>False</td><td>False</td><td>False</td><td>False</td><td>False</td><td>False</td><td>False</td><td>False</td><td>False</td><td>False</td><td>False</td><td>False</td><td>False</td><td>False</td><td>False</td><td>False</td><td>False</td><td>False</td><td>False</td><td>False</td><td>False</td><td>False</td><td>False</td><td>False</td><td>False</td><td>False</td><td>False</td><td>False</td><td>False</td><td>False</td><td>False</td><td>False</td><td>False</td><td>False</td><td>0.0</td><td>0.0</td><td>7122.2065089275275</td><td>7122.2065089275275</td><td>0.0</td><td>9548.412022249078</td><td>9548.412022249078</td><td>9.499712318453037</td><td>32.88203309910176</td><td>-6.566027425260931</td><td>9.499712318453037</td><td>32.88203309910176</td><td>-6.566027425260931</td><td>13.386354155413507</td><td>45.7070547731103</td><td>-6.436957423073996</td><td>13.386354155413507</td><td>45.7070547731103</td><td>-6.436957423073996</td><td>False</td><td>False</td><td>False</td><td>-253.7932532847011</td><td>-19.157299332856482</td><td>False</td><td>False</td><td>0.9990894642681023</td><td>False</td><td>11.810538192249139</td><td>10.600649847970882</td><td>-10.286772668567671</td><td>5.03335</td><td>4.5803065</td><td>4.517726</td><td>2067.371490049907</td><td>24.621760037783503</td><td>3754.0969287944013</td><td>799.9488612777103</td><td>4.205867725103736</td><td>4.23980108180221</td><td>0.01527669572915257</td><td>-2013.2152</td><td>1753.4761</td><td>-1806.9783</td><td>False</td><td>False</td><td>False</td><td>False</td><td>False</td><td>False</td><td>-0.000992671051061297</td><td>-0.000992671051061297</td><td>-0.0022563157767752956</td><td>-0.0022563157767752956</td><td>4.20765162572188</td><td>4.20765162572188</td><td>4.241557871115416</td><td>4.241557871115416</td><td>0.01523079871832514</td><td>0.01523079871832514</td><td>False</td><td>False</td><td>False</td><td>False</td><td>False</td><td>False</td><td>False</td><td>False</td><td>nan</td><td>nan</td><td>nan</td><td>nan</td><td>True</td><td>False</td><td>False</td><td>True</td><td>False</td><td>2067.8592711266015</td><td>2067.8592711266015</td><td>21.044129678290314</td><td>21.044129678290314</td><td>9.164625384882086</td><td>9.164625384882086</td><td>29.22212483787587</td><td>29.22212483787587</td><td>-4.5482173480890244</td><td>-4.5482173480890244</td><td>False</td><td>False</td><td>False</td><td>False</td><td>False</td><td>False</td><td>False</td><td>False</td><td>False</td><td>False</td><td>False</td><td>False</td><td>2067.8926918538677</td><td>2067.8926918538677</td><td>21.093645387716318</td><td>21.093645387716318</td><td>12.427366785374756</td><td>12.427366785374756</td><td>26.34425158905515</td><td>26.34425158905515</td><td>-2.217668096557341</td><td>-2.217668096557341</td><td>False</td><td>False</td><td>False</td><td>False</td><td>False</td><td>False</td><td>False</td><td>False</td><td>7910.1045</td><td>7910.1045</td><td>2069.695068359375</td><td>389.73248291015625</td><td>False</td><td>False</td><td>False</td><td>2693.798095703125</td><td>582.6715087890625</td><td>False</td><td>False</td><td>False</td><td>4378.96875</td><td>780.96240234375</td><td>False</td><td>False</td><td>False</td><td>5913.42138671875</td><td>1175.637939453125</td><td>False</td><td>False</td><td>True</td><td>6005.62060546875</td><td>6005.62060546875</td><td>6005.62060546875</td><td>1569.672607421875</td><td>1569.672607421875</td><td>1569.672607421875</td><td>False</td><td>False</td><td>False</td><td>False</td><td>False</td><td>False</td><td>True</td><td>True</td><td>True</td><td>6356.340903580189</td><td>2239.723942448914</td><td>False</td><td>False</td><td>6827.515191629529</td><td>3294.16314252502</td><td>False</td><td>False</td><td>nan</td><td>nan</td><td>True</td><td>True</td><td>nan</td><td>nan</td><td>True</td><td>True</td><td>nan</td><td>nan</td><td>True</td><td>True</td><td>7751.931685501234</td><td>7751.931685501234</td><td>7751.931685501234</td><td>1131.5281145439264</td><td>1131.5281145439264</td><td>1131.5281145439264</td><td>False</td><td>False</td><td>False</td><td>0.8752875353923425</td><td>74.36696189251406</td><td>False</td><td>False</td><td>False</td><td>False</td><td>False</td><td>False</td><td>False</td><td>False</td><td>False</td><td>False</td><td>False</td><td>False</td><td>False</td><td>False</td><td>False</td><td>3551.5580162420943</td><td>3551.5580162420943</td><td>589.0378013723463</td><td>589.0378013723463</td><td>63.08962</td><td>63.08962</td><td>False</td><td>False</td><td>False</td><td>False</td><td>False</td><td>False</td><td>False</td><td>5511.07568359375</td><td>False</td><td>nan</td><td>nan</td><td>nan</td><td>nan</td><td>nan</td><td>True</td><td>True</td><td>False</td><td>False</td><td>False</td><td>False</td><td>False</td><td>False</td><td>False</td><td>False</td><td>1.0791204046002552</td><td>1.0791204046002552</td><td>1.0791204046002552</td><td>0.0</td><td>0.0</td><td>0.0</td><td>False</td><td>False</td><td>False</td><td>0.9884481491789878</td><td>0.9884481491789878</td><td>0.0</td><td>0.0</td><td>False</td><td>False</td><td>1.0335973271974204</td><td>0.0</td><td>False</td><td>1.0</td><td>False</td><td>212</td><td>False</td><td>False</td><td>False</td><td>0.6606849207752934</td><td>0.00017543450833363202</td><td>5.4259571563760077e-05</td><td>1.1427646693167623e-05</td><td>1.1416332651287857e-05</td><td>-5.433465085209869e-05</td></tr>\n",
       "<tr><td>34363434455793674</td><td>1.2475199660735183</td><td>-0.5300375647019303</td><td>0</td><td>False</td><td>False</td><td>False</td><td>False</td><td>0</td><td>False</td><td>nan</td><td>nan</td><td>nan</td><td>False</td><td>False</td><td>False</td><td>False</td><td>False</td><td>False</td><td>False</td><td>3389.2554661714944</td><td>22.218811835482253</td><td>False</td><td>False</td><td>False</td><td>False</td><td>3389.866320102799</td><td>3389.866320102799</td><td>22.132839763673495</td><td>22.132839763673495</td><td>0.4505012</td><td>0.4505012</td><td>0.43731833</td><td>0.43731833</td><td>False</td><td>False</td><td>False</td><td>False</td><td>False</td><td>False</td><td>False</td><td>False</td><td>False</td><td>False</td><td>False</td><td>False</td><td>False</td><td>False</td><td>False</td><td>False</td><td>False</td><td>False</td><td>False</td><td>False</td><td>False</td><td>False</td><td>False</td><td>False</td><td>False</td><td>False</td><td>False</td><td>False</td><td>False</td><td>False</td><td>False</td><td>False</td><td>False</td><td>False</td><td>False</td><td>False</td><td>False</td><td>False</td><td>False</td><td>False</td><td>False</td><td>False</td><td>False</td><td>False</td><td>False</td><td>False</td><td>False</td><td>False</td><td>False</td><td>False</td><td>False</td><td>False</td><td>False</td><td>False</td><td>False</td><td>False</td><td>False</td><td>False</td><td>False</td><td>False</td><td>False</td><td>False</td><td>False</td><td>False</td><td>False</td><td>False</td><td>False</td><td>False</td><td>False</td><td>False</td><td>False</td><td>False</td><td>False</td><td>False</td><td>False</td><td>False</td><td>False</td><td>False</td><td>False</td><td>False</td><td>False</td><td>False</td><td>False</td><td>False</td><td>False</td><td>False</td><td>False</td><td>False</td><td>False</td><td>False</td><td>False</td><td>False</td><td>False</td><td>False</td><td>False</td><td>False</td><td>False</td><td>False</td><td>0.0</td><td>0.0</td><td>5303.878865840369</td><td>5303.878865840369</td><td>0.0</td><td>5756.334177482645</td><td>5756.334177482645</td><td>9.752408058194368</td><td>4.247129305780099</td><td>-2.26072092479702</td><td>9.752408058194368</td><td>4.247129305780099</td><td>-2.26072092479702</td><td>11.313727443592908</td><td>5.778565717078011</td><td>-2.1299215382723107</td><td>11.313727443592908</td><td>5.778565717078011</td><td>-2.1299215382723107</td><td>False</td><td>False</td><td>False</td><td>-240.56633679897197</td><td>-19.183671602363262</td><td>False</td><td>False</td><td>0.9991814118594688</td><td>False</td><td>8.370384704173352</td><td>4.7448596760351</td><td>-1.8209238901967282</td><td>2.9483364</td><td>1.6338519</td><td>1.6713021</td><td>3389.6867286487955</td><td>22.231101098255344</td><td>5333.575986046344</td><td>939.3340525866819</td><td>4.2231277379490075</td><td>4.228176531227848</td><td>0.03175381026742067</td><td>-1384.7363</td><td>301.2406</td><td>-784.9555</td><td>False</td><td>False</td><td>False</td><td>False</td><td>False</td><td>False</td><td>-0.0018406393644809043</td><td>-0.0018406393644809043</td><td>-0.0018200467242237295</td><td>-0.0018200467242237295</td><td>4.224969904236019</td><td>4.224969904236019</td><td>4.230018235971004</td><td>4.230018235971004</td><td>0.031863874321519985</td><td>0.031863874321519985</td><td>False</td><td>False</td><td>False</td><td>False</td><td>False</td><td>False</td><td>False</td><td>False</td><td>2.039964199066162</td><td>-1.5461004972457886</td><td>0.5205541253089905</td><td>0.39404594898223877</td><td>False</td><td>False</td><td>False</td><td>False</td><td>False</td><td>3389.454784446339</td><td>3389.454784446339</td><td>22.434017523162115</td><td>22.434017523162115</td><td>10.365121972115737</td><td>10.365121972115737</td><td>4.14268108832799</td><td>4.14268108832799</td><td>-2.2848103418979004</td><td>-2.2848103418979004</td><td>False</td><td>False</td><td>False</td><td>False</td><td>False</td><td>False</td><td>False</td><td>False</td><td>False</td><td>False</td><td>False</td><td>False</td><td>3389.6230187096667</td><td>3389.6230187096667</td><td>22.00987804179049</td><td>22.00987804179049</td><td>7.585916101493616</td><td>7.585916101493616</td><td>7.238476334532502</td><td>7.238476334532502</td><td>-0.5554619473105668</td><td>-0.5554619473105668</td><td>False</td><td>False</td><td>False</td><td>False</td><td>False</td><td>False</td><td>False</td><td>False</td><td>5892.5337</td><td>5892.5337</td><td>2880.306884765625</td><td>390.8804626464844</td><td>False</td><td>False</td><td>False</td><td>4006.6787109375</td><td>584.2819213867188</td><td>False</td><td>False</td><td>False</td><td>5402.00732421875</td><td>781.9896240234375</td><td>False</td><td>False</td><td>False</td><td>5839.39453125</td><td>1175.63916015625</td><td>False</td><td>False</td><td>True</td><td>5931.6298828125</td><td>5931.6298828125</td><td>5931.6298828125</td><td>1569.3946533203125</td><td>1569.3946533203125</td><td>1569.3946533203125</td><td>False</td><td>False</td><td>False</td><td>False</td><td>False</td><td>False</td><td>True</td><td>True</td><td>True</td><td>6895.581603467464</td><td>2234.3410961151526</td><td>False</td><td>False</td><td>nan</td><td>nan</td><td>True</td><td>True</td><td>nan</td><td>nan</td><td>True</td><td>True</td><td>nan</td><td>nan</td><td>True</td><td>True</td><td>nan</td><td>nan</td><td>True</td><td>True</td><td>5788.372439561335</td><td>5788.372439561335</td><td>5788.372439561335</td><td>717.5839753017318</td><td>717.5839753017318</td><td>717.5839753017318</td><td>False</td><td>False</td><td>False</td><td>1.9858905724782943</td><td>73.4174967997843</td><td>False</td><td>False</td><td>False</td><td>False</td><td>False</td><td>False</td><td>False</td><td>False</td><td>False</td><td>False</td><td>False</td><td>False</td><td>False</td><td>False</td><td>False</td><td>4793.517901748603</td><td>4793.517901748603</td><td>592.4361433261323</td><td>592.4361433261323</td><td>62.747864</td><td>62.747864</td><td>False</td><td>False</td><td>False</td><td>False</td><td>False</td><td>False</td><td>False</td><td>5511.08984375</td><td>False</td><td>6510.386299239469</td><td>1622.026687846317</td><td>4.7909346</td><td>14.869329</td><td>2.5763247</td><td>False</td><td>False</td><td>False</td><td>False</td><td>False</td><td>False</td><td>False</td><td>False</td><td>False</td><td>False</td><td>1.078457660431197</td><td>1.078457660431197</td><td>1.078457660431197</td><td>0.0</td><td>0.0</td><td>0.0</td><td>False</td><td>False</td><td>False</td><td>0.9932915193197382</td><td>0.9932915193197382</td><td>0.0</td><td>0.0</td><td>False</td><td>False</td><td>1.036046275184584</td><td>0.0</td><td>False</td><td>1.0</td><td>False</td><td>194</td><td>False</td><td>False</td><td>False</td><td>0.6606849207752934</td><td>0.00017543450833363202</td><td>5.4273320495486866e-05</td><td>1.1428994303754874e-05</td><td>1.1416338359542513e-05</td><td>-5.4339795066688467e-05</td></tr>\n",
       "<tr><td>34363434455793675</td><td>1.246226383263327</td><td>-0.5302736787687644</td><td>0</td><td>False</td><td>False</td><td>False</td><td>False</td><td>0</td><td>False</td><td>nan</td><td>nan</td><td>nan</td><td>False</td><td>False</td><td>False</td><td>False</td><td>False</td><td>False</td><td>False</td><td>2210.859760944919</td><td>23.079625279569857</td><td>False</td><td>False</td><td>False</td><td>False</td><td>2211.2853834034177</td><td>2211.2853834034177</td><td>23.21702049788772</td><td>23.21702049788772</td><td>0.7135662</td><td>0.7135662</td><td>0.6344944</td><td>0.6344944</td><td>False</td><td>False</td><td>False</td><td>False</td><td>False</td><td>False</td><td>False</td><td>False</td><td>False</td><td>False</td><td>False</td><td>False</td><td>False</td><td>False</td><td>False</td><td>False</td><td>False</td><td>False</td><td>False</td><td>False</td><td>False</td><td>False</td><td>False</td><td>False</td><td>False</td><td>False</td><td>False</td><td>False</td><td>False</td><td>False</td><td>False</td><td>False</td><td>False</td><td>False</td><td>False</td><td>False</td><td>False</td><td>False</td><td>False</td><td>False</td><td>False</td><td>False</td><td>False</td><td>False</td><td>False</td><td>False</td><td>False</td><td>False</td><td>False</td><td>False</td><td>False</td><td>False</td><td>False</td><td>False</td><td>False</td><td>False</td><td>False</td><td>False</td><td>False</td><td>False</td><td>False</td><td>False</td><td>False</td><td>False</td><td>False</td><td>False</td><td>False</td><td>False</td><td>False</td><td>False</td><td>False</td><td>False</td><td>False</td><td>False</td><td>False</td><td>False</td><td>False</td><td>False</td><td>False</td><td>False</td><td>False</td><td>False</td><td>False</td><td>False</td><td>False</td><td>False</td><td>False</td><td>False</td><td>False</td><td>False</td><td>False</td><td>False</td><td>False</td><td>False</td><td>False</td><td>False</td><td>False</td><td>False</td><td>0.0</td><td>0.0</td><td>5563.5336213032915</td><td>5563.5336213032915</td><td>0.0</td><td>6852.769508695677</td><td>6852.769508695677</td><td>10.787888415465929</td><td>8.999372470785568</td><td>-5.768961246196163</td><td>10.787888415465929</td><td>8.999372470785568</td><td>-5.768961246196163</td><td>17.73283226279384</td><td>14.128108313336309</td><td>-9.786907490033293</td><td>17.73283226279384</td><td>14.128108313336309</td><td>-9.786907490033293</td><td>False</td><td>False</td><td>False</td><td>-252.3521461659658</td><td>-19.17282979502112</td><td>False</td><td>False</td><td>0.9990997136672835</td><td>False</td><td>10.937962782389539</td><td>9.241103236051938</td><td>-5.947566107041044</td><td>4.1822934</td><td>3.1583016</td><td>3.533474</td><td>2211.127843418594</td><td>23.342777511038758</td><td>5628.43411626271</td><td>1076.0580628631742</td><td>4.206109182485997</td><td>4.238392505134242</td><td>0.017070434841639778</td><td>-2250.195</td><td>1223.5533</td><td>-1901.1113</td><td>False</td><td>False</td><td>False</td><td>False</td><td>False</td><td>False</td><td>-0.0010600529666371424</td><td>-0.0010600529666371424</td><td>-0.002205990945886763</td><td>-0.002205990945886763</td><td>4.2078761056077125</td><td>4.2078761056077125</td><td>4.240162976739339</td><td>4.240162976739339</td><td>0.0170525645930538</td><td>0.0170525645930538</td><td>False</td><td>False</td><td>False</td><td>False</td><td>False</td><td>False</td><td>False</td><td>False</td><td>0.13418489694595337</td><td>-0.7681478261947632</td><td>0.625252902507782</td><td>0.5688962340354919</td><td>False</td><td>False</td><td>False</td><td>False</td><td>False</td><td>2211.030723917152</td><td>2211.030723917152</td><td>23.456506158352774</td><td>23.456506158352774</td><td>10.96279350582454</td><td>10.96279350582454</td><td>8.974537784152087</td><td>8.974537784152087</td><td>-5.707504838231874</td><td>-5.707504838231874</td><td>False</td><td>False</td><td>False</td><td>False</td><td>False</td><td>False</td><td>False</td><td>False</td><td>False</td><td>False</td><td>False</td><td>False</td><td>2211.288995053047</td><td>2211.288995053047</td><td>23.617581476817072</td><td>23.617581476817072</td><td>9.190681420017176</td><td>9.190681420017176</td><td>8.128479384918514</td><td>8.128479384918514</td><td>-3.05094066218702</td><td>-3.05094066218702</td><td>False</td><td>False</td><td>False</td><td>False</td><td>False</td><td>False</td><td>False</td><td>False</td><td>5266.7812</td><td>5266.7812</td><td>2574.275390625</td><td>390.82659912109375</td><td>False</td><td>False</td><td>False</td><td>3565.90673828125</td><td>583.7512817382812</td><td>False</td><td>False</td><td>False</td><td>4336.63330078125</td><td>780.912841796875</td><td>False</td><td>False</td><td>False</td><td>6325.6826171875</td><td>1175.5194091796875</td><td>False</td><td>False</td><td>True</td><td>8491.6572265625</td><td>8491.6572265625</td><td>8491.6572265625</td><td>1570.55029296875</td><td>1570.55029296875</td><td>1570.55029296875</td><td>False</td><td>False</td><td>False</td><td>False</td><td>False</td><td>False</td><td>True</td><td>True</td><td>True</td><td>8053.9583096802235</td><td>2240.2958672358227</td><td>False</td><td>False</td><td>nan</td><td>nan</td><td>True</td><td>True</td><td>nan</td><td>nan</td><td>True</td><td>True</td><td>nan</td><td>nan</td><td>True</td><td>True</td><td>nan</td><td>nan</td><td>True</td><td>True</td><td>6074.246090148037</td><td>6074.246090148037</td><td>6074.246090148037</td><td>821.3509025737825</td><td>821.3509025737825</td><td>821.3509025737825</td><td>False</td><td>False</td><td>False</td><td>4.503335324097414</td><td>73.31120302912889</td><td>False</td><td>False</td><td>False</td><td>False</td><td>False</td><td>False</td><td>False</td><td>False</td><td>False</td><td>False</td><td>False</td><td>False</td><td>False</td><td>False</td><td>False</td><td>3998.6843604911064</td><td>3998.6843604911064</td><td>589.6393808442957</td><td>589.6393808442957</td><td>63.11483</td><td>63.11483</td><td>False</td><td>False</td><td>False</td><td>False</td><td>False</td><td>False</td><td>False</td><td>5524.09765625</td><td>False</td><td>9485.411440280706</td><td>2406.119133247762</td><td>7.058309</td><td>17.089323</td><td>2.5753036</td><td>False</td><td>False</td><td>False</td><td>False</td><td>False</td><td>False</td><td>False</td><td>False</td><td>False</td><td>False</td><td>1.0790324183831204</td><td>1.0790324183831204</td><td>1.0790324183831204</td><td>0.0</td><td>0.0</td><td>0.0</td><td>False</td><td>False</td><td>False</td><td>0.9886194430308783</td><td>0.9886194430308783</td><td>0.0</td><td>0.0</td><td>False</td><td>False</td><td>1.0338017853574237</td><td>0.0</td><td>False</td><td>1.0</td><td>False</td><td>180</td><td>False</td><td>False</td><td>False</td><td>0.6606849207752934</td><td>0.00017543450833363202</td><td>5.42610682571648e-05</td><td>1.1427793815123004e-05</td><td>1.1416338195930921e-05</td><td>-5.43352112786589e-05</td></tr>\n",
       "<tr><td>34363434455793676</td><td>1.2451962500250653</td><td>-0.5304612313978331</td><td>0</td><td>False</td><td>False</td><td>False</td><td>False</td><td>0</td><td>False</td><td>nan</td><td>nan</td><td>nan</td><td>False</td><td>False</td><td>False</td><td>False</td><td>False</td><td>False</td><td>False</td><td>1272.35138301464</td><td>24.032025881780996</td><td>False</td><td>False</td><td>False</td><td>False</td><td>1272.7642343384184</td><td>1272.7642343384184</td><td>24.136994003384046</td><td>24.136994003384046</td><td>0.5517619</td><td>0.5517619</td><td>0.566457</td><td>0.566457</td><td>False</td><td>False</td><td>False</td><td>False</td><td>False</td><td>False</td><td>False</td><td>False</td><td>False</td><td>False</td><td>False</td><td>False</td><td>False</td><td>False</td><td>False</td><td>False</td><td>False</td><td>False</td><td>False</td><td>False</td><td>False</td><td>False</td><td>False</td><td>False</td><td>False</td><td>False</td><td>False</td><td>False</td><td>False</td><td>False</td><td>False</td><td>False</td><td>False</td><td>False</td><td>False</td><td>False</td><td>False</td><td>False</td><td>False</td><td>False</td><td>False</td><td>False</td><td>False</td><td>False</td><td>False</td><td>False</td><td>False</td><td>False</td><td>False</td><td>False</td><td>False</td><td>False</td><td>False</td><td>False</td><td>False</td><td>False</td><td>False</td><td>False</td><td>False</td><td>False</td><td>False</td><td>False</td><td>False</td><td>False</td><td>False</td><td>False</td><td>False</td><td>False</td><td>False</td><td>False</td><td>False</td><td>False</td><td>False</td><td>False</td><td>False</td><td>False</td><td>False</td><td>False</td><td>False</td><td>False</td><td>False</td><td>False</td><td>False</td><td>False</td><td>False</td><td>False</td><td>False</td><td>False</td><td>False</td><td>False</td><td>False</td><td>False</td><td>False</td><td>False</td><td>False</td><td>False</td><td>False</td><td>False</td><td>0.0</td><td>nan</td><td>nan</td><td>nan</td><td>nan</td><td>nan</td><td>nan</td><td>nan</td><td>nan</td><td>nan</td><td>nan</td><td>nan</td><td>nan</td><td>nan</td><td>nan</td><td>nan</td><td>nan</td><td>nan</td><td>nan</td><td>True</td><td>False</td><td>True</td><td>-261.7373576566158</td><td>-19.163630059966156</td><td>False</td><td>False</td><td>0.9990318673001711</td><td>False</td><td>6.935513244653132</td><td>4.993117465698119</td><td>3.9582414214974797</td><td>2.9279132</td><td>2.1170826</td><td>2.1079066</td><td>1272.4708593167775</td><td>23.845234541496563</td><td>3765.4011156451884</td><td>794.805497861786</td><td>4.210630349646283</td><td>4.248852989004033</td><td>0.0056655723406338464</td><td>-1163.5607</td><td>-664.0683</td><td>-837.68787</td><td>False</td><td>False</td><td>False</td><td>False</td><td>False</td><td>False</td><td>-0.0007593634378133934</td><td>-0.0007593634378133934</td><td>-0.0025835359928913864</td><td>-0.0025835359928913864</td><td>4.212397910264617</td><td>4.212397910264617</td><td>4.250602937723727</td><td>4.250602937723727</td><td>0.005540091011602701</td><td>0.005540091011602701</td><td>False</td><td>False</td><td>False</td><td>False</td><td>False</td><td>False</td><td>False</td><td>False</td><td>nan</td><td>nan</td><td>nan</td><td>nan</td><td>True</td><td>False</td><td>False</td><td>False</td><td>True</td><td>nan</td><td>nan</td><td>nan</td><td>nan</td><td>nan</td><td>nan</td><td>nan</td><td>nan</td><td>nan</td><td>nan</td><td>True</td><td>True</td><td>True</td><td>False</td><td>False</td><td>False</td><td>False</td><td>False</td><td>False</td><td>False</td><td>False</td><td>False</td><td>1272.744028783592</td><td>1272.744028783592</td><td>24.11130041629806</td><td>24.11130041629806</td><td>4.62143949702484</td><td>4.62143949702484</td><td>4.522960588466117</td><td>4.522960588466117</td><td>1.8284938773333717</td><td>1.8284938773333717</td><td>False</td><td>False</td><td>False</td><td>False</td><td>False</td><td>False</td><td>False</td><td>False</td><td>3415.625</td><td>3415.625</td><td>2400.2177734375</td><td>390.580810546875</td><td>False</td><td>False</td><td>False</td><td>3092.236083984375</td><td>583.704345703125</td><td>False</td><td>False</td><td>False</td><td>3025.383544921875</td><td>780.419189453125</td><td>False</td><td>False</td><td>False</td><td>2697.158447265625</td><td>1174.3883056640625</td><td>False</td><td>False</td><td>True</td><td>4025.257080078125</td><td>4025.257080078125</td><td>4025.257080078125</td><td>1569.56640625</td><td>1569.56640625</td><td>1569.56640625</td><td>False</td><td>False</td><td>False</td><td>False</td><td>False</td><td>False</td><td>True</td><td>True</td><td>True</td><td>6788.622755661607</td><td>2240.9616330976364</td><td>False</td><td>False</td><td>nan</td><td>nan</td><td>True</td><td>True</td><td>nan</td><td>nan</td><td>True</td><td>True</td><td>nan</td><td>nan</td><td>True</td><td>True</td><td>nan</td><td>nan</td><td>True</td><td>True</td><td>nan</td><td>nan</td><td>nan</td><td>nan</td><td>nan</td><td>nan</td><td>True</td><td>True</td><td>True</td><td>0.5614065311048535</td><td>72.6233176366386</td><td>False</td><td>False</td><td>False</td><td>False</td><td>False</td><td>False</td><td>False</td><td>False</td><td>False</td><td>False</td><td>False</td><td>False</td><td>False</td><td>False</td><td>False</td><td>3679.1267303129393</td><td>3679.1267303129393</td><td>590.4167342683406</td><td>590.4167342683406</td><td>63.13908</td><td>63.13908</td><td>False</td><td>False</td><td>False</td><td>False</td><td>False</td><td>False</td><td>True</td><td>nan</td><td>True</td><td>6512.369711519359</td><td>1891.3456051030878</td><td>5.5666237</td><td>12.368471</td><td>2.5775943</td><td>True</td><td>False</td><td>False</td><td>False</td><td>False</td><td>False</td><td>False</td><td>False</td><td>False</td><td>True</td><td>1.0796034869031326</td><td>1.0796034869031326</td><td>1.0796034869031326</td><td>0.0</td><td>0.0</td><td>0.0</td><td>False</td><td>False</td><td>False</td><td>0.9890110046165879</td><td>0.9890110046165879</td><td>0.0</td><td>0.0</td><td>False</td><td>False</td><td>1.0326799710931067</td><td>0.0</td><td>False</td><td>nan</td><td>True</td><td>148</td><td>False</td><td>False</td><td>False</td><td>0.6606849207752934</td><td>0.00017543450833363202</td><td>5.4251311679535574e-05</td><td>1.1426837834805705e-05</td><td>1.141633784541507e-05</td><td>-5.433156114299284e-05</td></tr>\n",
       "<tr><td>34363434455793677</td><td>1.2448480884818893</td><td>-0.530529304905935</td><td>0</td><td>False</td><td>False</td><td>False</td><td>False</td><td>0</td><td>False</td><td>nan</td><td>nan</td><td>nan</td><td>False</td><td>False</td><td>False</td><td>False</td><td>False</td><td>False</td><td>False</td><td>954.0619895600378</td><td>29.06547625082474</td><td>False</td><td>False</td><td>False</td><td>False</td><td>954.5584573071816</td><td>954.5584573071816</td><td>29.287497363858044</td><td>29.287497363858044</td><td>0.20352776</td><td>0.20352776</td><td>0.20592096</td><td>0.20592096</td><td>False</td><td>False</td><td>False</td><td>False</td><td>False</td><td>False</td><td>False</td><td>False</td><td>False</td><td>False</td><td>False</td><td>False</td><td>False</td><td>False</td><td>False</td><td>False</td><td>False</td><td>False</td><td>False</td><td>False</td><td>False</td><td>False</td><td>False</td><td>False</td><td>False</td><td>False</td><td>False</td><td>False</td><td>False</td><td>False</td><td>False</td><td>False</td><td>False</td><td>False</td><td>False</td><td>False</td><td>False</td><td>False</td><td>False</td><td>False</td><td>False</td><td>False</td><td>False</td><td>False</td><td>False</td><td>False</td><td>False</td><td>False</td><td>False</td><td>False</td><td>False</td><td>False</td><td>False</td><td>False</td><td>False</td><td>False</td><td>False</td><td>False</td><td>False</td><td>False</td><td>False</td><td>False</td><td>False</td><td>False</td><td>False</td><td>False</td><td>False</td><td>False</td><td>False</td><td>False</td><td>False</td><td>False</td><td>False</td><td>False</td><td>False</td><td>False</td><td>False</td><td>False</td><td>False</td><td>False</td><td>False</td><td>False</td><td>False</td><td>False</td><td>False</td><td>False</td><td>False</td><td>False</td><td>False</td><td>False</td><td>False</td><td>False</td><td>False</td><td>False</td><td>False</td><td>False</td><td>False</td><td>False</td><td>0.0</td><td>0.0</td><td>14623.11114685526</td><td>14623.11114685526</td><td>0.0</td><td>14772.601759798958</td><td>14772.601759798958</td><td>6.658570061132256</td><td>6.623056528218301</td><td>0.15048580114842844</td><td>6.658570061132256</td><td>6.623056528218301</td><td>0.15048580114842844</td><td>7.113792398614129</td><td>7.170316524372649</td><td>0.26865876314654485</td><td>7.113792398614129</td><td>7.170316524372649</td><td>0.26865876314654485</td><td>False</td><td>False</td><td>False</td><td>-264.91941542692814</td><td>-19.11212502636142</td><td>False</td><td>False</td><td>0.9990083287121689</td><td>False</td><td>6.670089952600298</td><td>6.6222046259396325</td><td>0.1425349114654385</td><td>0.9080137</td><td>0.6399009</td><td>0.90149504</td><td>954.5734132611975</td><td>29.2406471303339</td><td>14770.57757581072</td><td>1005.3752919086</td><td>4.216310645549561</td><td>4.252571271489085</td><td>0.0016875964101364393</td><td>-456.44727</td><td>-9.753943</td><td>-453.1704</td><td>False</td><td>False</td><td>False</td><td>False</td><td>False</td><td>False</td><td>-0.0007250129000110385</td><td>-0.0007250129000110385</td><td>-0.002710912737762662</td><td>-0.002710912737762662</td><td>4.2180545801435505</td><td>4.2180545801435505</td><td>4.2543520946270705</td><td>4.2543520946270705</td><td>0.0015323284020031076</td><td>0.0015323284020031076</td><td>False</td><td>False</td><td>False</td><td>False</td><td>False</td><td>False</td><td>False</td><td>False</td><td>0.021663766354322433</td><td>0.13498303294181824</td><td>0.24427402019500732</td><td>0.3268186151981354</td><td>False</td><td>False</td><td>False</td><td>False</td><td>False</td><td>954.5892800171727</td><td>954.5892800171727</td><td>29.19357954304557</td><td>29.19357954304557</td><td>6.726711275285073</td><td>6.726711275285073</td><td>6.611046120148282</td><td>6.611046120148282</td><td>0.16133389724882033</td><td>0.16133389724882033</td><td>False</td><td>False</td><td>False</td><td>False</td><td>False</td><td>False</td><td>False</td><td>False</td><td>False</td><td>False</td><td>False</td><td>False</td><td>954.5911073660584</td><td>954.5911073660584</td><td>29.196979369624987</td><td>29.196979369624987</td><td>6.685623807158866</td><td>6.685623807158866</td><td>6.637350587191067</td><td>6.637350587191067</td><td>0.06287692723096878</td><td>0.06287692723096878</td><td>False</td><td>False</td><td>False</td><td>False</td><td>False</td><td>False</td><td>False</td><td>False</td><td>14794.824</td><td>14794.824</td><td>7587.01318359375</td><td>399.8371887207031</td><td>False</td><td>False</td><td>False</td><td>11015.556640625</td><td>592.1720581054688</td><td>False</td><td>False</td><td>False</td><td>13865.525390625</td><td>789.1812744140625</td><td>False</td><td>False</td><td>False</td><td>15876.236328125</td><td>1181.3076171875</td><td>False</td><td>False</td><td>True</td><td>17656.96484375</td><td>17656.96484375</td><td>17656.96484375</td><td>1574.4300537109375</td><td>1574.4300537109375</td><td>1574.4300537109375</td><td>False</td><td>False</td><td>False</td><td>False</td><td>False</td><td>False</td><td>True</td><td>True</td><td>True</td><td>19010.27354466915</td><td>2246.5604151080533</td><td>False</td><td>False</td><td>15583.912057608366</td><td>3297.4171022766773</td><td>False</td><td>False</td><td>nan</td><td>nan</td><td>True</td><td>True</td><td>nan</td><td>nan</td><td>True</td><td>True</td><td>nan</td><td>nan</td><td>True</td><td>True</td><td>15976.315483023538</td><td>15976.315483023538</td><td>15976.315483023538</td><td>768.9222267674924</td><td>768.9222267674924</td><td>768.9222267674924</td><td>False</td><td>False</td><td>False</td><td>-0.20600615080264045</td><td>76.23128616726464</td><td>False</td><td>False</td><td>False</td><td>False</td><td>False</td><td>False</td><td>False</td><td>False</td><td>False</td><td>False</td><td>False</td><td>False</td><td>False</td><td>False</td><td>False</td><td>12558.64188887633</td><td>12558.64188887633</td><td>605.0200626167991</td><td>605.0200626167991</td><td>63.130314</td><td>63.130314</td><td>False</td><td>False</td><td>False</td><td>False</td><td>False</td><td>False</td><td>False</td><td>5538.7890625</td><td>False</td><td>17480.272121698927</td><td>1408.5458095898523</td><td>4.147842</td><td>15.491944</td><td>2.579028</td><td>False</td><td>False</td><td>False</td><td>False</td><td>False</td><td>False</td><td>False</td><td>False</td><td>False</td><td>False</td><td>1.079841457282087</td><td>1.079841457282087</td><td>1.079841457282087</td><td>0.0</td><td>0.0</td><td>0.0</td><td>False</td><td>False</td><td>False</td><td>0.9899958072612421</td><td>0.9899958072612421</td><td>0.0</td><td>0.0</td><td>False</td><td>False</td><td>1.032456501515534</td><td>0.0</td><td>False</td><td>1.0</td><td>False</td><td>373</td><td>False</td><td>False</td><td>False</td><td>0.6606849207752934</td><td>0.00017543450833363202</td><td>5.424800863738766e-05</td><td>1.142651257718413e-05</td><td>1.141631890791689e-05</td><td>-5.433032375204934e-05</td></tr>\n",
       "<tr><td>...</td><td>...</td><td>...</td><td>...</td><td>...</td><td>...</td><td>...</td><td>...</td><td>...</td><td>...</td><td>...</td><td>...</td><td>...</td><td>...</td><td>...</td><td>...</td><td>...</td><td>...</td><td>...</td><td>...</td><td>...</td><td>...</td><td>...</td><td>...</td><td>...</td><td>...</td><td>...</td><td>...</td><td>...</td><td>...</td><td>...</td><td>...</td><td>...</td><td>...</td><td>...</td><td>...</td><td>...</td><td>...</td><td>...</td><td>...</td><td>...</td><td>...</td><td>...</td><td>...</td><td>...</td><td>...</td><td>...</td><td>...</td><td>...</td><td>...</td><td>...</td><td>...</td><td>...</td><td>...</td><td>...</td><td>...</td><td>...</td><td>...</td><td>...</td><td>...</td><td>...</td><td>...</td><td>...</td><td>...</td><td>...</td><td>...</td><td>...</td><td>...</td><td>...</td><td>...</td><td>...</td><td>...</td><td>...</td><td>...</td><td>...</td><td>...</td><td>...</td><td>...</td><td>...</td><td>...</td><td>...</td><td>...</td><td>...</td><td>...</td><td>...</td><td>...</td><td>...</td><td>...</td><td>...</td><td>...</td><td>...</td><td>...</td><td>...</td><td>...</td><td>...</td><td>...</td><td>...</td><td>...</td><td>...</td><td>...</td><td>...</td><td>...</td><td>...</td><td>...</td><td>...</td><td>...</td><td>...</td><td>...</td><td>...</td><td>...</td><td>...</td><td>...</td><td>...</td><td>...</td><td>...</td><td>...</td><td>...</td><td>...</td><td>...</td><td>...</td><td>...</td><td>...</td><td>...</td><td>...</td><td>...</td><td>...</td><td>...</td><td>...</td><td>...</td><td>...</td><td>...</td><td>...</td><td>...</td><td>...</td><td>...</td><td>...</td><td>...</td><td>...</td><td>...</td><td>...</td><td>...</td><td>...</td><td>...</td><td>...</td><td>...</td><td>...</td><td>...</td><td>...</td><td>...</td><td>...</td><td>...</td><td>...</td><td>...</td><td>...</td><td>...</td><td>...</td><td>...</td><td>...</td><td>...</td><td>...</td><td>...</td><td>...</td><td>...</td><td>...</td><td>...</td><td>...</td><td>...</td><td>...</td><td>...</td><td>...</td><td>...</td><td>...</td><td>...</td><td>...</td><td>...</td><td>...</td><td>...</td><td>...</td><td>...</td><td>...</td><td>...</td><td>...</td><td>...</td><td>...</td><td>...</td><td>...</td><td>...</td><td>...</td><td>...</td><td>...</td><td>...</td><td>...</td><td>...</td><td>...</td><td>...</td><td>...</td><td>...</td><td>...</td><td>...</td><td>...</td><td>...</td><td>...</td><td>...</td><td>...</td><td>...</td><td>...</td><td>...</td><td>...</td><td>...</td><td>...</td><td>...</td><td>...</td><td>...</td><td>...</td><td>...</td><td>...</td><td>...</td><td>...</td><td>...</td><td>...</td><td>...</td><td>...</td><td>...</td><td>...</td><td>...</td><td>...</td><td>...</td><td>...</td><td>...</td><td>...</td><td>...</td><td>...</td><td>...</td><td>...</td><td>...</td><td>...</td><td>...</td><td>...</td><td>...</td><td>...</td><td>...</td><td>...</td><td>...</td><td>...</td><td>...</td><td>...</td><td>...</td><td>...</td><td>...</td><td>...</td><td>...</td><td>...</td><td>...</td><td>...</td><td>...</td><td>...</td><td>...</td><td>...</td><td>...</td><td>...</td><td>...</td><td>...</td><td>...</td><td>...</td><td>...</td><td>...</td><td>...</td><td>...</td><td>...</td><td>...</td><td>...</td><td>...</td><td>...</td><td>...</td><td>...</td><td>...</td><td>...</td><td>...</td><td>...</td><td>...</td><td>...</td><td>...</td><td>...</td><td>...</td><td>...</td><td>...</td><td>...</td><td>...</td><td>...</td><td>...</td><td>...</td><td>...</td><td>...</td><td>...</td><td>...</td><td>...</td><td>...</td><td>...</td><td>...</td><td>...</td><td>...</td><td>...</td><td>...</td><td>...</td><td>...</td><td>...</td><td>...</td><td>...</td><td>...</td><td>...</td><td>...</td><td>...</td><td>...</td><td>...</td><td>...</td><td>...</td><td>...</td><td>...</td><td>...</td><td>...</td><td>...</td><td>...</td><td>...</td><td>...</td><td>...</td><td>...</td><td>...</td><td>...</td><td>...</td><td>...</td><td>...</td><td>...</td><td>...</td><td>...</td><td>...</td><td>...</td><td>...</td><td>...</td><td>...</td><td>...</td><td>...</td><td>...</td><td>...</td><td>...</td><td>...</td><td>...</td><td>...</td><td>...</td><td>...</td><td>...</td><td>...</td><td>...</td><td>...</td><td>...</td><td>...</td><td>...</td><td>...</td><td>...</td><td>...</td><td>...</td><td>...</td><td>...</td><td>...</td><td>...</td><td>...</td><td>...</td><td>...</td><td>...</td><td>...</td><td>...</td><td>...</td><td>...</td><td>...</td><td>...</td><td>...</td><td>...</td><td>...</td><td>...</td><td>...</td><td>...</td><td>...</td><td>...</td><td>...</td><td>...</td><td>...</td><td>...</td><td>...</td><td>...</td><td>...</td><td>...</td><td>...</td><td>...</td></tr>\n",
       "<tr><td>34363434455795526</td><td>1.244925596866761</td><td>-0.5341000032259817</td><td>34363434455795134</td><td>False</td><td>False</td><td>False</td><td>False</td><td>0</td><td>True</td><td>265.0</td><td>3650.0</td><td>14302.230335872551</td><td>False</td><td>False</td><td>False</td><td>False</td><td>False</td><td>False</td><td>False</td><td>265.0554078300456</td><td>3650.0645410457773</td><td>False</td><td>False</td><td>False</td><td>False</td><td>265.3843373327795</td><td>265.3843373327795</td><td>3650.1919948805603</td><td>3650.1919948805603</td><td>0.3550364</td><td>0.3550364</td><td>0.32645437</td><td>0.32645437</td><td>False</td><td>False</td><td>False</td><td>False</td><td>False</td><td>False</td><td>False</td><td>False</td><td>False</td><td>False</td><td>False</td><td>False</td><td>False</td><td>False</td><td>False</td><td>False</td><td>False</td><td>False</td><td>False</td><td>False</td><td>False</td><td>False</td><td>False</td><td>False</td><td>False</td><td>False</td><td>False</td><td>False</td><td>False</td><td>False</td><td>False</td><td>False</td><td>False</td><td>False</td><td>False</td><td>False</td><td>False</td><td>False</td><td>False</td><td>False</td><td>False</td><td>False</td><td>False</td><td>False</td><td>False</td><td>False</td><td>False</td><td>False</td><td>False</td><td>False</td><td>False</td><td>False</td><td>False</td><td>False</td><td>False</td><td>False</td><td>False</td><td>False</td><td>False</td><td>False</td><td>False</td><td>False</td><td>False</td><td>False</td><td>False</td><td>False</td><td>False</td><td>False</td><td>False</td><td>False</td><td>False</td><td>False</td><td>False</td><td>False</td><td>False</td><td>False</td><td>False</td><td>False</td><td>False</td><td>False</td><td>False</td><td>False</td><td>False</td><td>False</td><td>False</td><td>False</td><td>False</td><td>False</td><td>False</td><td>False</td><td>False</td><td>False</td><td>False</td><td>False</td><td>False</td><td>False</td><td>False</td><td>False</td><td>0.010880245458883457</td><td>0.0017771053031360173</td><td>32244.466293415444</td><td>32301.870118103536</td><td>0.002433071781844043</td><td>32313.50066264137</td><td>32392.3134865341</td><td>11.719573627959134</td><td>10.884548350098044</td><td>-0.8336828058599343</td><td>11.813577241139372</td><td>10.97811028447068</td><td>-0.8630179541256966</td><td>11.841217658122197</td><td>11.224752376504247</td><td>-0.891536458939546</td><td>11.97079824818931</td><td>11.372833306333876</td><td>-0.9179837587383392</td><td>False</td><td>False</td><td>False</td><td>-271.8111566266722</td><td>17.096919948805603</td><td>False</td><td>False</td><td>0.9989573372986704</td><td>False</td><td>11.867012439182268</td><td>10.947647323267608</td><td>-0.8505213329388747</td><td>0.9693922</td><td>0.66020674</td><td>0.8942911</td><td>265.3898913737771</td><td>3650.2288141447866</td><td>32685.338526436673</td><td>1334.9995775923085</td><td>4.323592992089153</td><td>4.259588910052062</td><td>0.001186514466247905</td><td>-647.0691</td><td>46.37613</td><td>-596.9391</td><td>False</td><td>False</td><td>False</td><td>False</td><td>False</td><td>False</td><td>-0.0005689975927163403</td><td>-0.0005689975927163403</td><td>0.0016448534129160795</td><td>0.0016448534129160795</td><td>4.325781072139326</td><td>4.325781072139326</td><td>4.261835397494572</td><td>4.261835397494572</td><td>0.0013012197515924785</td><td>0.0013012197515924785</td><td>False</td><td>False</td><td>False</td><td>False</td><td>False</td><td>False</td><td>False</td><td>False</td><td>0.0629287138581276</td><td>-0.1577060967683792</td><td>0.07693212479352951</td><td>0.5851874351501465</td><td>False</td><td>False</td><td>False</td><td>False</td><td>False</td><td>265.3954672982481</td><td>265.3954672982481</td><td>3650.2655795219403</td><td>3650.2655795219403</td><td>11.839814069240719</td><td>11.839814069240719</td><td>10.900706990629565</td><td>10.900706990629565</td><td>-0.8232152061890416</td><td>-0.8232152061890416</td><td>False</td><td>False</td><td>False</td><td>False</td><td>False</td><td>False</td><td>False</td><td>False</td><td>False</td><td>False</td><td>False</td><td>False</td><td>265.4015749777141</td><td>265.4015749777141</td><td>3650.2690427598745</td><td>3650.2690427598745</td><td>11.423509456786872</td><td>11.423509456786872</td><td>11.041087983812677</td><td>11.041087983812677</td><td>-0.3498216679422893</td><td>-0.3498216679422893</td><td>False</td><td>False</td><td>False</td><td>False</td><td>False</td><td>False</td><td>False</td><td>False</td><td>32461.266</td><td>32461.266</td><td>11726.7548828125</td><td>406.55908203125</td><td>False</td><td>False</td><td>False</td><td>18582.734375</td><td>601.3409423828125</td><td>False</td><td>False</td><td>False</td><td>25006.458984375</td><td>799.4138793945312</td><td>False</td><td>False</td><td>False</td><td>33084.9921875</td><td>1191.9705810546875</td><td>False</td><td>False</td><td>False</td><td>37204.16796875</td><td>37204.16796875</td><td>37204.16796875</td><td>1584.6627197265625</td><td>1584.6627197265625</td><td>1584.6627197265625</td><td>False</td><td>False</td><td>False</td><td>False</td><td>False</td><td>False</td><td>False</td><td>False</td><td>False</td><td>38228.40754893259</td><td>2250.487402069827</td><td>False</td><td>False</td><td>43174.82899718644</td><td>3302.777218786274</td><td>False</td><td>False</td><td>44777.53806745174</td><td>4619.4269933694495</td><td>False</td><td>False</td><td>40971.008123657724</td><td>6591.313718163474</td><td>False</td><td>False</td><td>42798.94615437748</td><td>9224.212458602919</td><td>False</td><td>False</td><td>35359.14083104655</td><td>35359.14083104655</td><td>35359.14083104655</td><td>1021.2109886487018</td><td>1021.2109886487018</td><td>1021.2109886487018</td><td>False</td><td>False</td><td>False</td><td>4.477293031422255</td><td>70.35063074750444</td><td>False</td><td>False</td><td>False</td><td>False</td><td>False</td><td>False</td><td>False</td><td>False</td><td>False</td><td>False</td><td>False</td><td>False</td><td>False</td><td>False</td><td>False</td><td>20388.272497688813</td><td>20388.272497688813</td><td>622.1294365399762</td><td>622.1294365399762</td><td>62.623425</td><td>62.623425</td><td>False</td><td>False</td><td>False</td><td>False</td><td>False</td><td>False</td><td>False</td><td>5516.1201171875</td><td>False</td><td>39245.922687808285</td><td>2199.907613106357</td><td>6.414252</td><td>20.19666</td><td>2.5963488</td><td>False</td><td>False</td><td>False</td><td>False</td><td>False</td><td>False</td><td>False</td><td>False</td><td>False</td><td>False</td><td>1.0835036492298564</td><td>1.0835036492298564</td><td>1.0835036492298564</td><td>0.0</td><td>0.0</td><td>0.0</td><td>False</td><td>False</td><td>False</td><td>1.004636391549389</td><td>1.004636391549389</td><td>0.0</td><td>0.0</td><td>False</td><td>False</td><td>1.0369336459444578</td><td>0.0</td><td>False</td><td>1.0</td><td>False</td><td>727</td><td>False</td><td>False</td><td>False</td><td>0.6606849207752934</td><td>0.00017543450833363202</td><td>5.424453093819629e-05</td><td>1.1424963875375136e-05</td><td>1.140223856831398e-05</td><td>-5.432778407166719e-05</td></tr>\n",
       "<tr><td>34363434455795527</td><td>1.2449142011974526</td><td>-0.5340813778130462</td><td>34363434455795134</td><td>False</td><td>False</td><td>False</td><td>False</td><td>0</td><td>True</td><td>259.0</td><td>3629.0</td><td>6789.925268903678</td><td>False</td><td>False</td><td>False</td><td>False</td><td>False</td><td>False</td><td>False</td><td>258.85013488338035</td><td>3628.981691340199</td><td>False</td><td>False</td><td>False</td><td>False</td><td>259.40859127925853</td><td>259.40859127925853</td><td>3629.3027139975875</td><td>3629.3027139975875</td><td>0.6575952</td><td>0.6575952</td><td>0.6493291</td><td>0.6493291</td><td>False</td><td>False</td><td>False</td><td>False</td><td>False</td><td>False</td><td>False</td><td>False</td><td>False</td><td>False</td><td>False</td><td>False</td><td>False</td><td>False</td><td>False</td><td>False</td><td>False</td><td>False</td><td>False</td><td>False</td><td>False</td><td>False</td><td>False</td><td>False</td><td>False</td><td>False</td><td>False</td><td>False</td><td>False</td><td>False</td><td>False</td><td>False</td><td>False</td><td>False</td><td>False</td><td>False</td><td>False</td><td>False</td><td>False</td><td>False</td><td>False</td><td>False</td><td>False</td><td>False</td><td>False</td><td>False</td><td>False</td><td>False</td><td>False</td><td>False</td><td>False</td><td>False</td><td>False</td><td>False</td><td>False</td><td>False</td><td>False</td><td>False</td><td>False</td><td>False</td><td>False</td><td>False</td><td>False</td><td>False</td><td>False</td><td>False</td><td>False</td><td>False</td><td>False</td><td>False</td><td>False</td><td>False</td><td>False</td><td>False</td><td>False</td><td>False</td><td>False</td><td>False</td><td>False</td><td>False</td><td>False</td><td>False</td><td>False</td><td>False</td><td>False</td><td>False</td><td>False</td><td>False</td><td>False</td><td>False</td><td>False</td><td>False</td><td>False</td><td>False</td><td>False</td><td>False</td><td>False</td><td>False</td><td>0.06820338152656538</td><td>0.008364502208722313</td><td>14039.772209932342</td><td>14158.198492494339</td><td>0.014666183662550458</td><td>14181.65432849578</td><td>14392.740910090673</td><td>8.92787123177716</td><td>9.916565412798029</td><td>-0.165032347857194</td><td>9.01987761117595</td><td>10.312236149233078</td><td>-0.17701635364109372</td><td>9.796494352597803</td><td>10.924337185083164</td><td>-0.2874110874929512</td><td>10.131783787431484</td><td>11.691328666130014</td><td>-0.21842560101202887</td><td>False</td><td>False</td><td>False</td><td>-271.8709140872074</td><td>16.88802713997588</td><td>False</td><td>False</td><td>0.9989569810133287</td><td>False</td><td>8.903846973492422</td><td>9.939664896806557</td><td>-0.17094748748924635</td><td>1.4778802</td><td>1.104315</td><td>1.6498077</td><td>259.3873629653177</td><td>3629.3228236346163</td><td>14201.081828897906</td><td>1178.563524854181</td><td>4.3249436252091344</td><td>4.2583750870195</td><td>0.000687868071908279</td><td>-870.8879</td><td>16.720427</td><td>-972.20154</td><td>False</td><td>False</td><td>False</td><td>False</td><td>False</td><td>False</td><td>-0.000551794109600448</td><td>-0.000551794109600448</td><td>0.0016552550612925763</td><td>0.0016552550612925763</td><td>4.327130451179058</td><td>4.327130451179058</td><td>4.260619867979749</td><td>4.260619867979749</td><td>0.0008009319724535552</td><td>0.0008009319724535552</td><td>False</td><td>False</td><td>False</td><td>False</td><td>False</td><td>False</td><td>False</td><td>False</td><td>-0.13153430819511414</td><td>-0.04516119882464409</td><td>0.21003364026546478</td><td>0.5153030157089233</td><td>False</td><td>False</td><td>False</td><td>False</td><td>False</td><td>259.36634051591665</td><td>259.36634051591665</td><td>3629.3432551827063</td><td>3629.3432551827063</td><td>8.883312299277197</td><td>8.883312299277197</td><td>9.940290345618532</td><td>9.940290345618532</td><td>-0.13721134645883798</td><td>-0.13721134645883798</td><td>False</td><td>False</td><td>False</td><td>False</td><td>False</td><td>False</td><td>False</td><td>False</td><td>False</td><td>False</td><td>False</td><td>False</td><td>259.3690590944655</td><td>259.3690590944655</td><td>3629.3362031525426</td><td>3629.3362031525426</td><td>9.204175602250181</td><td>9.204175602250181</td><td>9.721932758323273</td><td>9.721932758323273</td><td>-0.02025702140040763</td><td>-0.02025702140040763</td><td>False</td><td>False</td><td>False</td><td>False</td><td>False</td><td>False</td><td>False</td><td>False</td><td>14237.413</td><td>14237.413</td><td>5832.53857421875</td><td>396.99945068359375</td><td>False</td><td>False</td><td>False</td><td>8975.0595703125</td><td>590.1179809570312</td><td>False</td><td>False</td><td>False</td><td>12007.8681640625</td><td>787.8740844726562</td><td>False</td><td>False</td><td>False</td><td>14187.19921875</td><td>1181.004150390625</td><td>False</td><td>False</td><td>False</td><td>14389.71484375</td><td>14389.71484375</td><td>14389.71484375</td><td>1574.3143310546875</td><td>1574.3143310546875</td><td>1574.3143310546875</td><td>False</td><td>False</td><td>False</td><td>False</td><td>False</td><td>False</td><td>False</td><td>False</td><td>False</td><td>15492.642339535887</td><td>2248.0755424431914</td><td>False</td><td>False</td><td>16925.15663815102</td><td>3309.264912592939</td><td>False</td><td>False</td><td>14889.158167039961</td><td>4623.583947336352</td><td>False</td><td>False</td><td>12059.114197527975</td><td>6590.873601248678</td><td>False</td><td>False</td><td>13144.843180900425</td><td>9222.992112822367</td><td>False</td><td>False</td><td>15379.404864917347</td><td>15379.404864917347</td><td>15379.404864917347</td><td>902.5203054348267</td><td>902.5203054348267</td><td>902.5203054348267</td><td>False</td><td>False</td><td>False</td><td>1.1918586143543837</td><td>67.00529746224609</td><td>False</td><td>False</td><td>False</td><td>False</td><td>False</td><td>False</td><td>False</td><td>False</td><td>False</td><td>False</td><td>False</td><td>False</td><td>False</td><td>False</td><td>False</td><td>9723.784756864981</td><td>9723.784756864981</td><td>605.5613994304086</td><td>605.5613994304086</td><td>62.60023</td><td>62.60023</td><td>False</td><td>False</td><td>False</td><td>False</td><td>False</td><td>False</td><td>False</td><td>5521.943359375</td><td>False</td><td>14478.807533536392</td><td>1594.0145325492297</td><td>4.636034</td><td>18.391687</td><td>2.5963664</td><td>False</td><td>False</td><td>False</td><td>False</td><td>False</td><td>False</td><td>False</td><td>False</td><td>False</td><td>False</td><td>1.0835529444121683</td><td>1.0835529444121683</td><td>1.0835529444121683</td><td>0.0</td><td>0.0</td><td>0.0</td><td>False</td><td>False</td><td>False</td><td>1.004690147039121</td><td>1.004690147039121</td><td>0.0</td><td>0.0</td><td>False</td><td>False</td><td>1.0369892925603224</td><td>0.0</td><td>False</td><td>1.0</td><td>False</td><td>836</td><td>False</td><td>False</td><td>False</td><td>0.6606849207752934</td><td>0.00017543450833363202</td><td>5.424444753841895e-05</td><td>1.1424962675568037e-05</td><td>1.1402319833101437e-05</td><td>-5.4327760018417975e-05</td></tr>\n",
       "<tr><td>34363434455795528</td><td>1.2449254728685806</td><td>-0.5340682440853366</td><td>34363434455795134</td><td>False</td><td>False</td><td>False</td><td>False</td><td>0</td><td>True</td><td>272.0</td><td>3618.0</td><td>5157.345285942267</td><td>False</td><td>False</td><td>False</td><td>False</td><td>False</td><td>False</td><td>False</td><td>271.8998691378787</td><td>3617.9669637706247</td><td>False</td><td>False</td><td>False</td><td>False</td><td>272.0077952577352</td><td>272.0077952577352</td><td>3618.0878859653135</td><td>3618.0878859653135</td><td>0.9782852</td><td>0.9782852</td><td>0.86078656</td><td>0.86078656</td><td>False</td><td>False</td><td>False</td><td>False</td><td>False</td><td>False</td><td>False</td><td>False</td><td>False</td><td>False</td><td>False</td><td>False</td><td>False</td><td>False</td><td>False</td><td>False</td><td>False</td><td>False</td><td>False</td><td>False</td><td>False</td><td>False</td><td>False</td><td>False</td><td>False</td><td>False</td><td>False</td><td>False</td><td>False</td><td>False</td><td>False</td><td>False</td><td>False</td><td>False</td><td>False</td><td>False</td><td>False</td><td>False</td><td>False</td><td>False</td><td>False</td><td>False</td><td>False</td><td>False</td><td>False</td><td>False</td><td>False</td><td>False</td><td>False</td><td>False</td><td>False</td><td>False</td><td>False</td><td>False</td><td>False</td><td>False</td><td>False</td><td>False</td><td>False</td><td>False</td><td>False</td><td>False</td><td>False</td><td>False</td><td>False</td><td>False</td><td>False</td><td>False</td><td>False</td><td>False</td><td>False</td><td>False</td><td>False</td><td>False</td><td>False</td><td>False</td><td>False</td><td>False</td><td>False</td><td>False</td><td>False</td><td>False</td><td>False</td><td>False</td><td>False</td><td>False</td><td>False</td><td>False</td><td>False</td><td>False</td><td>False</td><td>False</td><td>False</td><td>False</td><td>False</td><td>False</td><td>False</td><td>False</td><td>0.03814645053703384</td><td>0.006550796934535419</td><td>13452.903022369854</td><td>13541.611368612028</td><td>0.01849681859530594</td><td>14519.84306679138</td><td>14793.47529573065</td><td>14.558071366482329</td><td>11.891686524617208</td><td>1.740657153981781</td><td>14.813979397583386</td><td>11.976285265359015</td><td>1.7887321875643574</td><td>16.833349440784676</td><td>15.123015661211854</td><td>1.6151903678248305</td><td>17.99505198883385</td><td>15.67415687899279</td><td>1.7052546503109858</td><td>False</td><td>False</td><td>False</td><td>-271.7449220474226</td><td>16.775878859653137</td><td>False</td><td>False</td><td>0.9989579970335644</td><td>False</td><td>14.521548589592292</td><td>11.673238035199262</td><td>1.824023538118057</td><td>2.9315991</td><td>1.87672</td><td>2.3565843</td><td>271.98502168595746</td><td>3618.019394909317</td><td>13573.592839684628</td><td>1370.1132633248487</td><td>4.324829816306403</td><td>4.257742790660804</td><td>0.00029433802503238583</td><td>-2008.3115</td><td>-252.26007</td><td>-1614.3938</td><td>False</td><td>False</td><td>False</td><td>False</td><td>False</td><td>False</td><td>-0.0005369520929267961</td><td>-0.0005369520929267961</td><td>0.001651724976051501</td><td>0.001651724976051501</td><td>4.327009115641207</td><td>4.327009115641207</td><td>4.259986276554359</td><td>4.259986276554359</td><td>0.00040764303240054954</td><td>0.00040764303240054954</td><td>False</td><td>False</td><td>False</td><td>False</td><td>False</td><td>False</td><td>False</td><td>False</td><td>0.16881772875785828</td><td>0.20800544321537018</td><td>0.19747062027454376</td><td>0.6490440368652344</td><td>False</td><td>False</td><td>False</td><td>False</td><td>False</td><td>271.96055321393527</td><td>271.96055321393527</td><td>3617.941740277373</td><td>3617.941740277373</td><td>14.452689241850178</td><td>14.452689241850178</td><td>11.706394618165838</td><td>11.706394618165838</td><td>1.6809513106566996</td><td>1.6809513106566996</td><td>False</td><td>False</td><td>False</td><td>False</td><td>False</td><td>False</td><td>False</td><td>False</td><td>False</td><td>False</td><td>False</td><td>False</td><td>271.93258773526895</td><td>271.93258773526895</td><td>3617.93831924719</td><td>3617.93831924719</td><td>13.607037472178673</td><td>13.607037472178673</td><td>11.947178334593108</td><td>11.947178334593108</td><td>0.838270242753193</td><td>0.838270242753193</td><td>False</td><td>False</td><td>False</td><td>False</td><td>False</td><td>False</td><td>False</td><td>False</td><td>13439.607</td><td>13439.607</td><td>4036.42822265625</td><td>391.1447448730469</td><td>False</td><td>False</td><td>False</td><td>7389.86083984375</td><td>589.20068359375</td><td>False</td><td>False</td><td>False</td><td>10070.9619140625</td><td>787.344482421875</td><td>False</td><td>False</td><td>False</td><td>13503.6318359375</td><td>1181.171142578125</td><td>False</td><td>False</td><td>False</td><td>13139.8212890625</td><td>13139.8212890625</td><td>13139.8212890625</td><td>1574.44873046875</td><td>1574.44873046875</td><td>1574.44873046875</td><td>False</td><td>False</td><td>False</td><td>False</td><td>False</td><td>False</td><td>False</td><td>False</td><td>False</td><td>10652.928497054614</td><td>2232.960802348357</td><td>False</td><td>False</td><td>9040.831805303416</td><td>3292.927341895643</td><td>False</td><td>False</td><td>9874.001428827367</td><td>4613.265727852803</td><td>False</td><td>False</td><td>9919.649705663047</td><td>6583.008173532293</td><td>False</td><td>False</td><td>10294.983219399772</td><td>9217.799626462558</td><td>False</td><td>False</td><td>14711.849976979009</td><td>14711.849976979009</td><td>14711.849976979009</td><td>1050.0743083578927</td><td>1050.0743083578927</td><td>1050.0743083578927</td><td>False</td><td>False</td><td>False</td><td>-1.270935761798188</td><td>70.61304277907533</td><td>False</td><td>False</td><td>False</td><td>False</td><td>False</td><td>False</td><td>False</td><td>False</td><td>False</td><td>False</td><td>False</td><td>False</td><td>False</td><td>False</td><td>False</td><td>7606.511677152117</td><td>7606.511677152117</td><td>601.9190801210484</td><td>601.9190801210484</td><td>62.602444</td><td>62.602444</td><td>False</td><td>False</td><td>False</td><td>False</td><td>False</td><td>False</td><td>False</td><td>5508.53759765625</td><td>False</td><td>12789.651535714931</td><td>7362.1534554715645</td><td>21.54843</td><td>21.54843</td><td>2.596253</td><td>False</td><td>False</td><td>False</td><td>False</td><td>False</td><td>False</td><td>False</td><td>False</td><td>False</td><td>False</td><td>1.0835852256671121</td><td>1.0835852256671121</td><td>1.0835852256671121</td><td>0.0</td><td>0.0</td><td>0.0</td><td>False</td><td>False</td><td>False</td><td>1.0045557885282332</td><td>1.0045557885282332</td><td>0.0</td><td>0.0</td><td>False</td><td>False</td><td>1.0370009605314807</td><td>0.0</td><td>False</td><td>1.0</td><td>False</td><td>606</td><td>False</td><td>False</td><td>False</td><td>0.6606849207752934</td><td>0.00017543450833363202</td><td>5.4244567110010486e-05</td><td>1.1424978128600213e-05</td><td>1.1402363407316377e-05</td><td>-5.432780858440276e-05</td></tr>\n",
       "<tr><td>34363434455795529</td><td>1.2449930234151778</td><td>-0.5342503780656344</td><td>34363434455795176</td><td>True</td><td>False</td><td>False</td><td>False</td><td>0</td><td>False</td><td>nan</td><td>nan</td><td>nan</td><td>False</td><td>False</td><td>False</td><td>False</td><td>False</td><td>False</td><td>False</td><td>292.1680874933052</td><td>3814.022411544594</td><td>False</td><td>False</td><td>False</td><td>False</td><td>292.22148283239613</td><td>292.22148283239613</td><td>3814.3692230412476</td><td>3814.3692230412476</td><td>0.00960733</td><td>0.00960733</td><td>0.01570002</td><td>0.01570002</td><td>False</td><td>False</td><td>False</td><td>False</td><td>False</td><td>False</td><td>False</td><td>False</td><td>False</td><td>False</td><td>False</td><td>False</td><td>False</td><td>False</td><td>False</td><td>False</td><td>False</td><td>False</td><td>False</td><td>False</td><td>False</td><td>False</td><td>False</td><td>False</td><td>False</td><td>False</td><td>False</td><td>False</td><td>False</td><td>False</td><td>False</td><td>False</td><td>False</td><td>False</td><td>False</td><td>False</td><td>False</td><td>False</td><td>False</td><td>False</td><td>False</td><td>False</td><td>False</td><td>False</td><td>False</td><td>False</td><td>False</td><td>False</td><td>False</td><td>False</td><td>False</td><td>False</td><td>False</td><td>False</td><td>False</td><td>False</td><td>False</td><td>False</td><td>False</td><td>False</td><td>False</td><td>False</td><td>False</td><td>False</td><td>False</td><td>False</td><td>False</td><td>False</td><td>False</td><td>False</td><td>False</td><td>False</td><td>False</td><td>False</td><td>False</td><td>False</td><td>False</td><td>False</td><td>False</td><td>False</td><td>False</td><td>False</td><td>False</td><td>False</td><td>False</td><td>False</td><td>False</td><td>False</td><td>False</td><td>False</td><td>False</td><td>False</td><td>False</td><td>False</td><td>False</td><td>False</td><td>False</td><td>False</td><td>0.2945367704547788</td><td>0.09667699686331144</td><td>564868.1575527575</td><td>625322.4545276891</td><td>0.09667699686331144</td><td>564868.1575527575</td><td>625322.4545276891</td><td>1.4663224588043882</td><td>16.571744767738572</td><td>-1.1342292588940934</td><td>1.504288609863648</td><td>17.272166136940207</td><td>-1.2609152002420179</td><td>1.4663224588043882</td><td>16.571744767738572</td><td>-1.1342292588940934</td><td>1.504288609863648</td><td>17.272166136940207</td><td>-1.2609152002420179</td><td>False</td><td>False</td><td>False</td><td>-271.54278517167603</td><td>18.73869223041248</td><td>False</td><td>False</td><td>0.9989585594102354</td><td>False</td><td>6.711981886099591</td><td>18.36419928743589</td><td>0.044012898835401694</td><td>0.03295609</td><td>0.038546477</td><td>0.09016892</td><td>292.1639323890961</td><td>3814.343438222418</td><td>1252715.4527655244</td><td>3075.440493025296</td><td>4.313442909158943</td><td>4.269628587617724</td><td>0.0054393801746157305</td><td>-50.677246</td><td>-0.3323091</td><td>-138.65459</td><td>False</td><td>False</td><td>False</td><td>False</td><td>False</td><td>False</td><td>-0.0007195819788363534</td><td>-0.0007195819788363534</td><td>0.001558764421141738</td><td>0.001558764421141738</td><td>4.315616914444926</td><td>4.315616914444926</td><td>4.271907211494068</td><td>4.271907211494068</td><td>0.005570305448965085</td><td>0.005570305448965085</td><td>False</td><td>False</td><td>False</td><td>False</td><td>False</td><td>False</td><td>False</td><td>False</td><td>-8.772138595581055</td><td>-1.3817936182022095</td><td>0.004789616446942091</td><td>0.5162673592567444</td><td>False</td><td>False</td><td>False</td><td>False</td><td>False</td><td>294.1996382128253</td><td>294.1996382128253</td><td>3814.528835188857</td><td>3814.528835188857</td><td>0.8917447827682001</td><td>0.8917447827682001</td><td>15.819101228397114</td><td>15.819101228397114</td><td>-1.1374217844519394</td><td>-1.1374217844519394</td><td>False</td><td>False</td><td>False</td><td>False</td><td>False</td><td>False</td><td>False</td><td>False</td><td>False</td><td>False</td><td>False</td><td>False</td><td>294.7442204143711</td><td>294.7442204143711</td><td>3814.5446763625987</td><td>3814.5446763625987</td><td>4.465330267769845</td><td>4.465330267769845</td><td>15.117975889648154</td><td>15.117975889648154</td><td>-0.6534105071102224</td><td>-0.6534105071102224</td><td>False</td><td>False</td><td>False</td><td>False</td><td>False</td><td>False</td><td>False</td><td>False</td><td>407607.9</td><td>407607.9</td><td>418216.78125</td><td>882.6574096679688</td><td>False</td><td>False</td><td>False</td><td>710495.1875</td><td>1220.579833984375</td><td>False</td><td>False</td><td>False</td><td>963104.8125</td><td>1535.0306396484375</td><td>False</td><td>False</td><td>False</td><td>1240726.25</td><td>2084.739501953125</td><td>False</td><td>False</td><td>False</td><td>1363309.625</td><td>1363309.625</td><td>1363309.625</td><td>2513.873046875</td><td>2513.873046875</td><td>2513.873046875</td><td>False</td><td>False</td><td>False</td><td>False</td><td>False</td><td>False</td><td>False</td><td>False</td><td>False</td><td>1421683.6317825317</td><td>3037.8556368934765</td><td>False</td><td>False</td><td>1430395.3808751106</td><td>3887.553038286202</td><td>False</td><td>False</td><td>1440209.182917565</td><td>5054.740085362096</td><td>False</td><td>False</td><td>1435583.2751565576</td><td>6901.636873219653</td><td>False</td><td>False</td><td>1437483.4834572077</td><td>9447.866097401762</td><td>False</td><td>False</td><td>620225.0850904195</td><td>620225.0850904195</td><td>620225.0850904195</td><td>1337.3997114120398</td><td>1337.3997114120398</td><td>1337.3997114120398</td><td>False</td><td>False</td><td>False</td><td>11.819944931124878</td><td>73.57381909215054</td><td>False</td><td>False</td><td>False</td><td>False</td><td>False</td><td>False</td><td>True</td><td>True</td><td>False</td><td>False</td><td>False</td><td>True</td><td>True</td><td>False</td><td>False</td><td>743638.8105053939</td><td>743638.8105053939</td><td>1364.661978831196</td><td>1364.661978831196</td><td>62.42269</td><td>62.42269</td><td>False</td><td>False</td><td>False</td><td>False</td><td>False</td><td>False</td><td>True</td><td>nan</td><td>True</td><td>1257987.9799558506</td><td>2226.116456799947</td><td>4.6377563</td><td>11.351751</td><td>2.59635</td><td>False</td><td>False</td><td>False</td><td>False</td><td>False</td><td>False</td><td>False</td><td>False</td><td>False</td><td>False</td><td>1.083081795471552</td><td>1.083081795471552</td><td>1.083081795471552</td><td>0.0</td><td>0.0</td><td>0.0</td><td>False</td><td>False</td><td>False</td><td>1.0043955975882084</td><td>1.0043955975882084</td><td>0.0</td><td>0.0</td><td>False</td><td>False</td><td>1.0364866392100962</td><td>0.0</td><td>False</td><td>0.0</td><td>False</td><td>1048</td><td>False</td><td>False</td><td>False</td><td>0.6606849207752934</td><td>0.00017543450833363202</td><td>5.4244977152010895e-05</td><td>1.1424952806722041e-05</td><td>1.1401599944751488e-05</td><td>-5.4327894828837496e-05</td></tr>\n",
       "<tr><td>34363434455795530</td><td>1.2449849017092407</td><td>-0.5342525438291145</td><td>34363434455795176</td><td>False</td><td>False</td><td>False</td><td>False</td><td>0</td><td>False</td><td>nan</td><td>nan</td><td>nan</td><td>False</td><td>False</td><td>False</td><td>False</td><td>False</td><td>False</td><td>False</td><td>283.8959504462284</td><td>3814.9471834191695</td><td>False</td><td>False</td><td>False</td><td>False</td><td>284.69071630209805</td><td>284.69071630209805</td><td>3815.0782581454946</td><td>3815.0782581454946</td><td>0.015925588</td><td>0.015925588</td><td>0.021646783</td><td>0.021646783</td><td>False</td><td>False</td><td>False</td><td>False</td><td>False</td><td>False</td><td>False</td><td>False</td><td>False</td><td>False</td><td>False</td><td>False</td><td>False</td><td>False</td><td>False</td><td>False</td><td>False</td><td>False</td><td>False</td><td>False</td><td>False</td><td>False</td><td>False</td><td>False</td><td>False</td><td>False</td><td>False</td><td>False</td><td>False</td><td>False</td><td>False</td><td>False</td><td>False</td><td>False</td><td>False</td><td>False</td><td>False</td><td>False</td><td>False</td><td>False</td><td>False</td><td>False</td><td>False</td><td>False</td><td>False</td><td>False</td><td>False</td><td>False</td><td>False</td><td>False</td><td>False</td><td>False</td><td>False</td><td>False</td><td>False</td><td>False</td><td>False</td><td>False</td><td>False</td><td>False</td><td>False</td><td>False</td><td>False</td><td>False</td><td>False</td><td>False</td><td>False</td><td>False</td><td>False</td><td>False</td><td>False</td><td>False</td><td>False</td><td>False</td><td>False</td><td>False</td><td>False</td><td>False</td><td>False</td><td>False</td><td>False</td><td>False</td><td>False</td><td>False</td><td>False</td><td>False</td><td>False</td><td>False</td><td>False</td><td>False</td><td>False</td><td>False</td><td>False</td><td>False</td><td>False</td><td>False</td><td>False</td><td>False</td><td>0.2608238669953771</td><td>0.10377083092212513</td><td>925253.3519260433</td><td>1032384.7781901935</td><td>0.1037709442049487</td><td>925253.2329151747</td><td>1032384.7758923369</td><td>3.835824179512899</td><td>21.60633607552323</td><td>3.609310072393823</td><td>4.029595392174494</td><td>22.564695425296584</td><td>3.7659941597908566</td><td>3.8358220316353044</td><td>21.606291455409973</td><td>3.6092999348809194</td><td>4.029595363696759</td><td>22.564694640229632</td><td>3.7659940005944765</td><td>False</td><td>False</td><td>False</td><td>-271.618092836979</td><td>18.74578258145495</td><td>False</td><td>False</td><td>0.9989579807078045</td><td>False</td><td>5.942644984494997</td><td>9.009107693004863</td><td>0.8820389038196103</td><td>nan</td><td>nan</td><td>nan</td><td>284.52434033116856</td><td>3815.1342794033917</td><td>nan</td><td>nan</td><td>4.313805813010208</td><td>4.269664676220416</td><td>0.005530599454272139</td><td>nan</td><td>nan</td><td>nan</td><td>True</td><td>False</td><td>True</td><td>False</td><td>False</td><td>False</td><td>-0.0007231597529344941</td><td>-0.0007231597529344941</td><td>0.0015631063786983926</td><td>0.0015631063786983926</td><td>4.315980615289866</td><td>4.315980615289866</td><td>4.271940655856884</td><td>4.271940655856884</td><td>0.005659151789152175</td><td>0.005659151789152175</td><td>False</td><td>False</td><td>False</td><td>False</td><td>False</td><td>False</td><td>False</td><td>False</td><td>-1.4061250686645508</td><td>0.5706183910369873</td><td>0.004076340701431036</td><td>0.6713664531707764</td><td>False</td><td>False</td><td>False</td><td>False</td><td>False</td><td>282.26484332720224</td><td>282.26484332720224</td><td>3815.5778557570466</td><td>3815.5778557570466</td><td>2.8926516049255406</td><td>2.8926516049255406</td><td>23.3144937783239</td><td>23.3144937783239</td><td>4.362814949346092</td><td>4.362814949346092</td><td>False</td><td>False</td><td>False</td><td>False</td><td>False</td><td>False</td><td>False</td><td>False</td><td>False</td><td>False</td><td>False</td><td>False</td><td>281.75348970544064</td><td>281.75348970544064</td><td>3815.5041811798496</td><td>3815.5041811798496</td><td>7.0567895749902485</td><td>7.0567895749902485</td><td>22.69717788960287</td><td>22.69717788960287</td><td>2.56195639709799</td><td>2.56195639709799</td><td>False</td><td>False</td><td>False</td><td>False</td><td>False</td><td>False</td><td>False</td><td>False</td><td>497171.1</td><td>497171.1</td><td>402947.3125</td><td>861.0286865234375</td><td>False</td><td>False</td><td>False</td><td>750532.9375</td><td>1240.687744140625</td><td>False</td><td>False</td><td>False</td><td>1044860.0</td><td>1568.1708984375</td><td>False</td><td>False</td><td>False</td><td>1354671.0</td><td>2121.65771484375</td><td>False</td><td>False</td><td>False</td><td>1480787.375</td><td>1480787.375</td><td>1480787.375</td><td>2522.563720703125</td><td>2522.563720703125</td><td>2522.563720703125</td><td>False</td><td>False</td><td>False</td><td>False</td><td>False</td><td>False</td><td>False</td><td>False</td><td>False</td><td>1537743.7321352959</td><td>3038.5839910080085</td><td>False</td><td>False</td><td>1548463.8106181473</td><td>3886.0065839380864</td><td>False</td><td>False</td><td>1556413.4151816517</td><td>5051.807311913155</td><td>False</td><td>False</td><td>1554121.627436176</td><td>6902.115930663038</td><td>False</td><td>False</td><td>1556428.4096593708</td><td>9445.887952202609</td><td>False</td><td>False</td><td>1014742.3862838673</td><td>1014742.3862838673</td><td>1014742.3862838673</td><td>1736.439360435901</td><td>1736.439360435901</td><td>1736.439360435901</td><td>False</td><td>False</td><td>False</td><td>11.656361057990866</td><td>72.53441189968692</td><td>False</td><td>False</td><td>False</td><td>False</td><td>False</td><td>False</td><td>True</td><td>True</td><td>False</td><td>False</td><td>False</td><td>True</td><td>True</td><td>False</td><td>False</td><td>726378.2072104862</td><td>726378.2072104862</td><td>1297.9852634168649</td><td>1297.9852634168649</td><td>62.535423</td><td>62.535423</td><td>False</td><td>False</td><td>False</td><td>False</td><td>False</td><td>False</td><td>False</td><td>5525.63134765625</td><td>False</td><td>1480495.767323529</td><td>2564.3138506198447</td><td>5.394864</td><td>15.826223</td><td>2.596409</td><td>False</td><td>False</td><td>False</td><td>False</td><td>False</td><td>False</td><td>False</td><td>False</td><td>False</td><td>False</td><td>1.0830764055473523</td><td>1.0830764055473523</td><td>1.0830764055473523</td><td>0.0</td><td>0.0</td><td>0.0</td><td>False</td><td>False</td><td>False</td><td>1.0044740698973467</td><td>1.0044740698973467</td><td>0.0</td><td>0.0</td><td>False</td><td>False</td><td>1.0364936361951398</td><td>0.0</td><td>False</td><td>1.0</td><td>False</td><td>1118</td><td>False</td><td>False</td><td>False</td><td>0.6606849207752934</td><td>0.00017543450833363202</td><td>5.424489958032433e-05</td><td>1.1424944972138423e-05</td><td>1.1401597213026765e-05</td><td>-5.4327865567088934e-05</td></tr>\n",
       "<tr><td>34363434455795531</td><td>1.2459597573433114</td><td>-0.5341380214907069</td><td>34363434455795200</td><td>True</td><td>False</td><td>False</td><td>False</td><td>0</td><td>False</td><td>nan</td><td>nan</td><td>nan</td><td>False</td><td>False</td><td>False</td><td>False</td><td>False</td><td>False</td><td>False</td><td>1157.068406204419</td><td>3876.99298244023</td><td>False</td><td>False</td><td>False</td><td>False</td><td>1157.727732863148</td><td>1157.727732863148</td><td>3877.0858903717562</td><td>3877.0858903717562</td><td>0.10818376</td><td>0.10818376</td><td>0.10990263</td><td>0.10990263</td><td>False</td><td>False</td><td>False</td><td>False</td><td>False</td><td>False</td><td>False</td><td>False</td><td>False</td><td>False</td><td>False</td><td>False</td><td>False</td><td>False</td><td>False</td><td>False</td><td>False</td><td>False</td><td>False</td><td>False</td><td>False</td><td>False</td><td>False</td><td>False</td><td>False</td><td>False</td><td>False</td><td>False</td><td>False</td><td>False</td><td>False</td><td>False</td><td>False</td><td>False</td><td>False</td><td>False</td><td>False</td><td>False</td><td>False</td><td>False</td><td>False</td><td>False</td><td>False</td><td>False</td><td>False</td><td>False</td><td>False</td><td>False</td><td>False</td><td>False</td><td>False</td><td>False</td><td>False</td><td>False</td><td>False</td><td>False</td><td>False</td><td>False</td><td>False</td><td>False</td><td>False</td><td>False</td><td>False</td><td>False</td><td>False</td><td>False</td><td>False</td><td>False</td><td>False</td><td>False</td><td>False</td><td>False</td><td>False</td><td>False</td><td>False</td><td>False</td><td>False</td><td>False</td><td>False</td><td>False</td><td>False</td><td>False</td><td>False</td><td>False</td><td>False</td><td>False</td><td>False</td><td>False</td><td>False</td><td>False</td><td>False</td><td>False</td><td>False</td><td>False</td><td>False</td><td>False</td><td>False</td><td>False</td><td>0.00014123446863047187</td><td>1.7344723203582824e-05</td><td>100394.00468758204</td><td>100395.74602400765</td><td>1.787011183107534e-05</td><td>100374.55704271968</td><td>100376.3507793333</td><td>9.889835229290563</td><td>9.898462420795319</td><td>-0.1112698401453874</td><td>9.889976651379197</td><td>9.899271159990347</td><td>-0.11093225817396886</td><td>9.885633092030401</td><td>9.887632087711703</td><td>-0.11927973820335812</td><td>9.885782745949129</td><td>9.888487948647086</td><td>-0.11892021009352799</td><td>False</td><td>False</td><td>False</td><td>-262.8877226713685</td><td>19.365858903717562</td><td>False</td><td>False</td><td>0.9990232669897533</td><td>False</td><td>9.94612982190104</td><td>9.980610563326843</td><td>-0.10997318034932822</td><td>0.28037772</td><td>0.19861245</td><td>0.28134972</td><td>1157.7272019772975</td><td>3877.0899307301</td><td>101492.24725760263</td><td>1430.5144245670126</td><td>4.270589615752192</td><td>4.276502732466754</td><td>-0.0005655128086979028</td><td>-200.54219</td><td>2.217371</td><td>-201.23743</td><td>False</td><td>False</td><td>False</td><td>False</td><td>False</td><td>False</td><td>-0.0005459005609173122</td><td>-0.0005459005609173122</td><td>0.0009809899357555107</td><td>0.0009809899357555107</td><td>4.2726011961163595</td><td>4.2726011961163595</td><td>4.2785828631032645</td><td>4.2785828631032645</td><td>-0.0005041222702805287</td><td>-0.0005041222702805287</td><td>False</td><td>False</td><td>False</td><td>False</td><td>False</td><td>False</td><td>False</td><td>False</td><td>-0.0008491663611494005</td><td>-0.026373758912086487</td><td>0.025939617305994034</td><td>0.5335677862167358</td><td>False</td><td>False</td><td>False</td><td>False</td><td>False</td><td>1157.7265753490292</td><td>1157.7265753490292</td><td>3877.0937417029445</td><td>3877.0937417029445</td><td>9.968754241164213</td><td>9.968754241164213</td><td>10.001500398213894</td><td>10.001500398213894</td><td>-0.11454138124371488</td><td>-0.11454138124371488</td><td>False</td><td>False</td><td>False</td><td>False</td><td>False</td><td>False</td><td>False</td><td>False</td><td>False</td><td>False</td><td>False</td><td>False</td><td>1157.7261512503742</td><td>1157.7261512503742</td><td>3877.0935235249062</td><td>3877.0935235249062</td><td>9.977707074530205</td><td>9.977707074530205</td><td>9.989352516036973</td><td>9.989352516036973</td><td>-0.04860744545807447</td><td>-0.04860744545807447</td><td>False</td><td>False</td><td>False</td><td>False</td><td>False</td><td>False</td><td>False</td><td>False</td><td>101601.5</td><td>101601.5</td><td>39112.3125</td><td>449.5788269042969</td><td>False</td><td>False</td><td>False</td><td>63254.125</td><td>651.9824829101562</td><td>False</td><td>False</td><td>False</td><td>81740.515625</td><td>848.9248657226562</td><td>False</td><td>False</td><td>False</td><td>105050.0234375</td><td>1234.9793701171875</td><td>False</td><td>False</td><td>False</td><td>118275.640625</td><td>118275.640625</td><td>118275.640625</td><td>1620.7718505859375</td><td>1620.7718505859375</td><td>1620.7718505859375</td><td>False</td><td>False</td><td>False</td><td>False</td><td>False</td><td>False</td><td>False</td><td>False</td><td>False</td><td>129807.76566165686</td><td>2281.084105483413</td><td>False</td><td>False</td><td>137568.91682183743</td><td>3323.564156319519</td><td>False</td><td>False</td><td>151593.69623482227</td><td>4634.793109774174</td><td>False</td><td>False</td><td>148448.22277709842</td><td>6602.892701042807</td><td>False</td><td>False</td><td>150508.9556285143</td><td>9229.945542223006</td><td>False</td><td>False</td><td>110072.22509005692</td><td>110072.22509005692</td><td>110072.22509005692</td><td>1079.3741650970862</td><td>1079.3741650970862</td><td>1079.3741650970862</td><td>False</td><td>False</td><td>False</td><td>7.28083834333553</td><td>74.96399300141816</td><td>False</td><td>False</td><td>False</td><td>False</td><td>False</td><td>False</td><td>False</td><td>False</td><td>False</td><td>False</td><td>False</td><td>False</td><td>False</td><td>False</td><td>False</td><td>67936.31060696648</td><td>67936.31060696648</td><td>688.0377525938139</td><td>688.0377525938139</td><td>63.105873</td><td>63.105873</td><td>False</td><td>False</td><td>False</td><td>False</td><td>False</td><td>False</td><td>True</td><td>nan</td><td>True</td><td>129830.01453578816</td><td>2026.7312612891983</td><td>5.792339</td><td>18.958916</td><td>2.5909204</td><td>False</td><td>False</td><td>False</td><td>False</td><td>False</td><td>False</td><td>False</td><td>False</td><td>False</td><td>False</td><td>1.0833561820078872</td><td>1.0833561820078872</td><td>1.0833561820078872</td><td>0.0</td><td>0.0</td><td>0.0</td><td>False</td><td>False</td><td>False</td><td>0.9968934325053185</td><td>0.9968934325053185</td><td>0.0</td><td>0.0</td><td>False</td><td>False</td><td>1.035521085454374</td><td>0.0</td><td>False</td><td>1.0</td><td>False</td><td>627</td><td>False</td><td>False</td><td>False</td><td>0.6606849207752934</td><td>0.00017543450833363202</td><td>5.42540394216434e-05</td><td>1.1425819547440191e-05</td><td>1.1401353045710704e-05</td><td>-5.433126346157582e-05</td></tr>\n",
       "<tr><td>34363434455795532</td><td>1.2459743068782572</td><td>-0.5341561965148474</td><td>34363434455795200</td><td>False</td><td>False</td><td>False</td><td>False</td><td>0</td><td>True</td><td>1167.0</td><td>3898.0</td><td>7115.757626105833</td><td>False</td><td>False</td><td>False</td><td>False</td><td>False</td><td>False</td><td>False</td><td>1166.2171118638978</td><td>3897.9984480386324</td><td>False</td><td>False</td><td>False</td><td>False</td><td>1166.5322103134931</td><td>1166.5322103134931</td><td>3898.0971908559063</td><td>3898.0971908559063</td><td>0.6088634</td><td>0.6088634</td><td>0.70661914</td><td>0.70661914</td><td>False</td><td>False</td><td>False</td><td>False</td><td>False</td><td>False</td><td>False</td><td>False</td><td>False</td><td>False</td><td>False</td><td>False</td><td>False</td><td>False</td><td>False</td><td>False</td><td>False</td><td>False</td><td>False</td><td>False</td><td>False</td><td>False</td><td>False</td><td>False</td><td>False</td><td>False</td><td>False</td><td>False</td><td>False</td><td>False</td><td>False</td><td>False</td><td>False</td><td>False</td><td>False</td><td>False</td><td>False</td><td>False</td><td>False</td><td>False</td><td>False</td><td>False</td><td>False</td><td>False</td><td>False</td><td>False</td><td>False</td><td>False</td><td>False</td><td>False</td><td>False</td><td>False</td><td>False</td><td>False</td><td>False</td><td>False</td><td>False</td><td>False</td><td>False</td><td>False</td><td>False</td><td>False</td><td>False</td><td>False</td><td>False</td><td>False</td><td>False</td><td>False</td><td>False</td><td>False</td><td>False</td><td>False</td><td>False</td><td>False</td><td>False</td><td>False</td><td>False</td><td>False</td><td>False</td><td>False</td><td>False</td><td>False</td><td>False</td><td>False</td><td>False</td><td>False</td><td>False</td><td>False</td><td>False</td><td>False</td><td>False</td><td>False</td><td>False</td><td>False</td><td>False</td><td>False</td><td>False</td><td>False</td><td>0.002925184027677517</td><td>0.00015465042444540167</td><td>18109.95615394663</td><td>18112.75729955088</td><td>0.0011844447951732118</td><td>18632.30389075126</td><td>18654.398996549808</td><td>11.154915797656146</td><td>14.93343806537913</td><td>-1.4202208804166039</td><td>11.162063069888408</td><td>14.971756167447191</td><td>-1.4303848317655523</td><td>12.346490804645411</td><td>16.368781026212975</td><td>-1.533983508952037</td><td>12.405395777418116</td><td>16.561542589071205</td><td>-1.6209449667240896</td><td>False</td><td>False</td><td>False</td><td>-262.79967789686503</td><td>19.575971908559065</td><td>False</td><td>False</td><td>0.9990238023690673</td><td>False</td><td>11.261073548523468</td><td>15.170603859593006</td><td>-1.290623605488399</td><td>1.7143719</td><td>1.413867</td><td>2.309554</td><td>1166.5392168762146</td><td>3898.1686981699695</td><td>18435.03088510016</td><td>1403.263163727048</td><td>4.268913947230597</td><td>4.278012952665926</td><td>-0.00012723222225750306</td><td>-1202.8574</td><td>137.85864</td><td>-1620.456</td><td>False</td><td>False</td><td>False</td><td>False</td><td>False</td><td>False</td><td>-0.0005652567545101314</td><td>-0.0005652567545101314</td><td>0.000957494117762603</td><td>0.000957494117762603</td><td>4.270927202492846</td><td>4.270927202492846</td><td>4.280090027672658</td><td>4.280090027672658</td><td>-6.704677101608862e-05</td><td>-6.704677101608862e-05</td><td>False</td><td>False</td><td>False</td><td>False</td><td>False</td><td>False</td><td>False</td><td>False</td><td>-0.2812572717666626</td><td>-0.2619816064834595</td><td>0.1342352330684662</td><td>0.6411068439483643</td><td>False</td><td>False</td><td>False</td><td>False</td><td>False</td><td>1166.5517974850027</td><td>1166.5517974850027</td><td>3898.2412536348043</td><td>3898.2412536348043</td><td>11.198044106100575</td><td>11.198044106100575</td><td>14.924735156590739</td><td>14.924735156590739</td><td>-1.5237920117654569</td><td>-1.5237920117654569</td><td>False</td><td>False</td><td>False</td><td>False</td><td>False</td><td>False</td><td>False</td><td>False</td><td>False</td><td>False</td><td>False</td><td>False</td><td>1166.5571816408062</td><td>1166.5571816408062</td><td>3898.2037516140185</td><td>3898.2037516140185</td><td>12.289446743587662</td><td>12.289446743587662</td><td>14.029435923263048</td><td>14.029435923263048</td><td>-0.5196668697889566</td><td>-0.5196668697889566</td><td>False</td><td>False</td><td>False</td><td>False</td><td>False</td><td>False</td><td>False</td><td>False</td><td>18454.984</td><td>18454.984</td><td>5782.52783203125</td><td>395.9339904785156</td><td>False</td><td>False</td><td>False</td><td>9861.30859375</td><td>591.342041015625</td><td>False</td><td>False</td><td>False</td><td>12889.2021484375</td><td>788.9503173828125</td><td>False</td><td>False</td><td>False</td><td>17960.779296875</td><td>1183.2213134765625</td><td>False</td><td>False</td><td>False</td><td>19679.126953125</td><td>19679.126953125</td><td>19679.126953125</td><td>1576.510498046875</td><td>1576.510498046875</td><td>1576.510498046875</td><td>False</td><td>False</td><td>False</td><td>False</td><td>False</td><td>False</td><td>False</td><td>False</td><td>False</td><td>18880.08949456981</td><td>2249.0379281040996</td><td>False</td><td>False</td><td>19768.260122052045</td><td>3311.9330688200434</td><td>False</td><td>False</td><td>25014.35691883287</td><td>4630.939360048382</td><td>False</td><td>False</td><td>39048.213491907925</td><td>6601.711980482198</td><td>False</td><td>False</td><td>41580.72409456095</td><td>9233.325730362205</td><td>False</td><td>False</td><td>19839.85727089649</td><td>19839.85727089649</td><td>19839.85727089649</td><td>1052.0074849942553</td><td>1052.0074849942553</td><td>1052.0074849942553</td><td>False</td><td>False</td><td>False</td><td>1.7812847540934225</td><td>70.14504646302876</td><td>False</td><td>False</td><td>False</td><td>False</td><td>False</td><td>False</td><td>False</td><td>False</td><td>False</td><td>False</td><td>False</td><td>False</td><td>False</td><td>False</td><td>False</td><td>10413.51778981555</td><td>10413.51778981555</td><td>604.5539709070258</td><td>604.5539709070258</td><td>63.147232</td><td>63.147232</td><td>False</td><td>False</td><td>False</td><td>False</td><td>False</td><td>False</td><td>False</td><td>5510.416015625</td><td>False</td><td>20662.84179324707</td><td>1792.053553145278</td><td>5.23091</td><td>21.49782</td><td>2.590895</td><td>False</td><td>False</td><td>False</td><td>False</td><td>False</td><td>False</td><td>False</td><td>False</td><td>False</td><td>False</td><td>1.0833057366749845</td><td>1.0833057366749845</td><td>1.0833057366749845</td><td>0.0</td><td>0.0</td><td>0.0</td><td>False</td><td>False</td><td>False</td><td>0.9968133036978943</td><td>0.9968133036978943</td><td>0.0</td><td>0.0</td><td>False</td><td>False</td><td>1.0354488007183218</td><td>0.0</td><td>False</td><td>1.0</td><td>False</td><td>710</td><td>False</td><td>False</td><td>False</td><td>0.6606849207752934</td><td>0.00017543450833363202</td><td>5.42541523568566e-05</td><td>1.1425823599370101e-05</td><td>1.1401271296640192e-05</td><td>-5.433129852122488e-05</td></tr>\n",
       "<tr><td>34363434455795533</td><td>1.2464016799647009</td><td>-0.5341485239405371</td><td>34363434455795242</td><td>False</td><td>False</td><td>False</td><td>False</td><td>0</td><td>True</td><td>1540.0</td><td>3968.0</td><td>16324.295197429892</td><td>False</td><td>False</td><td>False</td><td>False</td><td>False</td><td>False</td><td>False</td><td>1540.0757216398615</td><td>3968.085464692677</td><td>False</td><td>False</td><td>False</td><td>False</td><td>1540.1819886240744</td><td>1540.1819886240744</td><td>3968.366073630611</td><td>3968.366073630611</td><td>0.13343182</td><td>0.13343182</td><td>0.12655427</td><td>0.12655427</td><td>False</td><td>False</td><td>False</td><td>False</td><td>False</td><td>False</td><td>False</td><td>False</td><td>False</td><td>False</td><td>False</td><td>False</td><td>False</td><td>False</td><td>False</td><td>False</td><td>False</td><td>False</td><td>False</td><td>False</td><td>False</td><td>False</td><td>False</td><td>False</td><td>False</td><td>False</td><td>False</td><td>False</td><td>False</td><td>False</td><td>False</td><td>False</td><td>False</td><td>False</td><td>False</td><td>False</td><td>False</td><td>False</td><td>False</td><td>False</td><td>False</td><td>False</td><td>False</td><td>False</td><td>False</td><td>False</td><td>False</td><td>False</td><td>False</td><td>False</td><td>False</td><td>False</td><td>False</td><td>False</td><td>False</td><td>False</td><td>False</td><td>False</td><td>False</td><td>False</td><td>False</td><td>False</td><td>False</td><td>False</td><td>False</td><td>False</td><td>False</td><td>False</td><td>False</td><td>False</td><td>False</td><td>False</td><td>False</td><td>False</td><td>False</td><td>False</td><td>False</td><td>False</td><td>False</td><td>False</td><td>False</td><td>False</td><td>False</td><td>False</td><td>False</td><td>False</td><td>False</td><td>False</td><td>False</td><td>False</td><td>False</td><td>False</td><td>False</td><td>False</td><td>False</td><td>False</td><td>False</td><td>False</td><td>0.017423781163396712</td><td>0.0011808674699278487</td><td>15976.717226273908</td><td>15995.605916963035</td><td>0.0013150519032746333</td><td>16005.657952439013</td><td>16026.733939409309</td><td>4.762287887285871</td><td>4.339145850633503</td><td>0.1694019277795154</td><td>4.769347476279775</td><td>4.346370195193111</td><td>0.17385718101940653</td><td>4.896883399895079</td><td>4.427588980923489</td><td>0.11674090028358257</td><td>4.907383936891983</td><td>4.437784847027426</td><td>0.12215519959728491</td><td>False</td><td>False</td><td>False</td><td>-259.06318011375924</td><td>20.27866073630611</td><td>False</td><td>False</td><td>0.9990508293882313</td><td>False</td><td>4.785656422074261</td><td>4.340020165517865</td><td>0.18137471919634188</td><td>0.50417084</td><td>0.33976725</td><td>0.4572229</td><td>1540.1817456758413</td><td>3968.370998908836</td><td>16143.027985835683</td><td>850.3372628500553</td><td>4.2515965761334</td><td>4.284953990835918</td><td>-0.001765865133230056</td><td>-214.35764</td><td>-8.124079</td><td>-194.39684</td><td>False</td><td>False</td><td>False</td><td>False</td><td>False</td><td>False</td><td>-0.0005862018056268037</td><td>-0.0005862018056268037</td><td>0.000648569547613459</td><td>0.000648569547613459</td><td>4.2535419897807465</td><td>4.2535419897807465</td><td>4.286980008627424</td><td>4.286980008627424</td><td>-0.0017315342987500406</td><td>-0.0017315342987500406</td><td>False</td><td>False</td><td>False</td><td>False</td><td>False</td><td>False</td><td>False</td><td>False</td><td>-1.034136176109314</td><td>-0.793337881565094</td><td>1.1157169342041016</td><td>0.05680600181221962</td><td>False</td><td>False</td><td>False</td><td>False</td><td>False</td><td>1540.1814449221931</td><td>1540.1814449221931</td><td>3968.3758884918125</td><td>3968.3758884918125</td><td>4.792371734319418</td><td>4.792371734319418</td><td>4.349949235504274</td><td>4.349949235504274</td><td>0.18259002819404135</td><td>0.18259002819404135</td><td>False</td><td>False</td><td>False</td><td>False</td><td>False</td><td>False</td><td>False</td><td>False</td><td>False</td><td>False</td><td>False</td><td>False</td><td>1540.180720383148</td><td>1540.180720383148</td><td>3968.373964055891</td><td>3968.373964055891</td><td>4.64174062074796</td><td>4.64174062074796</td><td>4.452661118565261</td><td>4.452661118565261</td><td>0.08743541715445705</td><td>0.08743541715445705</td><td>False</td><td>False</td><td>False</td><td>False</td><td>False</td><td>False</td><td>False</td><td>False</td><td>16121.914</td><td>16121.914</td><td>10189.3828125</td><td>404.27020263671875</td><td>False</td><td>False</td><td>False</td><td>14091.8662109375</td><td>596.2533569335938</td><td>False</td><td>False</td><td>False</td><td>16416.22265625</td><td>792.023193359375</td><td>False</td><td>False</td><td>False</td><td>18276.12109375</td><td>1183.3023681640625</td><td>False</td><td>False</td><td>False</td><td>17431.7421875</td><td>17431.7421875</td><td>17431.7421875</td><td>1575.8870849609375</td><td>1575.8870849609375</td><td>1575.8870849609375</td><td>False</td><td>False</td><td>False</td><td>False</td><td>False</td><td>False</td><td>False</td><td>False</td><td>False</td><td>19570.98670714267</td><td>2245.894162436687</td><td>False</td><td>False</td><td>22340.793417020817</td><td>3294.2504439998133</td><td>False</td><td>False</td><td>nan</td><td>nan</td><td>True</td><td>True</td><td>nan</td><td>nan</td><td>True</td><td>True</td><td>nan</td><td>nan</td><td>True</td><td>True</td><td>17504.56582925902</td><td>17504.56582925902</td><td>17504.56582925902</td><td>651.9926799697529</td><td>651.9926799697529</td><td>651.9926799697529</td><td>False</td><td>False</td><td>False</td><td>1.772846703603398</td><td>71.42793895254714</td><td>False</td><td>False</td><td>False</td><td>False</td><td>False</td><td>False</td><td>False</td><td>False</td><td>False</td><td>False</td><td>False</td><td>False</td><td>False</td><td>False</td><td>False</td><td>16897.153179515193</td><td>16897.153179515193</td><td>616.4026790319986</td><td>616.4026790319986</td><td>63.184776</td><td>63.184776</td><td>False</td><td>False</td><td>False</td><td>False</td><td>False</td><td>False</td><td>False</td><td>5448.1787109375</td><td>False</td><td>17408.408317556212</td><td>947.7310405982806</td><td>2.7806036</td><td>12.815517</td><td>2.5893126</td><td>False</td><td>False</td><td>False</td><td>False</td><td>False</td><td>False</td><td>False</td><td>False</td><td>False</td><td>False</td><td>1.0833475725881865</td><td>1.0833475725881865</td><td>1.0833475725881865</td><td>0.0</td><td>0.0</td><td>0.0</td><td>False</td><td>False</td><td>False</td><td>0.9944380898428374</td><td>0.9944380898428374</td><td>0.0</td><td>0.0</td><td>False</td><td>False</td><td>1.035021358439799</td><td>0.0</td><td>False</td><td>0.0</td><td>False</td><td>491</td><td>False</td><td>False</td><td>False</td><td>0.6606849207752934</td><td>0.00017543450833363202</td><td>5.4258108637249615e-05</td><td>1.1426187679838835e-05</td><td>1.1400996716311422e-05</td><td>-5.433275448024048e-05</td></tr>\n",
       "<tr><td>34363434455795534</td><td>1.2463917545623717</td><td>-0.5341402669657064</td><td>34363434455795242</td><td>False</td><td>False</td><td>False</td><td>False</td><td>0</td><td>True</td><td>1533.0</td><td>3958.0</td><td>5078.4093157787665</td><td>False</td><td>False</td><td>False</td><td>False</td><td>False</td><td>False</td><td>False</td><td>1532.897925116722</td><td>3958.0055588733926</td><td>False</td><td>False</td><td>False</td><td>False</td><td>1533.298526146547</td><td>1533.298526146547</td><td>3958.214505641152</td><td>3958.214505641152</td><td>0.5060302</td><td>0.5060302</td><td>0.39903843</td><td>0.39903843</td><td>False</td><td>False</td><td>False</td><td>False</td><td>False</td><td>False</td><td>False</td><td>False</td><td>False</td><td>False</td><td>False</td><td>False</td><td>False</td><td>False</td><td>False</td><td>False</td><td>False</td><td>False</td><td>False</td><td>False</td><td>False</td><td>False</td><td>False</td><td>False</td><td>False</td><td>False</td><td>False</td><td>False</td><td>False</td><td>False</td><td>False</td><td>False</td><td>False</td><td>False</td><td>False</td><td>False</td><td>False</td><td>False</td><td>False</td><td>False</td><td>False</td><td>False</td><td>False</td><td>False</td><td>False</td><td>False</td><td>False</td><td>False</td><td>False</td><td>False</td><td>False</td><td>False</td><td>False</td><td>False</td><td>False</td><td>False</td><td>False</td><td>False</td><td>False</td><td>False</td><td>False</td><td>False</td><td>False</td><td>False</td><td>False</td><td>False</td><td>False</td><td>False</td><td>False</td><td>False</td><td>False</td><td>False</td><td>False</td><td>False</td><td>False</td><td>False</td><td>False</td><td>False</td><td>False</td><td>False</td><td>False</td><td>False</td><td>False</td><td>False</td><td>False</td><td>False</td><td>False</td><td>False</td><td>False</td><td>False</td><td>False</td><td>False</td><td>False</td><td>False</td><td>False</td><td>False</td><td>False</td><td>False</td><td>0.08950670602136085</td><td>0.010185710895594724</td><td>4285.177076792232</td><td>4329.273808190329</td><td>0.01487933158804089</td><td>4554.620284758801</td><td>4623.4135886124195</td><td>4.97642346910308</td><td>2.997219909527881</td><td>-1.0721561449817016</td><td>5.035453562529247</td><td>3.040376792546646</td><td>-1.0895542888437038</td><td>6.1091015393266</td><td>3.4713852234520304</td><td>-1.1355262087347144</td><td>6.2666383312981715</td><td>3.557914230927781</td><td>-1.1568721880462485</td><td>False</td><td>False</td><td>False</td><td>-259.1320147385345</td><td>20.177145056411522</td><td>False</td><td>False</td><td>0.9990503853783027</td><td>False</td><td>4.819010638563376</td><td>3.1109897867717518</td><td>-1.0169578239657544</td><td>1.6346393</td><td>0.96020275</td><td>1.0552677</td><td>1533.3128180330511</td><td>3958.163700689686</td><td>4368.067301702919</td><td>740.8382516322342</td><td>4.2525111151203125</td><td>4.284160859090671</td><td>-0.0019430925863509322</td><td>-605.5017</td><td>127.7793</td><td>-390.89133</td><td>False</td><td>False</td><td>False</td><td>False</td><td>False</td><td>False</td><td>-0.0005766787891730347</td><td>-0.0005766787891730347</td><td>0.0006639167708522434</td><td>0.0006639167708522434</td><td>4.2544549812586805</td><td>4.2544549812586805</td><td>4.2861907392079965</td><td>4.2861907392079965</td><td>-0.0019073619344794328</td><td>-0.0019073619344794328</td><td>False</td><td>False</td><td>False</td><td>False</td><td>False</td><td>False</td><td>False</td><td>False</td><td>nan</td><td>nan</td><td>nan</td><td>nan</td><td>True</td><td>False</td><td>False</td><td>False</td><td>True</td><td>1533.3242151691031</td><td>1533.3242151691031</td><td>3958.1085755555882</td><td>3958.1085755555882</td><td>4.847478940436827</td><td>4.847478940436827</td><td>3.01271651499847</td><td>3.01271651499847</td><td>-1.0322327230917647</td><td>-1.0322327230917647</td><td>False</td><td>False</td><td>False</td><td>False</td><td>False</td><td>False</td><td>False</td><td>False</td><td>False</td><td>False</td><td>False</td><td>False</td><td>1533.3096503163063</td><td>1533.3096503163063</td><td>3958.1952524337667</td><td>3958.1952524337667</td><td>4.679506111022079</td><td>4.679506111022079</td><td>3.999748473484706</td><td>3.999748473484706</td><td>-0.7661046200789208</td><td>-0.7661046200789208</td><td>False</td><td>False</td><td>False</td><td>False</td><td>False</td><td>False</td><td>False</td><td>False</td><td>4586.9683</td><td>4586.9683</td><td>3018.27001953125</td><td>391.95452880859375</td><td>False</td><td>False</td><td>False</td><td>4138.234375</td><td>584.7791748046875</td><td>False</td><td>False</td><td>False</td><td>4757.107421875</td><td>781.8837890625</td><td>False</td><td>False</td><td>False</td><td>4449.302734375</td><td>1176.0079345703125</td><td>False</td><td>False</td><td>False</td><td>5285.52783203125</td><td>5285.52783203125</td><td>5285.52783203125</td><td>1573.2008056640625</td><td>1573.2008056640625</td><td>1573.2008056640625</td><td>False</td><td>False</td><td>False</td><td>False</td><td>False</td><td>False</td><td>False</td><td>False</td><td>False</td><td>7118.923238390125</td><td>2246.3398640161217</td><td>False</td><td>False</td><td>10012.508144386811</td><td>3296.2084315792385</td><td>False</td><td>False</td><td>6947.662508436246</td><td>4610.067918203507</td><td>False</td><td>False</td><td>nan</td><td>nan</td><td>True</td><td>True</td><td>nan</td><td>nan</td><td>True</td><td>True</td><td>4695.90152199604</td><td>4695.90152199604</td><td>4695.90152199604</td><td>563.216179414021</td><td>563.216179414021</td><td>563.216179414021</td><td>False</td><td>False</td><td>False</td><td>2.612258931004508</td><td>70.26298479226229</td><td>False</td><td>False</td><td>False</td><td>False</td><td>False</td><td>False</td><td>False</td><td>False</td><td>False</td><td>False</td><td>False</td><td>False</td><td>False</td><td>False</td><td>False</td><td>4941.480422711943</td><td>4941.480422711943</td><td>596.4206271584196</td><td>596.4206271584196</td><td>63.254086</td><td>63.254086</td><td>False</td><td>False</td><td>False</td><td>False</td><td>False</td><td>False</td><td>False</td><td>5542.6201171875</td><td>False</td><td>6398.7872075991</td><td>1811.751809920697</td><td>5.30676</td><td>11.509183</td><td>2.589332</td><td>False</td><td>False</td><td>False</td><td>False</td><td>False</td><td>False</td><td>False</td><td>False</td><td>False</td><td>False</td><td>1.0833701658287824</td><td>1.0833701658287824</td><td>1.0833701658287824</td><td>0.0</td><td>0.0</td><td>0.0</td><td>False</td><td>False</td><td>False</td><td>0.9944899064974646</td><td>0.9944899064974646</td><td>0.0</td><td>0.0</td><td>False</td><td>False</td><td>1.035059377126355</td><td>0.0</td><td>False</td><td>0.0</td><td>False</td><td>485</td><td>False</td><td>False</td><td>False</td><td>0.6606849207752934</td><td>0.00017543450833363202</td><td>5.425802673321968e-05</td><td>1.1426183044261079e-05</td><td>1.1401036222190254e-05</td><td>-5.433272731421545e-05</td></tr>\n",
       "<tr><td>34363434455795535</td><td>1.246209816635579</td><td>-0.5341790908272449</td><td>34363434455795246</td><td>False</td><td>False</td><td>False</td><td>False</td><td>0</td><td>True</td><td>1367.0</td><td>3964.0</td><td>14162.995912889626</td><td>False</td><td>False</td><td>False</td><td>False</td><td>False</td><td>False</td><td>False</td><td>1366.1082751520016</td><td>3964.025837313888</td><td>False</td><td>False</td><td>False</td><td>False</td><td>1366.6764539366045</td><td>1366.6764539366045</td><td>3964.203018667521</td><td>3964.203018667521</td><td>0.1572844</td><td>0.1572844</td><td>0.15054566</td><td>0.15054566</td><td>False</td><td>False</td><td>False</td><td>False</td><td>False</td><td>False</td><td>False</td><td>False</td><td>False</td><td>False</td><td>False</td><td>False</td><td>False</td><td>False</td><td>False</td><td>False</td><td>False</td><td>False</td><td>False</td><td>False</td><td>False</td><td>False</td><td>False</td><td>False</td><td>False</td><td>False</td><td>False</td><td>False</td><td>False</td><td>False</td><td>False</td><td>False</td><td>False</td><td>False</td><td>False</td><td>False</td><td>False</td><td>False</td><td>False</td><td>False</td><td>False</td><td>False</td><td>False</td><td>False</td><td>False</td><td>False</td><td>False</td><td>False</td><td>False</td><td>False</td><td>False</td><td>False</td><td>False</td><td>False</td><td>False</td><td>False</td><td>False</td><td>False</td><td>False</td><td>False</td><td>False</td><td>False</td><td>False</td><td>False</td><td>False</td><td>False</td><td>False</td><td>False</td><td>False</td><td>False</td><td>False</td><td>False</td><td>False</td><td>False</td><td>False</td><td>False</td><td>False</td><td>False</td><td>False</td><td>False</td><td>False</td><td>False</td><td>False</td><td>False</td><td>False</td><td>False</td><td>False</td><td>False</td><td>False</td><td>False</td><td>False</td><td>False</td><td>False</td><td>False</td><td>False</td><td>False</td><td>False</td><td>False</td><td>0.044642148116784866</td><td>0.0023578055874752257</td><td>23657.85585993379</td><td>23713.768315367855</td><td>0.003061109470670731</td><td>23756.287748983923</td><td>23829.231635622535</td><td>9.369022533610737</td><td>7.370060306423696</td><td>-0.39308883675007217</td><td>9.477651318931608</td><td>7.396981815981239</td><td>-0.3993491376265967</td><td>9.414589108980248</td><td>7.688789229267123</td><td>-0.4531480074070301</td><td>9.571847863376613</td><td>7.730585239232739</td><td>-0.4482303036416853</td><td>False</td><td>False</td><td>False</td><td>-260.7982354606339</td><td>20.237030186675216</td><td>False</td><td>False</td><td>0.9990381682747081</td><td>False</td><td>9.40024115628942</td><td>7.396204136978322</td><td>-0.3939721469178049</td><td>0.8968165</td><td>0.5631288</td><td>0.7056242</td><td>1366.6752050536054</td><td>3964.19746659892</td><td>23931.458245459595</td><td>1141.5731520342053</td><td>4.2574548485469474</td><td>4.283708771075981</td><td>-0.0003005810650176955</td><td>-511.8908</td><td>21.453781</td><td>-402.76083</td><td>False</td><td>False</td><td>False</td><td>False</td><td>False</td><td>False</td><td>-0.0006009154773438126</td><td>-0.0006009154773438126</td><td>0.0007669818795653427</td><td>0.0007669818795653427</td><td>4.259426169769316</td><td>4.259426169769316</td><td>4.285765182793744</td><td>4.285765182793744</td><td>-0.0002517759641074484</td><td>-0.0002517759641074484</td><td>False</td><td>False</td><td>False</td><td>False</td><td>False</td><td>False</td><td>False</td><td>False</td><td>0.45044848322868347</td><td>-0.1621573567390442</td><td>0.11694812774658203</td><td>0.4460219740867615</td><td>False</td><td>False</td><td>False</td><td>False</td><td>False</td><td>1366.674162396399</td><td>1366.674162396399</td><td>3964.1924584539865</td><td>3964.1924584539865</td><td>9.404413550902873</td><td>9.404413550902873</td><td>7.402944856168268</td><td>7.402944856168268</td><td>-0.38794831109012534</td><td>-0.38794831109012534</td><td>False</td><td>False</td><td>False</td><td>False</td><td>False</td><td>False</td><td>False</td><td>False</td><td>False</td><td>False</td><td>False</td><td>False</td><td>1366.6890520892127</td><td>1366.6890520892127</td><td>3964.1874910024467</td><td>3964.1874910024467</td><td>8.716164275194835</td><td>8.716164275194835</td><td>7.883893690464331</td><td>7.883893690464331</td><td>-0.11136608780855972</td><td>-0.11136608780855972</td><td>False</td><td>False</td><td>False</td><td>False</td><td>False</td><td>False</td><td>False</td><td>False</td><td>23834.574</td><td>23834.574</td><td>10442.3671875</td><td>404.6681823730469</td><td>False</td><td>False</td><td>False</td><td>16091.796875</td><td>598.8709106445312</td><td>False</td><td>False</td><td>False</td><td>20455.359375</td><td>795.5891723632812</td><td>False</td><td>False</td><td>False</td><td>25980.126953125</td><td>1188.091064453125</td><td>False</td><td>False</td><td>False</td><td>27563.615234375</td><td>27563.615234375</td><td>27563.615234375</td><td>1580.628173828125</td><td>1580.628173828125</td><td>1580.628173828125</td><td>False</td><td>False</td><td>False</td><td>False</td><td>False</td><td>False</td><td>False</td><td>False</td><td>False</td><td>26929.91845836863</td><td>2250.593464159613</td><td>False</td><td>False</td><td>25470.965618702437</td><td>3303.917026392333</td><td>False</td><td>False</td><td>31015.634099992778</td><td>4619.756620950546</td><td>False</td><td>False</td><td>nan</td><td>nan</td><td>True</td><td>True</td><td>nan</td><td>nan</td><td>True</td><td>True</td><td>25932.955060717835</td><td>25932.955060717835</td><td>25932.955060717835</td><td>879.9389652818297</td><td>879.9389652818297</td><td>879.9389652818297</td><td>False</td><td>False</td><td>False</td><td>0.28494270868689925</td><td>63.13756836059633</td><td>False</td><td>False</td><td>False</td><td>False</td><td>False</td><td>False</td><td>False</td><td>False</td><td>False</td><td>False</td><td>False</td><td>False</td><td>False</td><td>False</td><td>False</td><td>18029.011163867497</td><td>18029.011163867497</td><td>616.8479602970584</td><td>616.8479602970584</td><td>63.159065</td><td>63.159065</td><td>False</td><td>False</td><td>False</td><td>False</td><td>False</td><td>False</td><td>False</td><td>5510.5263671875</td><td>False</td><td>27625.559186675306</td><td>1415.5854984748019</td><td>4.149734</td><td>17.322092</td><td>2.5900161</td><td>False</td><td>False</td><td>False</td><td>False</td><td>False</td><td>False</td><td>False</td><td>False</td><td>False</td><td>False</td><td>1.083248549551035</td><td>1.083248549551035</td><td>1.083248549551035</td><td>0.0</td><td>0.0</td><td>0.0</td><td>False</td><td>False</td><td>False</td><td>0.9954416404182012</td><td>0.9954416404182012</td><td>0.0</td><td>0.0</td><td>False</td><td>False</td><td>1.0351156690227383</td><td>0.0</td><td>False</td><td>1.0</td><td>False</td><td>1017</td><td>False</td><td>False</td><td>False</td><td>0.6606849207752934</td><td>0.00017543450833363202</td><td>5.4256300513324244e-05</td><td>1.142601195994348e-05</td><td>1.140101350426891e-05</td><td>-5.433207950710554e-05</td></tr>\n",
       "<tr><td>34363434455795536</td><td>1.2462284914677926</td><td>-0.534176976844963</td><td>34363434455795246</td><td>False</td><td>False</td><td>False</td><td>False</td><td>0</td><td>True</td><td>1383.0</td><td>3965.0</td><td>7756.607699519952</td><td>False</td><td>False</td><td>False</td><td>False</td><td>False</td><td>False</td><td>False</td><td>1382.9381196540828</td><td>3964.979563651045</td><td>False</td><td>False</td><td>False</td><td>False</td><td>1383.3814999502308</td><td>1383.3814999502308</td><td>3965.477289592126</td><td>3965.477289592126</td><td>0.25374454</td><td>0.25374454</td><td>0.29334146</td><td>0.29334146</td><td>False</td><td>False</td><td>False</td><td>False</td><td>False</td><td>False</td><td>False</td><td>False</td><td>False</td><td>False</td><td>False</td><td>False</td><td>False</td><td>False</td><td>False</td><td>False</td><td>False</td><td>False</td><td>False</td><td>False</td><td>False</td><td>False</td><td>False</td><td>False</td><td>False</td><td>False</td><td>False</td><td>False</td><td>False</td><td>False</td><td>False</td><td>False</td><td>False</td><td>False</td><td>False</td><td>False</td><td>False</td><td>False</td><td>False</td><td>False</td><td>False</td><td>False</td><td>False</td><td>False</td><td>False</td><td>False</td><td>False</td><td>False</td><td>False</td><td>False</td><td>False</td><td>False</td><td>False</td><td>False</td><td>False</td><td>False</td><td>False</td><td>False</td><td>False</td><td>False</td><td>False</td><td>False</td><td>False</td><td>False</td><td>False</td><td>False</td><td>False</td><td>False</td><td>False</td><td>False</td><td>False</td><td>False</td><td>False</td><td>False</td><td>False</td><td>False</td><td>False</td><td>False</td><td>False</td><td>False</td><td>False</td><td>False</td><td>False</td><td>False</td><td>False</td><td>False</td><td>False</td><td>False</td><td>False</td><td>False</td><td>False</td><td>False</td><td>False</td><td>False</td><td>False</td><td>False</td><td>False</td><td>False</td><td>0.07283813678457465</td><td>0.005577085803879056</td><td>12234.828727444788</td><td>12303.446102039263</td><td>0.008574376447439525</td><td>12495.589257663829</td><td>12603.657763946601</td><td>6.801806253620004</td><td>8.16871496840838</td><td>0.484332373393022</td><td>6.874251209602401</td><td>8.250997063672731</td><td>0.4743779186085596</td><td>7.2017163532074795</td><td>8.757976979150424</td><td>0.8775759879197672</td><td>7.353208707879342</td><td>8.949944844144863</td><td>0.8781537892862898</td><td>False</td><td>False</td><td>False</td><td>-260.6311850004977</td><td>20.249772895921264</td><td>False</td><td>False</td><td>0.9990393862001781</td><td>False</td><td>6.860333638745685</td><td>8.207936730811683</td><td>0.4961583220309137</td><td>1.1699463</td><td>0.9068648</td><td>1.3997635</td><td>1383.3913625248867</td><td>3965.486797465817</td><td>12370.042192325462</td><td>1054.7799132059547</td><td>4.256806193897677</td><td>4.283890362370223</td><td>-0.00042041661181975486</td><td>-617.0179</td><td>-44.624443</td><td>-738.2212</td><td>False</td><td>False</td><td>False</td><td>False</td><td>False</td><td>False</td><td>-0.0006000253077965103</td><td>-0.0006000253077965103</td><td>0.0007548212190326701</td><td>0.0007548212190326701</td><td>4.258776120109779</td><td>4.258776120109779</td><td>4.28594277556749</td><td>4.28594277556749</td><td>-0.00037325644974721357</td><td>-0.00037325644974721357</td><td>False</td><td>False</td><td>False</td><td>False</td><td>False</td><td>False</td><td>False</td><td>False</td><td>-0.387801855802536</td><td>0.31188610196113586</td><td>0.24859263002872467</td><td>0.3899599611759186</td><td>False</td><td>False</td><td>False</td><td>False</td><td>False</td><td>1383.401650493066</td><td>1383.401650493066</td><td>3965.4956657577163</td><td>3965.4956657577163</td><td>6.864308131140148</td><td>6.864308131140148</td><td>8.226434280987247</td><td>8.226434280987247</td><td>0.4754552562014118</td><td>0.4754552562014118</td><td>False</td><td>False</td><td>False</td><td>False</td><td>False</td><td>False</td><td>False</td><td>False</td><td>False</td><td>False</td><td>False</td><td>False</td><td>1383.4118381520182</td><td>1383.4118381520182</td><td>3965.5007946303786</td><td>3965.5007946303786</td><td>7.217662436992821</td><td>7.217662436992821</td><td>7.86675828464846</td><td>7.86675828464846</td><td>0.1397913379019316</td><td>0.1397913379019316</td><td>False</td><td>False</td><td>False</td><td>False</td><td>False</td><td>False</td><td>False</td><td>False</td><td>12393.417</td><td>12393.417</td><td>5896.54150390625</td><td>397.12054443359375</td><td>False</td><td>False</td><td>False</td><td>8775.59765625</td><td>589.82568359375</td><td>False</td><td>False</td><td>False</td><td>10976.267578125</td><td>786.4100341796875</td><td>False</td><td>False</td><td>False</td><td>13743.70703125</td><td>1180.1549072265625</td><td>False</td><td>False</td><td>False</td><td>16206.107421875</td><td>16206.107421875</td><td>16206.107421875</td><td>1575.0777587890625</td><td>1575.0777587890625</td><td>1575.0777587890625</td><td>False</td><td>False</td><td>False</td><td>False</td><td>False</td><td>False</td><td>False</td><td>False</td><td>False</td><td>16865.24161114497</td><td>2254.3587131420613</td><td>False</td><td>False</td><td>19667.597343634872</td><td>3310.402531034628</td><td>False</td><td>False</td><td>nan</td><td>nan</td><td>True</td><td>True</td><td>nan</td><td>nan</td><td>True</td><td>True</td><td>nan</td><td>nan</td><td>True</td><td>True</td><td>13410.673711724738</td><td>13410.673711724738</td><td>13410.673711724738</td><td>808.5841857234597</td><td>808.5841857234597</td><td>808.5841857234597</td><td>False</td><td>False</td><td>False</td><td>1.9286275977049931</td><td>68.61652355200523</td><td>False</td><td>False</td><td>False</td><td>False</td><td>False</td><td>False</td><td>False</td><td>False</td><td>False</td><td>False</td><td>False</td><td>False</td><td>False</td><td>False</td><td>False</td><td>9861.484046060137</td><td>9861.484046060137</td><td>603.3405066107052</td><td>603.3405066107052</td><td>63.135666</td><td>63.135666</td><td>False</td><td>False</td><td>False</td><td>False</td><td>False</td><td>False</td><td>False</td><td>5533.28515625</td><td>False</td><td>16284.725942750363</td><td>1868.8254511048658</td><td>5.461344</td><td>16.431145</td><td>2.5899448</td><td>False</td><td>False</td><td>False</td><td>False</td><td>False</td><td>False</td><td>False</td><td>False</td><td>False</td><td>False</td><td>1.0832555432647726</td><td>1.0832555432647726</td><td>1.0832555432647726</td><td>0.0</td><td>0.0</td><td>0.0</td><td>False</td><td>False</td><td>False</td><td>0.9953385487500283</td><td>0.9953385487500283</td><td>0.0</td><td>0.0</td><td>False</td><td>False</td><td>1.0351027525421772</td><td>0.0</td><td>False</td><td>1.0</td><td>False</td><td>796</td><td>False</td><td>False</td><td>False</td><td>0.6606849207752934</td><td>0.00017543450833363202</td><td>5.425647548612485e-05</td><td>1.1426028674104553e-05</td><td>1.1401008490956522e-05</td><td>-5.433214452722326e-05</td></tr>\n",
       "<tr><td>34363434455795537</td><td>1.2462305663725444</td><td>-0.5341919716521775</td><td>34363434455795246</td><td>False</td><td>False</td><td>False</td><td>False</td><td>0</td><td>True</td><td>1382.0</td><td>3981.0</td><td>6077.767682285204</td><td>False</td><td>False</td><td>False</td><td>False</td><td>False</td><td>False</td><td>False</td><td>1381.9207461453755</td><td>3980.940096458849</td><td>False</td><td>False</td><td>False</td><td>False</td><td>1382.0</td><td>1382.0</td><td>3981.0</td><td>3981.0</td><td>nan</td><td>nan</td><td>nan</td><td>nan</td><td>True</td><td>True</td><td>True</td><td>True</td><td>True</td><td>True</td><td>True</td><td>True</td><td>True</td><td>True</td><td>True</td><td>True</td><td>True</td><td>True</td><td>True</td><td>True</td><td>True</td><td>True</td><td>True</td><td>True</td><td>True</td><td>True</td><td>True</td><td>True</td><td>True</td><td>True</td><td>True</td><td>True</td><td>False</td><td>False</td><td>False</td><td>False</td><td>False</td><td>False</td><td>False</td><td>False</td><td>False</td><td>False</td><td>False</td><td>False</td><td>False</td><td>False</td><td>False</td><td>False</td><td>False</td><td>False</td><td>False</td><td>False</td><td>False</td><td>False</td><td>False</td><td>False</td><td>False</td><td>False</td><td>False</td><td>False</td><td>False</td><td>False</td><td>False</td><td>False</td><td>False</td><td>False</td><td>False</td><td>False</td><td>False</td><td>False</td><td>False</td><td>False</td><td>False</td><td>False</td><td>False</td><td>False</td><td>False</td><td>False</td><td>False</td><td>False</td><td>False</td><td>False</td><td>False</td><td>False</td><td>False</td><td>False</td><td>False</td><td>False</td><td>False</td><td>False</td><td>False</td><td>False</td><td>False</td><td>False</td><td>False</td><td>False</td><td>False</td><td>False</td><td>False</td><td>False</td><td>False</td><td>False</td><td>0.05869229257380175</td><td>0.003374739045793107</td><td>8646.373285305412</td><td>8675.651344645876</td><td>0.006118381422841712</td><td>8913.60281134959</td><td>8968.475364410413</td><td>6.3001571887265735</td><td>7.508591042138207</td><td>1.5452228552024092</td><td>6.32000807178238</td><td>7.682895397314404</td><td>1.5999536639930703</td><td>6.960096661165585</td><td>8.77561552402748</td><td>1.691874262102978</td><td>7.02167638508597</td><td>9.080999072097104</td><td>1.7758969048229418</td><td>True</td><td>True</td><td>True</td><td>-260.645</td><td>20.405000000000005</td><td>False</td><td>False</td><td>0.9990391955263568</td><td>False</td><td>6.3148265308352896</td><td>7.524323242980755</td><td>1.5851795938943296</td><td>1.429787</td><td>1.1323997</td><td>1.7036383</td><td>1382.0091650703139</td><td>3981.014301206462</td><td>8737.164180960042</td><td>989.123364764722</td><td>4.255787360187774</td><td>4.285027130224648</td><td>-2.9128004546002788e-05</td><td>-707.1179</td><td>-177.50429</td><td>-842.55426</td><td>False</td><td>False</td><td>False</td><td>False</td><td>False</td><td>False</td><td>-0.0006158978031172688</td><td>-0.0006158978031172688</td><td>0.0007398616627441782</td><td>0.0007398616627441782</td><td>4.257756910054554</td><td>4.257756910054554</td><td>4.287081444895833</td><td>4.287081444895833</td><td>1.8702044189392283e-05</td><td>1.8702044189392283e-05</td><td>True</td><td>True</td><td>False</td><td>False</td><td>False</td><td>False</td><td>False</td><td>False</td><td>-0.3964928388595581</td><td>1.0499719381332397</td><td>0.39242950081825256</td><td>0.34438425302505493</td><td>False</td><td>False</td><td>False</td><td>False</td><td>False</td><td>1382.0187367020246</td><td>1382.0187367020246</td><td>3981.0276452988924</td><td>3981.0276452988924</td><td>6.3130258350527715</td><td>6.3130258350527715</td><td>7.520982138066911</td><td>7.520982138066911</td><td>1.5872524267316408</td><td>1.5872524267316408</td><td>True</td><td>True</td><td>True</td><td>False</td><td>False</td><td>False</td><td>False</td><td>False</td><td>False</td><td>False</td><td>False</td><td>False</td><td>1382.1242134729014</td><td>1382.1242134729014</td><td>3980.9744137305015</td><td>3980.9744137305015</td><td>6.371439381586704</td><td>6.371439381586704</td><td>6.99996610152286</td><td>6.99996610152286</td><td>0.6042808491132231</td><td>0.6042808491132231</td><td>True</td><td>True</td><td>False</td><td>False</td><td>False</td><td>False</td><td>False</td><td>False</td><td>8644.65</td><td>8644.65</td><td>4399.7158203125</td><td>391.2361145019531</td><td>True</td><td>False</td><td>False</td><td>6545.16015625</td><td>588.3435668945312</td><td>True</td><td>False</td><td>False</td><td>7983.83544921875</td><td>785.2445678710938</td><td>True</td><td>False</td><td>False</td><td>9288.134765625</td><td>1178.813232421875</td><td>True</td><td>False</td><td>True</td><td>9585.4130859375</td><td>9585.4130859375</td><td>9585.4130859375</td><td>1573.103515625</td><td>1573.103515625</td><td>1573.103515625</td><td>True</td><td>True</td><td>True</td><td>False</td><td>False</td><td>False</td><td>True</td><td>True</td><td>True</td><td>9355.567291961983</td><td>2235.992598683454</td><td>True</td><td>False</td><td>nan</td><td>nan</td><td>True</td><td>True</td><td>nan</td><td>nan</td><td>True</td><td>True</td><td>nan</td><td>nan</td><td>True</td><td>True</td><td>nan</td><td>nan</td><td>True</td><td>True</td><td>9462.035362983186</td><td>9462.035362983186</td><td>9462.035362983186</td><td>757.4423027504329</td><td>757.4423027504329</td><td>757.4423027504329</td><td>False</td><td>False</td><td>False</td><td>2.4988911690486226</td><td>66.45097640705406</td><td>True</td><td>False</td><td>False</td><td>False</td><td>False</td><td>False</td><td>False</td><td>False</td><td>False</td><td>False</td><td>False</td><td>False</td><td>False</td><td>False</td><td>False</td><td>7347.945312397874</td><td>7347.945312397874</td><td>599.6611305266663</td><td>599.6611305266663</td><td>63.14336</td><td>63.14336</td><td>True</td><td>True</td><td>False</td><td>False</td><td>True</td><td>True</td><td>False</td><td>5523.42578125</td><td>False</td><td>10068.213834554477</td><td>1280.5682941540167</td><td>3.777416</td><td>12.368471</td><td>2.5899615</td><td>True</td><td>False</td><td>False</td><td>False</td><td>False</td><td>False</td><td>False</td><td>False</td><td>False</td><td>True</td><td>1.0832122900481371</td><td>1.0832122900481371</td><td>1.0832122900481371</td><td>0.0</td><td>0.0</td><td>0.0</td><td>False</td><td>False</td><td>False</td><td>0.9953268344105847</td><td>0.9953268344105847</td><td>0.0</td><td>0.0</td><td>False</td><td>False</td><td>1.0350501526278089</td><td>0.0</td><td>False</td><td>nan</td><td>True</td><td>657</td><td>False</td><td>False</td><td>False</td><td>0.6606849207752934</td><td>0.00017543450833363202</td><td>5.425647693673119e-05</td><td>1.1426023636492088e-05</td><td>1.1400948123403016e-05</td><td>-5.433213975750047e-05</td></tr>\n",
       "<tr><td>34363434455795538</td><td>1.2461882672325584</td><td>-0.5341870902074856</td><td>34363434455795246</td><td>False</td><td>False</td><td>False</td><td>False</td><td>0</td><td>True</td><td>1346.0</td><td>3968.0</td><td>5041.801322312057</td><td>False</td><td>False</td><td>False</td><td>False</td><td>False</td><td>False</td><td>False</td><td>1346.1130202072643</td><td>3967.994720241015</td><td>False</td><td>False</td><td>False</td><td>False</td><td>1346.218149588204</td><td>1346.218149588204</td><td>3968.3481088286317</td><td>3968.3481088286317</td><td>0.8498998</td><td>0.8498998</td><td>0.5224766</td><td>0.5224766</td><td>False</td><td>False</td><td>False</td><td>False</td><td>False</td><td>False</td><td>False</td><td>False</td><td>False</td><td>False</td><td>False</td><td>False</td><td>False</td><td>False</td><td>False</td><td>False</td><td>False</td><td>False</td><td>False</td><td>False</td><td>False</td><td>False</td><td>False</td><td>False</td><td>False</td><td>False</td><td>False</td><td>False</td><td>False</td><td>False</td><td>False</td><td>False</td><td>False</td><td>False</td><td>False</td><td>False</td><td>False</td><td>False</td><td>False</td><td>False</td><td>False</td><td>False</td><td>False</td><td>False</td><td>False</td><td>False</td><td>False</td><td>False</td><td>False</td><td>False</td><td>False</td><td>False</td><td>False</td><td>False</td><td>False</td><td>False</td><td>False</td><td>False</td><td>False</td><td>False</td><td>False</td><td>False</td><td>False</td><td>False</td><td>False</td><td>False</td><td>False</td><td>False</td><td>False</td><td>False</td><td>False</td><td>False</td><td>False</td><td>False</td><td>False</td><td>False</td><td>False</td><td>False</td><td>False</td><td>False</td><td>False</td><td>False</td><td>False</td><td>False</td><td>False</td><td>False</td><td>False</td><td>False</td><td>False</td><td>False</td><td>False</td><td>False</td><td>False</td><td>False</td><td>False</td><td>False</td><td>False</td><td>False</td><td>0.07634355080670198</td><td>0.0027159193247533464</td><td>7426.052122061877</td><td>7446.275605877318</td><td>0.005650609052197386</td><td>7803.055709243797</td><td>7847.398289052113</td><td>11.672730865830127</td><td>4.600244411123582</td><td>2.0769386580765374</td><td>11.785510174692176</td><td>4.604085701655242</td><td>2.044520255777195</td><td>13.78134800659259</td><td>5.812224459232487</td><td>2.930809274088183</td><td>14.148156599585533</td><td>5.8195630344817415</td><td>2.9363363589697977</td><td>False</td><td>False</td><td>False</td><td>-261.00281850411795</td><td>20.278481088286323</td><td>False</td><td>False</td><td>0.9990366438417521</td><td>False</td><td>11.96752470896827</td><td>4.617257310726609</td><td>2.0681876123032596</td><td>3.229473</td><td>1.4723018</td><td>1.245981</td><td>1346.2723796253542</td><td>3968.394562236823</td><td>7558.3113716591615</td><td>1019.8167447126219</td><td>4.257860552268688</td><td>4.283911651019837</td><td>-1.2777434470617057e-05</td><td>-1646.7355</td><td>-284.58334</td><td>-635.3361</td><td>False</td><td>False</td><td>False</td><td>False</td><td>False</td><td>False</td><td>-0.0006079189538759578</td><td>-0.0006079189538759578</td><td>0.0007762915827888372</td><td>0.0007762915827888372</td><td>4.25984007722286</td><td>4.25984007722286</td><td>4.285967625758126</td><td>4.285967625758126</td><td>3.7135704167930355e-05</td><td>3.7135704167930355e-05</td><td>False</td><td>False</td><td>False</td><td>False</td><td>False</td><td>False</td><td>False</td><td>False</td><td>1.3406163454055786</td><td>0.8243489861488342</td><td>0.35676026344299316</td><td>0.4488206207752228</td><td>False</td><td>False</td><td>False</td><td>False</td><td>False</td><td>1346.339764341026</td><td>1346.339764341026</td><td>3968.438840013446</td><td>3968.438840013446</td><td>11.707832765840507</td><td>11.707832765840507</td><td>4.633079686282617</td><td>4.633079686282617</td><td>2.126933715503672</td><td>2.126933715503672</td><td>False</td><td>False</td><td>False</td><td>False</td><td>False</td><td>False</td><td>False</td><td>False</td><td>False</td><td>False</td><td>False</td><td>False</td><td>1346.3459934306536</td><td>1346.3459934306536</td><td>3968.3752134448237</td><td>3968.3752134448237</td><td>8.38091108499581</td><td>8.38091108499581</td><td>6.052100233879425</td><td>6.052100233879425</td><td>0.518930113808684</td><td>0.518930113808684</td><td>False</td><td>False</td><td>False</td><td>False</td><td>False</td><td>False</td><td>False</td><td>False</td><td>7360.735</td><td>7360.735</td><td>3563.19091796875</td><td>392.9546813964844</td><td>False</td><td>False</td><td>False</td><td>5367.29736328125</td><td>585.8638916015625</td><td>False</td><td>False</td><td>False</td><td>6638.17724609375</td><td>783.1600952148438</td><td>False</td><td>False</td><td>False</td><td>8230.5732421875</td><td>1177.132080078125</td><td>False</td><td>False</td><td>False</td><td>9236.0302734375</td><td>9236.0302734375</td><td>9236.0302734375</td><td>1571.576171875</td><td>1571.576171875</td><td>1571.576171875</td><td>False</td><td>False</td><td>False</td><td>False</td><td>False</td><td>False</td><td>False</td><td>False</td><td>False</td><td>10622.431805137545</td><td>2244.4136250940496</td><td>False</td><td>False</td><td>10935.033840896467</td><td>3299.007605796851</td><td>False</td><td>False</td><td>nan</td><td>nan</td><td>True</td><td>True</td><td>nan</td><td>nan</td><td>True</td><td>True</td><td>nan</td><td>nan</td><td>True</td><td>True</td><td>8135.889650170911</td><td>8135.889650170911</td><td>8135.889650170911</td><td>776.2610989111075</td><td>776.2610989111075</td><td>776.2610989111075</td><td>False</td><td>False</td><td>False</td><td>-0.11804393614939575</td><td>68.6740834808746</td><td>False</td><td>False</td><td>False</td><td>False</td><td>False</td><td>False</td><td>False</td><td>False</td><td>False</td><td>False</td><td>False</td><td>False</td><td>False</td><td>False</td><td>False</td><td>6058.714821766679</td><td>6058.714821766679</td><td>597.3943444461914</td><td>597.3943444461914</td><td>63.083702</td><td>63.083702</td><td>False</td><td>False</td><td>False</td><td>False</td><td>False</td><td>False</td><td>False</td><td>5519.94140625</td><td>False</td><td>8765.331879272248</td><td>1467.2778619902167</td><td>4.334602</td><td>15.932462</td><td>2.5901086</td><td>False</td><td>False</td><td>False</td><td>False</td><td>False</td><td>False</td><td>False</td><td>False</td><td>False</td><td>False</td><td>1.0832244786796401</td><td>1.0832244786796401</td><td>1.0832244786796401</td><td>0.0</td><td>0.0</td><td>0.0</td><td>False</td><td>False</td><td>False</td><td>0.9955623090249957</td><td>0.9955623090249957</td><td>0.0</td><td>0.0</td><td>False</td><td>False</td><td>1.035112289610345</td><td>0.0</td><td>False</td><td>1.0</td><td>False</td><td>677</td><td>False</td><td>False</td><td>False</td><td>0.6606849207752934</td><td>0.00017543450833363202</td><td>5.425609203827836e-05</td><td>1.142599015713901e-05</td><td>1.1400997453231113e-05</td><td>-5.4332000100433e-05</td></tr>\n",
       "<tr><td>34363434455795539</td><td>1.246187638470928</td><td>-0.5341704624577773</td><td>34363434455795246</td><td>False</td><td>False</td><td>False</td><td>False</td><td>0</td><td>True</td><td>1349.0</td><td>3951.0</td><td>3878.504248617397</td><td>False</td><td>False</td><td>False</td><td>False</td><td>False</td><td>False</td><td>False</td><td>1348.9827634904566</td><td>3951.0083385813814</td><td>False</td><td>False</td><td>False</td><td>False</td><td>1349.205240195525</td><td>1349.205240195525</td><td>3951.4401320521706</td><td>3951.4401320521706</td><td>1.0925539</td><td>1.0925539</td><td>1.1311321</td><td>1.1311321</td><td>False</td><td>False</td><td>False</td><td>False</td><td>False</td><td>False</td><td>False</td><td>False</td><td>False</td><td>False</td><td>False</td><td>False</td><td>False</td><td>False</td><td>False</td><td>False</td><td>False</td><td>False</td><td>False</td><td>False</td><td>False</td><td>False</td><td>False</td><td>False</td><td>False</td><td>False</td><td>False</td><td>False</td><td>False</td><td>False</td><td>False</td><td>False</td><td>False</td><td>False</td><td>False</td><td>False</td><td>False</td><td>False</td><td>False</td><td>False</td><td>False</td><td>False</td><td>False</td><td>False</td><td>False</td><td>False</td><td>False</td><td>False</td><td>False</td><td>False</td><td>False</td><td>False</td><td>False</td><td>False</td><td>False</td><td>False</td><td>False</td><td>False</td><td>False</td><td>False</td><td>False</td><td>False</td><td>False</td><td>False</td><td>False</td><td>False</td><td>False</td><td>False</td><td>False</td><td>False</td><td>False</td><td>False</td><td>False</td><td>False</td><td>False</td><td>False</td><td>False</td><td>False</td><td>False</td><td>False</td><td>False</td><td>False</td><td>False</td><td>False</td><td>False</td><td>False</td><td>False</td><td>False</td><td>False</td><td>False</td><td>False</td><td>False</td><td>False</td><td>False</td><td>False</td><td>False</td><td>False</td><td>False</td><td>0.08021050288442418</td><td>0.010571725132200172</td><td>9854.353763433042</td><td>9959.64438629946</td><td>0.024345789922459282</td><td>11012.010614221697</td><td>11286.796592971716</td><td>10.951138288612533</td><td>12.69923714452103</td><td>-1.65831733162404</td><td>11.088217441549524</td><td>13.399729495488183</td><td>-1.8801395464841684</td><td>14.814151517802514</td><td>16.634899665131474</td><td>-2.401224528856813</td><td>15.355387647057169</td><td>18.10858274763087</td><td>-2.64096708127304</td><td>False</td><td>False</td><td>False</td><td>-260.9729475980447</td><td>20.10940132052171</td><td>False</td><td>False</td><td>0.9990369594507188</td><td>False</td><td>11.122037653819836</td><td>12.747188440630683</td><td>-1.6432280852414738</td><td>2.8787825</td><td>2.199914</td><td>3.2994297</td><td>1349.1570128244641</td><td>3951.449819184133</td><td>9977.06567588287</td><td>1291.2112096017615</td><td>4.258912278707101</td><td>4.2826885677276305</td><td>-0.000452452689920711</td><td>-1858.558</td><td>274.59305</td><td>-2130.1304</td><td>False</td><td>False</td><td>False</td><td>False</td><td>False</td><td>False</td><td>-0.0005903278915468046</td><td>-0.0005903278915468046</td><td>0.0007911078174977685</td><td>0.0007911078174977685</td><td>4.260886738710159</td><td>4.260886738710159</td><td>4.28474483146769</td><td>4.28474483146769</td><td>-0.00040343995079185574</td><td>-0.00040343995079185574</td><td>False</td><td>False</td><td>False</td><td>False</td><td>False</td><td>False</td><td>False</td><td>False</td><td>-0.12187790870666504</td><td>-0.2559248208999634</td><td>0.26976606249809265</td><td>0.6184492707252502</td><td>False</td><td>False</td><td>False</td><td>False</td><td>False</td><td>1349.1071742863498</td><td>1349.1071742863498</td><td>3951.465262744434</td><td>3951.465262744434</td><td>11.206441429510596</td><td>11.206441429510596</td><td>12.675097769330588</td><td>12.675097769330588</td><td>-1.7621111024931604</td><td>-1.7621111024931604</td><td>False</td><td>False</td><td>False</td><td>False</td><td>False</td><td>False</td><td>False</td><td>False</td><td>False</td><td>False</td><td>False</td><td>False</td><td>1349.1416806523778</td><td>1349.1416806523778</td><td>3951.4883763613884</td><td>3951.4883763613884</td><td>11.579508140981265</td><td>11.579508140981265</td><td>11.972479317681529</td><td>11.972479317681529</td><td>-0.6262090686305767</td><td>-0.6262090686305767</td><td>False</td><td>False</td><td>False</td><td>False</td><td>False</td><td>False</td><td>False</td><td>False</td><td>9939.657</td><td>9939.657</td><td>3163.798583984375</td><td>391.9346008300781</td><td>False</td><td>False</td><td>False</td><td>5850.236328125</td><td>586.36181640625</td><td>False</td><td>False</td><td>False</td><td>7543.61572265625</td><td>783.6709594726562</td><td>False</td><td>False</td><td>False</td><td>9449.0869140625</td><td>1177.7484130859375</td><td>False</td><td>False</td><td>False</td><td>10961.8798828125</td><td>10961.8798828125</td><td>10961.8798828125</td><td>1572.258544921875</td><td>1572.258544921875</td><td>1572.258544921875</td><td>False</td><td>False</td><td>False</td><td>False</td><td>False</td><td>False</td><td>False</td><td>False</td><td>False</td><td>12832.044974146876</td><td>2246.825130705269</td><td>False</td><td>False</td><td>13541.034399259015</td><td>3300.1335255745475</td><td>False</td><td>False</td><td>11296.609721112176</td><td>4618.471900615759</td><td>False</td><td>False</td><td>nan</td><td>nan</td><td>True</td><td>True</td><td>nan</td><td>nan</td><td>True</td><td>True</td><td>10805.158100048397</td><td>10805.158100048397</td><td>10805.158100048397</td><td>988.8105123426627</td><td>988.8105123426627</td><td>988.8105123426627</td><td>False</td><td>False</td><td>False</td><td>1.789388423830849</td><td>69.14901615128935</td><td>False</td><td>False</td><td>False</td><td>False</td><td>False</td><td>False</td><td>False</td><td>False</td><td>False</td><td>False</td><td>False</td><td>False</td><td>False</td><td>False</td><td>False</td><td>5827.15871796394</td><td>5827.15871796394</td><td>595.995573615741</td><td>595.995573615741</td><td>63.080185</td><td>63.080185</td><td>False</td><td>False</td><td>False</td><td>False</td><td>False</td><td>False</td><td>False</td><td>5536.0625</td><td>False</td><td>14975.255116178234</td><td>2801.5429098194454</td><td>8.196706</td><td>20.599482</td><td>2.5900831</td><td>False</td><td>False</td><td>False</td><td>False</td><td>False</td><td>False</td><td>False</td><td>False</td><td>False</td><td>False</td><td>1.0832722719174894</td><td>1.0832722719174894</td><td>1.0832722719174894</td><td>0.0</td><td>0.0</td><td>0.0</td><td>False</td><td>False</td><td>False</td><td>0.9955647493264437</td><td>0.9955647493264437</td><td>0.0</td><td>0.0</td><td>False</td><td>False</td><td>1.035168092471331</td><td>0.0</td><td>False</td><td>1.0</td><td>False</td><td>676</td><td>False</td><td>False</td><td>False</td><td>0.6606849207752934</td><td>0.00017543450833363202</td><td>5.425610587080241e-05</td><td>1.1425997152908872e-05</td><td>1.1401063202783515e-05</td><td>-5.433201106065285e-05</td></tr>\n",
       "</table>"
      ],
      "text/plain": [
       "<Table length=1875>\n",
       "        id             coord_ra           coord_dec      ...   base_CDMatrix_1_2      base_CDMatrix_2_1       base_CDMatrix_2_2   \n",
       "                         rad                 rad         ...                                                                      \n",
       "      int64            float64             float64       ...        float64                float64                 float64        \n",
       "----------------- ------------------ ------------------- ... ---------------------- ---------------------- -----------------------\n",
       "34363434455793665 1.2451332744442976 -0.5304556590306023 ...  1.142678709084647e-05 1.1416404680850723e-05  -5.433135137285505e-05\n",
       "34363434455793666 1.2452265917705203  -0.530438773321301 ... 1.1426873652866909e-05  1.141640438854007e-05  -5.433168196149553e-05\n",
       "34363434455793667 1.2455904388452663 -0.5303748789081031 ... 1.1427210266113282e-05 1.1416395471676701e-05 -5.4332969390699597e-05\n",
       "34363434455793668 1.2458918800916443 -0.5303182780198765 ... 1.1427490786743164e-05 1.1416402304585242e-05  -5.433403886500767e-05\n",
       "34363434455793669 1.2474402257837838 -0.5300390671190951 ... 1.1428926225450304e-05 1.1416389677028427e-05  -5.433952282663981e-05\n",
       "34363434455793670 1.2453627799299263 -0.5304190738741331 ... 1.1426997742970785e-05 1.1416384519123379e-05  -5.433216053759257e-05\n",
       "34363434455793671 1.2471131524236843 -0.5301035067062136 ... 1.1428620562308176e-05 1.1416371258967178e-05 -5.4338360126495364e-05\n",
       "34363434455793672 1.2460871751393503 -0.5302917816570742 ... 1.1427667915344239e-05 1.1416366695754435e-05  -5.433472372808457e-05\n",
       "34363434455793673 1.2460685342396929 -0.5303038465951663 ... 1.1427646693167623e-05 1.1416332651287857e-05  -5.433465085209869e-05\n",
       "34363434455793674 1.2475199660735183 -0.5300375647019303 ... 1.1428994303754874e-05 1.1416338359542513e-05 -5.4339795066688467e-05\n",
       "34363434455793675  1.246226383263327 -0.5302736787687644 ... 1.1427793815123004e-05 1.1416338195930921e-05   -5.43352112786589e-05\n",
       "34363434455793676 1.2451962500250653 -0.5304612313978331 ... 1.1426837834805705e-05  1.141633784541507e-05  -5.433156114299284e-05\n",
       "34363434455793677 1.2448480884818893  -0.530529304905935 ...  1.142651257718413e-05  1.141631890791689e-05  -5.433032375204934e-05\n",
       "              ...                ...                 ... ...                    ...                    ...                     ...\n",
       "34363434455795526  1.244925596866761 -0.5341000032259817 ... 1.1424963875375136e-05  1.140223856831398e-05  -5.432778407166719e-05\n",
       "34363434455795527 1.2449142011974526 -0.5340813778130462 ... 1.1424962675568037e-05 1.1402319833101437e-05 -5.4327760018417975e-05\n",
       "34363434455795528 1.2449254728685806 -0.5340682440853366 ... 1.1424978128600213e-05 1.1402363407316377e-05  -5.432780858440276e-05\n",
       "34363434455795529 1.2449930234151778 -0.5342503780656344 ... 1.1424952806722041e-05 1.1401599944751488e-05 -5.4327894828837496e-05\n",
       "34363434455795530 1.2449849017092407 -0.5342525438291145 ... 1.1424944972138423e-05 1.1401597213026765e-05 -5.4327865567088934e-05\n",
       "34363434455795531 1.2459597573433114 -0.5341380214907069 ... 1.1425819547440191e-05 1.1401353045710704e-05  -5.433126346157582e-05\n",
       "34363434455795532 1.2459743068782572 -0.5341561965148474 ... 1.1425823599370101e-05 1.1401271296640192e-05  -5.433129852122488e-05\n",
       "34363434455795533 1.2464016799647009 -0.5341485239405371 ... 1.1426187679838835e-05 1.1400996716311422e-05  -5.433275448024048e-05\n",
       "34363434455795534 1.2463917545623717 -0.5341402669657064 ... 1.1426183044261079e-05 1.1401036222190254e-05  -5.433272731421545e-05\n",
       "34363434455795535  1.246209816635579 -0.5341790908272449 ...  1.142601195994348e-05  1.140101350426891e-05  -5.433207950710554e-05\n",
       "34363434455795536 1.2462284914677926  -0.534176976844963 ... 1.1426028674104553e-05 1.1401008490956522e-05  -5.433214452722326e-05\n",
       "34363434455795537 1.2462305663725444 -0.5341919716521775 ... 1.1426023636492088e-05 1.1400948123403016e-05  -5.433213975750047e-05\n",
       "34363434455795538 1.2461882672325584 -0.5341870902074856 ...  1.142599015713901e-05 1.1400997453231113e-05    -5.4332000100433e-05\n",
       "34363434455795539  1.246187638470928 -0.5341704624577773 ... 1.1425997152908872e-05 1.1401063202783515e-05  -5.433201106065285e-05"
      ]
     },
     "execution_count": 1,
     "metadata": {},
     "output_type": "execute_result"
    }
   ],
   "source": [
    "source_cat.asAstropy()"
   ]
  },
  {
   "cell_type": "markdown",
   "metadata": {},
   "source": [
    "In this vein, you may find it more convenient to grab columns from the table and work with them as numpy arrays. As we mentioned above, the defacto unit choice of DM is radians. If you would prefer degrees, you can do something like this"
   ]
  },
  {
   "cell_type": "code",
   "execution_count": 34,
   "metadata": {
    "execution": {
     "iopub.execute_input": "2021-04-23T16:27:04.869775Z",
     "iopub.status.busy": "2021-04-23T16:27:04.868566Z",
     "iopub.status.idle": "2021-04-23T16:27:04.898379Z",
     "shell.execute_reply": "2021-04-23T16:27:04.899529Z"
    }
   },
   "outputs": [],
   "source": [
    "ra_deg = np.rad2deg(source_cat['coord_ra'])"
   ]
  },
  {
   "cell_type": "markdown",
   "metadata": {},
   "source": [
    "Now we will set aside the schema for this table, and look at the table itself so we can examine its methods.\n",
    "\n",
    "### afw source catalogs\n",
    "\n",
    "Source catalogs support a lot of fast operations for common use cases which we will now discuss. "
   ]
  },
  {
   "cell_type": "code",
   "execution_count": 35,
   "metadata": {
    "execution": {
     "iopub.execute_input": "2021-04-23T16:27:04.905501Z",
     "iopub.status.busy": "2021-04-23T16:27:04.904074Z",
     "iopub.status.idle": "2021-04-23T16:27:04.933962Z",
     "shell.execute_reply": "2021-04-23T16:27:04.935170Z"
    }
   },
   "outputs": [
    {
     "data": {
      "text/plain": [
       "True"
      ]
     },
     "execution_count": 1,
     "metadata": {},
     "output_type": "execute_result"
    }
   ],
   "source": [
    "# Sorting is supported. by default catalogs are sorted by id\n",
    "source_cat.isSorted(id_key)"
   ]
  },
  {
   "cell_type": "code",
   "execution_count": 36,
   "metadata": {
    "execution": {
     "iopub.execute_input": "2021-04-23T16:27:04.940818Z",
     "iopub.status.busy": "2021-04-23T16:27:04.939374Z",
     "iopub.status.idle": "2021-04-23T16:27:04.975694Z",
     "shell.execute_reply": "2021-04-23T16:27:04.976910Z"
    }
   },
   "outputs": [
    {
     "data": {
      "text/plain": [
       "['slot_ApFlux_instFlux',\n",
       " 'slot_ApFlux_instFluxErr',\n",
       " 'slot_ApFlux_flag',\n",
       " 'slot_ApFlux_flag_apertureTruncated',\n",
       " 'slot_ApFlux_flag_sincCoeffsTruncated']"
      ]
     },
     "execution_count": 1,
     "metadata": {},
     "output_type": "execute_result"
    }
   ],
   "source": [
    "# Find aperture flux columns\n",
    "[k for k in source_cat.getSchema().extract('*ApFlux*').keys()]"
   ]
  },
  {
   "cell_type": "code",
   "execution_count": 37,
   "metadata": {
    "execution": {
     "iopub.execute_input": "2021-04-23T16:27:04.983434Z",
     "iopub.status.busy": "2021-04-23T16:27:04.981980Z",
     "iopub.status.idle": "2021-04-23T16:27:05.020443Z",
     "shell.execute_reply": "2021-04-23T16:27:05.023833Z"
    }
   },
   "outputs": [
    {
     "data": {
      "text/plain": [
       "True"
      ]
     },
     "execution_count": 1,
     "metadata": {},
     "output_type": "execute_result"
    }
   ],
   "source": [
    "# You can cut on the catalog.\n",
    "# e.g. Make a boolean array to only keep sources with positive psf flux:\n",
    "psf_mask = source_cat['slot_PsfFlux_instFlux'] > 0\n",
    "psf_mask &= np.isfinite(source_cat['slot_ApFlux_instFlux'])\n",
    "psf_mask &= np.isfinite(source_cat['slot_ApFlux_instFluxErr'])\n",
    "psf_mask &= np.isfinite(source_cat['base_ClassificationExtendedness_value'])\n",
    "pos_flux = source_cat.subset(psf_mask)\n",
    "\n",
    "# You can sort on other keys too:\n",
    "flux_key = pos_flux.getPsfFluxSlot().getMeasKey()\n",
    "pos_flux.sort(flux_key)\n",
    "pos_flux.isSorted(flux_key)"
   ]
  },
  {
   "cell_type": "code",
   "execution_count": 38,
   "metadata": {
    "execution": {
     "iopub.execute_input": "2021-04-23T16:27:05.034115Z",
     "iopub.status.busy": "2021-04-23T16:27:05.032807Z",
     "iopub.status.idle": "2021-04-23T16:27:05.176023Z",
     "shell.execute_reply": "2021-04-23T16:27:05.177316Z"
    }
   },
   "outputs": [
    {
     "name": "stdout",
     "output_type": "stream",
     "text": [
      "        id             coord_ra           coord_dec      ...   base_CDMatrix_1_2      base_CDMatrix_2_1      base_CDMatrix_2_2   \n",
      "                         rad                 rad         ...                                                                     \n",
      "----------------- ------------------ ------------------- ... ---------------------- ---------------------- ----------------------\n",
      "34363434455795535  1.246209816635579 -0.5341790908272449 ...  1.142601195994348e-05  1.140101350426891e-05 -5.433207950710554e-05\n",
      "34363434455795536 1.2462284914677926  -0.534176976844963 ... 1.1426028674104553e-05 1.1401008490956522e-05 -5.433214452722326e-05\n",
      "34363434455795537 1.2462305663725444 -0.5341919716521775 ... 1.1426023636492088e-05 1.1400948123403016e-05 -5.433213975750047e-05\n",
      "34363434455795538 1.2461882672325584 -0.5341870902074856 ...  1.142599015713901e-05 1.1400997453231113e-05   -5.4332000100433e-05\n",
      "34363434455795539  1.246187638470928 -0.5341704624577773 ... 1.1425997152908872e-05 1.1401063202783515e-05 -5.433201106065285e-05\n"
     ]
    }
   ],
   "source": [
    "# You can get the children of particular objects.\n",
    "# This is useful if you want to understand how one object was deblended, for example:\n",
    "if dataset == 'HSC':\n",
    "    print(source_cat.getChildren(33447624753285130)) #the argument is the id of the parent object\n",
    "elif dataset == 'DC2':\n",
    "    print(source_cat.getChildren(34363434455795246)) #the argument is the id of the parent object\n",
    "else:\n",
    "    msg = \"Unrecognized dataset: %s\"%dataset\n",
    "    raise Exception(msg)\n",
    "    \n",
    "# Note that this will only work if the source catalog is sorted on id or parent"
   ]
  },
  {
   "cell_type": "markdown",
   "metadata": {},
   "source": [
    "You can check if catalogs are contiguous in memory."
   ]
  },
  {
   "cell_type": "code",
   "execution_count": 39,
   "metadata": {
    "execution": {
     "iopub.execute_input": "2021-04-23T16:27:05.183742Z",
     "iopub.status.busy": "2021-04-23T16:27:05.182270Z",
     "iopub.status.idle": "2021-04-23T16:27:05.218006Z",
     "shell.execute_reply": "2021-04-23T16:27:05.219261Z"
    }
   },
   "outputs": [
    {
     "data": {
      "text/plain": [
       "True"
      ]
     },
     "execution_count": 1,
     "metadata": {},
     "output_type": "execute_result"
    }
   ],
   "source": [
    "source_cat.isContiguous()"
   ]
  },
  {
   "cell_type": "code",
   "execution_count": 40,
   "metadata": {
    "execution": {
     "iopub.execute_input": "2021-04-23T16:27:05.225241Z",
     "iopub.status.busy": "2021-04-23T16:27:05.223808Z",
     "iopub.status.idle": "2021-04-23T16:27:05.255089Z",
     "shell.execute_reply": "2021-04-23T16:27:05.256106Z"
    }
   },
   "outputs": [
    {
     "data": {
      "text/plain": [
       "False"
      ]
     },
     "execution_count": 1,
     "metadata": {},
     "output_type": "execute_result"
    }
   ],
   "source": [
    "pos_flux.isContiguous()"
   ]
  },
  {
   "cell_type": "markdown",
   "metadata": {},
   "source": [
    "Some operations are quicker if catalogs are contiguous in memory, like using numpy-like syntax to create masks. Eli Rykoff performed some benchmark tests showing this is the case for a catalog with about half a million enteries. You can find the full details in a Slack thread [here](https://lsstc.slack.com/archives/C2JPL2DGD/p1525799998000344). Additionally, certain operations will not work on non-contiguous tables."
   ]
  },
  {
   "cell_type": "code",
   "execution_count": 41,
   "metadata": {
    "execution": {
     "iopub.execute_input": "2021-04-23T16:27:05.261272Z",
     "iopub.status.busy": "2021-04-23T16:27:05.260018Z",
     "iopub.status.idle": "2021-04-23T16:27:05.288046Z",
     "shell.execute_reply": "2021-04-23T16:27:05.287037Z"
    }
   },
   "outputs": [],
   "source": [
    "# uncomment the last line if you are curious and want to prove it wont work\n",
    "# this will not work and give you an error message complaining pos_flux is not contiguous\n",
    "# pos_flux.asAstropy()"
   ]
  },
  {
   "cell_type": "markdown",
   "metadata": {},
   "source": [
    "You can always force a table to be contiguous by making a deep copy of it. "
   ]
  },
  {
   "cell_type": "code",
   "execution_count": 42,
   "metadata": {
    "execution": {
     "iopub.execute_input": "2021-04-23T16:27:05.292572Z",
     "iopub.status.busy": "2021-04-23T16:27:05.291546Z",
     "iopub.status.idle": "2021-04-23T16:27:05.320005Z",
     "shell.execute_reply": "2021-04-23T16:27:05.320877Z"
    }
   },
   "outputs": [
    {
     "data": {
      "text/plain": [
       "True"
      ]
     },
     "execution_count": 1,
     "metadata": {},
     "output_type": "execute_result"
    }
   ],
   "source": [
    "pos_flux = pos_flux.copy(deep=True)\n",
    "pos_flux.isContiguous()"
   ]
  },
  {
   "cell_type": "markdown",
   "metadata": {},
   "source": [
    "In the next few cells, we show a few methods that can be used to search through tables"
   ]
  },
  {
   "cell_type": "code",
   "execution_count": 43,
   "metadata": {
    "execution": {
     "iopub.execute_input": "2021-04-23T16:27:05.325411Z",
     "iopub.status.busy": "2021-04-23T16:27:05.324371Z",
     "iopub.status.idle": "2021-04-23T16:27:05.348670Z",
     "shell.execute_reply": "2021-04-23T16:27:05.347836Z"
    }
   },
   "outputs": [
    {
     "data": {
      "text/plain": [
       "slice(1077, 1585, 1)"
      ]
     },
     "execution_count": 1,
     "metadata": {},
     "output_type": "execute_result"
    }
   ],
   "source": [
    "# Use the between method to get the indices of values within a range:\n",
    "pos_flux.between(1e4,1e5,psf_flux_key)"
   ]
  },
  {
   "cell_type": "code",
   "execution_count": 44,
   "metadata": {
    "execution": {
     "iopub.execute_input": "2021-04-23T16:27:05.353235Z",
     "iopub.status.busy": "2021-04-23T16:27:05.352276Z",
     "iopub.status.idle": "2021-04-23T16:27:05.377054Z",
     "shell.execute_reply": "2021-04-23T16:27:05.376130Z"
    }
   },
   "outputs": [
    {
     "name": "stdout",
     "output_type": "stream",
     "text": [
      "9964.234820884494\n"
     ]
    }
   ],
   "source": [
    "# The slice object tells you the (start, stop, stride) for values that fit our query.\n",
    "# You can check to see that the first record outside the slice is above the flux threshold\n",
    "# (since the slice range is different for the HSC dataset and the DC2 dataset we use as \n",
    "#  examples, we utilize an \"if... elif... else...\" block here)\n",
    "\n",
    "if dataset == 'HSC':\n",
    "    print(pos_flux[2033].get(psf_flux_key))\n",
    "elif dataset == 'DC2':\n",
    "    print(pos_flux[1076].get(psf_flux_key))\n",
    "else:\n",
    "    msg = \"Unrecognized dataset: %s\"%dataset\n",
    "    raise Exception(msg)"
   ]
  },
  {
   "cell_type": "code",
   "execution_count": 45,
   "metadata": {
    "execution": {
     "iopub.execute_input": "2021-04-23T16:27:05.381592Z",
     "iopub.status.busy": "2021-04-23T16:27:05.380678Z",
     "iopub.status.idle": "2021-04-23T16:27:05.404551Z",
     "shell.execute_reply": "2021-04-23T16:27:05.405276Z"
    }
   },
   "outputs": [
    {
     "name": "stdout",
     "output_type": "stream",
     "text": [
      "95068.42181208971\n"
     ]
    }
   ],
   "source": [
    "# and that the last element in the slice is inside the threshold\n",
    "# (again, since the slice range is different for the HSC dataset \n",
    "#  and the DC2 dataset we use as examples, we utilize an \n",
    "#  \"if... elif... else...\" block here)\n",
    "\n",
    "if dataset == 'HSC':\n",
    "    print(pos_flux[2311].get(psf_flux_key))\n",
    "elif dataset == 'DC2':\n",
    "    print(pos_flux[1584].get(psf_flux_key))\n",
    "else:\n",
    "    msg = \"Unrecognized dataset: %s\"%dataset\n",
    "    raise Exception(msg)"
   ]
  },
  {
   "cell_type": "code",
   "execution_count": 46,
   "metadata": {
    "execution": {
     "iopub.execute_input": "2021-04-23T16:27:05.409007Z",
     "iopub.status.busy": "2021-04-23T16:27:05.408165Z",
     "iopub.status.idle": "2021-04-23T16:27:05.431840Z",
     "shell.execute_reply": "2021-04-23T16:27:05.431103Z"
    }
   },
   "outputs": [],
   "source": [
    "# your turn. confirm the lower limits of the between query\n",
    "# pos_flux[...].getPsfFlux\n"
   ]
  },
  {
   "cell_type": "code",
   "execution_count": 47,
   "metadata": {
    "execution": {
     "iopub.execute_input": "2021-04-23T16:27:05.435354Z",
     "iopub.status.busy": "2021-04-23T16:27:05.434556Z",
     "iopub.status.idle": "2021-04-23T16:27:05.459210Z",
     "shell.execute_reply": "2021-04-23T16:27:05.458423Z"
    }
   },
   "outputs": [
    {
     "data": {
      "text/plain": [
       "1077"
      ]
     },
     "execution_count": 1,
     "metadata": {},
     "output_type": "execute_result"
    }
   ],
   "source": [
    "#the upper and lower bound methods work similarly\n",
    "pos_flux.upper_bound(1e4, psf_flux_key)"
   ]
  },
  {
   "cell_type": "code",
   "execution_count": 48,
   "metadata": {
    "execution": {
     "iopub.execute_input": "2021-04-23T16:27:05.462871Z",
     "iopub.status.busy": "2021-04-23T16:27:05.462077Z",
     "iopub.status.idle": "2021-04-23T16:27:05.486893Z",
     "shell.execute_reply": "2021-04-23T16:27:05.486118Z"
    }
   },
   "outputs": [
    {
     "data": {
      "text/plain": [
       "1585"
      ]
     },
     "execution_count": 1,
     "metadata": {},
     "output_type": "execute_result"
    }
   ],
   "source": [
    "pos_flux.lower_bound(1e5, psf_flux_key)"
   ]
  },
  {
   "cell_type": "markdown",
   "metadata": {},
   "source": [
    "## Example: Star-Galaxy Separation\n",
    "\n",
    "Now that we have introduced the functionality of the source catalog and its schema, we will do a toy example of star-galaxy separation. This small demo will also flags and fields that users are use, and ultimately make a plot."
   ]
  },
  {
   "cell_type": "code",
   "execution_count": 49,
   "metadata": {
    "execution": {
     "iopub.execute_input": "2021-04-23T16:27:05.491153Z",
     "iopub.status.busy": "2021-04-23T16:27:05.490375Z",
     "iopub.status.idle": "2021-04-23T16:27:05.514604Z",
     "shell.execute_reply": "2021-04-23T16:27:05.513950Z"
    }
   },
   "outputs": [],
   "source": [
    "# let's select sources that were not deblended\n",
    "select_mask = source_cat['deblend_nChild'] == 0\n",
    "select_mask &= source_cat['parent'] == 0\n",
    "\n",
    "# use the extendedness column for a mock star/galaxy seperation\n",
    "# we only want to use columns where this algorithm worked\n",
    "# the flag is set true if there was a failure, so we invert the flag values here\n",
    "select_mask &= ~source_cat['base_ClassificationExtendedness_flag']\n",
    "\n",
    "# we will also use the sloan shapes to measure size\n",
    "select_mask &= ~source_cat['base_SdssShape_flag']\n",
    "\n",
    "# and a simple aperture flux for the brightness\n",
    "select_mask &= ~source_cat['base_CircularApertureFlux_12_0_flag']\n",
    "\n",
    "# only consider sources with positive flux\n",
    "select_mask &= source_cat['base_CircularApertureFlux_12_0_instFlux'] > 0\n",
    "\n",
    "size_bright_cat = source_cat.subset(select_mask)"
   ]
  },
  {
   "cell_type": "markdown",
   "metadata": {},
   "source": [
    "Now we make a crude size magnitude diagram, color coding the data by their 'extendedness value'. The extendedness will be 1 for extended sources-like galaxies-and 0 for point sources-like stars. One hopes the stars will all live on the stellar locus..."
   ]
  },
  {
   "cell_type": "code",
   "execution_count": 50,
   "metadata": {
    "execution": {
     "iopub.execute_input": "2021-04-23T16:27:05.518751Z",
     "iopub.status.busy": "2021-04-23T16:27:05.518022Z",
     "iopub.status.idle": "2021-04-23T16:27:05.684913Z",
     "shell.execute_reply": "2021-04-23T16:27:05.686141Z"
    }
   },
   "outputs": [
    {
     "data": {
      "text/plain": [
       "(5.0, 15.0)"
      ]
     },
     "execution_count": 1,
     "metadata": {},
     "output_type": "execute_result"
    },
    {
     "data": {
      "image/png": "[encoded data removed]",
      "text/plain": [
       "<Figure size 748.8x514.8 with 1 Axes>"
      ]
     },
     "metadata": {
      "needs_background": "light"
     },
     "output_type": "display_data"
    }
   ],
   "source": [
    "plt.scatter(np.log(size_bright_cat['base_CircularApertureFlux_12_0_instFlux']), \n",
    "           size_bright_cat['base_SdssShape_xx'] + size_bright_cat['base_SdssShape_yy'],\n",
    "           c=size_bright_cat['base_ClassificationExtendedness_value'],\n",
    "            cmap='bwr',\n",
    "           s=4)\n",
    "plt.xlabel('log flux')\n",
    "plt.ylabel('size px^2')\n",
    "plt.ylim([0,20]) #zoom in to make the stellar locus clearer\n",
    "plt.xlim([5,15])"
   ]
  },
  {
   "cell_type": "markdown",
   "metadata": {},
   "source": [
    "Our plot shows some star galaxy separation, but also has other interesting features. Some detected sources appear to be smaller than the PSF, some of the point sources have a (crudely) calculated size that occupy the same parameter space as extended sources, and there are a few extremely faint detected point sources. We will leave it to you to delve into this mystery further as a homework assignment since we are primarily focused on understanding tables in this tutorial. By making this plot we exercised some of the methods of the catalog and its schema, to do a minimal analysis example."
   ]
  },
  {
   "cell_type": "markdown",
   "metadata": {},
   "source": [
    "### Operations with multiple tables/catalogs\n",
    "\n",
    "In the next section we will show operations which involve two or more catalogs.\n",
    "\n",
    "#### Table concatenation"
   ]
  },
  {
   "cell_type": "code",
   "execution_count": 51,
   "metadata": {
    "execution": {
     "iopub.execute_input": "2021-04-23T16:27:05.694415Z",
     "iopub.status.busy": "2021-04-23T16:27:05.693090Z",
     "iopub.status.idle": "2021-04-23T16:27:05.854043Z",
     "shell.execute_reply": "2021-04-23T16:27:05.852683Z"
    }
   },
   "outputs": [],
   "source": [
    "# Grab a second catalog using the butler:\n",
    "# (since the dataid keys differ for the HSC and DC2 dataset examples \n",
    "#  we use as examples, we utilize an \"if... elif... else...\" block here)\n",
    "\n",
    "if dataset == 'HSC':\n",
    "    dataId2 = {'filter': 'HSC-Z', 'ccd': 31, 'visit': 38938}\n",
    "elif dataset == 'DC2':\n",
    "    dataId2 = {'filter':'i', 'visit': 512055, 'raftName': 'R20', 'detector': 75}\n",
    "else:\n",
    "    msg = \"Unrecognized dataset: %s\"%dataset\n",
    "    raise Exception(msg)\n",
    "\n",
    "source_cat2 = butler.get('src', dataId2)"
   ]
  },
  {
   "cell_type": "code",
   "execution_count": 52,
   "metadata": {
    "execution": {
     "iopub.execute_input": "2021-04-23T16:27:05.862101Z",
     "iopub.status.busy": "2021-04-23T16:27:05.860587Z",
     "iopub.status.idle": "2021-04-23T16:27:05.937723Z",
     "shell.execute_reply": "2021-04-23T16:27:05.936401Z"
    }
   },
   "outputs": [],
   "source": [
    "# Put our catalogs in a list:\n",
    "catalogList = [source_cat, source_cat2]\n",
    "\n",
    "# The following concatenation function is courtesy of Jim Bosch:\n",
    "def concatenate(catalogList):\n",
    "    from functools import reduce\n",
    "    \"\"\"Concatenate multiple catalogs (FITS tables from lsst.afw.table)\"\"\"\n",
    "    schema = catalogList[0].schema\n",
    "    for i, c in enumerate(catalogList[1:]):\n",
    "        #check that the schema in the tables are the same\n",
    "        #we can only cat them if this is true\n",
    "        if c.schema != schema:\n",
    "            raise RuntimeError(\"Schema for catalog %d not consistent\" % (i+1))\n",
    "\n",
    "    # prepare the master catalog\n",
    "    out = afwTable.BaseCatalog(schema)\n",
    "    num = reduce(lambda n, c: n + len(c), catalogList, 0)\n",
    "    # set aside enough space for all the records and their pointers\n",
    "    out.reserve(num)\n",
    "\n",
    "    # stick in all the records from all catalogs into the master catalog\n",
    "    for catalog in catalogList:\n",
    "        for record in catalog:\n",
    "            out.append(out.table.copyRecord(record))\n",
    "\n",
    "    return out\n",
    "\n",
    "cat_source = concatenate(catalogList)"
   ]
  },
  {
   "cell_type": "markdown",
   "metadata": {},
   "source": [
    "#### Catalog matching\n",
    "\n",
    "Quick positional matching is supported by the stack, and offers some useful functionality. In the next example, we will match two overlapping observations from different filters together. Getting this data will require us to use a new data repository, so we will have to set up a new butler, then ask for our two tables"
   ]
  },
  {
   "cell_type": "code",
   "execution_count": 53,
   "metadata": {
    "execution": {
     "iopub.execute_input": "2021-04-23T16:27:05.944974Z",
     "iopub.status.busy": "2021-04-23T16:27:05.943457Z",
     "iopub.status.idle": "2021-04-23T16:27:08.974185Z",
     "shell.execute_reply": "2021-04-23T16:27:08.972976Z"
    }
   },
   "outputs": [],
   "source": [
    "# For the rest of this tutorial, we are invoking a new butler -- one for coadd data.\n",
    "# If you want, you can switch `datasets` as well, too; so we give you that option here:\n",
    "\n",
    "#dataset='HSC'\n",
    "dataset='DC2'\n",
    "\n",
    "\n",
    "# Temporary \"fix\" so one does not need to restart kernel \n",
    "#  when switching from DC2 to HSC...\n",
    "# See also:  https://lsstc.slack.com/archives/C3UCAEW3D/p1584386779038000\n",
    "#import lsst.afw.image as afwImage\n",
    "#print(afwImage.Filter.getNames())\n",
    "#afwImage.Filter.reset()\n",
    "import lsst.obs.base as obsBase\n",
    "obsBase.FilterDefinitionCollection.reset()\n",
    "#print(afwImage.Filter.getNames())\n",
    "\n",
    "\n",
    "if dataset == 'HSC':\n",
    "\n",
    "    # Good example from the HSC coadds:\n",
    "    \n",
    "    depth = 'WIDE' # WIDE, DEEP, UDEEP\n",
    "    #field = 'SSP_WIDE' # SSP_WIDE, SSP_DEEP, SSP_UDEEP\n",
    "    butler = dafPersist.Butler('/datasets/hsc/repo/rerun/DM-13666/%s/'%(depth))\n",
    "    tract = 15830\n",
    "    patch = '0,3'\n",
    "    filterList = [\"HSC-I\", \"HSC-R\"]\n",
    "    \n",
    "\n",
    "elif dataset == 'DC2':\n",
    "\n",
    "    # Good example from the DC2 coadds:\n",
    "\n",
    "    butler = dafPersist.Butler('/datasets/DC2/DR6/Run2.2i/patched/2021-02-10/rerun/run2.2i-coadd-wfd-dr6-v1')\n",
    "    tract = 4851\n",
    "    patch = '1,4'\n",
    "    filterList = [\"i\", \"r\"]\n",
    "    \n",
    "\n",
    "else:\n",
    "\n",
    "    msg = \"Unrecognized dataset: %s\"%dataset\n",
    "    raise Exception(msg)"
   ]
  },
  {
   "cell_type": "markdown",
   "metadata": {},
   "source": [
    "Let's grab some forced photometry for the (HSC-I/i) band and the (HSC-R/r) band. They will have the same tract and patch, which ensures they will overlap"
   ]
  },
  {
   "cell_type": "code",
   "execution_count": 54,
   "metadata": {
    "execution": {
     "iopub.execute_input": "2021-04-23T16:27:08.980450Z",
     "iopub.status.busy": "2021-04-23T16:27:08.979068Z",
     "iopub.status.idle": "2021-04-23T16:27:09.817399Z",
     "shell.execute_reply": "2021-04-23T16:27:09.816076Z"
    }
   },
   "outputs": [],
   "source": [
    "objects = []\n",
    "for filter in filterList:\n",
    "    #'field' not needed in dataid\n",
    "    #objects.append(butler.get(\"deepCoadd_forced_src\", dataId={'filter':filter, 'field':field, 'tract':tract, 'patch':patch}))\n",
    "    objects.append(butler.get(\"deepCoadd_forced_src\", dataId={'filter':filter, 'tract':tract, 'patch':patch}))\n",
    "iSources, rSources = objects"
   ]
  },
  {
   "cell_type": "markdown",
   "metadata": {},
   "source": [
    "We will need these calib objects for our two bands so that we can calculate magnitudes a little later"
   ]
  },
  {
   "cell_type": "code",
   "execution_count": 55,
   "metadata": {
    "execution": {
     "iopub.execute_input": "2021-04-23T16:27:09.824111Z",
     "iopub.status.busy": "2021-04-23T16:27:09.822654Z",
     "iopub.status.idle": "2021-04-23T16:27:10.473103Z",
     "shell.execute_reply": "2021-04-23T16:27:10.474292Z"
    }
   },
   "outputs": [],
   "source": [
    "calibs = []\n",
    "for filter in filterList:\n",
    "    #'field' not needed in dataid?\n",
    "    #calibs.append(butler.get(\"deepCoadd_calexp_photoCalib\", dataId={'filter':filter, 'field':field, 'tract':tract, 'patch':patch}))\n",
    "    calibs.append(butler.get(\"deepCoadd_calexp_photoCalib\", dataId={'filter':filter, 'tract':tract, 'patch':patch}))\n",
    "iCalib, rCalib = calibs"
   ]
  },
  {
   "cell_type": "markdown",
   "metadata": {},
   "source": [
    "Some quality control flags to prune down the data to give us stars with a signal to noise ratio of 10 or higher. We will use this to index into our catalogs when we do the matching. Note that because these are forced photometry catalogs, the records in each catalog line up so that they should be refering to the same astrophysical sources. That is why we will be able to use our mask on both iSources and rSources. This is not true in general of afwTables."
   ]
  },
  {
   "cell_type": "code",
   "execution_count": 56,
   "metadata": {
    "execution": {
     "iopub.execute_input": "2021-04-23T16:27:10.483696Z",
     "iopub.status.busy": "2021-04-23T16:27:10.482273Z",
     "iopub.status.idle": "2021-04-23T16:27:10.549691Z",
     "shell.execute_reply": "2021-04-23T16:27:10.550910Z"
    }
   },
   "outputs": [],
   "source": [
    "noChildren = iSources['deblend_nChild'] == 0\n",
    "isGoodFlux = ~iSources['modelfit_CModel_flag']\n",
    "isStellar = iSources['base_ClassificationExtendedness_value'] < 1.\n",
    "snr = iSources['modelfit_CModel_instFlux']/iSources['modelfit_CModel_instFluxErr'] > 10\n",
    "\n",
    "star_flag = noChildren & isGoodFlux & isStellar & snr"
   ]
  },
  {
   "cell_type": "markdown",
   "metadata": {},
   "source": [
    "In order to match catalogs, we must provide a `MatchControl` instance. The `MatchControl` provides configurations for catalog matching. It has three 'switches' in the form of class attributes. They are defined as follows:\n",
    "\n",
    "1. `findOnlyClosest`: True by default. If False, all other sources within a search radius are also matched \n",
    "2. `includeMismatches`: False by default. If False, sources with no match are not reported in the match catalog. If True, sources with no match are included in the match catalog with Null as their match\n",
    "3. `symmetricMatch`: False by default. If False, the match between source a from catalog a with source b from catalog b is reported alone. If True, the symmetric match between source b and a is also reported."
   ]
  },
  {
   "cell_type": "code",
   "execution_count": 57,
   "metadata": {
    "execution": {
     "iopub.execute_input": "2021-04-23T16:27:10.558193Z",
     "iopub.status.busy": "2021-04-23T16:27:10.556700Z",
     "iopub.status.idle": "2021-04-23T16:27:10.604683Z",
     "shell.execute_reply": "2021-04-23T16:27:10.603527Z"
    }
   },
   "outputs": [],
   "source": [
    "# get a match control, we will keep the default configuration\n",
    "mc = afwTable.MatchControl()\n",
    "\n",
    "# match our two catalogs, setting the match threshold to be one arcsecond\n",
    "matches = afwTable.matchRaDec(iSources[star_flag], rSources[star_flag],\n",
    "                              lsst.geom.Angle(1,lsst.geom.arcseconds), mc)"
   ]
  },
  {
   "cell_type": "markdown",
   "metadata": {},
   "source": [
    "`afwTable.matchRaDec` returns a list, where each element is an instance of a `Match` class. The `Match` class has three attributes, which gives us information about the matched sources. Let us unpack this a bit before moving on to some analysis"
   ]
  },
  {
   "cell_type": "code",
   "execution_count": 58,
   "metadata": {
    "execution": {
     "iopub.execute_input": "2021-04-23T16:27:10.610466Z",
     "iopub.status.busy": "2021-04-23T16:27:10.609157Z",
     "iopub.status.idle": "2021-04-23T16:27:10.647418Z",
     "shell.execute_reply": "2021-04-23T16:27:10.648624Z"
    }
   },
   "outputs": [
    {
     "data": {
      "text/plain": [
       "997"
      ]
     },
     "execution_count": 1,
     "metadata": {},
     "output_type": "execute_result"
    }
   ],
   "source": [
    "# how many sources were actually matched?\n",
    "len(matches)"
   ]
  },
  {
   "cell_type": "code",
   "execution_count": 59,
   "metadata": {
    "execution": {
     "iopub.execute_input": "2021-04-23T16:27:10.654588Z",
     "iopub.status.busy": "2021-04-23T16:27:10.653144Z",
     "iopub.status.idle": "2021-04-23T16:27:10.687774Z",
     "shell.execute_reply": "2021-04-23T16:27:10.688987Z"
    }
   },
   "outputs": [
    {
     "data": {
      "text/plain": [
       "<class 'lsst.afw.table.SourceRecord'>\n",
       "id: 21335078244214836\n",
       "coord_ra: 1.00536 rad\n",
       "coord_dec: -0.5044 rad\n",
       "parent: 21335078244188220\n",
       "deblend_nChild: 0\n",
       "base_SdssCentroid_x: 7595.01\n",
       "base_SdssCentroid_y: 15936.9\n",
       "base_SdssCentroid_xErr: 0.114705\n",
       "base_SdssCentroid_yErr: 0.121465\n",
       "base_SdssCentroid_flag: 0\n",
       "base_SdssCentroid_flag_edge: 0\n",
       "base_SdssCentroid_flag_noSecondDerivative: 0\n",
       "base_SdssCentroid_flag_almostNoSecondDerivative: 0\n",
       "base_SdssCentroid_flag_notAtMaximum: 0\n",
       "base_SdssCentroid_flag_resetToPeak: 0\n",
       "base_SdssCentroid_flag_badError: 0\n",
       "base_TransformedCentroid_x: 7595.01\n",
       "base_TransformedCentroid_y: 15936.9\n",
       "base_TransformedCentroid_flag: 0\n",
       "base_InputCount_flag: 0\n",
       "base_InputCount_value: 101\n",
       "base_InputCount_flag_noInputs: 0\n",
       "base_SdssShape_xx: 2.60641\n",
       "base_SdssShape_yy: 2.97911\n",
       "base_SdssShape_xy: 0.12778\n",
       "base_SdssShape_xxErr: 0.300169\n",
       "base_SdssShape_yyErr: 0.227159\n",
       "base_SdssShape_xyErr: 0.343091\n",
       "base_SdssShape_x: 7595.01\n",
       "base_SdssShape_y: 15936.9\n",
       "base_SdssShape_instFlux: 8.84563\n",
       "base_SdssShape_instFluxErr: 0.509357\n",
       "base_SdssShape_psf_xx: 3.10643\n",
       "base_SdssShape_psf_yy: 3.08538\n",
       "base_SdssShape_psf_xy: 0.00789816\n",
       "base_SdssShape_instFlux_xx_Cov: -0.0764466\n",
       "base_SdssShape_instFlux_yy_Cov: -0.00374781\n",
       "base_SdssShape_instFlux_xy_Cov: -0.087378\n",
       "base_SdssShape_flag: 0\n",
       "base_SdssShape_flag_unweightedBad: 0\n",
       "base_SdssShape_flag_unweighted: 0\n",
       "base_SdssShape_flag_shift: 0\n",
       "base_SdssShape_flag_maxIter: 0\n",
       "base_SdssShape_flag_psf: 0\n",
       "base_TransformedShape_xx: 2.60407\n",
       "base_TransformedShape_yy: 3.00102\n",
       "base_TransformedShape_xy: 0.120437\n",
       "base_TransformedShape_flag: 0\n",
       "modelfit_DoubleShapeletPsfApprox_0_xx: 2.37367\n",
       "modelfit_DoubleShapeletPsfApprox_0_yy: 2.37937\n",
       "modelfit_DoubleShapeletPsfApprox_0_xy: 0.00721379\n",
       "modelfit_DoubleShapeletPsfApprox_0_x: -0.00232958\n",
       "modelfit_DoubleShapeletPsfApprox_0_y: -0.000364612\n",
       "modelfit_DoubleShapeletPsfApprox_0_0: 0.172794\n",
       "modelfit_DoubleShapeletPsfApprox_0_1: -6.01944e-05\n",
       "modelfit_DoubleShapeletPsfApprox_0_2: 0.000262287\n",
       "modelfit_DoubleShapeletPsfApprox_0_3: -0.000350329\n",
       "modelfit_DoubleShapeletPsfApprox_0_4: -2.53996e-05\n",
       "modelfit_DoubleShapeletPsfApprox_0_5: 0.000353144\n",
       "modelfit_DoubleShapeletPsfApprox_1_xx: 8.18561\n",
       "modelfit_DoubleShapeletPsfApprox_1_yy: 8.20526\n",
       "modelfit_DoubleShapeletPsfApprox_1_xy: 0.0248767\n",
       "modelfit_DoubleShapeletPsfApprox_1_x: -0.00232958\n",
       "modelfit_DoubleShapeletPsfApprox_1_y: -0.000364612\n",
       "modelfit_DoubleShapeletPsfApprox_1_0: 0.103664\n",
       "modelfit_DoubleShapeletPsfApprox_1_1: 0.000153311\n",
       "modelfit_DoubleShapeletPsfApprox_1_2: -4.24636e-05\n",
       "modelfit_DoubleShapeletPsfApprox_flag: 0\n",
       "modelfit_DoubleShapeletPsfApprox_flag_invalidPointForPsf: 0\n",
       "modelfit_DoubleShapeletPsfApprox_flag_invalidMoments: 0\n",
       "modelfit_DoubleShapeletPsfApprox_flag_maxIterations: 0\n",
       "base_CircularApertureFlux_3_0_instFlux: 7.06936\n",
       "base_CircularApertureFlux_3_0_instFluxErr: 0.316457\n",
       "base_CircularApertureFlux_3_0_flag: 0\n",
       "base_CircularApertureFlux_3_0_flag_apertureTruncated: 0\n",
       "base_CircularApertureFlux_3_0_flag_sincCoeffsTruncated: 0\n",
       "base_CircularApertureFlux_4_5_instFlux: 8.70256\n",
       "base_CircularApertureFlux_4_5_instFluxErr: 0.476818\n",
       "base_CircularApertureFlux_4_5_flag: 0\n",
       "base_CircularApertureFlux_4_5_flag_apertureTruncated: 0\n",
       "base_CircularApertureFlux_4_5_flag_sincCoeffsTruncated: 0\n",
       "base_CircularApertureFlux_6_0_instFlux: 9.07784\n",
       "base_CircularApertureFlux_6_0_instFluxErr: 0.63913\n",
       "base_CircularApertureFlux_6_0_flag: 0\n",
       "base_CircularApertureFlux_6_0_flag_apertureTruncated: 0\n",
       "base_CircularApertureFlux_6_0_flag_sincCoeffsTruncated: 0\n",
       "base_CircularApertureFlux_9_0_instFlux: 9.97245\n",
       "base_CircularApertureFlux_9_0_instFluxErr: 0.964298\n",
       "base_CircularApertureFlux_9_0_flag: 0\n",
       "base_CircularApertureFlux_9_0_flag_apertureTruncated: 0\n",
       "base_CircularApertureFlux_9_0_flag_sincCoeffsTruncated: 0\n",
       "base_CircularApertureFlux_12_0_instFlux: 10.9126\n",
       "base_CircularApertureFlux_12_0_instFluxErr: 1.28996\n",
       "base_CircularApertureFlux_12_0_flag: 0\n",
       "base_CircularApertureFlux_12_0_flag_apertureTruncated: 0\n",
       "base_CircularApertureFlux_12_0_flag_sincCoeffsTruncated: 0\n",
       "base_CircularApertureFlux_17_0_instFlux: 16.4985\n",
       "base_CircularApertureFlux_17_0_instFluxErr: 1.83484\n",
       "base_CircularApertureFlux_17_0_flag: 0\n",
       "base_CircularApertureFlux_17_0_flag_apertureTruncated: 0\n",
       "base_CircularApertureFlux_25_0_instFlux: 18.8538\n",
       "base_CircularApertureFlux_25_0_instFluxErr: 2.71032\n",
       "base_CircularApertureFlux_25_0_flag: 0\n",
       "base_CircularApertureFlux_25_0_flag_apertureTruncated: 0\n",
       "base_CircularApertureFlux_35_0_instFlux: 30.793\n",
       "base_CircularApertureFlux_35_0_instFluxErr: 3.79485\n",
       "base_CircularApertureFlux_35_0_flag: 0\n",
       "base_CircularApertureFlux_35_0_flag_apertureTruncated: 0\n",
       "base_CircularApertureFlux_50_0_instFlux: nan\n",
       "base_CircularApertureFlux_50_0_instFluxErr: nan\n",
       "base_CircularApertureFlux_50_0_flag: 1\n",
       "base_CircularApertureFlux_50_0_flag_apertureTruncated: 1\n",
       "base_CircularApertureFlux_70_0_instFlux: nan\n",
       "base_CircularApertureFlux_70_0_instFluxErr: nan\n",
       "base_CircularApertureFlux_70_0_flag: 1\n",
       "base_CircularApertureFlux_70_0_flag_apertureTruncated: 1\n",
       "base_GaussianFlux_instFlux: 9.55711\n",
       "base_GaussianFlux_instFluxErr: 0.393142\n",
       "base_GaussianFlux_flag: 0\n",
       "base_LocalBackground_instFlux: 0.005688\n",
       "base_LocalBackground_instFluxErr: 0.0578756\n",
       "base_LocalBackground_flag: 0\n",
       "base_LocalBackground_flag_noGoodPixels: 0\n",
       "base_LocalBackground_flag_noPsf: 0\n",
       "base_PixelFlags_flag: 0\n",
       "base_PixelFlags_flag_offimage: 0\n",
       "base_PixelFlags_flag_edge: 0\n",
       "base_PixelFlags_flag_interpolated: 0\n",
       "base_PixelFlags_flag_saturated: 0\n",
       "base_PixelFlags_flag_cr: 0\n",
       "base_PixelFlags_flag_bad: 0\n",
       "base_PixelFlags_flag_suspect: 0\n",
       "base_PixelFlags_flag_interpolatedCenter: 0\n",
       "base_PixelFlags_flag_saturatedCenter: 0\n",
       "base_PixelFlags_flag_crCenter: 0\n",
       "base_PixelFlags_flag_suspectCenter: 0\n",
       "base_PixelFlags_flag_clippedCenter: 0\n",
       "base_PixelFlags_flag_sensor_edgeCenter: 0\n",
       "base_PixelFlags_flag_rejectedCenter: 0\n",
       "base_PixelFlags_flag_inexact_psfCenter: 0\n",
       "base_PixelFlags_flag_bright_objectCenter: 0\n",
       "base_PixelFlags_flag_clipped: 0\n",
       "base_PixelFlags_flag_sensor_edge: 0\n",
       "base_PixelFlags_flag_rejected: 0\n",
       "base_PixelFlags_flag_inexact_psf: 0\n",
       "base_PixelFlags_flag_bright_object: 0\n",
       "base_PsfFlux_instFlux: 10.343\n",
       "base_PsfFlux_instFluxErr: 0.423546\n",
       "base_PsfFlux_area: 48.4084\n",
       "base_PsfFlux_flag: 0\n",
       "base_PsfFlux_flag_noGoodPixels: 0\n",
       "base_PsfFlux_flag_edge: 0\n",
       "base_Variance_flag: 0\n",
       "base_Variance_value: 0.00371032\n",
       "base_Variance_flag_emptyFootprint: 0\n",
       "ext_photometryKron_KronFlux_instFlux: 9.69437\n",
       "ext_photometryKron_KronFlux_instFluxErr: 0.769312\n",
       "ext_photometryKron_KronFlux_radius: 2.77981\n",
       "ext_photometryKron_KronFlux_radius_for_radius: nan\n",
       "ext_photometryKron_KronFlux_psf_radius: 2.20522\n",
       "ext_photometryKron_KronFlux_flag: 0\n",
       "ext_photometryKron_KronFlux_flag_edge: 0\n",
       "ext_photometryKron_KronFlux_flag_bad_shape_no_psf: 0\n",
       "ext_photometryKron_KronFlux_flag_no_minimum_radius: 0\n",
       "ext_photometryKron_KronFlux_flag_no_fallback_radius: 0\n",
       "ext_photometryKron_KronFlux_flag_bad_radius: 0\n",
       "ext_photometryKron_KronFlux_flag_used_minimum_radius: 0\n",
       "ext_photometryKron_KronFlux_flag_used_psf_radius: 0\n",
       "ext_photometryKron_KronFlux_flag_small_radius: 0\n",
       "ext_photometryKron_KronFlux_flag_bad_shape: 0\n",
       "ext_convolved_ConvolvedFlux_seeing: 1.75951\n",
       "ext_convolved_ConvolvedFlux_0_deconv: 1\n",
       "ext_convolved_ConvolvedFlux_0_3_3_instFlux: 10.3568\n",
       "ext_convolved_ConvolvedFlux_0_3_3_instFluxErr: 0.48187\n",
       "ext_convolved_ConvolvedFlux_0_3_3_flag: 0\n",
       "ext_convolved_ConvolvedFlux_0_3_3_flag_apertureTruncated: 0\n",
       "ext_convolved_ConvolvedFlux_0_3_3_flag_sincCoeffsTruncated: 0\n",
       "ext_convolved_ConvolvedFlux_0_4_5_instFlux: 10.0567\n",
       "ext_convolved_ConvolvedFlux_0_4_5_instFluxErr: 0.551014\n",
       "ext_convolved_ConvolvedFlux_0_4_5_flag: 0\n",
       "ext_convolved_ConvolvedFlux_0_4_5_flag_apertureTruncated: 0\n",
       "ext_convolved_ConvolvedFlux_0_4_5_flag_sincCoeffsTruncated: 0\n",
       "ext_convolved_ConvolvedFlux_0_6_0_instFlux: 9.63897\n",
       "ext_convolved_ConvolvedFlux_0_6_0_instFluxErr: 0.678637\n",
       "ext_convolved_ConvolvedFlux_0_6_0_flag: 0\n",
       "ext_convolved_ConvolvedFlux_0_6_0_flag_apertureTruncated: 0\n",
       "ext_convolved_ConvolvedFlux_0_6_0_flag_sincCoeffsTruncated: 0\n",
       "ext_convolved_ConvolvedFlux_0_kron_instFlux: 9.69739\n",
       "ext_convolved_ConvolvedFlux_0_kron_instFluxErr: 0.769551\n",
       "ext_convolved_ConvolvedFlux_0_kron_flag: 0\n",
       "ext_convolved_ConvolvedFlux_1_deconv: 0\n",
       "ext_convolved_ConvolvedFlux_1_3_3_instFlux: 10.0159\n",
       "ext_convolved_ConvolvedFlux_1_3_3_instFluxErr: 0.128645\n",
       "ext_convolved_ConvolvedFlux_1_3_3_flag: 0\n",
       "ext_convolved_ConvolvedFlux_1_3_3_flag_apertureTruncated: 0\n",
       "ext_convolved_ConvolvedFlux_1_3_3_flag_sincCoeffsTruncated: 0\n",
       "ext_convolved_ConvolvedFlux_1_4_5_instFlux: 9.87651\n",
       "ext_convolved_ConvolvedFlux_1_4_5_instFluxErr: 0.137835\n",
       "ext_convolved_ConvolvedFlux_1_4_5_flag: 0\n",
       "ext_convolved_ConvolvedFlux_1_4_5_flag_apertureTruncated: 0\n",
       "ext_convolved_ConvolvedFlux_1_4_5_flag_sincCoeffsTruncated: 0\n",
       "ext_convolved_ConvolvedFlux_1_6_0_instFlux: 9.75412\n",
       "ext_convolved_ConvolvedFlux_1_6_0_instFluxErr: 0.16343\n",
       "ext_convolved_ConvolvedFlux_1_6_0_flag: 0\n",
       "ext_convolved_ConvolvedFlux_1_6_0_flag_apertureTruncated: 0\n",
       "ext_convolved_ConvolvedFlux_1_6_0_flag_sincCoeffsTruncated: 0\n",
       "ext_convolved_ConvolvedFlux_1_kron_instFlux: 9.97061\n",
       "ext_convolved_ConvolvedFlux_1_kron_instFluxErr: 0.186434\n",
       "ext_convolved_ConvolvedFlux_1_kron_flag: 0\n",
       "ext_convolved_ConvolvedFlux_2_deconv: 0\n",
       "ext_convolved_ConvolvedFlux_2_3_3_instFlux: 9.70625\n",
       "ext_convolved_ConvolvedFlux_2_3_3_instFluxErr: 0.0950786\n",
       "ext_convolved_ConvolvedFlux_2_3_3_flag: 0\n",
       "ext_convolved_ConvolvedFlux_2_3_3_flag_apertureTruncated: 0\n",
       "ext_convolved_ConvolvedFlux_2_3_3_flag_sincCoeffsTruncated: 0\n",
       "ext_convolved_ConvolvedFlux_2_4_5_instFlux: 9.82445\n",
       "ext_convolved_ConvolvedFlux_2_4_5_instFluxErr: 0.0917635\n",
       "ext_convolved_ConvolvedFlux_2_4_5_flag: 0\n",
       "ext_convolved_ConvolvedFlux_2_4_5_flag_apertureTruncated: 0\n",
       "ext_convolved_ConvolvedFlux_2_4_5_flag_sincCoeffsTruncated: 0\n",
       "ext_convolved_ConvolvedFlux_2_6_0_instFlux: 9.84614\n",
       "ext_convolved_ConvolvedFlux_2_6_0_instFluxErr: 0.0984979\n",
       "ext_convolved_ConvolvedFlux_2_6_0_flag: 0\n",
       "ext_convolved_ConvolvedFlux_2_6_0_flag_apertureTruncated: 0\n",
       "ext_convolved_ConvolvedFlux_2_6_0_flag_sincCoeffsTruncated: 0\n",
       "ext_convolved_ConvolvedFlux_2_kron_instFlux: 10.3495\n",
       "ext_convolved_ConvolvedFlux_2_kron_instFluxErr: 0.111722\n",
       "ext_convolved_ConvolvedFlux_2_kron_flag: 0\n",
       "ext_convolved_ConvolvedFlux_3_deconv: 0\n",
       "ext_convolved_ConvolvedFlux_3_3_3_instFlux: 9.66183\n",
       "ext_convolved_ConvolvedFlux_3_3_3_instFluxErr: 0.0931103\n",
       "ext_convolved_ConvolvedFlux_3_3_3_flag: 0\n",
       "ext_convolved_ConvolvedFlux_3_3_3_flag_apertureTruncated: 0\n",
       "ext_convolved_ConvolvedFlux_3_3_3_flag_sincCoeffsTruncated: 0\n",
       "ext_convolved_ConvolvedFlux_3_4_5_instFlux: 9.86911\n",
       "ext_convolved_ConvolvedFlux_3_4_5_instFluxErr: 0.0838094\n",
       "ext_convolved_ConvolvedFlux_3_4_5_flag: 0\n",
       "ext_convolved_ConvolvedFlux_3_4_5_flag_apertureTruncated: 0\n",
       "ext_convolved_ConvolvedFlux_3_4_5_flag_sincCoeffsTruncated: 0\n",
       "ext_convolved_ConvolvedFlux_3_6_0_instFlux: 9.94691\n",
       "ext_convolved_ConvolvedFlux_3_6_0_instFluxErr: 0.0823295\n",
       "ext_convolved_ConvolvedFlux_3_6_0_flag: 0\n",
       "ext_convolved_ConvolvedFlux_3_6_0_flag_apertureTruncated: 0\n",
       "ext_convolved_ConvolvedFlux_3_6_0_flag_sincCoeffsTruncated: 0\n",
       "ext_convolved_ConvolvedFlux_3_kron_instFlux: 10.7702\n",
       "ext_convolved_ConvolvedFlux_3_kron_instFluxErr: 0.0918793\n",
       "ext_convolved_ConvolvedFlux_3_kron_flag: 0\n",
       "ext_convolved_ConvolvedFlux_flag: 0\n",
       "modelfit_CModel_initial_instFlux: 10.322\n",
       "modelfit_CModel_initial_instFluxErr: 0.424537\n",
       "modelfit_CModel_initial_flag: 0\n",
       "modelfit_CModel_initial_instFlux_inner: 8.85263\n",
       "modelfit_CModel_initial_flag_badReference: 0\n",
       "modelfit_CModel_initial_flag_numericError: 0\n",
       "modelfit_CModel_exp_instFlux: 10.3243\n",
       "modelfit_CModel_exp_instFluxErr: 0.424634\n",
       "modelfit_CModel_exp_flag: 0\n",
       "modelfit_CModel_exp_instFlux_inner: 8.85265\n",
       "modelfit_CModel_exp_flag_badReference: 0\n",
       "modelfit_CModel_exp_flag_numericError: 0\n",
       "modelfit_CModel_dev_instFlux: 10.3193\n",
       "modelfit_CModel_dev_instFluxErr: 0.424428\n",
       "modelfit_CModel_dev_flag: 0\n",
       "modelfit_CModel_dev_instFlux_inner: 8.85297\n",
       "modelfit_CModel_dev_flag_badReference: 0\n",
       "modelfit_CModel_dev_flag_numericError: 0\n",
       "modelfit_CModel_instFlux: 10.3227\n",
       "modelfit_CModel_instFluxErr: 0.424568\n",
       "modelfit_CModel_flag: 0\n",
       "modelfit_CModel_instFlux_inner: 8.85265\n",
       "modelfit_CModel_fracDev: 0\n",
       "modelfit_CModel_objective: 0.0635862\n",
       "modelfit_CModel_flag_region_maxArea: 0\n",
       "modelfit_CModel_flag_region_maxBadPixelFraction: 0\n",
       "modelfit_CModel_flag_badReference: 0\n",
       "modelfit_CModel_flag_noShapeletPsf: 0\n",
       "modelfit_CModel_flag_badCentroid: 0\n",
       "undeblended_base_CircularApertureFlux_3_0_instFlux: 7.95589\n",
       "undeblended_base_CircularApertureFlux_3_0_instFluxErr: 0.316457\n",
       "undeblended_base_CircularApertureFlux_3_0_flag: 0\n",
       "undeblended_base_CircularApertureFlux_3_0_flag_apertureTruncated: 0\n",
       "undeblended_base_CircularApertureFlux_3_0_flag_sincCoeffsTruncated: 0\n",
       "undeblended_base_CircularApertureFlux_4_5_instFlux: 10.4031\n",
       "undeblended_base_CircularApertureFlux_4_5_instFluxErr: 0.476818\n",
       "undeblended_base_CircularApertureFlux_4_5_flag: 0\n",
       "undeblended_base_CircularApertureFlux_4_5_flag_apertureTruncated: 0\n",
       "undeblended_base_CircularApertureFlux_4_5_flag_sincCoeffsTruncated: 0\n",
       "undeblended_base_CircularApertureFlux_6_0_instFlux: 12.0704\n",
       "undeblended_base_CircularApertureFlux_6_0_instFluxErr: 0.63913\n",
       "undeblended_base_CircularApertureFlux_6_0_flag: 0\n",
       "undeblended_base_CircularApertureFlux_6_0_flag_apertureTruncated: 0\n",
       "undeblended_base_CircularApertureFlux_6_0_flag_sincCoeffsTruncated: 0\n",
       "undeblended_base_CircularApertureFlux_9_0_instFlux: 16.9095\n",
       "undeblended_base_CircularApertureFlux_9_0_instFluxErr: 0.964298\n",
       "undeblended_base_CircularApertureFlux_9_0_flag: 0\n",
       "undeblended_base_CircularApertureFlux_9_0_flag_apertureTruncated: 0\n",
       "undeblended_base_CircularApertureFlux_9_0_flag_sincCoeffsTruncated: 0\n",
       "undeblended_base_CircularApertureFlux_12_0_instFlux: 21.2266\n",
       "undeblended_base_CircularApertureFlux_12_0_instFluxErr: 1.28996\n",
       "undeblended_base_CircularApertureFlux_12_0_flag: 0\n",
       "undeblended_base_CircularApertureFlux_12_0_flag_apertureTruncated: 0\n",
       "undeblended_base_CircularApertureFlux_12_0_flag_sincCoeffsTruncated: 0\n",
       "undeblended_base_CircularApertureFlux_17_0_instFlux: 37.3047\n",
       "undeblended_base_CircularApertureFlux_17_0_instFluxErr: 1.83484\n",
       "undeblended_base_CircularApertureFlux_17_0_flag: 0\n",
       "undeblended_base_CircularApertureFlux_17_0_flag_apertureTruncated: 0\n",
       "undeblended_base_CircularApertureFlux_25_0_instFlux: 139.549\n",
       "undeblended_base_CircularApertureFlux_25_0_instFluxErr: 2.71032\n",
       "undeblended_base_CircularApertureFlux_25_0_flag: 0\n",
       "undeblended_base_CircularApertureFlux_25_0_flag_apertureTruncated: 0\n",
       "undeblended_base_CircularApertureFlux_35_0_instFlux: 202.816\n",
       "undeblended_base_CircularApertureFlux_35_0_instFluxErr: 3.79485\n",
       "undeblended_base_CircularApertureFlux_35_0_flag: 0\n",
       "undeblended_base_CircularApertureFlux_35_0_flag_apertureTruncated: 0\n",
       "undeblended_base_CircularApertureFlux_50_0_instFlux: nan\n",
       "undeblended_base_CircularApertureFlux_50_0_instFluxErr: nan\n",
       "undeblended_base_CircularApertureFlux_50_0_flag: 1\n",
       "undeblended_base_CircularApertureFlux_50_0_flag_apertureTruncated: 1\n",
       "undeblended_base_CircularApertureFlux_70_0_instFlux: nan\n",
       "undeblended_base_CircularApertureFlux_70_0_instFluxErr: nan\n",
       "undeblended_base_CircularApertureFlux_70_0_flag: 1\n",
       "undeblended_base_CircularApertureFlux_70_0_flag_apertureTruncated: 1\n",
       "undeblended_base_PsfFlux_instFlux: 11.6928\n",
       "undeblended_base_PsfFlux_instFluxErr: 0.425969\n",
       "undeblended_base_PsfFlux_area: 48.4084\n",
       "undeblended_base_PsfFlux_flag: 0\n",
       "undeblended_base_PsfFlux_flag_noGoodPixels: 0\n",
       "undeblended_base_PsfFlux_flag_edge: 0\n",
       "undeblended_ext_photometryKron_KronFlux_instFlux: 13.1186\n",
       "undeblended_ext_photometryKron_KronFlux_instFluxErr: 0.742051\n",
       "undeblended_ext_photometryKron_KronFlux_radius: 2.77981\n",
       "undeblended_ext_photometryKron_KronFlux_radius_for_radius: nan\n",
       "undeblended_ext_photometryKron_KronFlux_psf_radius: 2.20522\n",
       "undeblended_ext_photometryKron_KronFlux_flag: 0\n",
       "undeblended_ext_photometryKron_KronFlux_flag_edge: 0\n",
       "undeblended_ext_photometryKron_KronFlux_flag_bad_shape_no_psf: 0\n",
       "undeblended_ext_photometryKron_KronFlux_flag_no_minimum_radius: 0\n",
       "undeblended_ext_photometryKron_KronFlux_flag_no_fallback_radius: 0\n",
       "undeblended_ext_photometryKron_KronFlux_flag_bad_radius: 0\n",
       "undeblended_ext_photometryKron_KronFlux_flag_used_minimum_radius: 0\n",
       "undeblended_ext_photometryKron_KronFlux_flag_used_psf_radius: 0\n",
       "undeblended_ext_photometryKron_KronFlux_flag_small_radius: 0\n",
       "undeblended_ext_photometryKron_KronFlux_flag_bad_shape: 0\n",
       "undeblended_ext_convolved_ConvolvedFlux_seeing: 1.75951\n",
       "undeblended_ext_convolved_ConvolvedFlux_0_deconv: 1\n",
       "undeblended_ext_convolved_ConvolvedFlux_0_3_3_instFlux: 11.8071\n",
       "undeblended_ext_convolved_ConvolvedFlux_0_3_3_instFluxErr: 0.48187\n",
       "undeblended_ext_convolved_ConvolvedFlux_0_3_3_flag: 0\n",
       "undeblended_ext_convolved_ConvolvedFlux_0_3_3_flag_apertureTruncated: 0\n",
       "undeblended_ext_convolved_ConvolvedFlux_0_3_3_flag_sincCoeffsTruncated: 0\n",
       "undeblended_ext_convolved_ConvolvedFlux_0_4_5_instFlux: 12.0219\n",
       "undeblended_ext_convolved_ConvolvedFlux_0_4_5_instFluxErr: 0.551014\n",
       "undeblended_ext_convolved_ConvolvedFlux_0_4_5_flag: 0\n",
       "undeblended_ext_convolved_ConvolvedFlux_0_4_5_flag_apertureTruncated: 0\n",
       "undeblended_ext_convolved_ConvolvedFlux_0_4_5_flag_sincCoeffsTruncated: 0\n",
       "undeblended_ext_convolved_ConvolvedFlux_0_6_0_instFlux: 12.8165\n",
       "undeblended_ext_convolved_ConvolvedFlux_0_6_0_instFluxErr: 0.678637\n",
       "undeblended_ext_convolved_ConvolvedFlux_0_6_0_flag: 0\n",
       "undeblended_ext_convolved_ConvolvedFlux_0_6_0_flag_apertureTruncated: 0\n",
       "undeblended_ext_convolved_ConvolvedFlux_0_6_0_flag_sincCoeffsTruncated: 0\n",
       "undeblended_ext_convolved_ConvolvedFlux_0_kron_instFlux: 13.6048\n",
       "undeblended_ext_convolved_ConvolvedFlux_0_kron_instFluxErr: 0.769551\n",
       "undeblended_ext_convolved_ConvolvedFlux_0_kron_flag: 0\n",
       "undeblended_ext_convolved_ConvolvedFlux_1_deconv: 0\n",
       "undeblended_ext_convolved_ConvolvedFlux_1_3_3_instFlux: 11.5333\n",
       "undeblended_ext_convolved_ConvolvedFlux_1_3_3_instFluxErr: 0.128645\n",
       "undeblended_ext_convolved_ConvolvedFlux_1_3_3_flag: 0\n",
       "undeblended_ext_convolved_ConvolvedFlux_1_3_3_flag_apertureTruncated: 0\n",
       "undeblended_ext_convolved_ConvolvedFlux_1_3_3_flag_sincCoeffsTruncated: 0\n",
       "undeblended_ext_convolved_ConvolvedFlux_1_4_5_instFlux: 12.0165\n",
       "undeblended_ext_convolved_ConvolvedFlux_1_4_5_instFluxErr: 0.137835\n",
       "undeblended_ext_convolved_ConvolvedFlux_1_4_5_flag: 0\n",
       "undeblended_ext_convolved_ConvolvedFlux_1_4_5_flag_apertureTruncated: 0\n",
       "undeblended_ext_convolved_ConvolvedFlux_1_4_5_flag_sincCoeffsTruncated: 0\n",
       "undeblended_ext_convolved_ConvolvedFlux_1_6_0_instFlux: 13.0289\n",
       "undeblended_ext_convolved_ConvolvedFlux_1_6_0_instFluxErr: 0.16343\n",
       "undeblended_ext_convolved_ConvolvedFlux_1_6_0_flag: 0\n",
       "undeblended_ext_convolved_ConvolvedFlux_1_6_0_flag_apertureTruncated: 0\n",
       "undeblended_ext_convolved_ConvolvedFlux_1_6_0_flag_sincCoeffsTruncated: 0\n",
       "undeblended_ext_convolved_ConvolvedFlux_1_kron_instFlux: 14.047\n",
       "undeblended_ext_convolved_ConvolvedFlux_1_kron_instFluxErr: 0.186434\n",
       "undeblended_ext_convolved_ConvolvedFlux_1_kron_flag: 0\n",
       "undeblended_ext_convolved_ConvolvedFlux_2_deconv: 0\n",
       "undeblended_ext_convolved_ConvolvedFlux_2_3_3_instFlux: 11.6644\n",
       "undeblended_ext_convolved_ConvolvedFlux_2_3_3_instFluxErr: 0.0950786\n",
       "undeblended_ext_convolved_ConvolvedFlux_2_3_3_flag: 0\n",
       "undeblended_ext_convolved_ConvolvedFlux_2_3_3_flag_apertureTruncated: 0\n",
       "undeblended_ext_convolved_ConvolvedFlux_2_3_3_flag_sincCoeffsTruncated: 0\n",
       "undeblended_ext_convolved_ConvolvedFlux_2_4_5_instFlux: 12.3327\n",
       "undeblended_ext_convolved_ConvolvedFlux_2_4_5_instFluxErr: 0.0917635\n",
       "undeblended_ext_convolved_ConvolvedFlux_2_4_5_flag: 0\n",
       "undeblended_ext_convolved_ConvolvedFlux_2_4_5_flag_apertureTruncated: 0\n",
       "undeblended_ext_convolved_ConvolvedFlux_2_4_5_flag_sincCoeffsTruncated: 0\n",
       "undeblended_ext_convolved_ConvolvedFlux_2_6_0_instFlux: 13.3688\n",
       "undeblended_ext_convolved_ConvolvedFlux_2_6_0_instFluxErr: 0.0984979\n",
       "undeblended_ext_convolved_ConvolvedFlux_2_6_0_flag: 0\n",
       "undeblended_ext_convolved_ConvolvedFlux_2_6_0_flag_apertureTruncated: 0\n",
       "undeblended_ext_convolved_ConvolvedFlux_2_6_0_flag_sincCoeffsTruncated: 0\n",
       "undeblended_ext_convolved_ConvolvedFlux_2_kron_instFlux: 14.7584\n",
       "undeblended_ext_convolved_ConvolvedFlux_2_kron_instFluxErr: 0.111722\n",
       "undeblended_ext_convolved_ConvolvedFlux_2_kron_flag: 0\n",
       "undeblended_ext_convolved_ConvolvedFlux_3_deconv: 0\n",
       "undeblended_ext_convolved_ConvolvedFlux_3_3_3_instFlux: 12.2449\n",
       "undeblended_ext_convolved_ConvolvedFlux_3_3_3_instFluxErr: 0.0931103\n",
       "undeblended_ext_convolved_ConvolvedFlux_3_3_3_flag: 0\n",
       "undeblended_ext_convolved_ConvolvedFlux_3_3_3_flag_apertureTruncated: 0\n",
       "undeblended_ext_convolved_ConvolvedFlux_3_3_3_flag_sincCoeffsTruncated: 0\n",
       "undeblended_ext_convolved_ConvolvedFlux_3_4_5_instFlux: 12.9552\n",
       "undeblended_ext_convolved_ConvolvedFlux_3_4_5_instFluxErr: 0.0838094\n",
       "undeblended_ext_convolved_ConvolvedFlux_3_4_5_flag: 0\n",
       "undeblended_ext_convolved_ConvolvedFlux_3_4_5_flag_apertureTruncated: 0\n",
       "undeblended_ext_convolved_ConvolvedFlux_3_4_5_flag_sincCoeffsTruncated: 0\n",
       "undeblended_ext_convolved_ConvolvedFlux_3_6_0_instFlux: 13.9043\n",
       "undeblended_ext_convolved_ConvolvedFlux_3_6_0_instFluxErr: 0.0823295\n",
       "undeblended_ext_convolved_ConvolvedFlux_3_6_0_flag: 0\n",
       "undeblended_ext_convolved_ConvolvedFlux_3_6_0_flag_apertureTruncated: 0\n",
       "undeblended_ext_convolved_ConvolvedFlux_3_6_0_flag_sincCoeffsTruncated: 0\n",
       "undeblended_ext_convolved_ConvolvedFlux_3_kron_instFlux: 15.6734\n",
       "undeblended_ext_convolved_ConvolvedFlux_3_kron_instFluxErr: 0.0918793\n",
       "undeblended_ext_convolved_ConvolvedFlux_3_kron_flag: 0\n",
       "undeblended_ext_convolved_ConvolvedFlux_flag: 0\n",
       "base_GaussianFlux_apCorr: 1.07864\n",
       "base_GaussianFlux_apCorrErr: 0\n",
       "base_GaussianFlux_flag_apCorr: 0\n",
       "base_PsfFlux_apCorr: 0.994313\n",
       "base_PsfFlux_apCorrErr: 0\n",
       "base_PsfFlux_flag_apCorr: 0\n",
       "ext_convolved_ConvolvedFlux_0_3_3_apCorr: 1.37926\n",
       "ext_convolved_ConvolvedFlux_0_3_3_apCorrErr: 0\n",
       "ext_convolved_ConvolvedFlux_0_3_3_flag_apCorr: 0\n",
       "ext_convolved_ConvolvedFlux_0_4_5_apCorr: 1.1556\n",
       "ext_convolved_ConvolvedFlux_0_4_5_apCorrErr: 0\n",
       "ext_convolved_ConvolvedFlux_0_4_5_flag_apCorr: 0\n",
       "ext_convolved_ConvolvedFlux_0_6_0_apCorr: 1.06181\n",
       "ext_convolved_ConvolvedFlux_0_6_0_apCorrErr: 0\n",
       "ext_convolved_ConvolvedFlux_0_6_0_flag_apCorr: 0\n",
       "ext_convolved_ConvolvedFlux_0_kron_apCorr: 1.03706\n",
       "ext_convolved_ConvolvedFlux_0_kron_apCorrErr: 0\n",
       "ext_convolved_ConvolvedFlux_0_kron_flag_apCorr: 0\n",
       "ext_convolved_ConvolvedFlux_1_3_3_apCorr: 1.55132\n",
       "ext_convolved_ConvolvedFlux_1_3_3_apCorrErr: 0\n",
       "ext_convolved_ConvolvedFlux_1_3_3_flag_apCorr: 0\n",
       "ext_convolved_ConvolvedFlux_1_4_5_apCorr: 1.21791\n",
       "ext_convolved_ConvolvedFlux_1_4_5_apCorrErr: 0\n",
       "ext_convolved_ConvolvedFlux_1_4_5_flag_apCorr: 0\n",
       "ext_convolved_ConvolvedFlux_1_6_0_apCorr: 1.07711\n",
       "ext_convolved_ConvolvedFlux_1_6_0_apCorrErr: 0\n",
       "ext_convolved_ConvolvedFlux_1_6_0_flag_apCorr: 0\n",
       "ext_convolved_ConvolvedFlux_1_kron_apCorr: 1.0584\n",
       "ext_convolved_ConvolvedFlux_1_kron_apCorrErr: 0\n",
       "ext_convolved_ConvolvedFlux_1_kron_flag_apCorr: 0\n",
       "ext_convolved_ConvolvedFlux_2_3_3_apCorr: 2.05233\n",
       "ext_convolved_ConvolvedFlux_2_3_3_apCorrErr: 0\n",
       "ext_convolved_ConvolvedFlux_2_3_3_flag_apCorr: 0\n",
       "ext_convolved_ConvolvedFlux_2_4_5_apCorr: 1.45072\n",
       "ext_convolved_ConvolvedFlux_2_4_5_apCorrErr: 0\n",
       "ext_convolved_ConvolvedFlux_2_4_5_flag_apCorr: 0\n",
       "ext_convolved_ConvolvedFlux_2_6_0_apCorr: 1.16148\n",
       "ext_convolved_ConvolvedFlux_2_6_0_apCorrErr: 0\n",
       "ext_convolved_ConvolvedFlux_2_6_0_flag_apCorr: 0\n",
       "ext_convolved_ConvolvedFlux_2_kron_apCorr: 1.13441\n",
       "ext_convolved_ConvolvedFlux_2_kron_apCorrErr: 0\n",
       "ext_convolved_ConvolvedFlux_2_kron_flag_apCorr: 0\n",
       "ext_convolved_ConvolvedFlux_3_3_3_apCorr: 2.74687\n",
       "ext_convolved_ConvolvedFlux_3_3_3_apCorrErr: 0\n",
       "ext_convolved_ConvolvedFlux_3_3_3_flag_apCorr: 0\n",
       "ext_convolved_ConvolvedFlux_3_4_5_apCorr: 1.81032\n",
       "ext_convolved_ConvolvedFlux_3_4_5_apCorrErr: 0\n",
       "ext_convolved_ConvolvedFlux_3_4_5_flag_apCorr: 0\n",
       "ext_convolved_ConvolvedFlux_3_6_0_apCorr: 1.32626\n",
       "ext_convolved_ConvolvedFlux_3_6_0_apCorrErr: 0\n",
       "ext_convolved_ConvolvedFlux_3_6_0_flag_apCorr: 0\n",
       "ext_convolved_ConvolvedFlux_3_kron_apCorr: 1.27396\n",
       "ext_convolved_ConvolvedFlux_3_kron_apCorrErr: 0\n",
       "ext_convolved_ConvolvedFlux_3_kron_flag_apCorr: 0\n",
       "ext_photometryKron_KronFlux_apCorr: 1.03674\n",
       "ext_photometryKron_KronFlux_apCorrErr: 0\n",
       "ext_photometryKron_KronFlux_flag_apCorr: 0\n",
       "modelfit_CModel_apCorr: 0.992067\n",
       "modelfit_CModel_apCorrErr: 0\n",
       "modelfit_CModel_flag_apCorr: 0\n",
       "modelfit_CModel_dev_apCorr: 0.991726\n",
       "modelfit_CModel_dev_apCorrErr: 0\n",
       "modelfit_CModel_dev_flag_apCorr: 0\n",
       "modelfit_CModel_exp_apCorr: 0.99222\n",
       "modelfit_CModel_exp_apCorrErr: 0\n",
       "modelfit_CModel_exp_flag_apCorr: 0\n",
       "modelfit_CModel_initial_apCorr: 0.992062\n",
       "modelfit_CModel_initial_apCorrErr: 0\n",
       "modelfit_CModel_initial_flag_apCorr: 0\n",
       "undeblended_ext_convolved_ConvolvedFlux_0_3_3_flag_apCorr: 0\n",
       "undeblended_ext_convolved_ConvolvedFlux_0_4_5_flag_apCorr: 0\n",
       "undeblended_ext_convolved_ConvolvedFlux_0_6_0_flag_apCorr: 0\n",
       "undeblended_ext_convolved_ConvolvedFlux_1_3_3_flag_apCorr: 0\n",
       "undeblended_ext_convolved_ConvolvedFlux_1_4_5_flag_apCorr: 0\n",
       "undeblended_ext_convolved_ConvolvedFlux_1_6_0_flag_apCorr: 0\n",
       "undeblended_ext_convolved_ConvolvedFlux_2_3_3_flag_apCorr: 0\n",
       "undeblended_ext_convolved_ConvolvedFlux_2_4_5_flag_apCorr: 0\n",
       "undeblended_ext_convolved_ConvolvedFlux_2_6_0_flag_apCorr: 0\n",
       "undeblended_ext_convolved_ConvolvedFlux_3_3_3_flag_apCorr: 0\n",
       "undeblended_ext_convolved_ConvolvedFlux_3_4_5_flag_apCorr: 0\n",
       "undeblended_ext_convolved_ConvolvedFlux_3_6_0_flag_apCorr: 0\n",
       "undeblended_ext_convolved_ConvolvedFlux_0_kron_flag_apCorr: 0\n",
       "undeblended_ext_convolved_ConvolvedFlux_1_kron_flag_apCorr: 0\n",
       "undeblended_ext_convolved_ConvolvedFlux_2_kron_flag_apCorr: 0\n",
       "undeblended_ext_convolved_ConvolvedFlux_3_kron_flag_apCorr: 0\n",
       "base_ClassificationExtendedness_value: 0\n",
       "base_ClassificationExtendedness_flag: 0"
      ]
     },
     "execution_count": 1,
     "metadata": {},
     "output_type": "execute_result"
    }
   ],
   "source": [
    "# lets examine the first element in the matches list\n",
    "# we can grab the record corresponding to this source in the i band catalog\n",
    "# using the first attribute\n",
    "matches[0].first"
   ]
  },
  {
   "cell_type": "code",
   "execution_count": 60,
   "metadata": {
    "execution": {
     "iopub.execute_input": "2021-04-23T16:27:10.694645Z",
     "iopub.status.busy": "2021-04-23T16:27:10.693214Z",
     "iopub.status.idle": "2021-04-23T16:27:10.723331Z",
     "shell.execute_reply": "2021-04-23T16:27:10.724432Z"
    }
   },
   "outputs": [
    {
     "data": {
      "text/plain": [
       "<class 'lsst.afw.table.SourceRecord'>\n",
       "id: 21335078244214836\n",
       "coord_ra: 1.00536 rad\n",
       "coord_dec: -0.5044 rad\n",
       "parent: 21335078244188220\n",
       "deblend_nChild: 0\n",
       "base_SdssCentroid_x: 7595.08\n",
       "base_SdssCentroid_y: 15936.9\n",
       "base_SdssCentroid_xErr: 0.102302\n",
       "base_SdssCentroid_yErr: 0.107626\n",
       "base_SdssCentroid_flag: 0\n",
       "base_SdssCentroid_flag_edge: 0\n",
       "base_SdssCentroid_flag_noSecondDerivative: 0\n",
       "base_SdssCentroid_flag_almostNoSecondDerivative: 0\n",
       "base_SdssCentroid_flag_notAtMaximum: 0\n",
       "base_SdssCentroid_flag_resetToPeak: 0\n",
       "base_SdssCentroid_flag_badError: 0\n",
       "base_TransformedCentroid_x: 7595.01\n",
       "base_TransformedCentroid_y: 15936.9\n",
       "base_TransformedCentroid_flag: 0\n",
       "base_InputCount_flag: 0\n",
       "base_InputCount_value: 105\n",
       "base_InputCount_flag_noInputs: 0\n",
       "base_SdssShape_xx: 3.44978\n",
       "base_SdssShape_yy: 3.71045\n",
       "base_SdssShape_xy: -0.559484\n",
       "base_SdssShape_xxErr: 0.322392\n",
       "base_SdssShape_yyErr: 0.239295\n",
       "base_SdssShape_xyErr: 0.346752\n",
       "base_SdssShape_x: 7595.05\n",
       "base_SdssShape_y: 15936.9\n",
       "base_SdssShape_instFlux: 6.36984\n",
       "base_SdssShape_instFluxErr: 0.29764\n",
       "base_SdssShape_psf_xx: 3.38324\n",
       "base_SdssShape_psf_yy: 3.34278\n",
       "base_SdssShape_psf_xy: -0.00941772\n",
       "base_SdssShape_instFlux_xx_Cov: -0.0479784\n",
       "base_SdssShape_instFlux_yy_Cov: 0.00778111\n",
       "base_SdssShape_instFlux_xy_Cov: -0.0516037\n",
       "base_SdssShape_flag: 0\n",
       "base_SdssShape_flag_unweightedBad: 0\n",
       "base_SdssShape_flag_unweighted: 0\n",
       "base_SdssShape_flag_shift: 0\n",
       "base_SdssShape_flag_maxIter: 0\n",
       "base_SdssShape_flag_psf: 0\n",
       "base_TransformedShape_xx: 2.60407\n",
       "base_TransformedShape_yy: 3.00102\n",
       "base_TransformedShape_xy: 0.120437\n",
       "base_TransformedShape_flag: 0\n",
       "modelfit_DoubleShapeletPsfApprox_0_xx: 2.55898\n",
       "modelfit_DoubleShapeletPsfApprox_0_yy: 2.5414\n",
       "modelfit_DoubleShapeletPsfApprox_0_xy: -5.94712e-05\n",
       "modelfit_DoubleShapeletPsfApprox_0_x: -0.00026666\n",
       "modelfit_DoubleShapeletPsfApprox_0_y: -0.00279895\n",
       "modelfit_DoubleShapeletPsfApprox_0_0: 0.16935\n",
       "modelfit_DoubleShapeletPsfApprox_0_1: 0.000231175\n",
       "modelfit_DoubleShapeletPsfApprox_0_2: -1.72639e-06\n",
       "modelfit_DoubleShapeletPsfApprox_0_3: -0.000189367\n",
       "modelfit_DoubleShapeletPsfApprox_0_4: -0.000286832\n",
       "modelfit_DoubleShapeletPsfApprox_0_5: 0.000193699\n",
       "modelfit_DoubleShapeletPsfApprox_1_xx: 8.86817\n",
       "modelfit_DoubleShapeletPsfApprox_1_yy: 8.80725\n",
       "modelfit_DoubleShapeletPsfApprox_1_xy: -0.000206098\n",
       "modelfit_DoubleShapeletPsfApprox_1_x: -0.00026666\n",
       "modelfit_DoubleShapeletPsfApprox_1_y: -0.00279895\n",
       "modelfit_DoubleShapeletPsfApprox_1_0: 0.10696\n",
       "modelfit_DoubleShapeletPsfApprox_1_1: 2.66552e-05\n",
       "modelfit_DoubleShapeletPsfApprox_1_2: 4.63898e-05\n",
       "modelfit_DoubleShapeletPsfApprox_flag: 0\n",
       "modelfit_DoubleShapeletPsfApprox_flag_invalidPointForPsf: 0\n",
       "modelfit_DoubleShapeletPsfApprox_flag_invalidMoments: 0\n",
       "modelfit_DoubleShapeletPsfApprox_flag_maxIterations: 0\n",
       "base_CircularApertureFlux_3_0_instFlux: 4.52102\n",
       "base_CircularApertureFlux_3_0_instFluxErr: 0.16233\n",
       "base_CircularApertureFlux_3_0_flag: 0\n",
       "base_CircularApertureFlux_3_0_flag_apertureTruncated: 0\n",
       "base_CircularApertureFlux_3_0_flag_sincCoeffsTruncated: 0\n",
       "base_CircularApertureFlux_4_5_instFlux: 5.87353\n",
       "base_CircularApertureFlux_4_5_instFluxErr: 0.244019\n",
       "base_CircularApertureFlux_4_5_flag: 0\n",
       "base_CircularApertureFlux_4_5_flag_apertureTruncated: 0\n",
       "base_CircularApertureFlux_4_5_flag_sincCoeffsTruncated: 0\n",
       "base_CircularApertureFlux_6_0_instFlux: 6.69019\n",
       "base_CircularApertureFlux_6_0_instFluxErr: 0.326743\n",
       "base_CircularApertureFlux_6_0_flag: 0\n",
       "base_CircularApertureFlux_6_0_flag_apertureTruncated: 0\n",
       "base_CircularApertureFlux_6_0_flag_sincCoeffsTruncated: 0\n",
       "base_CircularApertureFlux_9_0_instFlux: 7.98355\n",
       "base_CircularApertureFlux_9_0_instFluxErr: 0.492106\n",
       "base_CircularApertureFlux_9_0_flag: 0\n",
       "base_CircularApertureFlux_9_0_flag_apertureTruncated: 0\n",
       "base_CircularApertureFlux_9_0_flag_sincCoeffsTruncated: 0\n",
       "base_CircularApertureFlux_12_0_instFlux: 8.87243\n",
       "base_CircularApertureFlux_12_0_instFluxErr: 0.657244\n",
       "base_CircularApertureFlux_12_0_flag: 0\n",
       "base_CircularApertureFlux_12_0_flag_apertureTruncated: 0\n",
       "base_CircularApertureFlux_12_0_flag_sincCoeffsTruncated: 0\n",
       "base_CircularApertureFlux_17_0_instFlux: 9.72514\n",
       "base_CircularApertureFlux_17_0_instFluxErr: 0.933897\n",
       "base_CircularApertureFlux_17_0_flag: 0\n",
       "base_CircularApertureFlux_17_0_flag_apertureTruncated: 0\n",
       "base_CircularApertureFlux_25_0_instFlux: 11.9842\n",
       "base_CircularApertureFlux_25_0_instFluxErr: 1.37912\n",
       "base_CircularApertureFlux_25_0_flag: 0\n",
       "base_CircularApertureFlux_25_0_flag_apertureTruncated: 0\n",
       "base_CircularApertureFlux_35_0_instFlux: 16.4408\n",
       "base_CircularApertureFlux_35_0_instFluxErr: 1.9316\n",
       "base_CircularApertureFlux_35_0_flag: 0\n",
       "base_CircularApertureFlux_35_0_flag_apertureTruncated: 0\n",
       "base_CircularApertureFlux_50_0_instFlux: nan\n",
       "base_CircularApertureFlux_50_0_instFluxErr: nan\n",
       "base_CircularApertureFlux_50_0_flag: 1\n",
       "base_CircularApertureFlux_50_0_flag_apertureTruncated: 1\n",
       "base_CircularApertureFlux_70_0_instFlux: nan\n",
       "base_CircularApertureFlux_70_0_instFluxErr: nan\n",
       "base_CircularApertureFlux_70_0_flag: 1\n",
       "base_CircularApertureFlux_70_0_flag_apertureTruncated: 1\n",
       "base_GaussianFlux_instFlux: 6.05006\n",
       "base_GaussianFlux_instFluxErr: 0.201319\n",
       "base_GaussianFlux_flag: 0\n",
       "base_LocalBackground_instFlux: 0.00240181\n",
       "base_LocalBackground_instFluxErr: 0.0304566\n",
       "base_LocalBackground_flag: 0\n",
       "base_LocalBackground_flag_noGoodPixels: 0\n",
       "base_LocalBackground_flag_noPsf: 0\n",
       "base_PixelFlags_flag: 0\n",
       "base_PixelFlags_flag_offimage: 0\n",
       "base_PixelFlags_flag_edge: 0\n",
       "base_PixelFlags_flag_interpolated: 0\n",
       "base_PixelFlags_flag_saturated: 0\n",
       "base_PixelFlags_flag_cr: 0\n",
       "base_PixelFlags_flag_bad: 0\n",
       "base_PixelFlags_flag_suspect: 0\n",
       "base_PixelFlags_flag_interpolatedCenter: 0\n",
       "base_PixelFlags_flag_saturatedCenter: 0\n",
       "base_PixelFlags_flag_crCenter: 0\n",
       "base_PixelFlags_flag_suspectCenter: 0\n",
       "base_PixelFlags_flag_clippedCenter: 0\n",
       "base_PixelFlags_flag_sensor_edgeCenter: 1\n",
       "base_PixelFlags_flag_rejectedCenter: 0\n",
       "base_PixelFlags_flag_inexact_psfCenter: 1\n",
       "base_PixelFlags_flag_bright_objectCenter: 0\n",
       "base_PixelFlags_flag_clipped: 0\n",
       "base_PixelFlags_flag_sensor_edge: 1\n",
       "base_PixelFlags_flag_rejected: 0\n",
       "base_PixelFlags_flag_inexact_psf: 1\n",
       "base_PixelFlags_flag_bright_object: 0\n",
       "base_PsfFlux_instFlux: 6.92376\n",
       "base_PsfFlux_instFluxErr: 0.226925\n",
       "base_PsfFlux_area: 52.8907\n",
       "base_PsfFlux_flag: 0\n",
       "base_PsfFlux_flag_noGoodPixels: 0\n",
       "base_PsfFlux_flag_edge: 0\n",
       "base_Variance_flag: 1\n",
       "base_Variance_value: nan\n",
       "base_Variance_flag_emptyFootprint: 1\n",
       "ext_photometryKron_KronFlux_instFlux: 7.26397\n",
       "ext_photometryKron_KronFlux_instFluxErr: 0.392672\n",
       "ext_photometryKron_KronFlux_radius: 2.77981\n",
       "ext_photometryKron_KronFlux_radius_for_radius: nan\n",
       "ext_photometryKron_KronFlux_psf_radius: 2.29837\n",
       "ext_photometryKron_KronFlux_flag: 0\n",
       "ext_photometryKron_KronFlux_flag_edge: 0\n",
       "ext_photometryKron_KronFlux_flag_bad_shape_no_psf: 0\n",
       "ext_photometryKron_KronFlux_flag_no_minimum_radius: 0\n",
       "ext_photometryKron_KronFlux_flag_no_fallback_radius: 0\n",
       "ext_photometryKron_KronFlux_flag_bad_radius: 0\n",
       "ext_photometryKron_KronFlux_flag_used_minimum_radius: 0\n",
       "ext_photometryKron_KronFlux_flag_used_psf_radius: 0\n",
       "ext_photometryKron_KronFlux_flag_small_radius: 0\n",
       "ext_photometryKron_KronFlux_flag_bad_shape: 0\n",
       "ext_convolved_ConvolvedFlux_seeing: 1.83383\n",
       "ext_convolved_ConvolvedFlux_0_deconv: 1\n",
       "ext_convolved_ConvolvedFlux_0_3_3_instFlux: 7.00486\n",
       "ext_convolved_ConvolvedFlux_0_3_3_instFluxErr: 0.256229\n",
       "ext_convolved_ConvolvedFlux_0_3_3_flag: 0\n",
       "ext_convolved_ConvolvedFlux_0_3_3_flag_apertureTruncated: 0\n",
       "ext_convolved_ConvolvedFlux_0_3_3_flag_sincCoeffsTruncated: 0\n",
       "ext_convolved_ConvolvedFlux_0_4_5_instFlux: 6.92152\n",
       "ext_convolved_ConvolvedFlux_0_4_5_instFluxErr: 0.287558\n",
       "ext_convolved_ConvolvedFlux_0_4_5_flag: 0\n",
       "ext_convolved_ConvolvedFlux_0_4_5_flag_apertureTruncated: 0\n",
       "ext_convolved_ConvolvedFlux_0_4_5_flag_sincCoeffsTruncated: 0\n",
       "ext_convolved_ConvolvedFlux_0_6_0_instFlux: 7.16395\n",
       "ext_convolved_ConvolvedFlux_0_6_0_instFluxErr: 0.349881\n",
       "ext_convolved_ConvolvedFlux_0_6_0_flag: 0\n",
       "ext_convolved_ConvolvedFlux_0_6_0_flag_apertureTruncated: 0\n",
       "ext_convolved_ConvolvedFlux_0_6_0_flag_sincCoeffsTruncated: 0\n",
       "ext_convolved_ConvolvedFlux_0_kron_instFlux: 7.26438\n",
       "ext_convolved_ConvolvedFlux_0_kron_instFluxErr: 0.392694\n",
       "ext_convolved_ConvolvedFlux_0_kron_flag: 0\n",
       "ext_convolved_ConvolvedFlux_1_deconv: 0\n",
       "ext_convolved_ConvolvedFlux_1_3_3_instFlux: 6.87315\n",
       "ext_convolved_ConvolvedFlux_1_3_3_instFluxErr: 0.0745953\n",
       "ext_convolved_ConvolvedFlux_1_3_3_flag: 0\n",
       "ext_convolved_ConvolvedFlux_1_3_3_flag_apertureTruncated: 0\n",
       "ext_convolved_ConvolvedFlux_1_3_3_flag_sincCoeffsTruncated: 0\n",
       "ext_convolved_ConvolvedFlux_1_4_5_instFlux: 6.94272\n",
       "ext_convolved_ConvolvedFlux_1_4_5_instFluxErr: 0.0793422\n",
       "ext_convolved_ConvolvedFlux_1_4_5_flag: 0\n",
       "ext_convolved_ConvolvedFlux_1_4_5_flag_apertureTruncated: 0\n",
       "ext_convolved_ConvolvedFlux_1_4_5_flag_sincCoeffsTruncated: 0\n",
       "ext_convolved_ConvolvedFlux_1_6_0_instFlux: 7.12439\n",
       "ext_convolved_ConvolvedFlux_1_6_0_instFluxErr: 0.0934062\n",
       "ext_convolved_ConvolvedFlux_1_6_0_flag: 0\n",
       "ext_convolved_ConvolvedFlux_1_6_0_flag_apertureTruncated: 0\n",
       "ext_convolved_ConvolvedFlux_1_6_0_flag_sincCoeffsTruncated: 0\n",
       "ext_convolved_ConvolvedFlux_1_kron_instFlux: 7.33198\n",
       "ext_convolved_ConvolvedFlux_1_kron_instFluxErr: 0.105126\n",
       "ext_convolved_ConvolvedFlux_1_kron_flag: 0\n",
       "ext_convolved_ConvolvedFlux_2_deconv: 0\n",
       "ext_convolved_ConvolvedFlux_2_3_3_instFlux: 6.67326\n",
       "ext_convolved_ConvolvedFlux_2_3_3_instFluxErr: 0.0501644\n",
       "ext_convolved_ConvolvedFlux_2_3_3_flag: 0\n",
       "ext_convolved_ConvolvedFlux_2_3_3_flag_apertureTruncated: 0\n",
       "ext_convolved_ConvolvedFlux_2_3_3_flag_sincCoeffsTruncated: 0\n",
       "ext_convolved_ConvolvedFlux_2_4_5_instFlux: 6.90014\n",
       "ext_convolved_ConvolvedFlux_2_4_5_instFluxErr: 0.0484493\n",
       "ext_convolved_ConvolvedFlux_2_4_5_flag: 0\n",
       "ext_convolved_ConvolvedFlux_2_4_5_flag_apertureTruncated: 0\n",
       "ext_convolved_ConvolvedFlux_2_4_5_flag_sincCoeffsTruncated: 0\n",
       "ext_convolved_ConvolvedFlux_2_6_0_instFlux: 7.1445\n",
       "ext_convolved_ConvolvedFlux_2_6_0_instFluxErr: 0.052004\n",
       "ext_convolved_ConvolvedFlux_2_6_0_flag: 0\n",
       "ext_convolved_ConvolvedFlux_2_6_0_flag_apertureTruncated: 0\n",
       "ext_convolved_ConvolvedFlux_2_6_0_flag_sincCoeffsTruncated: 0\n",
       "ext_convolved_ConvolvedFlux_2_kron_instFlux: 7.52964\n",
       "ext_convolved_ConvolvedFlux_2_kron_instFluxErr: 0.057812\n",
       "ext_convolved_ConvolvedFlux_2_kron_flag: 0\n",
       "ext_convolved_ConvolvedFlux_3_deconv: 0\n",
       "ext_convolved_ConvolvedFlux_3_3_3_instFlux: 6.80213\n",
       "ext_convolved_ConvolvedFlux_3_3_3_instFluxErr: 0.0485234\n",
       "ext_convolved_ConvolvedFlux_3_3_3_flag: 0\n",
       "ext_convolved_ConvolvedFlux_3_3_3_flag_apertureTruncated: 0\n",
       "ext_convolved_ConvolvedFlux_3_3_3_flag_sincCoeffsTruncated: 0\n",
       "ext_convolved_ConvolvedFlux_3_4_5_instFlux: 7.04858\n",
       "ext_convolved_ConvolvedFlux_3_4_5_instFluxErr: 0.0436523\n",
       "ext_convolved_ConvolvedFlux_3_4_5_flag: 0\n",
       "ext_convolved_ConvolvedFlux_3_4_5_flag_apertureTruncated: 0\n",
       "ext_convolved_ConvolvedFlux_3_4_5_flag_sincCoeffsTruncated: 0\n",
       "ext_convolved_ConvolvedFlux_3_6_0_instFlux: 7.26638\n",
       "ext_convolved_ConvolvedFlux_3_6_0_instFluxErr: 0.0428443\n",
       "ext_convolved_ConvolvedFlux_3_6_0_flag: 0\n",
       "ext_convolved_ConvolvedFlux_3_6_0_flag_apertureTruncated: 0\n",
       "ext_convolved_ConvolvedFlux_3_6_0_flag_sincCoeffsTruncated: 0\n",
       "ext_convolved_ConvolvedFlux_3_kron_instFlux: 7.73398\n",
       "ext_convolved_ConvolvedFlux_3_kron_instFluxErr: 0.0462367\n",
       "ext_convolved_ConvolvedFlux_3_kron_flag: 0\n",
       "ext_convolved_ConvolvedFlux_flag: 0\n",
       "modelfit_CModel_initial_instFlux: 6.87112\n",
       "modelfit_CModel_initial_instFluxErr: 0.227795\n",
       "modelfit_CModel_initial_flag: 0\n",
       "modelfit_CModel_initial_instFlux_inner: 5.7752\n",
       "modelfit_CModel_initial_flag_badReference: 0\n",
       "modelfit_CModel_initial_flag_numericError: 0\n",
       "modelfit_CModel_exp_instFlux: 6.87228\n",
       "modelfit_CModel_exp_instFluxErr: 0.227836\n",
       "modelfit_CModel_exp_flag: 0\n",
       "modelfit_CModel_exp_instFlux_inner: 5.77509\n",
       "modelfit_CModel_exp_flag_badReference: 0\n",
       "modelfit_CModel_exp_flag_numericError: 0\n",
       "modelfit_CModel_dev_instFlux: 6.86897\n",
       "modelfit_CModel_dev_instFluxErr: 0.227727\n",
       "modelfit_CModel_dev_flag: 0\n",
       "modelfit_CModel_dev_instFlux_inner: 5.77521\n",
       "modelfit_CModel_dev_flag_badReference: 0\n",
       "modelfit_CModel_dev_flag_numericError: 0\n",
       "modelfit_CModel_instFlux: 6.87132\n",
       "modelfit_CModel_instFluxErr: 0.227804\n",
       "modelfit_CModel_flag: 0\n",
       "modelfit_CModel_instFlux_inner: 5.77509\n",
       "modelfit_CModel_fracDev: 0\n",
       "modelfit_CModel_objective: 0.0181053\n",
       "modelfit_CModel_flag_region_maxArea: 0\n",
       "modelfit_CModel_flag_region_maxBadPixelFraction: 0\n",
       "modelfit_CModel_flag_badReference: 0\n",
       "modelfit_CModel_flag_noShapeletPsf: 0\n",
       "modelfit_CModel_flag_badCentroid: 0\n",
       "undeblended_base_CircularApertureFlux_3_0_instFlux: 5.46422\n",
       "undeblended_base_CircularApertureFlux_3_0_instFluxErr: 0.16233\n",
       "undeblended_base_CircularApertureFlux_3_0_flag: 0\n",
       "undeblended_base_CircularApertureFlux_3_0_flag_apertureTruncated: 0\n",
       "undeblended_base_CircularApertureFlux_3_0_flag_sincCoeffsTruncated: 0\n",
       "undeblended_base_CircularApertureFlux_4_5_instFlux: 7.63695\n",
       "undeblended_base_CircularApertureFlux_4_5_instFluxErr: 0.244019\n",
       "undeblended_base_CircularApertureFlux_4_5_flag: 0\n",
       "undeblended_base_CircularApertureFlux_4_5_flag_apertureTruncated: 0\n",
       "undeblended_base_CircularApertureFlux_4_5_flag_sincCoeffsTruncated: 0\n",
       "undeblended_base_CircularApertureFlux_6_0_instFlux: 9.65153\n",
       "undeblended_base_CircularApertureFlux_6_0_instFluxErr: 0.326743\n",
       "undeblended_base_CircularApertureFlux_6_0_flag: 0\n",
       "undeblended_base_CircularApertureFlux_6_0_flag_apertureTruncated: 0\n",
       "undeblended_base_CircularApertureFlux_6_0_flag_sincCoeffsTruncated: 0\n",
       "undeblended_base_CircularApertureFlux_9_0_instFlux: 14.1842\n",
       "undeblended_base_CircularApertureFlux_9_0_instFluxErr: 0.492106\n",
       "undeblended_base_CircularApertureFlux_9_0_flag: 0\n",
       "undeblended_base_CircularApertureFlux_9_0_flag_apertureTruncated: 0\n",
       "undeblended_base_CircularApertureFlux_9_0_flag_sincCoeffsTruncated: 0\n",
       "undeblended_base_CircularApertureFlux_12_0_instFlux: 17.5964\n",
       "undeblended_base_CircularApertureFlux_12_0_instFluxErr: 0.657244\n",
       "undeblended_base_CircularApertureFlux_12_0_flag: 0\n",
       "undeblended_base_CircularApertureFlux_12_0_flag_apertureTruncated: 0\n",
       "undeblended_base_CircularApertureFlux_12_0_flag_sincCoeffsTruncated: 0\n",
       "undeblended_base_CircularApertureFlux_17_0_instFlux: 28.1545\n",
       "undeblended_base_CircularApertureFlux_17_0_instFluxErr: 0.933897\n",
       "undeblended_base_CircularApertureFlux_17_0_flag: 0\n",
       "undeblended_base_CircularApertureFlux_17_0_flag_apertureTruncated: 0\n",
       "undeblended_base_CircularApertureFlux_25_0_instFlux: 118.693\n",
       "undeblended_base_CircularApertureFlux_25_0_instFluxErr: 1.37912\n",
       "undeblended_base_CircularApertureFlux_25_0_flag: 0\n",
       "undeblended_base_CircularApertureFlux_25_0_flag_apertureTruncated: 0\n",
       "undeblended_base_CircularApertureFlux_35_0_instFlux: 166.622\n",
       "undeblended_base_CircularApertureFlux_35_0_instFluxErr: 1.9316\n",
       "undeblended_base_CircularApertureFlux_35_0_flag: 0\n",
       "undeblended_base_CircularApertureFlux_35_0_flag_apertureTruncated: 0\n",
       "undeblended_base_CircularApertureFlux_50_0_instFlux: nan\n",
       "undeblended_base_CircularApertureFlux_50_0_instFluxErr: nan\n",
       "undeblended_base_CircularApertureFlux_50_0_flag: 1\n",
       "undeblended_base_CircularApertureFlux_50_0_flag_apertureTruncated: 1\n",
       "undeblended_base_CircularApertureFlux_70_0_instFlux: nan\n",
       "undeblended_base_CircularApertureFlux_70_0_instFluxErr: nan\n",
       "undeblended_base_CircularApertureFlux_70_0_flag: 1\n",
       "undeblended_base_CircularApertureFlux_70_0_flag_apertureTruncated: 1\n",
       "undeblended_base_PsfFlux_instFlux: 8.58191\n",
       "undeblended_base_PsfFlux_instFluxErr: 0.228508\n",
       "undeblended_base_PsfFlux_area: 52.8907\n",
       "undeblended_base_PsfFlux_flag: 0\n",
       "undeblended_base_PsfFlux_flag_noGoodPixels: 0\n",
       "undeblended_base_PsfFlux_flag_edge: 0\n",
       "undeblended_ext_photometryKron_KronFlux_instFlux: 10.7967\n",
       "undeblended_ext_photometryKron_KronFlux_instFluxErr: 0.379066\n",
       "undeblended_ext_photometryKron_KronFlux_radius: 2.77981\n",
       "undeblended_ext_photometryKron_KronFlux_radius_for_radius: nan\n",
       "undeblended_ext_photometryKron_KronFlux_psf_radius: 2.29837\n",
       "undeblended_ext_photometryKron_KronFlux_flag: 0\n",
       "undeblended_ext_photometryKron_KronFlux_flag_edge: 0\n",
       "undeblended_ext_photometryKron_KronFlux_flag_bad_shape_no_psf: 0\n",
       "undeblended_ext_photometryKron_KronFlux_flag_no_minimum_radius: 0\n",
       "undeblended_ext_photometryKron_KronFlux_flag_no_fallback_radius: 0\n",
       "undeblended_ext_photometryKron_KronFlux_flag_bad_radius: 0\n",
       "undeblended_ext_photometryKron_KronFlux_flag_used_minimum_radius: 0\n",
       "undeblended_ext_photometryKron_KronFlux_flag_used_psf_radius: 0\n",
       "undeblended_ext_photometryKron_KronFlux_flag_small_radius: 0\n",
       "undeblended_ext_photometryKron_KronFlux_flag_bad_shape: 0\n",
       "undeblended_ext_convolved_ConvolvedFlux_seeing: 1.83383\n",
       "undeblended_ext_convolved_ConvolvedFlux_0_deconv: 1\n",
       "undeblended_ext_convolved_ConvolvedFlux_0_3_3_instFlux: 8.59701\n",
       "undeblended_ext_convolved_ConvolvedFlux_0_3_3_instFluxErr: 0.256229\n",
       "undeblended_ext_convolved_ConvolvedFlux_0_3_3_flag: 0\n",
       "undeblended_ext_convolved_ConvolvedFlux_0_3_3_flag_apertureTruncated: 0\n",
       "undeblended_ext_convolved_ConvolvedFlux_0_3_3_flag_sincCoeffsTruncated: 0\n",
       "undeblended_ext_convolved_ConvolvedFlux_0_4_5_instFlux: 8.99958\n",
       "undeblended_ext_convolved_ConvolvedFlux_0_4_5_instFluxErr: 0.287558\n",
       "undeblended_ext_convolved_ConvolvedFlux_0_4_5_flag: 0\n",
       "undeblended_ext_convolved_ConvolvedFlux_0_4_5_flag_apertureTruncated: 0\n",
       "undeblended_ext_convolved_ConvolvedFlux_0_4_5_flag_sincCoeffsTruncated: 0\n",
       "undeblended_ext_convolved_ConvolvedFlux_0_6_0_instFlux: 10.335\n",
       "undeblended_ext_convolved_ConvolvedFlux_0_6_0_instFluxErr: 0.349881\n",
       "undeblended_ext_convolved_ConvolvedFlux_0_6_0_flag: 0\n",
       "undeblended_ext_convolved_ConvolvedFlux_0_6_0_flag_apertureTruncated: 0\n",
       "undeblended_ext_convolved_ConvolvedFlux_0_6_0_flag_sincCoeffsTruncated: 0\n",
       "undeblended_ext_convolved_ConvolvedFlux_0_kron_instFlux: 11.1849\n",
       "undeblended_ext_convolved_ConvolvedFlux_0_kron_instFluxErr: 0.392694\n",
       "undeblended_ext_convolved_ConvolvedFlux_0_kron_flag: 0\n",
       "undeblended_ext_convolved_ConvolvedFlux_1_deconv: 0\n",
       "undeblended_ext_convolved_ConvolvedFlux_1_3_3_instFlux: 8.52853\n",
       "undeblended_ext_convolved_ConvolvedFlux_1_3_3_instFluxErr: 0.0745953\n",
       "undeblended_ext_convolved_ConvolvedFlux_1_3_3_flag: 0\n",
       "undeblended_ext_convolved_ConvolvedFlux_1_3_3_flag_apertureTruncated: 0\n",
       "undeblended_ext_convolved_ConvolvedFlux_1_3_3_flag_sincCoeffsTruncated: 0\n",
       "undeblended_ext_convolved_ConvolvedFlux_1_4_5_instFlux: 9.13359\n",
       "undeblended_ext_convolved_ConvolvedFlux_1_4_5_instFluxErr: 0.0793422\n",
       "undeblended_ext_convolved_ConvolvedFlux_1_4_5_flag: 0\n",
       "undeblended_ext_convolved_ConvolvedFlux_1_4_5_flag_apertureTruncated: 0\n",
       "undeblended_ext_convolved_ConvolvedFlux_1_4_5_flag_sincCoeffsTruncated: 0\n",
       "undeblended_ext_convolved_ConvolvedFlux_1_6_0_instFlux: 10.3584\n",
       "undeblended_ext_convolved_ConvolvedFlux_1_6_0_instFluxErr: 0.0934062\n",
       "undeblended_ext_convolved_ConvolvedFlux_1_6_0_flag: 0\n",
       "undeblended_ext_convolved_ConvolvedFlux_1_6_0_flag_apertureTruncated: 0\n",
       "undeblended_ext_convolved_ConvolvedFlux_1_6_0_flag_sincCoeffsTruncated: 0\n",
       "undeblended_ext_convolved_ConvolvedFlux_1_kron_instFlux: 11.2562\n",
       "undeblended_ext_convolved_ConvolvedFlux_1_kron_instFluxErr: 0.105126\n",
       "undeblended_ext_convolved_ConvolvedFlux_1_kron_flag: 0\n",
       "undeblended_ext_convolved_ConvolvedFlux_2_deconv: 0\n",
       "undeblended_ext_convolved_ConvolvedFlux_2_3_3_instFlux: 8.68863\n",
       "undeblended_ext_convolved_ConvolvedFlux_2_3_3_instFluxErr: 0.0501644\n",
       "undeblended_ext_convolved_ConvolvedFlux_2_3_3_flag: 0\n",
       "undeblended_ext_convolved_ConvolvedFlux_2_3_3_flag_apertureTruncated: 0\n",
       "undeblended_ext_convolved_ConvolvedFlux_2_3_3_flag_sincCoeffsTruncated: 0\n",
       "undeblended_ext_convolved_ConvolvedFlux_2_4_5_instFlux: 9.41499\n",
       "undeblended_ext_convolved_ConvolvedFlux_2_4_5_instFluxErr: 0.0484493\n",
       "undeblended_ext_convolved_ConvolvedFlux_2_4_5_flag: 0\n",
       "undeblended_ext_convolved_ConvolvedFlux_2_4_5_flag_apertureTruncated: 0\n",
       "undeblended_ext_convolved_ConvolvedFlux_2_4_5_flag_sincCoeffsTruncated: 0\n",
       "undeblended_ext_convolved_ConvolvedFlux_2_6_0_instFlux: 10.5509\n",
       "undeblended_ext_convolved_ConvolvedFlux_2_6_0_instFluxErr: 0.052004\n",
       "undeblended_ext_convolved_ConvolvedFlux_2_6_0_flag: 0\n",
       "undeblended_ext_convolved_ConvolvedFlux_2_6_0_flag_apertureTruncated: 0\n",
       "undeblended_ext_convolved_ConvolvedFlux_2_6_0_flag_sincCoeffsTruncated: 0\n",
       "undeblended_ext_convolved_ConvolvedFlux_2_kron_instFlux: 11.6155\n",
       "undeblended_ext_convolved_ConvolvedFlux_2_kron_instFluxErr: 0.057812\n",
       "undeblended_ext_convolved_ConvolvedFlux_2_kron_flag: 0\n",
       "undeblended_ext_convolved_ConvolvedFlux_3_deconv: 0\n",
       "undeblended_ext_convolved_ConvolvedFlux_3_3_3_instFlux: 9.36708\n",
       "undeblended_ext_convolved_ConvolvedFlux_3_3_3_instFluxErr: 0.0485234\n",
       "undeblended_ext_convolved_ConvolvedFlux_3_3_3_flag: 0\n",
       "undeblended_ext_convolved_ConvolvedFlux_3_3_3_flag_apertureTruncated: 0\n",
       "undeblended_ext_convolved_ConvolvedFlux_3_3_3_flag_sincCoeffsTruncated: 0\n",
       "undeblended_ext_convolved_ConvolvedFlux_3_4_5_instFlux: 10.0594\n",
       "undeblended_ext_convolved_ConvolvedFlux_3_4_5_instFluxErr: 0.0436523\n",
       "undeblended_ext_convolved_ConvolvedFlux_3_4_5_flag: 0\n",
       "undeblended_ext_convolved_ConvolvedFlux_3_4_5_flag_apertureTruncated: 0\n",
       "undeblended_ext_convolved_ConvolvedFlux_3_4_5_flag_sincCoeffsTruncated: 0\n",
       "undeblended_ext_convolved_ConvolvedFlux_3_6_0_instFlux: 11.0111\n",
       "undeblended_ext_convolved_ConvolvedFlux_3_6_0_instFluxErr: 0.0428443\n",
       "undeblended_ext_convolved_ConvolvedFlux_3_6_0_flag: 0\n",
       "undeblended_ext_convolved_ConvolvedFlux_3_6_0_flag_apertureTruncated: 0\n",
       "undeblended_ext_convolved_ConvolvedFlux_3_6_0_flag_sincCoeffsTruncated: 0\n",
       "undeblended_ext_convolved_ConvolvedFlux_3_kron_instFlux: 12.137\n",
       "undeblended_ext_convolved_ConvolvedFlux_3_kron_instFluxErr: 0.0462367\n",
       "undeblended_ext_convolved_ConvolvedFlux_3_kron_flag: 0\n",
       "undeblended_ext_convolved_ConvolvedFlux_flag: 0\n",
       "base_GaussianFlux_apCorr: 1.07847\n",
       "base_GaussianFlux_apCorrErr: 0\n",
       "base_GaussianFlux_flag_apCorr: 0\n",
       "base_PsfFlux_apCorr: 0.993075\n",
       "base_PsfFlux_apCorrErr: 0\n",
       "base_PsfFlux_flag_apCorr: 0\n",
       "ext_convolved_ConvolvedFlux_0_3_3_apCorr: 1.42978\n",
       "ext_convolved_ConvolvedFlux_0_3_3_apCorrErr: 0\n",
       "ext_convolved_ConvolvedFlux_0_3_3_flag_apCorr: 0\n",
       "ext_convolved_ConvolvedFlux_0_4_5_apCorr: 1.17843\n",
       "ext_convolved_ConvolvedFlux_0_4_5_apCorrErr: 0\n",
       "ext_convolved_ConvolvedFlux_0_4_5_flag_apCorr: 0\n",
       "ext_convolved_ConvolvedFlux_0_6_0_apCorr: 1.07081\n",
       "ext_convolved_ConvolvedFlux_0_6_0_apCorrErr: 0\n",
       "ext_convolved_ConvolvedFlux_0_6_0_flag_apCorr: 0\n",
       "ext_convolved_ConvolvedFlux_0_kron_apCorr: 1.03595\n",
       "ext_convolved_ConvolvedFlux_0_kron_apCorrErr: 0\n",
       "ext_convolved_ConvolvedFlux_0_kron_flag_apCorr: 0\n",
       "ext_convolved_ConvolvedFlux_1_3_3_apCorr: 1.58029\n",
       "ext_convolved_ConvolvedFlux_1_3_3_apCorrErr: 0\n",
       "ext_convolved_ConvolvedFlux_1_3_3_flag_apCorr: 0\n",
       "ext_convolved_ConvolvedFlux_1_4_5_apCorr: 1.23343\n",
       "ext_convolved_ConvolvedFlux_1_4_5_apCorrErr: 0\n",
       "ext_convolved_ConvolvedFlux_1_4_5_flag_apCorr: 0\n",
       "ext_convolved_ConvolvedFlux_1_6_0_apCorr: 1.08447\n",
       "ext_convolved_ConvolvedFlux_1_6_0_apCorrErr: 0\n",
       "ext_convolved_ConvolvedFlux_1_6_0_flag_apCorr: 0\n",
       "ext_convolved_ConvolvedFlux_1_kron_apCorr: 1.05209\n",
       "ext_convolved_ConvolvedFlux_1_kron_apCorrErr: 0\n",
       "ext_convolved_ConvolvedFlux_1_kron_flag_apCorr: 0\n",
       "ext_convolved_ConvolvedFlux_2_3_3_apCorr: 2.05076\n",
       "ext_convolved_ConvolvedFlux_2_3_3_apCorrErr: 0\n",
       "ext_convolved_ConvolvedFlux_2_3_3_flag_apCorr: 0\n",
       "ext_convolved_ConvolvedFlux_2_4_5_apCorr: 1.4521\n",
       "ext_convolved_ConvolvedFlux_2_4_5_apCorrErr: 0\n",
       "ext_convolved_ConvolvedFlux_2_4_5_flag_apCorr: 0\n",
       "ext_convolved_ConvolvedFlux_2_6_0_apCorr: 1.16384\n",
       "ext_convolved_ConvolvedFlux_2_6_0_apCorrErr: 0\n",
       "ext_convolved_ConvolvedFlux_2_6_0_flag_apCorr: 0\n",
       "ext_convolved_ConvolvedFlux_2_kron_apCorr: 1.11532\n",
       "ext_convolved_ConvolvedFlux_2_kron_apCorrErr: 0\n",
       "ext_convolved_ConvolvedFlux_2_kron_flag_apCorr: 0\n",
       "ext_convolved_ConvolvedFlux_3_3_3_apCorr: 2.75214\n",
       "ext_convolved_ConvolvedFlux_3_3_3_apCorrErr: 0\n",
       "ext_convolved_ConvolvedFlux_3_3_3_flag_apCorr: 0\n",
       "ext_convolved_ConvolvedFlux_3_4_5_apCorr: 1.81416\n",
       "ext_convolved_ConvolvedFlux_3_4_5_apCorrErr: 0\n",
       "ext_convolved_ConvolvedFlux_3_4_5_flag_apCorr: 0\n",
       "ext_convolved_ConvolvedFlux_3_6_0_apCorr: 1.32924\n",
       "ext_convolved_ConvolvedFlux_3_6_0_apCorrErr: 0\n",
       "ext_convolved_ConvolvedFlux_3_6_0_flag_apCorr: 0\n",
       "ext_convolved_ConvolvedFlux_3_kron_apCorr: 1.23656\n",
       "ext_convolved_ConvolvedFlux_3_kron_apCorrErr: 0\n",
       "ext_convolved_ConvolvedFlux_3_kron_flag_apCorr: 0\n",
       "ext_photometryKron_KronFlux_apCorr: 1.03589\n",
       "ext_photometryKron_KronFlux_apCorrErr: 0\n",
       "ext_photometryKron_KronFlux_flag_apCorr: 0\n",
       "modelfit_CModel_apCorr: 0.990821\n",
       "modelfit_CModel_apCorrErr: 0\n",
       "modelfit_CModel_flag_apCorr: 0\n",
       "modelfit_CModel_dev_apCorr: 0.990426\n",
       "modelfit_CModel_dev_apCorrErr: 0\n",
       "modelfit_CModel_dev_flag_apCorr: 0\n",
       "modelfit_CModel_exp_apCorr: 0.990958\n",
       "modelfit_CModel_exp_apCorrErr: 0\n",
       "modelfit_CModel_exp_flag_apCorr: 0\n",
       "modelfit_CModel_initial_apCorr: 0.990752\n",
       "modelfit_CModel_initial_apCorrErr: 0\n",
       "modelfit_CModel_initial_flag_apCorr: 0\n",
       "undeblended_ext_convolved_ConvolvedFlux_0_3_3_flag_apCorr: 0\n",
       "undeblended_ext_convolved_ConvolvedFlux_0_4_5_flag_apCorr: 0\n",
       "undeblended_ext_convolved_ConvolvedFlux_0_6_0_flag_apCorr: 0\n",
       "undeblended_ext_convolved_ConvolvedFlux_1_3_3_flag_apCorr: 0\n",
       "undeblended_ext_convolved_ConvolvedFlux_1_4_5_flag_apCorr: 0\n",
       "undeblended_ext_convolved_ConvolvedFlux_1_6_0_flag_apCorr: 0\n",
       "undeblended_ext_convolved_ConvolvedFlux_2_3_3_flag_apCorr: 0\n",
       "undeblended_ext_convolved_ConvolvedFlux_2_4_5_flag_apCorr: 0\n",
       "undeblended_ext_convolved_ConvolvedFlux_2_6_0_flag_apCorr: 0\n",
       "undeblended_ext_convolved_ConvolvedFlux_3_3_3_flag_apCorr: 0\n",
       "undeblended_ext_convolved_ConvolvedFlux_3_4_5_flag_apCorr: 0\n",
       "undeblended_ext_convolved_ConvolvedFlux_3_6_0_flag_apCorr: 0\n",
       "undeblended_ext_convolved_ConvolvedFlux_0_kron_flag_apCorr: 0\n",
       "undeblended_ext_convolved_ConvolvedFlux_1_kron_flag_apCorr: 0\n",
       "undeblended_ext_convolved_ConvolvedFlux_2_kron_flag_apCorr: 0\n",
       "undeblended_ext_convolved_ConvolvedFlux_3_kron_flag_apCorr: 0\n",
       "base_ClassificationExtendedness_value: 0\n",
       "base_ClassificationExtendedness_flag: 0"
      ]
     },
     "execution_count": 1,
     "metadata": {},
     "output_type": "execute_result"
    }
   ],
   "source": [
    "# likewise the second attribute gives us the record from the r band catalog\n",
    "matches[0].second"
   ]
  },
  {
   "cell_type": "code",
   "execution_count": 61,
   "metadata": {
    "execution": {
     "iopub.execute_input": "2021-04-23T16:27:10.729477Z",
     "iopub.status.busy": "2021-04-23T16:27:10.728196Z",
     "iopub.status.idle": "2021-04-23T16:27:10.753774Z",
     "shell.execute_reply": "2021-04-23T16:27:10.754692Z"
    }
   },
   "outputs": [
    {
     "data": {
      "text/plain": [
       "0.0"
      ]
     },
     "execution_count": 1,
     "metadata": {},
     "output_type": "execute_result"
    }
   ],
   "source": [
    "#finally the angular seperation is given in radians in the distance attribute\n",
    "matches[0].distance"
   ]
  },
  {
   "cell_type": "markdown",
   "metadata": {},
   "source": [
    "Now that we have matched stars in two bands, lets make a color magnitude diagram, displaying how to use matches in a little more depth\n",
    "first we start out simple and demonstrate how to get the magnitude and magnitude error for one record in our matches object"
   ]
  },
  {
   "cell_type": "code",
   "execution_count": 62,
   "metadata": {
    "execution": {
     "iopub.execute_input": "2021-04-23T16:27:10.759589Z",
     "iopub.status.busy": "2021-04-23T16:27:10.758474Z",
     "iopub.status.idle": "2021-04-23T16:27:10.782978Z",
     "shell.execute_reply": "2021-04-23T16:27:10.783904Z"
    }
   },
   "outputs": [
    {
     "data": {
      "text/plain": [
       "Measurement(value=24.46551613554949256, error=0.04465584335848839931)"
      ]
     },
     "execution_count": 1,
     "metadata": {},
     "output_type": "execute_result"
    }
   ],
   "source": [
    "# use the calib object to get magnitudes\n",
    "# pass in a record and the name of the flux field you are interested in\n",
    "iCalib.instFluxToMagnitude(matches[0].first, 'modelfit_CModel')"
   ]
  },
  {
   "cell_type": "code",
   "execution_count": 63,
   "metadata": {
    "execution": {
     "iopub.execute_input": "2021-04-23T16:27:10.789285Z",
     "iopub.status.busy": "2021-04-23T16:27:10.788173Z",
     "iopub.status.idle": "2021-04-23T16:27:11.070654Z",
     "shell.execute_reply": "2021-04-23T16:27:11.069592Z"
    }
   },
   "outputs": [
    {
     "data": {
      "text/plain": [
       "Text(0, 0.5, '$i$')"
      ]
     },
     "execution_count": 1,
     "metadata": {},
     "output_type": "execute_result"
    },
    {
     "data": {
      "image/png": "[encoded data removed]",
      "text/plain": [
       "<Figure size 748.8x514.8 with 1 Axes>"
      ]
     },
     "metadata": {
      "needs_background": "light"
     },
     "output_type": "display_data"
    }
   ],
   "source": [
    "# now we make some loops to grab all the magnitudes in the iband and rband\n",
    "# remember that the i band catalog is accessed with the first attribute\n",
    "# and the r band catalog is accessed with the second attribute\n",
    "iMag = [iCalib.instFluxToMagnitude(m.first, 'modelfit_CModel').value for m in matches]\n",
    "rMag = [rCalib.instFluxToMagnitude(m.second, 'modelfit_CModel').value for m in matches]\n",
    "\n",
    "plt.scatter(np.array(rMag) - (iMag), iMag)\n",
    "plt.ylim([26,18])\n",
    "plt.xlim([-0.5,3])\n",
    "plt.xlabel('$r-i$')\n",
    "plt.ylabel('$i$')"
   ]
  },
  {
   "cell_type": "markdown",
   "metadata": {},
   "source": [
    "If you are only interested in the ids and the angular separation, you can pack the matches into a table."
   ]
  },
  {
   "cell_type": "code",
   "execution_count": 64,
   "metadata": {
    "execution": {
     "iopub.execute_input": "2021-04-23T16:27:11.075621Z",
     "iopub.status.busy": "2021-04-23T16:27:11.074436Z",
     "iopub.status.idle": "2021-04-23T16:27:11.116954Z",
     "shell.execute_reply": "2021-04-23T16:27:11.118164Z"
    }
   },
   "outputs": [
    {
     "data": {
      "text/plain": [
       "<class 'lsst.afw.table.BaseCatalog'>\n",
       "      first             second      distance\n",
       "----------------- ----------------- --------\n",
       "21335078244214836 21335078244214836      0.0\n",
       "21335078244214737 21335078244214737      0.0\n",
       "21335078244214940 21335078244214940      0.0\n",
       "21335078244215075 21335078244215075      0.0\n",
       "21335078244188282 21335078244188282      0.0\n",
       "21335078244188289 21335078244188289      0.0\n",
       "21335078244215071 21335078244215071      0.0\n",
       "21335078244214861 21335078244214861      0.0\n",
       "21335078244215040 21335078244215040      0.0\n",
       "21335078244214885 21335078244214885      0.0\n",
       "21335078244188382 21335078244188382      0.0\n",
       "21335078244214912 21335078244214912      0.0\n",
       "21335078244215167 21335078244215167      0.0\n",
       "21335078244215280 21335078244215280      0.0\n",
       "              ...               ...      ...\n",
       "21335078244234932 21335078244234932      0.0\n",
       "21335078244199114 21335078244199114      0.0\n",
       "21335078244199070 21335078244199070      0.0\n",
       "21335078244199112 21335078244199112      0.0\n",
       "21335078244199126 21335078244199126      0.0\n",
       "21335078244234646 21335078244234646      0.0\n",
       "21335078244234942 21335078244234942      0.0\n",
       "21335078244234974 21335078244234974      0.0\n",
       "21335078244235012 21335078244235012      0.0\n",
       "21335078244199128 21335078244199128      0.0\n",
       "21335078244234946 21335078244234946      0.0\n",
       "21335078244234753 21335078244234753      0.0\n",
       "21335078244234947 21335078244234947      0.0\n",
       "21335078244235127 21335078244235127      0.0\n",
       "21335078244235142 21335078244235142      0.0\n",
       "Length = 997 rows"
      ]
     },
     "execution_count": 1,
     "metadata": {},
     "output_type": "execute_result"
    }
   ],
   "source": [
    "matches_table = afwTable.packMatches(matches)\n",
    "matches_table"
   ]
  },
  {
   "cell_type": "markdown",
   "metadata": {},
   "source": [
    "You can unpack the matches too:"
   ]
  },
  {
   "cell_type": "code",
   "execution_count": 65,
   "metadata": {
    "execution": {
     "iopub.execute_input": "2021-04-23T16:27:11.123932Z",
     "iopub.status.busy": "2021-04-23T16:27:11.122500Z",
     "iopub.status.idle": "2021-04-23T16:27:11.157651Z",
     "shell.execute_reply": "2021-04-23T16:27:11.156404Z"
    }
   },
   "outputs": [],
   "source": [
    "unpack_matches = afwTable.unpackMatches(matches_table, iSources, rSources)"
   ]
  },
  {
   "cell_type": "markdown",
   "metadata": {},
   "source": [
    "Hopefully this gives you some idea of the power of `afwTable`s in matching catalogs together"
   ]
  },
  {
   "cell_type": "markdown",
   "metadata": {},
   "source": [
    "## Summary\n",
    "\n",
    "In this tutorial we introduced afw tables. We introduced schemas, how to navigate them, add to them, and how to create tables based off of them. We covered data access to catalogs produced by DM using the data butler. We went over a some typical use cases for source catalogs, like catalog matching, and understanding bread and butter measurement algorithms."
   ]
  }
 ],
 "metadata": {
  "celltoolbar": "Slideshow",
  "kernelspec": {
   "display_name": "LSST",
   "language": "python",
   "name": "lsst"
  },
  "language_info": {
   "codemirror_mode": {
    "name": "ipython",
    "version": 3
   },
   "file_extension": ".py",
   "mimetype": "text/x-python",
   "name": "python",
   "nbconvert_exporter": "python",
   "pygments_lexer": "ipython3",
   "version": "3.7.8"
  },
  "livereveal": {
   "scroll": true,
   "start_slideshow_at": "selected"
  }
 },
 "nbformat": 4,
 "nbformat_minor": 4
}
